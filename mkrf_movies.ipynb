{
 "cells": [
  {
   "cell_type": "markdown",
   "metadata": {
    "id": "sIfNaMOxgFyK"
   },
   "source": [
    "# Исследование данных о российском кинопрокате\n",
    "\n"
   ]
  },
  {
   "cell_type": "markdown",
   "metadata": {},
   "source": [
    "Заказчик этого исследования — Министерство культуры Российской Федерации.\n",
    "Вам нужно изучить рынок российского кинопроката и выявить текущие тренды. Уделите внимание фильмам, которые получили государственную поддержку. Попробуйте ответить на вопрос, насколько такие фильмы интересны зрителю.\n",
    "Вы будете работать с данными, опубликованными на портале открытых данных Министерства культуры. Набор данных содержит информацию о прокатных удостоверениях, сборах и государственной поддержке фильмов, а также информацию с сайта КиноПоиск.\n",
    "\n",
    "**Цель исследования** — изучение рынка российского кинопроката.\n",
    "\n",
    "**Ход исследования**\n",
    "\n",
    "Данные о прокатных удостверениях, выданных фильмам находятся в файле `mkrf_movies.csv`, а данные о сборах по соответствующим прокатным удостверениям `mkrf_shows.csv`. О качестве данных ничего не известно. Поэтому перед проверкой гипотез понадобится обзор данных. \n",
    "\n",
    "На этапе предобработки необходимо будет определить и обработать пропуски, проверить наличие дубликатов, привести данные в столбцах к нужным типам, оценить данные на наличие в них аномалий.\n",
    "\n",
    "На этапе дополнения таблицы необходимо добавить столбец с информацией о годе проката, именем и фамилией главного режиссёра, основным жанром фильма и долей государственной поддержки от общего бюджета фильма.\n",
    " \n",
    "Таким образом, исследование пройдёт в пять этапов:\n",
    " 1. Обзор данных.\n",
    " 2. Предобработка данных.\n",
    " 3. Расчёты и добавление результатов в таблицу.\n",
    " 4. Исследовательский анализ данных.\n",
    " 5. Иследование фильмов с государственной поддержкой"
   ]
  },
  {
   "cell_type": "markdown",
   "metadata": {
    "id": "3bSlkCsbgFyL"
   },
   "source": [
    "### Шаг 1. Объединение таблиц"
   ]
  },
  {
   "cell_type": "code",
   "execution_count": 1,
   "metadata": {
    "id": "dw87FlzMgFyM"
   },
   "outputs": [],
   "source": [
    "import pandas as pd\n",
    "import matplotlib.pyplot as plt\n",
    "%matplotlib inline"
   ]
  },
  {
   "cell_type": "code",
   "execution_count": 2,
   "metadata": {},
   "outputs": [
    {
     "data": {
      "text/html": [
       "<div>\n",
       "<style scoped>\n",
       "    .dataframe tbody tr th:only-of-type {\n",
       "        vertical-align: middle;\n",
       "    }\n",
       "\n",
       "    .dataframe tbody tr th {\n",
       "        vertical-align: top;\n",
       "    }\n",
       "\n",
       "    .dataframe thead th {\n",
       "        text-align: right;\n",
       "    }\n",
       "</style>\n",
       "<table border=\"1\" class=\"dataframe\">\n",
       "  <thead>\n",
       "    <tr style=\"text-align: right;\">\n",
       "      <th></th>\n",
       "      <th>title</th>\n",
       "      <th>puNumber</th>\n",
       "      <th>show_start_date</th>\n",
       "      <th>type</th>\n",
       "      <th>film_studio</th>\n",
       "      <th>production_country</th>\n",
       "      <th>director</th>\n",
       "      <th>producer</th>\n",
       "      <th>age_restriction</th>\n",
       "      <th>refundable_support</th>\n",
       "      <th>nonrefundable_support</th>\n",
       "      <th>budget</th>\n",
       "      <th>financing_source</th>\n",
       "      <th>ratings</th>\n",
       "      <th>genres</th>\n",
       "    </tr>\n",
       "  </thead>\n",
       "  <tbody>\n",
       "    <tr>\n",
       "      <td>0</td>\n",
       "      <td>Открытый простор</td>\n",
       "      <td>221048915</td>\n",
       "      <td>2015-11-27T12:00:00.000Z</td>\n",
       "      <td>Художественный</td>\n",
       "      <td>Тачстоун Пикчерз, Кобальт Пикчерз, Бикон Пикче...</td>\n",
       "      <td>США</td>\n",
       "      <td>Кевин Костнер</td>\n",
       "      <td>Дэвид Валдес, Кевин Костнер, Джейк Эбертс</td>\n",
       "      <td>«18+» - запрещено для детей</td>\n",
       "      <td>NaN</td>\n",
       "      <td>NaN</td>\n",
       "      <td>NaN</td>\n",
       "      <td>NaN</td>\n",
       "      <td>7.2</td>\n",
       "      <td>боевик,драма,мелодрама</td>\n",
       "    </tr>\n",
       "    <tr>\n",
       "      <td>1</td>\n",
       "      <td>Особо важное задание</td>\n",
       "      <td>111013716</td>\n",
       "      <td>2016-09-13T12:00:00.000Z</td>\n",
       "      <td>Художественный</td>\n",
       "      <td>Киностудия \"Мосфильм\"</td>\n",
       "      <td>СССР</td>\n",
       "      <td>Е.Матвеев</td>\n",
       "      <td>NaN</td>\n",
       "      <td>«6+» - для детей старше 6 лет</td>\n",
       "      <td>NaN</td>\n",
       "      <td>NaN</td>\n",
       "      <td>NaN</td>\n",
       "      <td>NaN</td>\n",
       "      <td>6.6</td>\n",
       "      <td>драма,военный</td>\n",
       "    </tr>\n",
       "    <tr>\n",
       "      <td>2</td>\n",
       "      <td>Особо опасен</td>\n",
       "      <td>221038416</td>\n",
       "      <td>2016-10-10T12:00:00.000Z</td>\n",
       "      <td>Художественный</td>\n",
       "      <td>Юниверсал Пикчерз, Кикстарт Продакшнз, Марк Пл...</td>\n",
       "      <td>США</td>\n",
       "      <td>Тимур Бекмамбетов</td>\n",
       "      <td>Джим Лемли, Джейсон Нетер, Марк Е.Платт, Яйн Смит</td>\n",
       "      <td>«18+» - запрещено для детей</td>\n",
       "      <td>NaN</td>\n",
       "      <td>NaN</td>\n",
       "      <td>NaN</td>\n",
       "      <td>NaN</td>\n",
       "      <td>6.8</td>\n",
       "      <td>фантастика,боевик,триллер</td>\n",
       "    </tr>\n",
       "    <tr>\n",
       "      <td>3</td>\n",
       "      <td>Особо опасен</td>\n",
       "      <td>221026916</td>\n",
       "      <td>2016-06-10T12:00:00.000Z</td>\n",
       "      <td>Художественный</td>\n",
       "      <td>Юниверсал Пикчерз, Кикстарт Продакшнз, Марк Пл...</td>\n",
       "      <td>США</td>\n",
       "      <td>Тимур Бекмамбетов</td>\n",
       "      <td>Джим Лемли, Джейсон Нетер, Марк Е.Платт, Яйн Смит</td>\n",
       "      <td>«18+» - запрещено для детей</td>\n",
       "      <td>NaN</td>\n",
       "      <td>NaN</td>\n",
       "      <td>NaN</td>\n",
       "      <td>NaN</td>\n",
       "      <td>6.8</td>\n",
       "      <td>фантастика,боевик,триллер</td>\n",
       "    </tr>\n",
       "    <tr>\n",
       "      <td>4</td>\n",
       "      <td>Особо опасен</td>\n",
       "      <td>221030815</td>\n",
       "      <td>2015-07-29T12:00:00.000Z</td>\n",
       "      <td>Художественный</td>\n",
       "      <td>Юниверсал Пикчерз, Кикстарт Продакшнз, Марк Пл...</td>\n",
       "      <td>США</td>\n",
       "      <td>Тимур Бекмамбетов</td>\n",
       "      <td>Джим Лемли, Джейсон Нетер, Марк Е.Платт, Яйн Смит</td>\n",
       "      <td>«18+» - запрещено для детей</td>\n",
       "      <td>NaN</td>\n",
       "      <td>NaN</td>\n",
       "      <td>NaN</td>\n",
       "      <td>NaN</td>\n",
       "      <td>6.8</td>\n",
       "      <td>фантастика,боевик,триллер</td>\n",
       "    </tr>\n",
       "    <tr>\n",
       "      <td>5</td>\n",
       "      <td>Остановился поезд</td>\n",
       "      <td>111013816</td>\n",
       "      <td>2016-09-13T12:00:00.000Z</td>\n",
       "      <td>Художественный</td>\n",
       "      <td>Киностудия \"Мосфильм\"</td>\n",
       "      <td>СССР</td>\n",
       "      <td>В.Абдрашитов</td>\n",
       "      <td>NaN</td>\n",
       "      <td>«6+» - для детей старше 6 лет</td>\n",
       "      <td>NaN</td>\n",
       "      <td>NaN</td>\n",
       "      <td>NaN</td>\n",
       "      <td>NaN</td>\n",
       "      <td>7.7</td>\n",
       "      <td>драма</td>\n",
       "    </tr>\n",
       "    <tr>\n",
       "      <td>6</td>\n",
       "      <td>Любовь и голуби</td>\n",
       "      <td>111007013</td>\n",
       "      <td>2013-10-18T12:00:00.000Z</td>\n",
       "      <td>Художественный</td>\n",
       "      <td>Киностудия \"Мосфильм\"</td>\n",
       "      <td>СССР</td>\n",
       "      <td>В.Меньшов</td>\n",
       "      <td>NaN</td>\n",
       "      <td>«12+» - для детей старше 12 лет</td>\n",
       "      <td>NaN</td>\n",
       "      <td>NaN</td>\n",
       "      <td>NaN</td>\n",
       "      <td>NaN</td>\n",
       "      <td>8.3</td>\n",
       "      <td>мелодрама,комедия</td>\n",
       "    </tr>\n",
       "    <tr>\n",
       "      <td>7</td>\n",
       "      <td>Любовь и сигареты</td>\n",
       "      <td>221074614</td>\n",
       "      <td>2014-12-29T12:00:00.000Z</td>\n",
       "      <td>Художественный</td>\n",
       "      <td>Юнайтед Артистс, Грин Стрит Филмз, Айкон Интер...</td>\n",
       "      <td>США</td>\n",
       "      <td>Джон Туртурро</td>\n",
       "      <td>Джон Пенотти, Джон Туртурро</td>\n",
       "      <td>«18+» - запрещено для детей</td>\n",
       "      <td>NaN</td>\n",
       "      <td>NaN</td>\n",
       "      <td>NaN</td>\n",
       "      <td>NaN</td>\n",
       "      <td>6.6</td>\n",
       "      <td>мюзикл,мелодрама,комедия</td>\n",
       "    </tr>\n",
       "    <tr>\n",
       "      <td>8</td>\n",
       "      <td>Отпетые мошенники.</td>\n",
       "      <td>121011416</td>\n",
       "      <td>2016-05-05T12:00:00.000Z</td>\n",
       "      <td>Художественный</td>\n",
       "      <td>Пульсар Продюксьон, ТФ1 Фильм</td>\n",
       "      <td>Франция</td>\n",
       "      <td>Эрик Беснард</td>\n",
       "      <td>Патрис Леду</td>\n",
       "      <td>«18+» - запрещено для детей</td>\n",
       "      <td>NaN</td>\n",
       "      <td>NaN</td>\n",
       "      <td>NaN</td>\n",
       "      <td>NaN</td>\n",
       "      <td>8.0</td>\n",
       "      <td>комедия,криминал</td>\n",
       "    </tr>\n",
       "    <tr>\n",
       "      <td>9</td>\n",
       "      <td>Отпуск за свой счет</td>\n",
       "      <td>111019114</td>\n",
       "      <td>2014-12-01T12:00:00.000Z</td>\n",
       "      <td>Художественный</td>\n",
       "      <td>Киностудия \"Мосфильм\", Телевидение ВНР</td>\n",
       "      <td>СССР, Венгрия</td>\n",
       "      <td>В.Титов</td>\n",
       "      <td>NaN</td>\n",
       "      <td>«12+» - для детей старше 12 лет</td>\n",
       "      <td>NaN</td>\n",
       "      <td>NaN</td>\n",
       "      <td>NaN</td>\n",
       "      <td>NaN</td>\n",
       "      <td>7.8</td>\n",
       "      <td>мелодрама,комедия</td>\n",
       "    </tr>\n",
       "  </tbody>\n",
       "</table>\n",
       "</div>"
      ],
      "text/plain": [
       "                  title   puNumber           show_start_date            type  \\\n",
       "0      Открытый простор  221048915  2015-11-27T12:00:00.000Z  Художественный   \n",
       "1  Особо важное задание  111013716  2016-09-13T12:00:00.000Z  Художественный   \n",
       "2          Особо опасен  221038416  2016-10-10T12:00:00.000Z  Художественный   \n",
       "3          Особо опасен  221026916  2016-06-10T12:00:00.000Z  Художественный   \n",
       "4          Особо опасен  221030815  2015-07-29T12:00:00.000Z  Художественный   \n",
       "5     Остановился поезд  111013816  2016-09-13T12:00:00.000Z  Художественный   \n",
       "6       Любовь и голуби  111007013  2013-10-18T12:00:00.000Z  Художественный   \n",
       "7     Любовь и сигареты  221074614  2014-12-29T12:00:00.000Z  Художественный   \n",
       "8    Отпетые мошенники.  121011416  2016-05-05T12:00:00.000Z  Художественный   \n",
       "9   Отпуск за свой счет  111019114  2014-12-01T12:00:00.000Z  Художественный   \n",
       "\n",
       "                                         film_studio production_country  \\\n",
       "0  Тачстоун Пикчерз, Кобальт Пикчерз, Бикон Пикче...                США   \n",
       "1                              Киностудия \"Мосфильм\"               СССР   \n",
       "2  Юниверсал Пикчерз, Кикстарт Продакшнз, Марк Пл...                США   \n",
       "3  Юниверсал Пикчерз, Кикстарт Продакшнз, Марк Пл...                США   \n",
       "4  Юниверсал Пикчерз, Кикстарт Продакшнз, Марк Пл...                США   \n",
       "5                              Киностудия \"Мосфильм\"               СССР   \n",
       "6                              Киностудия \"Мосфильм\"               СССР   \n",
       "7  Юнайтед Артистс, Грин Стрит Филмз, Айкон Интер...                США   \n",
       "8                     Пульсар Продюксьон, ТФ1 Фильм             Франция   \n",
       "9             Киностудия \"Мосфильм\", Телевидение ВНР      СССР, Венгрия   \n",
       "\n",
       "            director                                           producer  \\\n",
       "0      Кевин Костнер          Дэвид Валдес, Кевин Костнер, Джейк Эбертс   \n",
       "1          Е.Матвеев                                                NaN   \n",
       "2  Тимур Бекмамбетов  Джим Лемли, Джейсон Нетер, Марк Е.Платт, Яйн Смит   \n",
       "3  Тимур Бекмамбетов  Джим Лемли, Джейсон Нетер, Марк Е.Платт, Яйн Смит   \n",
       "4  Тимур Бекмамбетов  Джим Лемли, Джейсон Нетер, Марк Е.Платт, Яйн Смит   \n",
       "5       В.Абдрашитов                                                NaN   \n",
       "6          В.Меньшов                                                NaN   \n",
       "7      Джон Туртурро                        Джон Пенотти, Джон Туртурро   \n",
       "8       Эрик Беснард                                        Патрис Леду   \n",
       "9            В.Титов                                                NaN   \n",
       "\n",
       "                   age_restriction  refundable_support  nonrefundable_support  \\\n",
       "0      «18+» - запрещено для детей                 NaN                    NaN   \n",
       "1    «6+» - для детей старше 6 лет                 NaN                    NaN   \n",
       "2      «18+» - запрещено для детей                 NaN                    NaN   \n",
       "3      «18+» - запрещено для детей                 NaN                    NaN   \n",
       "4      «18+» - запрещено для детей                 NaN                    NaN   \n",
       "5    «6+» - для детей старше 6 лет                 NaN                    NaN   \n",
       "6  «12+» - для детей старше 12 лет                 NaN                    NaN   \n",
       "7      «18+» - запрещено для детей                 NaN                    NaN   \n",
       "8      «18+» - запрещено для детей                 NaN                    NaN   \n",
       "9  «12+» - для детей старше 12 лет                 NaN                    NaN   \n",
       "\n",
       "   budget financing_source ratings                     genres  \n",
       "0     NaN              NaN     7.2     боевик,драма,мелодрама  \n",
       "1     NaN              NaN     6.6              драма,военный  \n",
       "2     NaN              NaN     6.8  фантастика,боевик,триллер  \n",
       "3     NaN              NaN     6.8  фантастика,боевик,триллер  \n",
       "4     NaN              NaN     6.8  фантастика,боевик,триллер  \n",
       "5     NaN              NaN     7.7                      драма  \n",
       "6     NaN              NaN     8.3          мелодрама,комедия  \n",
       "7     NaN              NaN     6.6   мюзикл,мелодрама,комедия  \n",
       "8     NaN              NaN     8.0           комедия,криминал  \n",
       "9     NaN              NaN     7.8          мелодрама,комедия  "
      ]
     },
     "execution_count": 2,
     "metadata": {},
     "output_type": "execute_result"
    }
   ],
   "source": [
    "movies = pd.read_csv('/datasets/mkrf_movies.csv')\n",
    "movies.head(10)"
   ]
  },
  {
   "cell_type": "code",
   "execution_count": 3,
   "metadata": {
    "scrolled": true
   },
   "outputs": [
    {
     "name": "stdout",
     "output_type": "stream",
     "text": [
      "<class 'pandas.core.frame.DataFrame'>\n",
      "RangeIndex: 7486 entries, 0 to 7485\n",
      "Data columns (total 15 columns):\n",
      "title                    7486 non-null object\n",
      "puNumber                 7486 non-null object\n",
      "show_start_date          7486 non-null object\n",
      "type                     7486 non-null object\n",
      "film_studio              7468 non-null object\n",
      "production_country       7484 non-null object\n",
      "director                 7477 non-null object\n",
      "producer                 6918 non-null object\n",
      "age_restriction          7486 non-null object\n",
      "refundable_support       332 non-null float64\n",
      "nonrefundable_support    332 non-null float64\n",
      "budget                   332 non-null float64\n",
      "financing_source         332 non-null object\n",
      "ratings                  6519 non-null object\n",
      "genres                   6510 non-null object\n",
      "dtypes: float64(3), object(12)\n",
      "memory usage: 877.4+ KB\n"
     ]
    }
   ],
   "source": [
    "movies.info()"
   ]
  },
  {
   "cell_type": "code",
   "execution_count": 4,
   "metadata": {},
   "outputs": [
    {
     "data": {
      "text/html": [
       "<div>\n",
       "<style scoped>\n",
       "    .dataframe tbody tr th:only-of-type {\n",
       "        vertical-align: middle;\n",
       "    }\n",
       "\n",
       "    .dataframe tbody tr th {\n",
       "        vertical-align: top;\n",
       "    }\n",
       "\n",
       "    .dataframe thead th {\n",
       "        text-align: right;\n",
       "    }\n",
       "</style>\n",
       "<table border=\"1\" class=\"dataframe\">\n",
       "  <thead>\n",
       "    <tr style=\"text-align: right;\">\n",
       "      <th></th>\n",
       "      <th>puNumber</th>\n",
       "      <th>box_office</th>\n",
       "    </tr>\n",
       "  </thead>\n",
       "  <tbody>\n",
       "    <tr>\n",
       "      <td>0</td>\n",
       "      <td>111000113</td>\n",
       "      <td>2.450000e+03</td>\n",
       "    </tr>\n",
       "    <tr>\n",
       "      <td>1</td>\n",
       "      <td>111000115</td>\n",
       "      <td>6.104000e+04</td>\n",
       "    </tr>\n",
       "    <tr>\n",
       "      <td>2</td>\n",
       "      <td>111000116</td>\n",
       "      <td>1.530300e+08</td>\n",
       "    </tr>\n",
       "    <tr>\n",
       "      <td>3</td>\n",
       "      <td>111000117</td>\n",
       "      <td>1.226096e+07</td>\n",
       "    </tr>\n",
       "    <tr>\n",
       "      <td>4</td>\n",
       "      <td>111000118</td>\n",
       "      <td>1.636841e+08</td>\n",
       "    </tr>\n",
       "    <tr>\n",
       "      <td>5</td>\n",
       "      <td>111000119</td>\n",
       "      <td>4.293650e+06</td>\n",
       "    </tr>\n",
       "    <tr>\n",
       "      <td>6</td>\n",
       "      <td>111000212</td>\n",
       "      <td>2.000000e+02</td>\n",
       "    </tr>\n",
       "    <tr>\n",
       "      <td>7</td>\n",
       "      <td>111000216</td>\n",
       "      <td>3.555670e+05</td>\n",
       "    </tr>\n",
       "    <tr>\n",
       "      <td>8</td>\n",
       "      <td>111000313</td>\n",
       "      <td>7.100000e+02</td>\n",
       "    </tr>\n",
       "    <tr>\n",
       "      <td>9</td>\n",
       "      <td>111000314</td>\n",
       "      <td>1.607970e+06</td>\n",
       "    </tr>\n",
       "  </tbody>\n",
       "</table>\n",
       "</div>"
      ],
      "text/plain": [
       "    puNumber    box_office\n",
       "0  111000113  2.450000e+03\n",
       "1  111000115  6.104000e+04\n",
       "2  111000116  1.530300e+08\n",
       "3  111000117  1.226096e+07\n",
       "4  111000118  1.636841e+08\n",
       "5  111000119  4.293650e+06\n",
       "6  111000212  2.000000e+02\n",
       "7  111000216  3.555670e+05\n",
       "8  111000313  7.100000e+02\n",
       "9  111000314  1.607970e+06"
      ]
     },
     "metadata": {},
     "output_type": "display_data"
    }
   ],
   "source": [
    "shows = pd.read_csv('/datasets/mkrf_shows.csv')\n",
    "display(shows.head(10))"
   ]
  },
  {
   "cell_type": "code",
   "execution_count": 5,
   "metadata": {},
   "outputs": [
    {
     "name": "stdout",
     "output_type": "stream",
     "text": [
      "<class 'pandas.core.frame.DataFrame'>\n",
      "RangeIndex: 3158 entries, 0 to 3157\n",
      "Data columns (total 2 columns):\n",
      "puNumber      3158 non-null int64\n",
      "box_office    3158 non-null float64\n",
      "dtypes: float64(1), int64(1)\n",
      "memory usage: 49.5 KB\n"
     ]
    }
   ],
   "source": [
    "shows.info()"
   ]
  },
  {
   "cell_type": "markdown",
   "metadata": {},
   "source": [
    "Для объединения датафреймов надо изменить тип данных в DataFrame `movies` в столбце `puNumber` на `int`. Учитывая вероятность наличия в столбце некорректных данных, которые нельзя перевести в числовой формат данных, воспользуемся сначала методом `to_numeric` с аргументом `errors = 'coerce'` для замены некорректных значений на NaN"
   ]
  },
  {
   "cell_type": "code",
   "execution_count": 6,
   "metadata": {},
   "outputs": [],
   "source": [
    "movies['puNumber'] = pd.to_numeric(movies['puNumber'], errors='coerce')"
   ]
  },
  {
   "cell_type": "markdown",
   "metadata": {},
   "source": [
    "Проверим наличие пропусков"
   ]
  },
  {
   "cell_type": "code",
   "execution_count": 7,
   "metadata": {},
   "outputs": [
    {
     "data": {
      "text/plain": [
       "1"
      ]
     },
     "execution_count": 7,
     "metadata": {},
     "output_type": "execute_result"
    }
   ],
   "source": [
    "movies['puNumber'].isna().sum()"
   ]
  },
  {
   "cell_type": "markdown",
   "metadata": {},
   "source": [
    "Удалим этот пропуск"
   ]
  },
  {
   "cell_type": "code",
   "execution_count": 8,
   "metadata": {},
   "outputs": [],
   "source": [
    "movies.dropna(subset=['puNumber'], inplace=True)"
   ]
  },
  {
   "cell_type": "markdown",
   "metadata": {},
   "source": [
    "Переведем к целочисленному типу данных"
   ]
  },
  {
   "cell_type": "code",
   "execution_count": 9,
   "metadata": {},
   "outputs": [],
   "source": [
    "movies['puNumber'] = movies['puNumber'].astype('int')"
   ]
  },
  {
   "cell_type": "markdown",
   "metadata": {},
   "source": [
    "Совместим таблицы по столбцу `puNumber`"
   ]
  },
  {
   "cell_type": "code",
   "execution_count": 10,
   "metadata": {},
   "outputs": [],
   "source": [
    "movies = movies.merge(shows, on='puNumber', how='left')"
   ]
  },
  {
   "cell_type": "code",
   "execution_count": 11,
   "metadata": {
    "scrolled": true
   },
   "outputs": [
    {
     "data": {
      "text/html": [
       "<div>\n",
       "<style scoped>\n",
       "    .dataframe tbody tr th:only-of-type {\n",
       "        vertical-align: middle;\n",
       "    }\n",
       "\n",
       "    .dataframe tbody tr th {\n",
       "        vertical-align: top;\n",
       "    }\n",
       "\n",
       "    .dataframe thead th {\n",
       "        text-align: right;\n",
       "    }\n",
       "</style>\n",
       "<table border=\"1\" class=\"dataframe\">\n",
       "  <thead>\n",
       "    <tr style=\"text-align: right;\">\n",
       "      <th></th>\n",
       "      <th>title</th>\n",
       "      <th>puNumber</th>\n",
       "      <th>show_start_date</th>\n",
       "      <th>type</th>\n",
       "      <th>film_studio</th>\n",
       "      <th>production_country</th>\n",
       "      <th>director</th>\n",
       "      <th>producer</th>\n",
       "      <th>age_restriction</th>\n",
       "      <th>refundable_support</th>\n",
       "      <th>nonrefundable_support</th>\n",
       "      <th>budget</th>\n",
       "      <th>financing_source</th>\n",
       "      <th>ratings</th>\n",
       "      <th>genres</th>\n",
       "      <th>box_office</th>\n",
       "    </tr>\n",
       "  </thead>\n",
       "  <tbody>\n",
       "    <tr>\n",
       "      <td>0</td>\n",
       "      <td>Открытый простор</td>\n",
       "      <td>221048915</td>\n",
       "      <td>2015-11-27T12:00:00.000Z</td>\n",
       "      <td>Художественный</td>\n",
       "      <td>Тачстоун Пикчерз, Кобальт Пикчерз, Бикон Пикче...</td>\n",
       "      <td>США</td>\n",
       "      <td>Кевин Костнер</td>\n",
       "      <td>Дэвид Валдес, Кевин Костнер, Джейк Эбертс</td>\n",
       "      <td>«18+» - запрещено для детей</td>\n",
       "      <td>NaN</td>\n",
       "      <td>NaN</td>\n",
       "      <td>NaN</td>\n",
       "      <td>NaN</td>\n",
       "      <td>7.2</td>\n",
       "      <td>боевик,драма,мелодрама</td>\n",
       "      <td>NaN</td>\n",
       "    </tr>\n",
       "    <tr>\n",
       "      <td>1</td>\n",
       "      <td>Особо важное задание</td>\n",
       "      <td>111013716</td>\n",
       "      <td>2016-09-13T12:00:00.000Z</td>\n",
       "      <td>Художественный</td>\n",
       "      <td>Киностудия \"Мосфильм\"</td>\n",
       "      <td>СССР</td>\n",
       "      <td>Е.Матвеев</td>\n",
       "      <td>NaN</td>\n",
       "      <td>«6+» - для детей старше 6 лет</td>\n",
       "      <td>NaN</td>\n",
       "      <td>NaN</td>\n",
       "      <td>NaN</td>\n",
       "      <td>NaN</td>\n",
       "      <td>6.6</td>\n",
       "      <td>драма,военный</td>\n",
       "      <td>NaN</td>\n",
       "    </tr>\n",
       "    <tr>\n",
       "      <td>2</td>\n",
       "      <td>Особо опасен</td>\n",
       "      <td>221038416</td>\n",
       "      <td>2016-10-10T12:00:00.000Z</td>\n",
       "      <td>Художественный</td>\n",
       "      <td>Юниверсал Пикчерз, Кикстарт Продакшнз, Марк Пл...</td>\n",
       "      <td>США</td>\n",
       "      <td>Тимур Бекмамбетов</td>\n",
       "      <td>Джим Лемли, Джейсон Нетер, Марк Е.Платт, Яйн Смит</td>\n",
       "      <td>«18+» - запрещено для детей</td>\n",
       "      <td>NaN</td>\n",
       "      <td>NaN</td>\n",
       "      <td>NaN</td>\n",
       "      <td>NaN</td>\n",
       "      <td>6.8</td>\n",
       "      <td>фантастика,боевик,триллер</td>\n",
       "      <td>NaN</td>\n",
       "    </tr>\n",
       "    <tr>\n",
       "      <td>3</td>\n",
       "      <td>Особо опасен</td>\n",
       "      <td>221026916</td>\n",
       "      <td>2016-06-10T12:00:00.000Z</td>\n",
       "      <td>Художественный</td>\n",
       "      <td>Юниверсал Пикчерз, Кикстарт Продакшнз, Марк Пл...</td>\n",
       "      <td>США</td>\n",
       "      <td>Тимур Бекмамбетов</td>\n",
       "      <td>Джим Лемли, Джейсон Нетер, Марк Е.Платт, Яйн Смит</td>\n",
       "      <td>«18+» - запрещено для детей</td>\n",
       "      <td>NaN</td>\n",
       "      <td>NaN</td>\n",
       "      <td>NaN</td>\n",
       "      <td>NaN</td>\n",
       "      <td>6.8</td>\n",
       "      <td>фантастика,боевик,триллер</td>\n",
       "      <td>NaN</td>\n",
       "    </tr>\n",
       "    <tr>\n",
       "      <td>4</td>\n",
       "      <td>Особо опасен</td>\n",
       "      <td>221030815</td>\n",
       "      <td>2015-07-29T12:00:00.000Z</td>\n",
       "      <td>Художественный</td>\n",
       "      <td>Юниверсал Пикчерз, Кикстарт Продакшнз, Марк Пл...</td>\n",
       "      <td>США</td>\n",
       "      <td>Тимур Бекмамбетов</td>\n",
       "      <td>Джим Лемли, Джейсон Нетер, Марк Е.Платт, Яйн Смит</td>\n",
       "      <td>«18+» - запрещено для детей</td>\n",
       "      <td>NaN</td>\n",
       "      <td>NaN</td>\n",
       "      <td>NaN</td>\n",
       "      <td>NaN</td>\n",
       "      <td>6.8</td>\n",
       "      <td>фантастика,боевик,триллер</td>\n",
       "      <td>NaN</td>\n",
       "    </tr>\n",
       "    <tr>\n",
       "      <td>5</td>\n",
       "      <td>Остановился поезд</td>\n",
       "      <td>111013816</td>\n",
       "      <td>2016-09-13T12:00:00.000Z</td>\n",
       "      <td>Художественный</td>\n",
       "      <td>Киностудия \"Мосфильм\"</td>\n",
       "      <td>СССР</td>\n",
       "      <td>В.Абдрашитов</td>\n",
       "      <td>NaN</td>\n",
       "      <td>«6+» - для детей старше 6 лет</td>\n",
       "      <td>NaN</td>\n",
       "      <td>NaN</td>\n",
       "      <td>NaN</td>\n",
       "      <td>NaN</td>\n",
       "      <td>7.7</td>\n",
       "      <td>драма</td>\n",
       "      <td>NaN</td>\n",
       "    </tr>\n",
       "    <tr>\n",
       "      <td>6</td>\n",
       "      <td>Любовь и голуби</td>\n",
       "      <td>111007013</td>\n",
       "      <td>2013-10-18T12:00:00.000Z</td>\n",
       "      <td>Художественный</td>\n",
       "      <td>Киностудия \"Мосфильм\"</td>\n",
       "      <td>СССР</td>\n",
       "      <td>В.Меньшов</td>\n",
       "      <td>NaN</td>\n",
       "      <td>«12+» - для детей старше 12 лет</td>\n",
       "      <td>NaN</td>\n",
       "      <td>NaN</td>\n",
       "      <td>NaN</td>\n",
       "      <td>NaN</td>\n",
       "      <td>8.3</td>\n",
       "      <td>мелодрама,комедия</td>\n",
       "      <td>2700.0</td>\n",
       "    </tr>\n",
       "    <tr>\n",
       "      <td>7</td>\n",
       "      <td>Любовь и сигареты</td>\n",
       "      <td>221074614</td>\n",
       "      <td>2014-12-29T12:00:00.000Z</td>\n",
       "      <td>Художественный</td>\n",
       "      <td>Юнайтед Артистс, Грин Стрит Филмз, Айкон Интер...</td>\n",
       "      <td>США</td>\n",
       "      <td>Джон Туртурро</td>\n",
       "      <td>Джон Пенотти, Джон Туртурро</td>\n",
       "      <td>«18+» - запрещено для детей</td>\n",
       "      <td>NaN</td>\n",
       "      <td>NaN</td>\n",
       "      <td>NaN</td>\n",
       "      <td>NaN</td>\n",
       "      <td>6.6</td>\n",
       "      <td>мюзикл,мелодрама,комедия</td>\n",
       "      <td>NaN</td>\n",
       "    </tr>\n",
       "    <tr>\n",
       "      <td>8</td>\n",
       "      <td>Отпетые мошенники.</td>\n",
       "      <td>121011416</td>\n",
       "      <td>2016-05-05T12:00:00.000Z</td>\n",
       "      <td>Художественный</td>\n",
       "      <td>Пульсар Продюксьон, ТФ1 Фильм</td>\n",
       "      <td>Франция</td>\n",
       "      <td>Эрик Беснард</td>\n",
       "      <td>Патрис Леду</td>\n",
       "      <td>«18+» - запрещено для детей</td>\n",
       "      <td>NaN</td>\n",
       "      <td>NaN</td>\n",
       "      <td>NaN</td>\n",
       "      <td>NaN</td>\n",
       "      <td>8.0</td>\n",
       "      <td>комедия,криминал</td>\n",
       "      <td>NaN</td>\n",
       "    </tr>\n",
       "    <tr>\n",
       "      <td>9</td>\n",
       "      <td>Отпуск за свой счет</td>\n",
       "      <td>111019114</td>\n",
       "      <td>2014-12-01T12:00:00.000Z</td>\n",
       "      <td>Художественный</td>\n",
       "      <td>Киностудия \"Мосфильм\", Телевидение ВНР</td>\n",
       "      <td>СССР, Венгрия</td>\n",
       "      <td>В.Титов</td>\n",
       "      <td>NaN</td>\n",
       "      <td>«12+» - для детей старше 12 лет</td>\n",
       "      <td>NaN</td>\n",
       "      <td>NaN</td>\n",
       "      <td>NaN</td>\n",
       "      <td>NaN</td>\n",
       "      <td>7.8</td>\n",
       "      <td>мелодрама,комедия</td>\n",
       "      <td>NaN</td>\n",
       "    </tr>\n",
       "  </tbody>\n",
       "</table>\n",
       "</div>"
      ],
      "text/plain": [
       "                  title   puNumber           show_start_date            type  \\\n",
       "0      Открытый простор  221048915  2015-11-27T12:00:00.000Z  Художественный   \n",
       "1  Особо важное задание  111013716  2016-09-13T12:00:00.000Z  Художественный   \n",
       "2          Особо опасен  221038416  2016-10-10T12:00:00.000Z  Художественный   \n",
       "3          Особо опасен  221026916  2016-06-10T12:00:00.000Z  Художественный   \n",
       "4          Особо опасен  221030815  2015-07-29T12:00:00.000Z  Художественный   \n",
       "5     Остановился поезд  111013816  2016-09-13T12:00:00.000Z  Художественный   \n",
       "6       Любовь и голуби  111007013  2013-10-18T12:00:00.000Z  Художественный   \n",
       "7     Любовь и сигареты  221074614  2014-12-29T12:00:00.000Z  Художественный   \n",
       "8    Отпетые мошенники.  121011416  2016-05-05T12:00:00.000Z  Художественный   \n",
       "9   Отпуск за свой счет  111019114  2014-12-01T12:00:00.000Z  Художественный   \n",
       "\n",
       "                                         film_studio production_country  \\\n",
       "0  Тачстоун Пикчерз, Кобальт Пикчерз, Бикон Пикче...                США   \n",
       "1                              Киностудия \"Мосфильм\"               СССР   \n",
       "2  Юниверсал Пикчерз, Кикстарт Продакшнз, Марк Пл...                США   \n",
       "3  Юниверсал Пикчерз, Кикстарт Продакшнз, Марк Пл...                США   \n",
       "4  Юниверсал Пикчерз, Кикстарт Продакшнз, Марк Пл...                США   \n",
       "5                              Киностудия \"Мосфильм\"               СССР   \n",
       "6                              Киностудия \"Мосфильм\"               СССР   \n",
       "7  Юнайтед Артистс, Грин Стрит Филмз, Айкон Интер...                США   \n",
       "8                     Пульсар Продюксьон, ТФ1 Фильм             Франция   \n",
       "9             Киностудия \"Мосфильм\", Телевидение ВНР      СССР, Венгрия   \n",
       "\n",
       "            director                                           producer  \\\n",
       "0      Кевин Костнер          Дэвид Валдес, Кевин Костнер, Джейк Эбертс   \n",
       "1          Е.Матвеев                                                NaN   \n",
       "2  Тимур Бекмамбетов  Джим Лемли, Джейсон Нетер, Марк Е.Платт, Яйн Смит   \n",
       "3  Тимур Бекмамбетов  Джим Лемли, Джейсон Нетер, Марк Е.Платт, Яйн Смит   \n",
       "4  Тимур Бекмамбетов  Джим Лемли, Джейсон Нетер, Марк Е.Платт, Яйн Смит   \n",
       "5       В.Абдрашитов                                                NaN   \n",
       "6          В.Меньшов                                                NaN   \n",
       "7      Джон Туртурро                        Джон Пенотти, Джон Туртурро   \n",
       "8       Эрик Беснард                                        Патрис Леду   \n",
       "9            В.Титов                                                NaN   \n",
       "\n",
       "                   age_restriction  refundable_support  nonrefundable_support  \\\n",
       "0      «18+» - запрещено для детей                 NaN                    NaN   \n",
       "1    «6+» - для детей старше 6 лет                 NaN                    NaN   \n",
       "2      «18+» - запрещено для детей                 NaN                    NaN   \n",
       "3      «18+» - запрещено для детей                 NaN                    NaN   \n",
       "4      «18+» - запрещено для детей                 NaN                    NaN   \n",
       "5    «6+» - для детей старше 6 лет                 NaN                    NaN   \n",
       "6  «12+» - для детей старше 12 лет                 NaN                    NaN   \n",
       "7      «18+» - запрещено для детей                 NaN                    NaN   \n",
       "8      «18+» - запрещено для детей                 NaN                    NaN   \n",
       "9  «12+» - для детей старше 12 лет                 NaN                    NaN   \n",
       "\n",
       "   budget financing_source ratings                     genres  box_office  \n",
       "0     NaN              NaN     7.2     боевик,драма,мелодрама         NaN  \n",
       "1     NaN              NaN     6.6              драма,военный         NaN  \n",
       "2     NaN              NaN     6.8  фантастика,боевик,триллер         NaN  \n",
       "3     NaN              NaN     6.8  фантастика,боевик,триллер         NaN  \n",
       "4     NaN              NaN     6.8  фантастика,боевик,триллер         NaN  \n",
       "5     NaN              NaN     7.7                      драма         NaN  \n",
       "6     NaN              NaN     8.3          мелодрама,комедия      2700.0  \n",
       "7     NaN              NaN     6.6   мюзикл,мелодрама,комедия         NaN  \n",
       "8     NaN              NaN     8.0           комедия,криминал         NaN  \n",
       "9     NaN              NaN     7.8          мелодрама,комедия         NaN  "
      ]
     },
     "execution_count": 11,
     "metadata": {},
     "output_type": "execute_result"
    }
   ],
   "source": [
    "movies.head(10)"
   ]
  },
  {
   "cell_type": "code",
   "execution_count": 12,
   "metadata": {},
   "outputs": [
    {
     "name": "stdout",
     "output_type": "stream",
     "text": [
      "<class 'pandas.core.frame.DataFrame'>\n",
      "Int64Index: 7485 entries, 0 to 7484\n",
      "Data columns (total 16 columns):\n",
      "title                    7485 non-null object\n",
      "puNumber                 7485 non-null int64\n",
      "show_start_date          7485 non-null object\n",
      "type                     7485 non-null object\n",
      "film_studio              7467 non-null object\n",
      "production_country       7483 non-null object\n",
      "director                 7476 non-null object\n",
      "producer                 6917 non-null object\n",
      "age_restriction          7485 non-null object\n",
      "refundable_support       332 non-null float64\n",
      "nonrefundable_support    332 non-null float64\n",
      "budget                   332 non-null float64\n",
      "financing_source         332 non-null object\n",
      "ratings                  6519 non-null object\n",
      "genres                   6510 non-null object\n",
      "box_office               3158 non-null float64\n",
      "dtypes: float64(4), int64(1), object(11)\n",
      "memory usage: 994.1+ KB\n"
     ]
    },
    {
     "data": {
      "text/html": [
       "<div>\n",
       "<style scoped>\n",
       "    .dataframe tbody tr th:only-of-type {\n",
       "        vertical-align: middle;\n",
       "    }\n",
       "\n",
       "    .dataframe tbody tr th {\n",
       "        vertical-align: top;\n",
       "    }\n",
       "\n",
       "    .dataframe thead th {\n",
       "        text-align: right;\n",
       "    }\n",
       "</style>\n",
       "<table border=\"1\" class=\"dataframe\">\n",
       "  <thead>\n",
       "    <tr style=\"text-align: right;\">\n",
       "      <th></th>\n",
       "      <th>puNumber</th>\n",
       "      <th>refundable_support</th>\n",
       "      <th>nonrefundable_support</th>\n",
       "      <th>budget</th>\n",
       "      <th>box_office</th>\n",
       "    </tr>\n",
       "  </thead>\n",
       "  <tbody>\n",
       "    <tr>\n",
       "      <td>count</td>\n",
       "      <td>7.485000e+03</td>\n",
       "      <td>3.320000e+02</td>\n",
       "      <td>3.320000e+02</td>\n",
       "      <td>3.320000e+02</td>\n",
       "      <td>3.158000e+03</td>\n",
       "    </tr>\n",
       "    <tr>\n",
       "      <td>mean</td>\n",
       "      <td>1.351966e+08</td>\n",
       "      <td>1.186446e+07</td>\n",
       "      <td>4.898099e+07</td>\n",
       "      <td>1.272297e+08</td>\n",
       "      <td>7.647870e+07</td>\n",
       "    </tr>\n",
       "    <tr>\n",
       "      <td>std</td>\n",
       "      <td>3.835292e+07</td>\n",
       "      <td>2.491656e+07</td>\n",
       "      <td>5.998012e+07</td>\n",
       "      <td>1.885883e+08</td>\n",
       "      <td>2.403531e+08</td>\n",
       "    </tr>\n",
       "    <tr>\n",
       "      <td>min</td>\n",
       "      <td>1.811096e+06</td>\n",
       "      <td>0.000000e+00</td>\n",
       "      <td>0.000000e+00</td>\n",
       "      <td>0.000000e+00</td>\n",
       "      <td>0.000000e+00</td>\n",
       "    </tr>\n",
       "    <tr>\n",
       "      <td>25%</td>\n",
       "      <td>1.120251e+08</td>\n",
       "      <td>0.000000e+00</td>\n",
       "      <td>2.500000e+07</td>\n",
       "      <td>4.200000e+07</td>\n",
       "      <td>8.623900e+04</td>\n",
       "    </tr>\n",
       "    <tr>\n",
       "      <td>50%</td>\n",
       "      <td>1.210155e+08</td>\n",
       "      <td>0.000000e+00</td>\n",
       "      <td>3.000000e+07</td>\n",
       "      <td>6.864992e+07</td>\n",
       "      <td>2.327988e+06</td>\n",
       "    </tr>\n",
       "    <tr>\n",
       "      <td>75%</td>\n",
       "      <td>1.240033e+08</td>\n",
       "      <td>1.500000e+07</td>\n",
       "      <td>4.037500e+07</td>\n",
       "      <td>1.419853e+08</td>\n",
       "      <td>2.397967e+07</td>\n",
       "    </tr>\n",
       "    <tr>\n",
       "      <td>max</td>\n",
       "      <td>2.310011e+08</td>\n",
       "      <td>1.800000e+08</td>\n",
       "      <td>4.000000e+08</td>\n",
       "      <td>2.305074e+09</td>\n",
       "      <td>3.073569e+09</td>\n",
       "    </tr>\n",
       "  </tbody>\n",
       "</table>\n",
       "</div>"
      ],
      "text/plain": [
       "           puNumber  refundable_support  nonrefundable_support        budget  \\\n",
       "count  7.485000e+03        3.320000e+02           3.320000e+02  3.320000e+02   \n",
       "mean   1.351966e+08        1.186446e+07           4.898099e+07  1.272297e+08   \n",
       "std    3.835292e+07        2.491656e+07           5.998012e+07  1.885883e+08   \n",
       "min    1.811096e+06        0.000000e+00           0.000000e+00  0.000000e+00   \n",
       "25%    1.120251e+08        0.000000e+00           2.500000e+07  4.200000e+07   \n",
       "50%    1.210155e+08        0.000000e+00           3.000000e+07  6.864992e+07   \n",
       "75%    1.240033e+08        1.500000e+07           4.037500e+07  1.419853e+08   \n",
       "max    2.310011e+08        1.800000e+08           4.000000e+08  2.305074e+09   \n",
       "\n",
       "         box_office  \n",
       "count  3.158000e+03  \n",
       "mean   7.647870e+07  \n",
       "std    2.403531e+08  \n",
       "min    0.000000e+00  \n",
       "25%    8.623900e+04  \n",
       "50%    2.327988e+06  \n",
       "75%    2.397967e+07  \n",
       "max    3.073569e+09  "
      ]
     },
     "metadata": {},
     "output_type": "display_data"
    }
   ],
   "source": [
    "movies.info()\n",
    "display(movies.describe())"
   ]
  },
  {
   "cell_type": "markdown",
   "metadata": {},
   "source": [
    "В таблице 16 столбцов.\n",
    "\n",
    "Согласно документации к данным:\n",
    "* `title` — название фильма;\n",
    "* `puNumber` — номер прокатного удостоверения; \n",
    "* `show_start_date` — дата премьеры фильма;\n",
    "* `type` — тип фильма;\n",
    "* `film_studio` — студия-производитель;\n",
    "* `production_country` — страна-производитель;\n",
    "* `director` — режиссёр;\n",
    "* `producer` — продюсер;\n",
    "* `age_restriction` — возрастная категория;\n",
    "* `refundable_support` — объём возвратных средств государственной поддержки в рублях;\n",
    "* `nonrefundable_support` — объём невозвратных средств государственной поддержки в рублях;\n",
    "* `financing_source` — источник государственного финансирования;\n",
    "* `budget` — общий бюджет фильма;\n",
    "* `ratings` — рейтинг фильма на КиноПоиске;\n",
    "* `genres` — жанр фильма;\n",
    "* `box_office` — сборы в рублях.\n",
    "\n",
    "**Замечания к данным:**\n",
    "1. Пропуски в таблице в столбцах `film_studio`, `production_country`, `director`, `producer`, `refundable_support`, `nonrefundable_support`, `budget`, `financing_source`, `ratings`, `genres`, `box_office`. Исходя из данных в таблице, необходимо определить причину пропусков и по возможности заполнить их;\n",
    "2. Необходимо изучить типы данных в датафрейме и преобразовать их там, где это необходимо;\n",
    "3. Проверить, есть ли в данных дубликаты и удалить их;\n",
    "4. Проверить категориальные значения и количественные значения в датафрейме."
   ]
  },
  {
   "cell_type": "markdown",
   "metadata": {},
   "source": [
    "**Вывод**\n",
    "\n",
    "В каждой строке таблицы — информация о фильме по его прокатному удостверению. В столбцах находится информация о названии фильма, номере прокатного удостверения, дате премьеры, жанру, режиссёру и т.д.\n",
    "\n",
    "Предварительно можно утверждать, что, данных достаточно для проверки гипотез. Следует их предобработать, проверить наличие дубликатов и устранить проблемы в данных."
   ]
  },
  {
   "cell_type": "markdown",
   "metadata": {
    "id": "KLDGpPG0gFyM"
   },
   "source": [
    "### Шаг 2. Предобработка данных"
   ]
  },
  {
   "cell_type": "markdown",
   "metadata": {
    "id": "ssWwKXsxgFyO"
   },
   "source": [
    "#### Шаг 2.1. Проверьте типы данных\n",
    "\n",
    "- Проверьте типы данных в датафрейме и преобразуйте их там, где это необходимо."
   ]
  },
  {
   "cell_type": "code",
   "execution_count": 13,
   "metadata": {
    "id": "kVGSplJOgFyO"
   },
   "outputs": [
    {
     "name": "stdout",
     "output_type": "stream",
     "text": [
      "<class 'pandas.core.frame.DataFrame'>\n",
      "Int64Index: 7485 entries, 0 to 7484\n",
      "Data columns (total 16 columns):\n",
      "title                    7485 non-null object\n",
      "puNumber                 7485 non-null int64\n",
      "show_start_date          7485 non-null object\n",
      "type                     7485 non-null object\n",
      "film_studio              7467 non-null object\n",
      "production_country       7483 non-null object\n",
      "director                 7476 non-null object\n",
      "producer                 6917 non-null object\n",
      "age_restriction          7485 non-null object\n",
      "refundable_support       332 non-null float64\n",
      "nonrefundable_support    332 non-null float64\n",
      "budget                   332 non-null float64\n",
      "financing_source         332 non-null object\n",
      "ratings                  6519 non-null object\n",
      "genres                   6510 non-null object\n",
      "box_office               3158 non-null float64\n",
      "dtypes: float64(4), int64(1), object(11)\n",
      "memory usage: 994.1+ KB\n"
     ]
    }
   ],
   "source": [
    "movies.info()"
   ]
  },
  {
   "cell_type": "markdown",
   "metadata": {},
   "source": [
    "Заменим тип данных в столбце `show_start_date` на тип datetime. Во всех записях значения округлены до дня, поэтому часы записывать не имеет смысла."
   ]
  },
  {
   "cell_type": "code",
   "execution_count": 14,
   "metadata": {},
   "outputs": [],
   "source": [
    "movies['show_start_date'] = pd.to_datetime(movies['show_start_date'], format = '%Y-%m-%d')"
   ]
  },
  {
   "cell_type": "code",
   "execution_count": 15,
   "metadata": {},
   "outputs": [
    {
     "data": {
      "text/html": [
       "<div>\n",
       "<style scoped>\n",
       "    .dataframe tbody tr th:only-of-type {\n",
       "        vertical-align: middle;\n",
       "    }\n",
       "\n",
       "    .dataframe tbody tr th {\n",
       "        vertical-align: top;\n",
       "    }\n",
       "\n",
       "    .dataframe thead th {\n",
       "        text-align: right;\n",
       "    }\n",
       "</style>\n",
       "<table border=\"1\" class=\"dataframe\">\n",
       "  <thead>\n",
       "    <tr style=\"text-align: right;\">\n",
       "      <th></th>\n",
       "      <th>title</th>\n",
       "      <th>puNumber</th>\n",
       "      <th>show_start_date</th>\n",
       "      <th>type</th>\n",
       "      <th>film_studio</th>\n",
       "      <th>production_country</th>\n",
       "      <th>director</th>\n",
       "      <th>producer</th>\n",
       "      <th>age_restriction</th>\n",
       "      <th>refundable_support</th>\n",
       "      <th>nonrefundable_support</th>\n",
       "      <th>budget</th>\n",
       "      <th>financing_source</th>\n",
       "      <th>ratings</th>\n",
       "      <th>genres</th>\n",
       "      <th>box_office</th>\n",
       "    </tr>\n",
       "  </thead>\n",
       "  <tbody>\n",
       "    <tr>\n",
       "      <td>0</td>\n",
       "      <td>Открытый простор</td>\n",
       "      <td>221048915</td>\n",
       "      <td>2015-11-27 12:00:00+00:00</td>\n",
       "      <td>Художественный</td>\n",
       "      <td>Тачстоун Пикчерз, Кобальт Пикчерз, Бикон Пикче...</td>\n",
       "      <td>США</td>\n",
       "      <td>Кевин Костнер</td>\n",
       "      <td>Дэвид Валдес, Кевин Костнер, Джейк Эбертс</td>\n",
       "      <td>«18+» - запрещено для детей</td>\n",
       "      <td>NaN</td>\n",
       "      <td>NaN</td>\n",
       "      <td>NaN</td>\n",
       "      <td>NaN</td>\n",
       "      <td>7.2</td>\n",
       "      <td>боевик,драма,мелодрама</td>\n",
       "      <td>NaN</td>\n",
       "    </tr>\n",
       "    <tr>\n",
       "      <td>1</td>\n",
       "      <td>Особо важное задание</td>\n",
       "      <td>111013716</td>\n",
       "      <td>2016-09-13 12:00:00+00:00</td>\n",
       "      <td>Художественный</td>\n",
       "      <td>Киностудия \"Мосфильм\"</td>\n",
       "      <td>СССР</td>\n",
       "      <td>Е.Матвеев</td>\n",
       "      <td>NaN</td>\n",
       "      <td>«6+» - для детей старше 6 лет</td>\n",
       "      <td>NaN</td>\n",
       "      <td>NaN</td>\n",
       "      <td>NaN</td>\n",
       "      <td>NaN</td>\n",
       "      <td>6.6</td>\n",
       "      <td>драма,военный</td>\n",
       "      <td>NaN</td>\n",
       "    </tr>\n",
       "    <tr>\n",
       "      <td>2</td>\n",
       "      <td>Особо опасен</td>\n",
       "      <td>221038416</td>\n",
       "      <td>2016-10-10 12:00:00+00:00</td>\n",
       "      <td>Художественный</td>\n",
       "      <td>Юниверсал Пикчерз, Кикстарт Продакшнз, Марк Пл...</td>\n",
       "      <td>США</td>\n",
       "      <td>Тимур Бекмамбетов</td>\n",
       "      <td>Джим Лемли, Джейсон Нетер, Марк Е.Платт, Яйн Смит</td>\n",
       "      <td>«18+» - запрещено для детей</td>\n",
       "      <td>NaN</td>\n",
       "      <td>NaN</td>\n",
       "      <td>NaN</td>\n",
       "      <td>NaN</td>\n",
       "      <td>6.8</td>\n",
       "      <td>фантастика,боевик,триллер</td>\n",
       "      <td>NaN</td>\n",
       "    </tr>\n",
       "    <tr>\n",
       "      <td>3</td>\n",
       "      <td>Особо опасен</td>\n",
       "      <td>221026916</td>\n",
       "      <td>2016-06-10 12:00:00+00:00</td>\n",
       "      <td>Художественный</td>\n",
       "      <td>Юниверсал Пикчерз, Кикстарт Продакшнз, Марк Пл...</td>\n",
       "      <td>США</td>\n",
       "      <td>Тимур Бекмамбетов</td>\n",
       "      <td>Джим Лемли, Джейсон Нетер, Марк Е.Платт, Яйн Смит</td>\n",
       "      <td>«18+» - запрещено для детей</td>\n",
       "      <td>NaN</td>\n",
       "      <td>NaN</td>\n",
       "      <td>NaN</td>\n",
       "      <td>NaN</td>\n",
       "      <td>6.8</td>\n",
       "      <td>фантастика,боевик,триллер</td>\n",
       "      <td>NaN</td>\n",
       "    </tr>\n",
       "    <tr>\n",
       "      <td>4</td>\n",
       "      <td>Особо опасен</td>\n",
       "      <td>221030815</td>\n",
       "      <td>2015-07-29 12:00:00+00:00</td>\n",
       "      <td>Художественный</td>\n",
       "      <td>Юниверсал Пикчерз, Кикстарт Продакшнз, Марк Пл...</td>\n",
       "      <td>США</td>\n",
       "      <td>Тимур Бекмамбетов</td>\n",
       "      <td>Джим Лемли, Джейсон Нетер, Марк Е.Платт, Яйн Смит</td>\n",
       "      <td>«18+» - запрещено для детей</td>\n",
       "      <td>NaN</td>\n",
       "      <td>NaN</td>\n",
       "      <td>NaN</td>\n",
       "      <td>NaN</td>\n",
       "      <td>6.8</td>\n",
       "      <td>фантастика,боевик,триллер</td>\n",
       "      <td>NaN</td>\n",
       "    </tr>\n",
       "    <tr>\n",
       "      <td>5</td>\n",
       "      <td>Остановился поезд</td>\n",
       "      <td>111013816</td>\n",
       "      <td>2016-09-13 12:00:00+00:00</td>\n",
       "      <td>Художественный</td>\n",
       "      <td>Киностудия \"Мосфильм\"</td>\n",
       "      <td>СССР</td>\n",
       "      <td>В.Абдрашитов</td>\n",
       "      <td>NaN</td>\n",
       "      <td>«6+» - для детей старше 6 лет</td>\n",
       "      <td>NaN</td>\n",
       "      <td>NaN</td>\n",
       "      <td>NaN</td>\n",
       "      <td>NaN</td>\n",
       "      <td>7.7</td>\n",
       "      <td>драма</td>\n",
       "      <td>NaN</td>\n",
       "    </tr>\n",
       "    <tr>\n",
       "      <td>6</td>\n",
       "      <td>Любовь и голуби</td>\n",
       "      <td>111007013</td>\n",
       "      <td>2013-10-18 12:00:00+00:00</td>\n",
       "      <td>Художественный</td>\n",
       "      <td>Киностудия \"Мосфильм\"</td>\n",
       "      <td>СССР</td>\n",
       "      <td>В.Меньшов</td>\n",
       "      <td>NaN</td>\n",
       "      <td>«12+» - для детей старше 12 лет</td>\n",
       "      <td>NaN</td>\n",
       "      <td>NaN</td>\n",
       "      <td>NaN</td>\n",
       "      <td>NaN</td>\n",
       "      <td>8.3</td>\n",
       "      <td>мелодрама,комедия</td>\n",
       "      <td>2700.0</td>\n",
       "    </tr>\n",
       "    <tr>\n",
       "      <td>7</td>\n",
       "      <td>Любовь и сигареты</td>\n",
       "      <td>221074614</td>\n",
       "      <td>2014-12-29 12:00:00+00:00</td>\n",
       "      <td>Художественный</td>\n",
       "      <td>Юнайтед Артистс, Грин Стрит Филмз, Айкон Интер...</td>\n",
       "      <td>США</td>\n",
       "      <td>Джон Туртурро</td>\n",
       "      <td>Джон Пенотти, Джон Туртурро</td>\n",
       "      <td>«18+» - запрещено для детей</td>\n",
       "      <td>NaN</td>\n",
       "      <td>NaN</td>\n",
       "      <td>NaN</td>\n",
       "      <td>NaN</td>\n",
       "      <td>6.6</td>\n",
       "      <td>мюзикл,мелодрама,комедия</td>\n",
       "      <td>NaN</td>\n",
       "    </tr>\n",
       "    <tr>\n",
       "      <td>8</td>\n",
       "      <td>Отпетые мошенники.</td>\n",
       "      <td>121011416</td>\n",
       "      <td>2016-05-05 12:00:00+00:00</td>\n",
       "      <td>Художественный</td>\n",
       "      <td>Пульсар Продюксьон, ТФ1 Фильм</td>\n",
       "      <td>Франция</td>\n",
       "      <td>Эрик Беснард</td>\n",
       "      <td>Патрис Леду</td>\n",
       "      <td>«18+» - запрещено для детей</td>\n",
       "      <td>NaN</td>\n",
       "      <td>NaN</td>\n",
       "      <td>NaN</td>\n",
       "      <td>NaN</td>\n",
       "      <td>8.0</td>\n",
       "      <td>комедия,криминал</td>\n",
       "      <td>NaN</td>\n",
       "    </tr>\n",
       "    <tr>\n",
       "      <td>9</td>\n",
       "      <td>Отпуск за свой счет</td>\n",
       "      <td>111019114</td>\n",
       "      <td>2014-12-01 12:00:00+00:00</td>\n",
       "      <td>Художественный</td>\n",
       "      <td>Киностудия \"Мосфильм\", Телевидение ВНР</td>\n",
       "      <td>СССР, Венгрия</td>\n",
       "      <td>В.Титов</td>\n",
       "      <td>NaN</td>\n",
       "      <td>«12+» - для детей старше 12 лет</td>\n",
       "      <td>NaN</td>\n",
       "      <td>NaN</td>\n",
       "      <td>NaN</td>\n",
       "      <td>NaN</td>\n",
       "      <td>7.8</td>\n",
       "      <td>мелодрама,комедия</td>\n",
       "      <td>NaN</td>\n",
       "    </tr>\n",
       "  </tbody>\n",
       "</table>\n",
       "</div>"
      ],
      "text/plain": [
       "                  title   puNumber           show_start_date            type  \\\n",
       "0      Открытый простор  221048915 2015-11-27 12:00:00+00:00  Художественный   \n",
       "1  Особо важное задание  111013716 2016-09-13 12:00:00+00:00  Художественный   \n",
       "2          Особо опасен  221038416 2016-10-10 12:00:00+00:00  Художественный   \n",
       "3          Особо опасен  221026916 2016-06-10 12:00:00+00:00  Художественный   \n",
       "4          Особо опасен  221030815 2015-07-29 12:00:00+00:00  Художественный   \n",
       "5     Остановился поезд  111013816 2016-09-13 12:00:00+00:00  Художественный   \n",
       "6       Любовь и голуби  111007013 2013-10-18 12:00:00+00:00  Художественный   \n",
       "7     Любовь и сигареты  221074614 2014-12-29 12:00:00+00:00  Художественный   \n",
       "8    Отпетые мошенники.  121011416 2016-05-05 12:00:00+00:00  Художественный   \n",
       "9   Отпуск за свой счет  111019114 2014-12-01 12:00:00+00:00  Художественный   \n",
       "\n",
       "                                         film_studio production_country  \\\n",
       "0  Тачстоун Пикчерз, Кобальт Пикчерз, Бикон Пикче...                США   \n",
       "1                              Киностудия \"Мосфильм\"               СССР   \n",
       "2  Юниверсал Пикчерз, Кикстарт Продакшнз, Марк Пл...                США   \n",
       "3  Юниверсал Пикчерз, Кикстарт Продакшнз, Марк Пл...                США   \n",
       "4  Юниверсал Пикчерз, Кикстарт Продакшнз, Марк Пл...                США   \n",
       "5                              Киностудия \"Мосфильм\"               СССР   \n",
       "6                              Киностудия \"Мосфильм\"               СССР   \n",
       "7  Юнайтед Артистс, Грин Стрит Филмз, Айкон Интер...                США   \n",
       "8                     Пульсар Продюксьон, ТФ1 Фильм             Франция   \n",
       "9             Киностудия \"Мосфильм\", Телевидение ВНР      СССР, Венгрия   \n",
       "\n",
       "            director                                           producer  \\\n",
       "0      Кевин Костнер          Дэвид Валдес, Кевин Костнер, Джейк Эбертс   \n",
       "1          Е.Матвеев                                                NaN   \n",
       "2  Тимур Бекмамбетов  Джим Лемли, Джейсон Нетер, Марк Е.Платт, Яйн Смит   \n",
       "3  Тимур Бекмамбетов  Джим Лемли, Джейсон Нетер, Марк Е.Платт, Яйн Смит   \n",
       "4  Тимур Бекмамбетов  Джим Лемли, Джейсон Нетер, Марк Е.Платт, Яйн Смит   \n",
       "5       В.Абдрашитов                                                NaN   \n",
       "6          В.Меньшов                                                NaN   \n",
       "7      Джон Туртурро                        Джон Пенотти, Джон Туртурро   \n",
       "8       Эрик Беснард                                        Патрис Леду   \n",
       "9            В.Титов                                                NaN   \n",
       "\n",
       "                   age_restriction  refundable_support  nonrefundable_support  \\\n",
       "0      «18+» - запрещено для детей                 NaN                    NaN   \n",
       "1    «6+» - для детей старше 6 лет                 NaN                    NaN   \n",
       "2      «18+» - запрещено для детей                 NaN                    NaN   \n",
       "3      «18+» - запрещено для детей                 NaN                    NaN   \n",
       "4      «18+» - запрещено для детей                 NaN                    NaN   \n",
       "5    «6+» - для детей старше 6 лет                 NaN                    NaN   \n",
       "6  «12+» - для детей старше 12 лет                 NaN                    NaN   \n",
       "7      «18+» - запрещено для детей                 NaN                    NaN   \n",
       "8      «18+» - запрещено для детей                 NaN                    NaN   \n",
       "9  «12+» - для детей старше 12 лет                 NaN                    NaN   \n",
       "\n",
       "   budget financing_source ratings                     genres  box_office  \n",
       "0     NaN              NaN     7.2     боевик,драма,мелодрама         NaN  \n",
       "1     NaN              NaN     6.6              драма,военный         NaN  \n",
       "2     NaN              NaN     6.8  фантастика,боевик,триллер         NaN  \n",
       "3     NaN              NaN     6.8  фантастика,боевик,триллер         NaN  \n",
       "4     NaN              NaN     6.8  фантастика,боевик,триллер         NaN  \n",
       "5     NaN              NaN     7.7                      драма         NaN  \n",
       "6     NaN              NaN     8.3          мелодрама,комедия      2700.0  \n",
       "7     NaN              NaN     6.6   мюзикл,мелодрама,комедия         NaN  \n",
       "8     NaN              NaN     8.0           комедия,криминал         NaN  \n",
       "9     NaN              NaN     7.8          мелодрама,комедия         NaN  "
      ]
     },
     "execution_count": 15,
     "metadata": {},
     "output_type": "execute_result"
    }
   ],
   "source": [
    "movies.head(10)"
   ]
  },
  {
   "cell_type": "markdown",
   "metadata": {},
   "source": [
    "Можно было бы заменить вещественный тип данных на целочисленный, но в этих столбцах много пропусков, которые нельзя логично заполнить, поэтому оставим как есть."
   ]
  },
  {
   "cell_type": "markdown",
   "metadata": {},
   "source": [
    "Рассмотрим значения в столбце `ratings` и по возможности заменим тип данных на вещественный"
   ]
  },
  {
   "cell_type": "code",
   "execution_count": 17,
   "metadata": {},
   "outputs": [
    {
     "data": {
      "text/plain": [
       "array(['7.2', '6.6', '6.8', '7.7', '8.3', '8.0', '7.8', '8.1', '7.1',\n",
       "       '6.0', '7.4', '5.8', '8.7', '6.3', '6.9', '5.0', '4.3', '7.3',\n",
       "       '7.0', '6.4', nan, '8.2', '7.5', '6.7', '7.9', '5.9', '6.2', '5.6',\n",
       "       '6.5', '2.4', '7.6', '6.1', '8.6', '8.5', '8.8', '5.5', '5.1',\n",
       "       '5.7', '5.4', '99%', '4.4', '4.5', '5.3', '4.1', '8.4', '2.6',\n",
       "       '3.8', '4.6', '4.8', '4.0', '3.0', '1.6', '4.2', '5.2', '4.7',\n",
       "       '4.9', '3.9', '2.7', '3.3', '2.9', '28%', '3.7', '1.4', '3.1',\n",
       "       '97%', '3.5', '3.2', '2.8', '1.5', '2.1', '2.5', '9.2', '3.4',\n",
       "       '1.1', '3.6', '83%', '64%', '91%', '94%', '62%', '79%', '90%',\n",
       "       '19%', '88%', '1.0', '89%', '1.3', '1.9', '1.8', '1.2', '1.7',\n",
       "       '9.0', '98%', '8.9', '9.1'], dtype=object)"
      ]
     },
     "execution_count": 17,
     "metadata": {},
     "output_type": "execute_result"
    }
   ],
   "source": [
    "movies['ratings'].unique()"
   ]
  },
  {
   "cell_type": "markdown",
   "metadata": {},
   "source": [
    "Видим, что в наборе данных присутствуют рейтинг в %. Этот рейтинг не соответствует информации с сайта \"Кинопоиск\". Оценим количество строк с такими данными."
   ]
  },
  {
   "cell_type": "code",
   "execution_count": 18,
   "metadata": {},
   "outputs": [],
   "source": [
    "movies['ratings'] = pd.to_numeric(movies['ratings'], errors='coerce')"
   ]
  },
  {
   "cell_type": "code",
   "execution_count": 19,
   "metadata": {},
   "outputs": [
    {
     "name": "stdout",
     "output_type": "stream",
     "text": [
      "<class 'pandas.core.frame.DataFrame'>\n",
      "Int64Index: 7485 entries, 0 to 7484\n",
      "Data columns (total 16 columns):\n",
      "title                    7485 non-null object\n",
      "puNumber                 7485 non-null int64\n",
      "show_start_date          7485 non-null datetime64[ns, UTC]\n",
      "type                     7485 non-null object\n",
      "film_studio              7467 non-null object\n",
      "production_country       7483 non-null object\n",
      "director                 7476 non-null object\n",
      "producer                 6917 non-null object\n",
      "age_restriction          7485 non-null object\n",
      "refundable_support       332 non-null float64\n",
      "nonrefundable_support    332 non-null float64\n",
      "budget                   332 non-null float64\n",
      "financing_source         332 non-null object\n",
      "ratings                  6490 non-null float64\n",
      "genres                   6510 non-null object\n",
      "box_office               3158 non-null float64\n",
      "dtypes: datetime64[ns, UTC](1), float64(5), int64(1), object(9)\n",
      "memory usage: 1.3+ MB\n"
     ]
    }
   ],
   "source": [
    "movies.info()"
   ]
  },
  {
   "cell_type": "markdown",
   "metadata": {},
   "source": [
    "По новому количеству пропусков можно понять, что таких значений было около 45. Это величина довольно мала, поэтому значения с процентами можно просто заменить на NaN, что мы уже сделали."
   ]
  },
  {
   "cell_type": "markdown",
   "metadata": {},
   "source": [
    "**Вывод**\n",
    "\n",
    "Произведена замена типа данных в столбце `show_start_date`. В столбце `ratings` был изменен тип данных на float с удалением \"процентных\" рейтингов. В остальных столбцах данные остались нетронутыми."
   ]
  },
  {
   "cell_type": "markdown",
   "metadata": {
    "id": "i0MOLbF-gFyP"
   },
   "source": [
    "#### Шаг 2.2. Изучите пропуски в датафрейме\n",
    "\n",
    "- Объясните, почему заполнили пропуски определённым образом или почему не стали этого делать."
   ]
  },
  {
   "cell_type": "markdown",
   "metadata": {
    "id": "8MJD_lkngFyP"
   },
   "source": [
    "Заполним пропуски в категориальных данных на сигнальное значение \"неизвестно\" для дальнейшего удобства представления результатов"
   ]
  },
  {
   "cell_type": "code",
   "execution_count": 20,
   "metadata": {},
   "outputs": [],
   "source": [
    "columns = ['film_studio', 'production_country', 'director', 'producer', 'genres']\n",
    "movies[columns] = movies[columns].fillna('Неизвестно')"
   ]
  },
  {
   "cell_type": "markdown",
   "metadata": {},
   "source": [
    "Значения в столбцах `refundable_support`, `nonrefundable_support`, `budget`, `financing_source`, `ratings`, `box_office` заполнить как-то логически невозможно, поэтому оставим как есть."
   ]
  },
  {
   "cell_type": "markdown",
   "metadata": {},
   "source": [
    "**Вывод**\n",
    "\n",
    "В столбцах с категориальными значениями пропуски заполнили значением \"неизвестно\", чтобы затем удобно было представлять эти данные. Значения в столбцах с числовыми значениями оставили нетронутыми."
   ]
  },
  {
   "cell_type": "markdown",
   "metadata": {
    "id": "52fOPrEBgFyQ"
   },
   "source": [
    "#### Шаг 2.3. Изучите категориальные значения\n"
   ]
  },
  {
   "cell_type": "markdown",
   "metadata": {},
   "source": [
    "Рассмотрим уникальные значения в каждом столбце с категориальными значениями."
   ]
  },
  {
   "cell_type": "code",
   "execution_count": 21,
   "metadata": {},
   "outputs": [
    {
     "data": {
      "text/plain": [
       "array(['Художественный', 'Анимационный', 'Прочие', 'Документальный',\n",
       "       'Научно-популярный', ' Художественный', ' Анимационный',\n",
       "       'Музыкально-развлекательный'], dtype=object)"
      ]
     },
     "execution_count": 21,
     "metadata": {},
     "output_type": "execute_result"
    }
   ],
   "source": [
    "movies['type'].unique()"
   ]
  },
  {
   "cell_type": "markdown",
   "metadata": {},
   "source": [
    "Видны скрытые повторы категорий из-за пробелов в начале. Исправим эти проблемные значения."
   ]
  },
  {
   "cell_type": "code",
   "execution_count": 22,
   "metadata": {
    "scrolled": true
   },
   "outputs": [
    {
     "data": {
      "text/plain": [
       "array(['Художественный', 'Анимационный', 'Прочие', 'Документальный',\n",
       "       'Научно-популярный', 'Музыкально-развлекательный'], dtype=object)"
      ]
     },
     "execution_count": 22,
     "metadata": {},
     "output_type": "execute_result"
    }
   ],
   "source": [
    "movies['type'] = movies['type'].apply(lambda x: x.strip())\n",
    "movies['type'].unique()"
   ]
  },
  {
   "cell_type": "code",
   "execution_count": 23,
   "metadata": {
    "scrolled": true
   },
   "outputs": [
    {
     "data": {
      "text/plain": [
       "array(['США', 'СССР', 'Франция', 'СССР, Венгрия',\n",
       "       'Германия-Великобритания', 'Великобритания - Италия',\n",
       "       'Чехословакия', 'США - Франция - Турция', 'Новая Зеландия',\n",
       "       'Канада - Франция - Испания', 'США-Германия',\n",
       "       'США - Великобритания', 'Великобритания', 'США - Германия',\n",
       "       'Франция - Мексика - США', 'Россия, Казахстан, США',\n",
       "       'СССР, Швеция', 'СССР, Франция, Англия, Куба, ГДР', 'Германия',\n",
       "       'Великобритания-США-Германия-КНР',\n",
       "       'СССР, ЧССР, Западный Берлин, ПНР', 'СССР, Италия', 'Гонконг, КНР',\n",
       "       'США - Франция', 'США - Япония - Франция - Великобритания',\n",
       "       'Гонконг - Сингапур - Таиланд - Великобритания', 'США-Канада',\n",
       "       'Франция - Италия - Великобритания - США', 'Франция - США',\n",
       "       'Ирландия-Великобритания-Германия', 'Чехия', 'США-Австралия',\n",
       "       'СССР, Финляндия', 'США-Франция-Великобритания-Австрия',\n",
       "       'США - Бельгия', 'США - Ирландия - Великобритания',\n",
       "       'Великобритания - США',\n",
       "       'Люксембург - Нидерланды - Испания - Великобритания - США - Италия',\n",
       "       'Великобритания - Франция - США', 'Новая Зеландия - США',\n",
       "       'США - Великобритания - Чехия',\n",
       "       'Канада - Франция - Великобритания', 'Ирландия',\n",
       "       'Великобритания - Германия - США',\n",
       "       'США - Франция - Великобритания', 'Япония', 'СССР, Польша',\n",
       "       'Франция - Испания', 'Канада-Франция', 'Германия - Италия - США',\n",
       "       'Аргентина - Бразилия', 'Дания - Швейцария - Бельгия - Франция',\n",
       "       'США - Испания', 'Германия - США',\n",
       "       'Франция - Австрия - Германия - Италия - США', 'Австрия',\n",
       "       'США - Канада - Германия', 'США - Канада',\n",
       "       'СССР - Швейцария - Франция', 'Россия - Казахстан', 'Гонконг',\n",
       "       'Италия', 'США - ОАЭ', 'Россия',\n",
       "       'США - Франция - Испания - Великобритания',\n",
       "       'Великобритания - Франция', 'США-Италия-Испания-Аргентина',\n",
       "       'Франция-Великобритания', 'КНР - Гонконг',\n",
       "       'Франция - Италия - Швейцария', 'США - Новая Зеландия',\n",
       "       'Франция - Бельгия', 'КНР', 'Германия - Великобритания - Австрия',\n",
       "       'Великобритания - Израиль - Франция - Япония - США', 'Швеция',\n",
       "       'Испания', 'Дания', 'Франция - Бельгия - Люксембург',\n",
       "       'США - Индия - ОАЭ',\n",
       "       'Германия-Канада-Великобритания-Швейцария-Франция',\n",
       "       'Мексика - Чили', 'Аргентина', 'Бразилия', 'Чили', 'Австралия',\n",
       "       'Португалия - Франция', 'США - ЮАР', 'Исландия-Ирландия-Германия',\n",
       "       'США-Индонезия', 'Южная Корея', 'Мексика - Испания - Дания - США',\n",
       "       'Великобритания-США', 'Франция - Италия', 'США-Франция',\n",
       "       'США - Венгрия - Великобритания', 'Бельгия-Франция-Италия',\n",
       "       'Чехия - Германия', 'Германия - Франция', 'США-Нидерланды',\n",
       "       'Украина', 'Великобритания - Германия', 'Франция-Бельгия',\n",
       "       'США-Франция-Испания', 'Италия - Франция', 'Канада',\n",
       "       'Швеция-Франция-Дания', 'Германия-Франция-Польша',\n",
       "       'Франция-Великобритания - Германия',\n",
       "       'США - Бразилия - Франция - Австралия - Великобритания - Германия',\n",
       "       'Германия-Австрия', 'Германия-Италия- Шри-Ланка',\n",
       "       'Великобритания - Испания',\n",
       "       'США - Великобритания - Канада - Швеция',\n",
       "       'Босния и Герцеговина - Франция - Великобритания - Германия - Словения - Бельгия - Сербия',\n",
       "       'Великобритания - Франция - Италия - США', 'США-ОАЭ',\n",
       "       'Испания - Франция', 'США-Великобритания', 'США-ЮАР',\n",
       "       'Великобритания-Австралия - США',\n",
       "       'Норвегия - Швеция - Дания - Германия', 'Норвегия', 'Швейцария',\n",
       "       'Греция - Германия - Франция', 'Норвения', 'Южная Корея - США',\n",
       "       'Чили - Франция - США', 'Австрия - Германия - Франция',\n",
       "       'Швеция - Дания', 'Великобритания - Франция - Бельгия - Италия',\n",
       "       'Франция - Германия', 'Грузия - Франция - Люксембург',\n",
       "       'США - Франция - Великобритания - Бразилия ', 'США - КНР',\n",
       "       'Мексика - Франция', 'США - Германия - Гонконг - Сингапур',\n",
       "       'Финляндия - Австрия - Россия', 'Испания - Куба',\n",
       "       'Великобритания - ЮАР', 'Великобритания - Ирландия', 'Израиль',\n",
       "       'Бразилия - Германия - Порртугалия - Франция ',\n",
       "       'Франция - Канада - Бельгия', 'Франция-Испания',\n",
       "       'Испания - Канада - Япония', 'Иран', 'Швеция-Куба',\n",
       "       'США-Великобритания-Ирландия', 'Гонконг - КНР', 'Нидерланды',\n",
       "       'Испания - Канада', 'Япония-Великобритания',\n",
       "       'Великобритания - Норвегия - Дания - Германия',\n",
       "       'Финляндия - Франция - Германия',\n",
       "       'Мексика - Франция - Нидерланды - Германия', 'США - Индия',\n",
       "       'США-Великобритания-Индия', 'США-Канада-Бельгия',\n",
       "       'Республика Узбекистан', 'Италия ', 'Турция',\n",
       "       'Сербия - Словения - Хорватия - Черногория - Македония',\n",
       "       'Киргизия', 'Германия - Нидерланды - Беларусь - Россия - Латвия',\n",
       "       'Индия', 'Нидерланды - Россия - Германия',\n",
       "       'Великобритания - Нидерланды - Франция - Хорватия',\n",
       "       'Канада - Южная Корея',\n",
       "       'Великобритания - Польша - КНР - Индия - Норвегия',\n",
       "       'Япония - Франция - США - Южная Корея - Турция',\n",
       "       'Мексика - Аргентина - Великобритания', 'Израиль - Франция',\n",
       "       'Польша - Португалия - Франция - Великобритания',\n",
       "       'Австралия - США', 'США - Великобритания ',\n",
       "       'Франция - Люксембург - Бельгия', 'Армения',\n",
       "       'Бельгия - Люксембург - Франция - Швейцария',\n",
       "       'США - Великобритания - Канада', 'Норвегия - Швеция',\n",
       "       'Канада - Франция', 'КНР - Гонконг - США',\n",
       "       'США - Сингапур - Малайзия - Индонезия', 'Германия - Россия',\n",
       "       'Япония - Канада', 'Финляндия - Дания - Германия - Ирландия',\n",
       "       'Франция - Люксембург - Германия - Бельгия - Швейцария - Великобритания ',\n",
       "       'Канада - США', 'США-Италия-Испания', 'США-Испания',\n",
       "       'США - Швейцария - Франция', 'Испания - США - Колумбия',\n",
       "       'Канада-ЮАР', 'Франция - Россия',\n",
       "       'Германия - Финляндия - Австралия', 'Дания - Швеция', 'Бельгия',\n",
       "       'Германия - Франция - Австрия', 'Франция-Индия', 'ЮАР',\n",
       "       'Франция-Перу', 'Франция - Канада', 'Республика Беларусь',\n",
       "       'Великобритания - Австрия - Франция - США',\n",
       "       'Австрия-Германия-Франция', 'США-Россия', 'Германия-США',\n",
       "       'США - Южная Корея', 'Канада - КНР',\n",
       "       'Дания - Швеция - Италия - Франция - Германия',\n",
       "       'Франция-Италия-Испания-Венгрия', 'Франция - Германия - Бельгия',\n",
       "       'Франция-Великобритания-Чехия', 'Румыния - Франция - Бельгия',\n",
       "       'Болгария - Франция - Изриль',\n",
       "       'Израиль - Германия - Польша - Бельгия - Франция - Люксембург',\n",
       "       'Россия, Германия, Франция, Бельгия', 'Индонезия',\n",
       "       'Франция - Португалия', 'Великобритания - Пуэрто-Рико',\n",
       "       'СССР, ФРГ, Западный Берлин', 'Россия, Республика Беларусь',\n",
       "       'США, Великобритания', 'Франция - Австрия', 'Бельгия-Нидерланды',\n",
       "       'Великобритания - США - Индия', 'США - Великобритания - Австралия',\n",
       "       'Канада - Франция - США - ОАЭ - Великобритания',\n",
       "       'США - Австралия - Франция',\n",
       "       'Дания-Франция-Бельгия-Германия-Великобритания',\n",
       "       'Испания - Аргентина', 'Исландия - Финляндия',\n",
       "       'Россия-Польша-Голландия-Словакия', 'Дания - Германия - Швеция',\n",
       "       'Южная Корея - США - Канада', 'Таиланд', 'США-Мальта',\n",
       "       'США -Германия',\n",
       "       'Великобритания - Германия - Франция - Кипр - США', 'Мексика',\n",
       "       'США - Великобритания - Ирландия', 'США - Украина',\n",
       "       'США - Финляндия - Испания - Великобритания - Франция',\n",
       "       'Австралия-Великобритания',\n",
       "       'США - Канада - Афганистан - Бельгия - Франция',\n",
       "       'США - Великобритания - Германия - Новая Зеландия - Бельгия - Франция',\n",
       "       'Франция-Канада',\n",
       "       'Ирландия - Финляндия - Бельгия - Великобритания - США - Швейцария',\n",
       "       'Малайзия - США', 'Германия - Италия',\n",
       "       'США - Франция - Бельгия - Италия', 'Франция - Ирландия - Швеция',\n",
       "       'Азербайджан-Россия', 'Великобритания - Италия - Швейцария',\n",
       "       'США - Германия - Великобритания',\n",
       "       'Германия - Бельгия - США -Франция', 'США-Китай', 'Чили - Испания',\n",
       "       'Франция - Швейцария', 'Канада - Испания',\n",
       "       'США - Румыния - Великобритания', 'США - Япония',\n",
       "       'США - Россия - Франция', 'Франция-США', 'Парагвай',\n",
       "       'Германия - Канада', 'США - Канада - Великобритания',\n",
       "       'Финляндия - Канада', 'Уругвай-Мексика-Германия ', 'США - Чили',\n",
       "       'Германия - Аргентина - Нидерланды - Чили',\n",
       "       'США - Канада - Индонезия', 'Армения - Казахстан', 'Финляндия',\n",
       "       'Испания - Италия - Франция',\n",
       "       'Бельгия - Испания - Канада - Нидерланды',\n",
       "       'Великобритания - Франция - Швеция - Бельгия',\n",
       "       'Мексика - Эквадор - Канада - США - Франция - Малайзия - Италия - Аргентина - Германия - Индия  ',\n",
       "       'Франция - Бенльгия', 'Индия - Великобритания',\n",
       "       'Япония - Великобритания - Франция',\n",
       "       'Испания - Уругвай - Аргентина',\n",
       "       'Франция - Италия - Бельгия - Люксембург',\n",
       "       'Франция - Украина - Грузия - Армения',\n",
       "       'Сербия - Германия - Венгрия', 'Франция-Польша', 'Франция ',\n",
       "       'Румыния-США', 'Россия-Азербайджан',\n",
       "       'США - Нидерланды - Бельгия - Венгрия - Греция - Канада',\n",
       "       'Германия - Франция - Люксембург', 'США - Россия',\n",
       "       'Великобритания - США - Франция', 'США - Австралия - Дания',\n",
       "       'Бельгия-Франция', 'США-Мексика',\n",
       "       'Норвегия - Азербайджан - Россия - Колумбия - Великобритания - Венгрия - Румыния - Франция - Грузия',\n",
       "       'СЩА', 'Бразилия - Испания', 'Россия, Франция, Латвия',\n",
       "       'Нидерланды - США - Германия - Канада - Франция - Ирландия - Великобритания',\n",
       "       'Уругвай - Колумбия', 'США - Испания - Болгария',\n",
       "       'Армения - Германия', 'США - Великобритания- Франция - Швеция',\n",
       "       'США - Мексика', 'Австралия-Турция-США', 'Швеция - Германия',\n",
       "       'Польша - Италия - Россия', 'Франция - Бразилия',\n",
       "       'США - Канада - КНР', 'СССР, Венгрия, ЧССР, ГДР',\n",
       "       'Бельгия - Германия - Люксембург', 'СССР  ', 'СССР ', ' СССР ',\n",
       "       'США - Австралия', 'Бразилия - США',\n",
       "       'США - Великобритания - Канада - КНР', 'Франция - Чили',\n",
       "       'Франция - США - Великобритания - Колумбия - Бельгия - Россия',\n",
       "       'Дания - Великобритания - ЮАР', 'СССР   ',\n",
       "       'Россия-США-Канада-Люксембург', 'Россия - Республика Кипр',\n",
       "       'Германия - США - Швеция - Франция',\n",
       "       'Великобритания-Германия-Канада-ЮАР', ' СССР   ', 'СССР     ',\n",
       "       'Ирландия, Канада',\n",
       "       'Япония - Великобритания - Швейцария - Ирландия - Дания - Франция - Польша - Австралия - Канада  ',\n",
       "       'Великобритания, Канада', 'Бельгия - США',\n",
       "       'Великобритания - США - Россия', 'Россия-Украина',\n",
       "       'Германия - США - Великобритания - Израиль', 'Канада - Германия',\n",
       "       'США- Ю.Корея', 'Индия - Мексика',\n",
       "       'Великобритания - Франция - Республика Кипр - Швейцария - США - Сербия',\n",
       "       'Испания - Аргентина - Индия - США',\n",
       "       'Норвегия - Исландия - США - Великобритания ',\n",
       "       'Турция - Германя - Франция', 'Германия - Великобритания',\n",
       "       'Австралия - Германия', 'Мексика - Испания',\n",
       "       'Великобритания - США - Германия - Бельгия',\n",
       "       'США - Чехия - Франция', 'Россия - Италия', 'Франция-Россия',\n",
       "       'Норвегия - Дания - Швеция', 'Франция - Швейцария - Германия',\n",
       "       'Грузия - Украина', 'Россия - Эстония - Финляндия - Беларусь',\n",
       "       'США - Франция - ЮАР', 'Великобритания - США - Швейцария',\n",
       "       'Канада-США', 'Мексика - Нидерланды - Германия - Франция',\n",
       "       'США - Испания - Франция', 'США - Великобритания - КНР',\n",
       "       'США-Франция-Канада',\n",
       "       'Япония, Великобритания, Австрия, Германия, Ю.Корея',\n",
       "       'Великобритания - Ирландия - США', 'Бельгия - Италия - Франция ',\n",
       "       'Швейцария-Германия-ЮАР', 'Великобритания - США - Германия',\n",
       "       'Германия - Исландия', 'Испания - США', 'СССР    ', 'Хорватия',\n",
       "       'Финляндия - Исландия - Швеция',\n",
       "       'Канада - США - Германия - Франция',\n",
       "       'США - Великобритания - Испания', 'Ирландия-Великобритания',\n",
       "       'Аргентина - Испания', 'Австрия - Германия', ' СССР',\n",
       "       'Германия - Швейцария - Франция - Южная Корея - США',\n",
       "       'Украина - Нидерланды', 'Венгрия - Германия - Швеция',\n",
       "       'Германия - Франция -  Польша - Турция - Канада - Италия - Россия ',\n",
       "       'СССР, Афганистан', 'СССР, Монголия', 'Россия-Кипр',\n",
       "       'Россия, Грузия, Испания',\n",
       "       'Великобритания - Нидерланды - Германия - Франция - Бельгия - Австрия ',\n",
       "       'Испания - Великобритания - Франция',\n",
       "       'Дания - Норвегия - Великобритания',\n",
       "       'Бельгия - Франция - Люксембург',\n",
       "       'Италия - Франция - Швейцария - Великобритания',\n",
       "       'Франция - Бельгия - Великобритания - Испания - Германия - США',\n",
       "       'Швейцария - Израиль - Франция - Великобритания',\n",
       "       'Великобритания - США - Канада - Нидерланды - Франция',\n",
       "       'Россия, Италия', 'СССР, Албания',\n",
       "       'Россия, Украина, Республика Беларусь, Литва',\n",
       "       'Финляндия - Великобритания - Германия', 'Россия, Украина, Польша',\n",
       "       'Франция - Италия - Бельгия - КНР',\n",
       "       'Германия - Бельгия - Люксембург - Ирландия', 'КНР - Сингапур',\n",
       "       'Франция - Бельгия - Великобритания - США - Нидерланды - Канада',\n",
       "       'США - Россия - Польша - Германия - Пуэрто Рико',\n",
       "       'Франция - Бельгия - Канада', 'США ', 'Мексика - США',\n",
       "       'США - Гонконг - КНР ', 'Греция - Россия',\n",
       "       'Ирландия - Дания - Бельгия - Люксембург - Франция',\n",
       "       'Эстония - Россия',\n",
       "       'Великобритания - Исландия - Испания - Швейцария - США',\n",
       "       'Австралия - Великобритания - Бельгия - Индия',\n",
       "       'Швеция - Германия - Франция - Норвегия',\n",
       "       'Нидерланды - Бельгия - Германия - Ирландия',\n",
       "       'Нидерланды - Великобритания - Бельгия',\n",
       "       'США - Колумбия - Испания', 'Франция-Испания-Бельгия-Панама',\n",
       "       'США-Великобритания-Чехия-Румыния',\n",
       "       'Аргентина - Уругвай - Россия - Германия - Франция - Нидерланды',\n",
       "       'Швеция - Франция - Норвегия - Дания',\n",
       "       'Италия-Франция-Великобритания', 'Великобритания, Франция',\n",
       "       'Австралия, США', 'Венесуэла',\n",
       "       'Великобритания - США - Австралия - Ирландия - Германия - Куба - Канада',\n",
       "       'Южная Корея - КНР',\n",
       "       'Аргентина - Мексика - Бразилия - Франция - США', 'Швеция - США',\n",
       "       'Франция - Германия - Турция - Катар', 'Франция-Китай',\n",
       "       'Россия, Германия, Великобритания',\n",
       "       'Великобритания - Италия - Испания', 'Италия - Россия',\n",
       "       'Япония - КНР - Южная Корея', 'Россия, Германия',\n",
       "       'Россия-Ирландия', 'Македония - Франция - Великобритания',\n",
       "       'Франция - Бразилия - Италия', 'Россия-США', 'Армения-Россия',\n",
       "       'Россия, Румыния', 'Франция -  Бельгия', 'Грузия-Франция',\n",
       "       'ЮАР - США', 'Великобритания-США-Франция',\n",
       "       'Великобритания - США - Германия - Канада - Австралия',\n",
       "       'США-Ирландия', 'Россия, Республика Кипр',\n",
       "       'Германия - Люксембург - Франция', 'Россия-Франция',\n",
       "       'США - Нидерланды - Финляндия - Великобритания - Италия',\n",
       "       'Республика Кипр', 'Венгрия', 'Франция - США - Норвегия - Дания',\n",
       "       'Германия - Австрия - Ирландия', 'США - Финляндия',\n",
       "       'Италия-Великобритания', 'Россия, Испания',\n",
       "       'США - Великобритания - Болгария', 'Великобритания - Люксембург',\n",
       "       'Индия - США', 'США - Канада - Россия - Франция - Чили - Ирландия',\n",
       "       'Грузия-Россия',\n",
       "       'Дания - Австрия - Ирландия - Финляндия - Норвегия - Швеция - Нидерланды',\n",
       "       'США-КНР', 'Грузия', 'Австралия - Ирландия',\n",
       "       'Великобритания - Канада', 'Италия - Аргентина - Словения ',\n",
       "       'Испания - Франция - Нидерланды - Германия - Бельгия - Великобритания - Канада',\n",
       "       'Франция - Чехия - Бельгия',\n",
       "       'Великобритания - Франция - Германия - США',\n",
       "       'Ирландия - Великобритания - Франция - США - Германия - Нидерланды',\n",
       "       'США - Канада - Япония - КНР', 'Италия-Франция',\n",
       "       'США - Великобритания - Исландия', 'Великобритания-Франция',\n",
       "       'Франция - Германия - Нидерланды', 'Иран ',\n",
       "       'Франция - Германия - Швеция - США - Чехия - Словакия - Великобритания - Нидерланды',\n",
       "       'Франция - Канада - Н.Зеландия - США - Нидерланды - Германия - Швеция - Россия',\n",
       "       'Турция - США',\n",
       "       'Великобритания - США - Канада - Бельгия - Нидерланды - Австрия - Германия',\n",
       "       'Израиль - Франция - Германия - Палестина - США - Австрия - Великобритания',\n",
       "       'Аргентина - Франция - Испания', 'СССР, Россия',\n",
       "       'Великобритания - Франция - Италия - Индия - Дания - КНР - Бангладеш - Камбоджа - Гаити - Уганда',\n",
       "       'Италия - Франция - Швейцария',\n",
       "       'Ирландия - Великобритания - Канада', 'Перу', 'США - Норвегия',\n",
       "       'Испания-Канада', 'Китай-Гонконг', 'США - Германия - КНР',\n",
       "       'Великобритания - Новая Зеландия',\n",
       "       'Франция - Дания - Швеция - КНР',\n",
       "       'США - Великобритания - Германия - Бельгия - Дания',\n",
       "       'США - Франция - Канада - Германия - Австралия - Индия',\n",
       "       'Неизвестно', 'СССР, Румыния, Франция', 'СССР, ГДР',\n",
       "       'Австралия-Ирландия', 'США - Китай',\n",
       "       'Великобритания - Франция - Австрия - Швеция',\n",
       "       'Россия, Таджикистан', 'Нидерланды - Бельгия - Болгария',\n",
       "       'Великобритания - Канада - США', 'Франция - Бельгия - Испания',\n",
       "       'Китай-Гонконг-США', 'Франция - Великобритания', 'США - Вьетнам',\n",
       "       'США - Германия - Франция', 'Германия - Франция - Бельгия',\n",
       "       'США - Италия',\n",
       "       'Германия - Дания - Испания - Швеция - Канада - Эстония - Франция',\n",
       "       'Княжество Андорра - Украина', 'Германия - Люксембург - Бельгия',\n",
       "       'Великобритания - Россия - Украина - США',\n",
       "       'Германия - Бельгия - Люксембург - Норвегия',\n",
       "       'США - Австралия - Новая Зеландия - Великобритания',\n",
       "       'США - Франция - Канада - Великобритания', 'Испания-Колумбия',\n",
       "       'Великобритания - Чехия - Франция', 'Россия, Украина', 'Исландия',\n",
       "       'Великобритания - Франция - Венгрия',\n",
       "       'Россия, Франция, Германия, Бельгия', 'Франция - Македония',\n",
       "       'Нидерланды - Франция - Германия - Бельгия - Швеция - Великобритания',\n",
       "       'Испания - США - Великобритания - Канада', 'Германия - Австрия',\n",
       "       'Республика Казахстан',\n",
       "       'Франция - Испания - Дания - Венгрия - Швейцария', 'Франция-КНР',\n",
       "       'США - Пуэрто-Рико - Франция ', 'Мексика - Тайвань - США',\n",
       "       'Великобритания - Испания - Непал - Индия - Венгрия - Гонконг - Германия - Дания - Бахрейн',\n",
       "       'Великобритания - Аргентина - США - Франция - Россия - Испания',\n",
       "       'КНР - США', 'Италия - США', 'Финляндия - Швеция - Германия',\n",
       "       'Канада- Испания', 'Франция - Бельгия - Чехия',\n",
       "       'Франция-Бельгия-Канада', 'Франция - Германия - США',\n",
       "       'США - Дания', 'Индия - КНР', 'Чехия-Великобритания-США',\n",
       "       'США-ФРГ-Россия', 'Ирландия-Нидерланды-Франция-США-Великобритания',\n",
       "       'Россия, Грузия, Хорватия, Испания',\n",
       "       'Финляндия - Швеция - Норвегия', 'Сербия - Великобритания - США',\n",
       "       'США - Великобритания - Франция - Гонконг', 'Швейцария - Франция',\n",
       "       'Швейцария - Великобритания', 'ОАЭ - США',\n",
       "       'США - Франция - Германия - Канада - Австралия ',\n",
       "       'Германия - Австралия', 'Иран, Франция',\n",
       "       'США - Великобритания - Новая Зеландия', 'США-Колумбия',\n",
       "       'США-Франция-Ирландия', 'Великобритания - Франция - Бельгия',\n",
       "       'США - Великобритания - Япония', 'США - Франция - Германия',\n",
       "       'Польша - Ирландия', 'Ирландия - Великобритания - Франция - США',\n",
       "       'США - Бельгия - Великобритания', 'СССР, ВНР',\n",
       "       'Испания - Франция - США - Великобритания - Бельгия',\n",
       "       'Франция - Дания - США', 'США - Гонконг', 'Бразилия - К;анада',\n",
       "       'Франция-Германия', 'США - Колумбия',\n",
       "       'США - Ирландия - Великобритания - Франция',\n",
       "       'Великобритания - США - Канада', 'Польша - Франция',\n",
       "       'Канада - США - Нидерланды - Великобритания - Аргентина',\n",
       "       'Великобритания - Дания', 'Франция - Бельгия - Япония',\n",
       "       'Россия,  Испания', 'Франция -Бельгия',\n",
       "       'США - Канада - Германия - Франция', 'США-Канада-Франция',\n",
       "       'Россия - Германия', 'Россия-Италия', 'Китай - Гонконг',\n",
       "       'Германия-Австрия-Франция-Италия', 'США-Япония',\n",
       "       'США - Германия - Канада', 'Испания-Мексика',\n",
       "       'США - Япония - Канада - Великобритания - Германия - Франция',\n",
       "       'США -Великобритания - Австралия', 'Россия-Украина-Германия',\n",
       "       'Израиль - Франция - Великобритания - Германия', 'Корея',\n",
       "       'Россия - Болгария', 'США-Индия',\n",
       "       'Германия-Канада-Франция-Бельгия', 'Германия-Кения',\n",
       "       'Франция - Монако', 'Франция-Испания-Швейцария',\n",
       "       'Австрия-Франция-Германия', 'Румыния',\n",
       "       'США-Великобритания-Франция', 'Канада-Великобритания',\n",
       "       'Канада-Бразилия-Япония', 'Германия - Дания - Норвегия',\n",
       "       'Дания - Германия', 'СССР - Италия',\n",
       "       'СССР - ГДР - Польша - Италия',\n",
       "       'США - Испания - Франция - Великобритания', 'Китай',\n",
       "       'Мексика-Аргентина',\n",
       "       'Германия - Великобритания - Италия - Испания',\n",
       "       'Франция-Германия-Великобритания', 'Россия - Германия - Швейцария',\n",
       "       'Франция-Австралия', 'Голландия', 'Швейцария-Франция',\n",
       "       'Россия-Белоруссия', 'Франция - Испания - Тайвань',\n",
       "       'США-Южная Корея-Новая Зеландия', 'Великобритания-Венгрия',\n",
       "       'Россия-Германия', 'Великобритания-Франция-Германия',\n",
       "       'Франция-Германия-Италия', 'Швеция-Финляндия-Франция-Норвегия',\n",
       "       'Франция-Италия', 'Германия-Израиль',\n",
       "       'Швеция - Германия - Дания - Норвегия', 'США-Бельгия',\n",
       "       'Франция-Гонконг-Ирландия', 'Эстония', 'Литва-Россия-Украина',\n",
       "       'Германия - Италия - Франция',\n",
       "       'Великобритания - Австрия - Германия', 'Бельгия - Франция',\n",
       "       'Россия-Казахстан', 'Испания - Мальта',\n",
       "       'Франция-Россия-Румыния-Италия-Бельгия', 'Россия - Польша',\n",
       "       'Испания - Мексика', 'США-Аргентина', 'Великобритания ',\n",
       "       'Израиль-США-Франция', 'США - Новая Зеландия - Япония',\n",
       "       'Франция - Чехия - Великобритания', 'Россия-Польша',\n",
       "       'Германия-Франция-Великобритания', 'США-Германия-Канада',\n",
       "       'США-Гонконг-Китай', 'США - Великобритания - Германия',\n",
       "       'США-Канада-Австралия', 'Япония-США-Франция',\n",
       "       'Франция-Испания-Германия', 'США - Хорватия - Босния-Герцеговина',\n",
       "       'Великобритания - Чехия - Франция - Италия',\n",
       "       'США - Германия - Нидерланды', 'Германия - Франция - Канада',\n",
       "       'Франция-Грузия-Германия-Россия-Украина-Бельгия',\n",
       "       'Великобритания - Франция - Италия', 'Россия - США',\n",
       "       'Франция - Италия - Иран', 'Россия - Азербайджан', 'Греция',\n",
       "       'Дания - США', 'США-Великобритания-Новая Зеландия',\n",
       "       'США-Германия-Австралия', 'США-Канада-Италия',\n",
       "       'США - Япония - Германия', 'Австралия-США',\n",
       "       'Франция - Великобритания - Багамские острова - США',\n",
       "       'Швейцария - Люксембург', 'Швейцария - Австрия',\n",
       "       'Германия - Швейцария', 'Дания-Швеция-Франция-Германия', 'Польша',\n",
       "       'Швейцария-Австрия', 'Бразилия - Канада - США',\n",
       "       'Нидерланды - Россия', 'Португалия', 'Франция-Аргентина',\n",
       "       'Швеция-Франция', 'Франция-Украина', 'Германия-Украина-Нидерланды',\n",
       "       'Италия-Швейцария', 'США-Германия-Великобритания',\n",
       "       'Латвия - Россия', 'Германия-Франция-Великобритания-США',\n",
       "       'Канада - Италия', 'США - Объединенные Арабские Эмираты',\n",
       "       'США-Венгрия', 'Малайзия', 'Россия - Германия - Украина',\n",
       "       'США - Австралия - Мексика', 'Литва - Венгрия', 'Германия - Китай',\n",
       "       'Казахстан', 'Республика Корея',\n",
       "       'США - Германия - Франция - Великобритания - Канада ',\n",
       "       'Бельгия - Германия - Люксембург - Франция', 'Франция - Греция',\n",
       "       'Италия - Канада', 'США - Великобритания - Франция',\n",
       "       'США-Италия-Греция', 'Германия - США - Великобритания - Ирландия',\n",
       "       'Великобритания - Франция - Германия',\n",
       "       'Германия - Нидерланды - ЮАР',\n",
       "       'США-Япония-Германия-Великобритания-Нидерланды',\n",
       "       'США-Япония-Германия-Великобритания',\n",
       "       'Германия - Франция - Польша',\n",
       "       'Таиланд-Великобритания-Франция-Германия-Испания-Нидерланды',\n",
       "       'Германия-Италия-Швейцария',\n",
       "       'Дания - Швеция - Великобритания - Франция - Германия - Нидерланды - Норвегия - Финляндия',\n",
       "       'Франция - Великобритания - Нидерланды - Люксембург',\n",
       "       'Нидерланды-Великобритания-Франция-Италия-Япония',\n",
       "       'Финляндия-Дания-Германия-Ирландия', 'Испания-Аргентина',\n",
       "       'Великобритания - Нидерланды - Франция - США', 'Канада - Мексика',\n",
       "       'США, Франция', 'Канада-Южная Корея-США',\n",
       "       'Великобритания - Франция - Бельгия - США', 'КНР - Канада - США',\n",
       "       'Италия - Франция - Германия',\n",
       "       'Швеция - Германия - Франция - Дания', 'Франция - США - Бельгия',\n",
       "       'Украина - Германия - Латвия - Эстония', 'Австрия - Люксембург',\n",
       "       'Великобритания - КНР', 'Монголия', 'Франция - Дания',\n",
       "       'Швеция - Дания - Финляндия',\n",
       "       'Сингапур - Великобритания - Индонезия - Канада - США',\n",
       "       'США - Германия - Япония', 'Таиланд - США', 'Франция - Нидерланды',\n",
       "       'Великобритания - Румыния', 'США - Мальта',\n",
       "       'Великобритания - Германия - Нидерланды - Дания',\n",
       "       'Франция - Германия - Литва - Нидерланды - Россия',\n",
       "       'США - ЮАР - Гонконг', 'Австралия - Колумбия',\n",
       "       'Великобритания - Польша', 'США - Великобритания - Швеция',\n",
       "       'Франция - Швеция - Дания - Норвегия', 'Болгария - США',\n",
       "       'СССР, ФРГ', 'Бельгия - Нидерланды - Франция',\n",
       "       'Финляндия - Германия', 'Болгария',\n",
       "       'Грузия - Россия - Украина - Хорватия - Германия',\n",
       "       'Франция - Люксембург', 'Франция - Германия - Австрия',\n",
       "       'Норвегия - США', 'Германия-Швеция', 'Франция - Германия - Италия',\n",
       "       'Франция-Германия-Австрия', 'КНР-США',\n",
       "       'Великобритания - Ирландия - США ',\n",
       "       'Дания - Латвия - Россия - США', 'Финляндия - Польша',\n",
       "       'Германия - Бельгия', 'Германия - США - Франция - Испания',\n",
       "       'Бельгия-Германия-Канада-Франция-США-Великобритания',\n",
       "       'Нидерланды - Бельгия - Люксембург', 'Канада-Германия',\n",
       "       'Люксембург - Бельгия - Франция', 'США-Великобритания-Австралия',\n",
       "       'Великобритания, Новая Зеландия', 'Бельгия, Великобритания, США',\n",
       "       'Великобритания, Австралия', 'Исландия, Бельгия',\n",
       "       'Испания - Швейцария - Великобритания - Германия - Новая Зеландия - Нидерланды - Канада',\n",
       "       'Франция, Бельгия', 'Великобритания, США', 'Киргизия-Россия',\n",
       "       'Германия, США', 'Великобритания, США, Испания',\n",
       "       'Италия - Швейцария - Германия', 'Россия, Армения',\n",
       "       'Франция, Германия', 'Китай, Канада, США', 'Германия, Австралия',\n",
       "       'КНР, США', 'США, Великобритания, Люксембург',\n",
       "       'Испания, Ирландия, Бельгия, Франция',\n",
       "       'Великобритания - Гонконг - Венгрия - США - Ирландия',\n",
       "       'США - Пуэрто Рико', 'Аргентина - Испания - Уругвай',\n",
       "       'Израиль - Германия - Франция - Швейцария',\n",
       "       'Великобритания - Мексика - США', 'Испания - Болгария - США',\n",
       "       'Россия-Словакия-Чехия',\n",
       "       'Швейцария - КНР - США - Россия - Республика Корея - Великобритания',\n",
       "       'Россия, Нидерланды, Финляндия',\n",
       "       'Испания - Бельгия - Франция - Португалия - Великобритания',\n",
       "       'Бразилия - Португалия - Франция', 'Швеция - Норвегия',\n",
       "       'Франция - Польша - Бельгия', 'CША', 'Китай, США',\n",
       "       'Италия, Франция, Германия', 'Германия - Австрия - Франция',\n",
       "       'Чехия - Словакия - Хорватия', 'Россия, Польша, Финляндия',\n",
       "       'Россия, Латвия, Чешская Республика',\n",
       "       'Франция - Великобритания - Камбоджа - США - КНР',\n",
       "       'Чехия - Испания - США', 'Германия - Люксембург - Дания',\n",
       "       'Великобритания - Испания - Германия', 'Дания - Исландия',\n",
       "       'Германия, Франция, Великобритания',\n",
       "       'Великобритания - Испания - Италия - Латвия - Франция - Эстония',\n",
       "       'Дания, Швеция, Великобритания, Франция, Германия, Норвегия, Финляндия, Нидерланды, Италия',\n",
       "       'Польша - Франция - Великобритания',\n",
       "       'Дания, Норвегия, Венгрия, Чехия',\n",
       "       'Дания - Франция - Германия - Швеция',\n",
       "       'Великобритания, Швеция, США',\n",
       "       'Канада, Франция, Италия, Швейцария, США', 'США, Индия',\n",
       "       'США - Великобритания - Германия - - Швеция - Канада',\n",
       "       'Италия, Франция', 'Республика Беларусь, Германия, США, Россия',\n",
       "       'Италия-Швейцария-Франция-Германия ',\n",
       "       'Россия - Франция - Великобритания - Латвия', 'Россия-Беларусь',\n",
       "       'Франция - Испания - Румыния - США - Бельгия', 'Италия-США',\n",
       "       'Россия, Австрия', 'Ирландия - Великобритания - США',\n",
       "       'Швейцария, Великобритания, Франция, США, Ирландия',\n",
       "       'Мексика, Франция, Германия, Дания, Швеция', 'Нидерланды, Бельгия',\n",
       "       'Швеция, Норвегия, Финляндия, Франция', 'Испания, Франция, Италия',\n",
       "       'Испания-Франция-Греция-Индия-США-Россия-Великобритания',\n",
       "       'Великобритания - Япония - США',\n",
       "       'Дания, Канада, Норвегия, Австралия, США', 'Аргентина, Испания',\n",
       "       'Россия, Германия, Казахстан, Польша, Китай',\n",
       "       'Португалия, Франция, Польша, США', 'США - Канада - Аргентина',\n",
       "       'Ливан-США', 'Япония - США', 'США, Гонконг ',\n",
       "       'Франция - Россия - Швейцария - Румыния - Венгрия',\n",
       "       'Аргентина-Испания', 'Россия, Сербия', 'США - Болгария - Мексика',\n",
       "       'США - Великобритания - Швейцария - Франция',\n",
       "       'Таиланд - КНР - США',\n",
       "       'Великобритания, Нидерланды, Польша, Швейцария, Франция',\n",
       "       'Ирландия - США',\n",
       "       'Германия - Франция - Великобритания - Польша - США',\n",
       "       'Великобритания-Франция-Италия', 'США - Австралия - Индия',\n",
       "       'Франция - КНР', 'Великобритания - Израиль',\n",
       "       'Великобритания - Норвегия - Кения - Хорватия',\n",
       "       'США - Бразилия - Великобритания - Канада', 'Германия, Бельгия',\n",
       "       'Австралия, Канада', 'США, Великобритания, Франция',\n",
       "       'Кения, Германия', 'Нидерланды, Бельгия, Люксембург', 'Колумбия',\n",
       "       'Латвия - Франция', 'Ирландия, Великобритания',\n",
       "       'Франция - Израиль - Германия', 'Швеция, Франция, Великобритания',\n",
       "       'Бельгия - Люксембург', 'Германия - Бельгия - Великобритания',\n",
       "       'Испания, Франция, Великобритания, Дания, Бельгия, Германия',\n",
       "       'Румыния, ЮАР, Иран, Франция, Канада, Великобритания',\n",
       "       'Германия, Франция', 'США, Япония',\n",
       "       'США, Великобритания, Ирландия, Люксембург', 'Республика Армения',\n",
       "       'США, Франция, Япония', 'Япония, США', 'Канада, США',\n",
       "       'Республика Кипр - Россия',\n",
       "       'Дания - Франция - Италия - Бельгия - Нидерланды',\n",
       "       'Россия - Грузия', 'Италия, Германия', 'Норвегия, Швеция, Дания',\n",
       "       'Республика Кипр, Россия', 'КНР, Индия, Гонконг, США',\n",
       "       'Израиль, Украина', 'США, Россия', 'США - КНР - Индия - Ю.Корея',\n",
       "       'США - Швеция', 'Франция, Канада', 'Россия-Китай',\n",
       "       'Канада, Великобритания', 'США, Германия',\n",
       "       'Канада, США, Каймановы острова',\n",
       "       'Бразилия, Уругвай, Дания, Норвегия, Чили, Швеция',\n",
       "       'Пуэрто-Рико, Великобритания, США',\n",
       "       'Уругвай - Аргентина - Испания',\n",
       "       'США - Великобритания - Италия - Израиль - Сербия - Индия',\n",
       "       'США - Канада - Франция - Индия', 'Великобритания - Россия - КНР',\n",
       "       'Франция, Новая Зеландия', 'Франция, Люксембург, Бельгия',\n",
       "       'Канада, США, Норвегия', 'Италия, Испания',\n",
       "       'Испания - Германия - Нидерланды', 'Бразилия - США - КНР ',\n",
       "       'Великобритания, Германия, Дания, США', '2019',\n",
       "       'Италия - Фрация - Бразилия - Германия',\n",
       "       'Норвегия - Швеция - Россия', 'Великобритания, Япония, США',\n",
       "       'Сша, Канада', 'Бельгия, Канада',\n",
       "       'Великобритания - Австралия - США', 'США, Канада', 'КНР - США ',\n",
       "       'Франция - Финляндия', 'Колумбия - США',\n",
       "       'Великобритания, Франция, Бельгия', 'Норвегия - Нидерланды',\n",
       "       'Великобритания, Канада, США', 'Япония, Великобритания',\n",
       "       'Италия - Бельгия - Франция', 'Россия, Бельгия, Финляндия',\n",
       "       'США, Украина', 'Франция, Норвегия',\n",
       "       'Великобритания, Южная Корея, Канада, США, Индия, Китай, Япония',\n",
       "       'Канада - Норвегия', 'Республика Кипр-Россия', 'Германия, Россия',\n",
       "       'Польша - Франция - Испания - Бразилия - Швеция',\n",
       "       'Австрия, Великобритания, Германия', 'Франция - Сенегал - Бельгия',\n",
       "       'Франция, Бельгия, Люксембург', 'Финляндия, Латвия', 'Пакистан',\n",
       "       'Германия, Франция, США', 'Германия - Великобритания - США',\n",
       "       'КНР - Франция', 'Дания, Норвегия, Швеция, Исландия',\n",
       "       'Республика Кипр, США, Россия', 'Новая Зеландия - КНР',\n",
       "       'Дания - Канада - Швеция - Франция - Германия - Великобритания - США'],\n",
       "      dtype=object)"
      ]
     },
     "execution_count": 23,
     "metadata": {},
     "output_type": "execute_result"
    }
   ],
   "source": [
    "movies['production_country'].unique()"
   ]
  },
  {
   "cell_type": "markdown",
   "metadata": {},
   "source": [
    "Страны производства в разных записях разделены по разному. Часть через \"-\", часть через \",\", в части есть пробелы, а в части нет."
   ]
  },
  {
   "cell_type": "code",
   "execution_count": 24,
   "metadata": {},
   "outputs": [],
   "source": [
    "def fix_production_country(row):\n",
    "    \"\"\"\n",
    "    Замена в столбце production_country знака разделителя с \"-\" на \",\"\n",
    "    \"\"\"\n",
    "    production_country = row['production_country']\n",
    "    if '-' in production_country:\n",
    "        production_country = production_country.replace('-', ',')\n",
    "    if ' ,' in production_country:\n",
    "        production_country = production_country.replace(' ,', ',')\n",
    "    if (',' in production_country) and (', ' not in production_country):\n",
    "        production_country = production_country.replace(',', ', ')\n",
    "    return production_country"
   ]
  },
  {
   "cell_type": "code",
   "execution_count": 25,
   "metadata": {
    "scrolled": true
   },
   "outputs": [
    {
     "data": {
      "text/plain": [
       "array(['США', 'СССР', 'Франция', 'СССР, Венгрия',\n",
       "       'Германия, Великобритания', 'Великобритания, Италия',\n",
       "       'Чехословакия', 'США, Франция, Турция', 'Новая Зеландия',\n",
       "       'Канада, Франция, Испания', 'США, Германия', 'США, Великобритания',\n",
       "       'Великобритания', 'Франция, Мексика, США',\n",
       "       'Россия, Казахстан, США', 'СССР, Швеция',\n",
       "       'СССР, Франция, Англия, Куба, ГДР', 'Германия',\n",
       "       'Великобритания, США, Германия, КНР',\n",
       "       'СССР, ЧССР, Западный Берлин, ПНР', 'СССР, Италия', 'Гонконг, КНР',\n",
       "       'США, Франция', 'США, Япония, Франция, Великобритания',\n",
       "       'Гонконг, Сингапур, Таиланд, Великобритания', 'США, Канада',\n",
       "       'Франция, Италия, Великобритания, США', 'Франция, США',\n",
       "       'Ирландия, Великобритания, Германия', 'Чехия', 'США, Австралия',\n",
       "       'СССР, Финляндия', 'США, Франция, Великобритания, Австрия',\n",
       "       'США, Бельгия', 'США, Ирландия, Великобритания',\n",
       "       'Великобритания, США',\n",
       "       'Люксембург, Нидерланды, Испания, Великобритания, США, Италия',\n",
       "       'Великобритания, Франция, США', 'Новая Зеландия, США',\n",
       "       'США, Великобритания, Чехия', 'Канада, Франция, Великобритания',\n",
       "       'Ирландия', 'Великобритания, Германия, США',\n",
       "       'США, Франция, Великобритания', 'Япония', 'СССР, Польша',\n",
       "       'Франция, Испания', 'Канада, Франция', 'Германия, Италия, США',\n",
       "       'Аргентина, Бразилия', 'Дания, Швейцария, Бельгия, Франция',\n",
       "       'США, Испания', 'Германия, США',\n",
       "       'Франция, Австрия, Германия, Италия, США', 'Австрия',\n",
       "       'США, Канада, Германия', 'СССР, Швейцария, Франция',\n",
       "       'Россия, Казахстан', 'Гонконг', 'Италия', 'США, ОАЭ', 'Россия',\n",
       "       'США, Франция, Испания, Великобритания', 'Великобритания, Франция',\n",
       "       'США, Италия, Испания, Аргентина', 'Франция, Великобритания',\n",
       "       'КНР, Гонконг', 'Франция, Италия, Швейцария',\n",
       "       'США, Новая Зеландия', 'Франция, Бельгия', 'КНР',\n",
       "       'Германия, Великобритания, Австрия',\n",
       "       'Великобритания, Израиль, Франция, Япония, США', 'Швеция',\n",
       "       'Испания', 'Дания', 'Франция, Бельгия, Люксембург',\n",
       "       'США, Индия, ОАЭ',\n",
       "       'Германия, Канада, Великобритания, Швейцария, Франция',\n",
       "       'Мексика, Чили', 'Аргентина', 'Бразилия', 'Чили', 'Австралия',\n",
       "       'Португалия, Франция', 'США, ЮАР', 'Исландия, Ирландия, Германия',\n",
       "       'США, Индонезия', 'Южная Корея', 'Мексика, Испания, Дания, США',\n",
       "       'Франция, Италия', 'США, Венгрия, Великобритания',\n",
       "       'Бельгия, Франция, Италия', 'Чехия, Германия', 'Германия, Франция',\n",
       "       'США, Нидерланды', 'Украина', 'Великобритания, Германия',\n",
       "       'США, Франция, Испания', 'Италия, Франция', 'Канада',\n",
       "       'Швеция, Франция, Дания', 'Германия, Франция, Польша',\n",
       "       'Франция,Великобритания, Германия',\n",
       "       'США, Бразилия, Франция, Австралия, Великобритания, Германия',\n",
       "       'Германия, Австрия', 'Германия,Италия, Шри,Ланка',\n",
       "       'Великобритания, Испания', 'США, Великобритания, Канада, Швеция',\n",
       "       'Босния и Герцеговина, Франция, Великобритания, Германия, Словения, Бельгия, Сербия',\n",
       "       'Великобритания, Франция, Италия, США', 'Испания, Франция',\n",
       "       'Великобритания,Австралия, США',\n",
       "       'Норвегия, Швеция, Дания, Германия', 'Норвегия', 'Швейцария',\n",
       "       'Греция, Германия, Франция', 'Норвения', 'Южная Корея, США',\n",
       "       'Чили, Франция, США', 'Австрия, Германия, Франция',\n",
       "       'Швеция, Дания', 'Великобритания, Франция, Бельгия, Италия',\n",
       "       'Франция, Германия', 'Грузия, Франция, Люксембург',\n",
       "       'США, Франция, Великобритания, Бразилия ', 'США, КНР',\n",
       "       'Мексика, Франция', 'США, Германия, Гонконг, Сингапур',\n",
       "       'Финляндия, Австрия, Россия', 'Испания, Куба',\n",
       "       'Великобритания, ЮАР', 'Великобритания, Ирландия', 'Израиль',\n",
       "       'Бразилия, Германия, Порртугалия, Франция ',\n",
       "       'Франция, Канада, Бельгия', 'Испания, Канада, Япония', 'Иран',\n",
       "       'Швеция, Куба', 'США, Великобритания, Ирландия', 'Нидерланды',\n",
       "       'Испания, Канада', 'Япония, Великобритания',\n",
       "       'Великобритания, Норвегия, Дания, Германия',\n",
       "       'Финляндия, Франция, Германия',\n",
       "       'Мексика, Франция, Нидерланды, Германия', 'США, Индия',\n",
       "       'США, Великобритания, Индия', 'США, Канада, Бельгия',\n",
       "       'Республика Узбекистан', 'Италия ', 'Турция',\n",
       "       'Сербия, Словения, Хорватия, Черногория, Македония', 'Киргизия',\n",
       "       'Германия, Нидерланды, Беларусь, Россия, Латвия', 'Индия',\n",
       "       'Нидерланды, Россия, Германия',\n",
       "       'Великобритания, Нидерланды, Франция, Хорватия',\n",
       "       'Канада, Южная Корея',\n",
       "       'Великобритания, Польша, КНР, Индия, Норвегия',\n",
       "       'Япония, Франция, США, Южная Корея, Турция',\n",
       "       'Мексика, Аргентина, Великобритания', 'Израиль, Франция',\n",
       "       'Польша, Португалия, Франция, Великобритания', 'Австралия, США',\n",
       "       'США, Великобритания ', 'Франция, Люксембург, Бельгия', 'Армения',\n",
       "       'Бельгия, Люксембург, Франция, Швейцария',\n",
       "       'США, Великобритания, Канада', 'Норвегия, Швеция',\n",
       "       'КНР, Гонконг, США', 'США, Сингапур, Малайзия, Индонезия',\n",
       "       'Германия, Россия', 'Япония, Канада',\n",
       "       'Финляндия, Дания, Германия, Ирландия',\n",
       "       'Франция, Люксембург, Германия, Бельгия, Швейцария, Великобритания ',\n",
       "       'Канада, США', 'США, Италия, Испания', 'США, Швейцария, Франция',\n",
       "       'Испания, США, Колумбия', 'Канада, ЮАР', 'Франция, Россия',\n",
       "       'Германия, Финляндия, Австралия', 'Дания, Швеция', 'Бельгия',\n",
       "       'Германия, Франция, Австрия', 'Франция, Индия', 'ЮАР',\n",
       "       'Франция, Перу', 'Франция, Канада', 'Республика Беларусь',\n",
       "       'Великобритания, Австрия, Франция, США', 'США, Россия',\n",
       "       'США, Южная Корея', 'Канада, КНР',\n",
       "       'Дания, Швеция, Италия, Франция, Германия',\n",
       "       'Франция, Италия, Испания, Венгрия', 'Франция, Германия, Бельгия',\n",
       "       'Франция, Великобритания, Чехия', 'Румыния, Франция, Бельгия',\n",
       "       'Болгария, Франция, Изриль',\n",
       "       'Израиль, Германия, Польша, Бельгия, Франция, Люксембург',\n",
       "       'Россия, Германия, Франция, Бельгия', 'Индонезия',\n",
       "       'Франция, Португалия', 'Великобритания, Пуэрто,Рико',\n",
       "       'СССР, ФРГ, Западный Берлин', 'Россия, Республика Беларусь',\n",
       "       'Франция, Австрия', 'Бельгия, Нидерланды',\n",
       "       'Великобритания, США, Индия', 'США, Великобритания, Австралия',\n",
       "       'Канада, Франция, США, ОАЭ, Великобритания',\n",
       "       'США, Австралия, Франция',\n",
       "       'Дания, Франция, Бельгия, Германия, Великобритания',\n",
       "       'Испания, Аргентина', 'Исландия, Финляндия',\n",
       "       'Россия, Польша, Голландия, Словакия', 'Дания, Германия, Швеция',\n",
       "       'Южная Корея, США, Канада', 'Таиланд', 'США, Мальта',\n",
       "       'Великобритания, Германия, Франция, Кипр, США', 'Мексика',\n",
       "       'США, Украина', 'США, Финляндия, Испания, Великобритания, Франция',\n",
       "       'Австралия, Великобритания',\n",
       "       'США, Канада, Афганистан, Бельгия, Франция',\n",
       "       'США, Великобритания, Германия, Новая Зеландия, Бельгия, Франция',\n",
       "       'Ирландия, Финляндия, Бельгия, Великобритания, США, Швейцария',\n",
       "       'Малайзия, США', 'Германия, Италия',\n",
       "       'США, Франция, Бельгия, Италия', 'Франция, Ирландия, Швеция',\n",
       "       'Азербайджан, Россия', 'Великобритания, Италия, Швейцария',\n",
       "       'США, Германия, Великобритания', 'Германия, Бельгия, США,Франция',\n",
       "       'США, Китай', 'Чили, Испания', 'Франция, Швейцария',\n",
       "       'Канада, Испания', 'США, Румыния, Великобритания', 'США, Япония',\n",
       "       'США, Россия, Франция', 'Парагвай', 'Германия, Канада',\n",
       "       'США, Канада, Великобритания', 'Финляндия, Канада',\n",
       "       'Уругвай, Мексика, Германия ', 'США, Чили',\n",
       "       'Германия, Аргентина, Нидерланды, Чили', 'США, Канада, Индонезия',\n",
       "       'Армения, Казахстан', 'Финляндия', 'Испания, Италия, Франция',\n",
       "       'Бельгия, Испания, Канада, Нидерланды',\n",
       "       'Великобритания, Франция, Швеция, Бельгия',\n",
       "       'Мексика, Эквадор, Канада, США, Франция, Малайзия, Италия, Аргентина, Германия, Индия  ',\n",
       "       'Франция, Бенльгия', 'Индия, Великобритания',\n",
       "       'Япония, Великобритания, Франция', 'Испания, Уругвай, Аргентина',\n",
       "       'Франция, Италия, Бельгия, Люксембург',\n",
       "       'Франция, Украина, Грузия, Армения', 'Сербия, Германия, Венгрия',\n",
       "       'Франция, Польша', 'Франция ', 'Румыния, США',\n",
       "       'Россия, Азербайджан',\n",
       "       'США, Нидерланды, Бельгия, Венгрия, Греция, Канада',\n",
       "       'Германия, Франция, Люксембург', 'Великобритания, США, Франция',\n",
       "       'США, Австралия, Дания', 'Бельгия, Франция', 'США, Мексика',\n",
       "       'Норвегия, Азербайджан, Россия, Колумбия, Великобритания, Венгрия, Румыния, Франция, Грузия',\n",
       "       'СЩА', 'Бразилия, Испания', 'Россия, Франция, Латвия',\n",
       "       'Нидерланды, США, Германия, Канада, Франция, Ирландия, Великобритания',\n",
       "       'Уругвай, Колумбия', 'США, Испания, Болгария', 'Армения, Германия',\n",
       "       'США, Великобритания, Франция, Швеция', 'Австралия, Турция, США',\n",
       "       'Швеция, Германия', 'Польша, Италия, Россия', 'Франция, Бразилия',\n",
       "       'США, Канада, КНР', 'СССР, Венгрия, ЧССР, ГДР',\n",
       "       'Бельгия, Германия, Люксембург', 'СССР  ', 'СССР ', ' СССР ',\n",
       "       'Бразилия, США', 'США, Великобритания, Канада, КНР',\n",
       "       'Франция, Чили',\n",
       "       'Франция, США, Великобритания, Колумбия, Бельгия, Россия',\n",
       "       'Дания, Великобритания, ЮАР', 'СССР   ',\n",
       "       'Россия, США, Канада, Люксембург', 'Россия, Республика Кипр',\n",
       "       'Германия, США, Швеция, Франция',\n",
       "       'Великобритания, Германия, Канада, ЮАР', ' СССР   ', 'СССР     ',\n",
       "       'Ирландия, Канада',\n",
       "       'Япония, Великобритания, Швейцария, Ирландия, Дания, Франция, Польша, Австралия, Канада  ',\n",
       "       'Великобритания, Канада', 'Бельгия, США',\n",
       "       'Великобритания, США, Россия', 'Россия, Украина',\n",
       "       'Германия, США, Великобритания, Израиль', 'Канада, Германия',\n",
       "       'США, Ю.Корея', 'Индия, Мексика',\n",
       "       'Великобритания, Франция, Республика Кипр, Швейцария, США, Сербия',\n",
       "       'Испания, Аргентина, Индия, США',\n",
       "       'Норвегия, Исландия, США, Великобритания ',\n",
       "       'Турция, Германя, Франция', 'Австралия, Германия',\n",
       "       'Мексика, Испания', 'Великобритания, США, Германия, Бельгия',\n",
       "       'США, Чехия, Франция', 'Россия, Италия', 'Норвегия, Дания, Швеция',\n",
       "       'Франция, Швейцария, Германия', 'Грузия, Украина',\n",
       "       'Россия, Эстония, Финляндия, Беларусь', 'США, Франция, ЮАР',\n",
       "       'Великобритания, США, Швейцария',\n",
       "       'Мексика, Нидерланды, Германия, Франция', 'США, Испания, Франция',\n",
       "       'США, Великобритания, КНР', 'США, Франция, Канада',\n",
       "       'Япония, Великобритания, Австрия, Германия, Ю.Корея',\n",
       "       'Великобритания, Ирландия, США', 'Бельгия, Италия, Франция ',\n",
       "       'Швейцария, Германия, ЮАР', 'Великобритания, США, Германия',\n",
       "       'Германия, Исландия', 'Испания, США', 'СССР    ', 'Хорватия',\n",
       "       'Финляндия, Исландия, Швеция', 'Канада, США, Германия, Франция',\n",
       "       'США, Великобритания, Испания', 'Ирландия, Великобритания',\n",
       "       'Аргентина, Испания', 'Австрия, Германия', ' СССР',\n",
       "       'Германия, Швейцария, Франция, Южная Корея, США',\n",
       "       'Украина, Нидерланды', 'Венгрия, Германия, Швеция',\n",
       "       'Германия, Франция,  Польша, Турция, Канада, Италия, Россия ',\n",
       "       'СССР, Афганистан', 'СССР, Монголия', 'Россия, Кипр',\n",
       "       'Россия, Грузия, Испания',\n",
       "       'Великобритания, Нидерланды, Германия, Франция, Бельгия, Австрия ',\n",
       "       'Испания, Великобритания, Франция',\n",
       "       'Дания, Норвегия, Великобритания', 'Бельгия, Франция, Люксембург',\n",
       "       'Италия, Франция, Швейцария, Великобритания',\n",
       "       'Франция, Бельгия, Великобритания, Испания, Германия, США',\n",
       "       'Швейцария, Израиль, Франция, Великобритания',\n",
       "       'Великобритания, США, Канада, Нидерланды, Франция',\n",
       "       'СССР, Албания', 'Россия, Украина, Республика Беларусь, Литва',\n",
       "       'Финляндия, Великобритания, Германия', 'Россия, Украина, Польша',\n",
       "       'Франция, Италия, Бельгия, КНР',\n",
       "       'Германия, Бельгия, Люксембург, Ирландия', 'КНР, Сингапур',\n",
       "       'Франция, Бельгия, Великобритания, США, Нидерланды, Канада',\n",
       "       'США, Россия, Польша, Германия, Пуэрто Рико',\n",
       "       'Франция, Бельгия, Канада', 'США ', 'Мексика, США',\n",
       "       'США, Гонконг, КНР ', 'Греция, Россия',\n",
       "       'Ирландия, Дания, Бельгия, Люксембург, Франция', 'Эстония, Россия',\n",
       "       'Великобритания, Исландия, Испания, Швейцария, США',\n",
       "       'Австралия, Великобритания, Бельгия, Индия',\n",
       "       'Швеция, Германия, Франция, Норвегия',\n",
       "       'Нидерланды, Бельгия, Германия, Ирландия',\n",
       "       'Нидерланды, Великобритания, Бельгия', 'США, Колумбия, Испания',\n",
       "       'Франция, Испания, Бельгия, Панама',\n",
       "       'США, Великобритания, Чехия, Румыния',\n",
       "       'Аргентина, Уругвай, Россия, Германия, Франция, Нидерланды',\n",
       "       'Швеция, Франция, Норвегия, Дания',\n",
       "       'Италия, Франция, Великобритания', 'Венесуэла',\n",
       "       'Великобритания, США, Австралия, Ирландия, Германия, Куба, Канада',\n",
       "       'Южная Корея, КНР', 'Аргентина, Мексика, Бразилия, Франция, США',\n",
       "       'Швеция, США', 'Франция, Германия, Турция, Катар',\n",
       "       'Франция, Китай', 'Россия, Германия, Великобритания',\n",
       "       'Великобритания, Италия, Испания', 'Италия, Россия',\n",
       "       'Япония, КНР, Южная Корея', 'Россия, Германия', 'Россия, Ирландия',\n",
       "       'Македония, Франция, Великобритания', 'Франция, Бразилия, Италия',\n",
       "       'Россия, США', 'Армения, Россия', 'Россия, Румыния',\n",
       "       'Франция,  Бельгия', 'Грузия, Франция', 'ЮАР, США',\n",
       "       'Великобритания, США, Германия, Канада, Австралия',\n",
       "       'США, Ирландия', 'Германия, Люксембург, Франция',\n",
       "       'Россия, Франция',\n",
       "       'США, Нидерланды, Финляндия, Великобритания, Италия',\n",
       "       'Республика Кипр', 'Венгрия', 'Франция, США, Норвегия, Дания',\n",
       "       'Германия, Австрия, Ирландия', 'США, Финляндия',\n",
       "       'Италия, Великобритания', 'Россия, Испания',\n",
       "       'США, Великобритания, Болгария', 'Великобритания, Люксембург',\n",
       "       'Индия, США', 'США, Канада, Россия, Франция, Чили, Ирландия',\n",
       "       'Грузия, Россия',\n",
       "       'Дания, Австрия, Ирландия, Финляндия, Норвегия, Швеция, Нидерланды',\n",
       "       'Грузия', 'Австралия, Ирландия', 'Италия, Аргентина, Словения ',\n",
       "       'Испания, Франция, Нидерланды, Германия, Бельгия, Великобритания, Канада',\n",
       "       'Франция, Чехия, Бельгия',\n",
       "       'Великобритания, Франция, Германия, США',\n",
       "       'Ирландия, Великобритания, Франция, США, Германия, Нидерланды',\n",
       "       'США, Канада, Япония, КНР', 'США, Великобритания, Исландия',\n",
       "       'Франция, Германия, Нидерланды', 'Иран ',\n",
       "       'Франция, Германия, Швеция, США, Чехия, Словакия, Великобритания, Нидерланды',\n",
       "       'Франция, Канада, Н.Зеландия, США, Нидерланды, Германия, Швеция, Россия',\n",
       "       'Турция, США',\n",
       "       'Великобритания, США, Канада, Бельгия, Нидерланды, Австрия, Германия',\n",
       "       'Израиль, Франция, Германия, Палестина, США, Австрия, Великобритания',\n",
       "       'Аргентина, Франция, Испания', 'СССР, Россия',\n",
       "       'Великобритания, Франция, Италия, Индия, Дания, КНР, Бангладеш, Камбоджа, Гаити, Уганда',\n",
       "       'Италия, Франция, Швейцария', 'Ирландия, Великобритания, Канада',\n",
       "       'Перу', 'США, Норвегия', 'Китай, Гонконг', 'США, Германия, КНР',\n",
       "       'Великобритания, Новая Зеландия', 'Франция, Дания, Швеция, КНР',\n",
       "       'США, Великобритания, Германия, Бельгия, Дания',\n",
       "       'США, Франция, Канада, Германия, Австралия, Индия', 'Неизвестно',\n",
       "       'СССР, Румыния, Франция', 'СССР, ГДР',\n",
       "       'Великобритания, Франция, Австрия, Швеция', 'Россия, Таджикистан',\n",
       "       'Нидерланды, Бельгия, Болгария', 'Великобритания, Канада, США',\n",
       "       'Франция, Бельгия, Испания', 'Китай, Гонконг, США', 'США, Вьетнам',\n",
       "       'США, Германия, Франция', 'Германия, Франция, Бельгия',\n",
       "       'США, Италия',\n",
       "       'Германия, Дания, Испания, Швеция, Канада, Эстония, Франция',\n",
       "       'Княжество Андорра, Украина', 'Германия, Люксембург, Бельгия',\n",
       "       'Великобритания, Россия, Украина, США',\n",
       "       'Германия, Бельгия, Люксембург, Норвегия',\n",
       "       'США, Австралия, Новая Зеландия, Великобритания',\n",
       "       'США, Франция, Канада, Великобритания', 'Испания, Колумбия',\n",
       "       'Великобритания, Чехия, Франция', 'Исландия',\n",
       "       'Великобритания, Франция, Венгрия',\n",
       "       'Россия, Франция, Германия, Бельгия', 'Франция, Македония',\n",
       "       'Нидерланды, Франция, Германия, Бельгия, Швеция, Великобритания',\n",
       "       'Испания, США, Великобритания, Канада', 'Республика Казахстан',\n",
       "       'Франция, Испания, Дания, Венгрия, Швейцария', 'Франция, КНР',\n",
       "       'США, Пуэрто,Рико, Франция ', 'Мексика, Тайвань, США',\n",
       "       'Великобритания, Испания, Непал, Индия, Венгрия, Гонконг, Германия, Дания, Бахрейн',\n",
       "       'Великобритания, Аргентина, США, Франция, Россия, Испания',\n",
       "       'КНР, США', 'Италия, США', 'Финляндия, Швеция, Германия',\n",
       "       'Франция, Бельгия, Чехия', 'Франция, Германия, США', 'США, Дания',\n",
       "       'Индия, КНР', 'Чехия, Великобритания, США', 'США, ФРГ, Россия',\n",
       "       'Ирландия, Нидерланды, Франция, США, Великобритания',\n",
       "       'Россия, Грузия, Хорватия, Испания', 'Финляндия, Швеция, Норвегия',\n",
       "       'Сербия, Великобритания, США',\n",
       "       'США, Великобритания, Франция, Гонконг', 'Швейцария, Франция',\n",
       "       'Швейцария, Великобритания', 'ОАЭ, США',\n",
       "       'США, Франция, Германия, Канада, Австралия ',\n",
       "       'Германия, Австралия', 'Иран, Франция',\n",
       "       'США, Великобритания, Новая Зеландия', 'США, Колумбия',\n",
       "       'США, Франция, Ирландия', 'Великобритания, Франция, Бельгия',\n",
       "       'США, Великобритания, Япония', 'США, Франция, Германия',\n",
       "       'Польша, Ирландия', 'Ирландия, Великобритания, Франция, США',\n",
       "       'США, Бельгия, Великобритания', 'СССР, ВНР',\n",
       "       'Испания, Франция, США, Великобритания, Бельгия',\n",
       "       'Франция, Дания, США', 'США, Гонконг', 'Бразилия, К;анада',\n",
       "       'США, Ирландия, Великобритания, Франция',\n",
       "       'Великобритания, США, Канада', 'Польша, Франция',\n",
       "       'Канада, США, Нидерланды, Великобритания, Аргентина',\n",
       "       'Великобритания, Дания', 'Франция, Бельгия, Япония',\n",
       "       'Россия,  Испания', 'США, Канада, Германия, Франция',\n",
       "       'США, Канада, Франция', 'Германия, Австрия, Франция, Италия',\n",
       "       'США, Германия, Канада', 'Испания, Мексика',\n",
       "       'США, Япония, Канада, Великобритания, Германия, Франция',\n",
       "       'США,Великобритания, Австралия', 'Россия, Украина, Германия',\n",
       "       'Израиль, Франция, Великобритания, Германия', 'Корея',\n",
       "       'Россия, Болгария', 'Германия, Канада, Франция, Бельгия',\n",
       "       'Германия, Кения', 'Франция, Монако',\n",
       "       'Франция, Испания, Швейцария', 'Австрия, Франция, Германия',\n",
       "       'Румыния', 'США, Великобритания, Франция',\n",
       "       'Канада, Великобритания', 'Канада, Бразилия, Япония',\n",
       "       'Германия, Дания, Норвегия', 'Дания, Германия',\n",
       "       'СССР, ГДР, Польша, Италия',\n",
       "       'США, Испания, Франция, Великобритания', 'Китай',\n",
       "       'Мексика, Аргентина', 'Германия, Великобритания, Италия, Испания',\n",
       "       'Франция, Германия, Великобритания', 'Россия, Германия, Швейцария',\n",
       "       'Франция, Австралия', 'Голландия', 'Россия, Белоруссия',\n",
       "       'Франция, Испания, Тайвань', 'США, Южная Корея, Новая Зеландия',\n",
       "       'Великобритания, Венгрия', 'Великобритания, Франция, Германия',\n",
       "       'Франция, Германия, Италия',\n",
       "       'Швеция, Финляндия, Франция, Норвегия', 'Германия, Израиль',\n",
       "       'Швеция, Германия, Дания, Норвегия', 'Франция, Гонконг, Ирландия',\n",
       "       'Эстония', 'Литва, Россия, Украина', 'Германия, Италия, Франция',\n",
       "       'Великобритания, Австрия, Германия', 'Испания, Мальта',\n",
       "       'Франция, Россия, Румыния, Италия, Бельгия', 'Россия, Польша',\n",
       "       'США, Аргентина', 'Великобритания ', 'Израиль, США, Франция',\n",
       "       'США, Новая Зеландия, Япония', 'Франция, Чехия, Великобритания',\n",
       "       'Германия, Франция, Великобритания', 'США, Гонконг, Китай',\n",
       "       'США, Великобритания, Германия', 'США, Канада, Австралия',\n",
       "       'Япония, США, Франция', 'Франция, Испания, Германия',\n",
       "       'США, Хорватия, Босния,Герцеговина',\n",
       "       'Великобритания, Чехия, Франция, Италия',\n",
       "       'США, Германия, Нидерланды', 'Германия, Франция, Канада',\n",
       "       'Франция, Грузия, Германия, Россия, Украина, Бельгия',\n",
       "       'Великобритания, Франция, Италия', 'Франция, Италия, Иран',\n",
       "       'Греция', 'Дания, США', 'США, Германия, Австралия',\n",
       "       'США, Канада, Италия', 'США, Япония, Германия',\n",
       "       'Франция, Великобритания, Багамские острова, США',\n",
       "       'Швейцария, Люксембург', 'Швейцария, Австрия',\n",
       "       'Германия, Швейцария', 'Дания, Швеция, Франция, Германия',\n",
       "       'Польша', 'Бразилия, Канада, США', 'Нидерланды, Россия',\n",
       "       'Португалия', 'Франция, Аргентина', 'Швеция, Франция',\n",
       "       'Франция, Украина', 'Германия, Украина, Нидерланды',\n",
       "       'Италия, Швейцария', 'Латвия, Россия',\n",
       "       'Германия, Франция, Великобритания, США', 'Канада, Италия',\n",
       "       'США, Объединенные Арабские Эмираты', 'США, Венгрия', 'Малайзия',\n",
       "       'Россия, Германия, Украина', 'США, Австралия, Мексика',\n",
       "       'Литва, Венгрия', 'Германия, Китай', 'Казахстан',\n",
       "       'Республика Корея',\n",
       "       'США, Германия, Франция, Великобритания, Канада ',\n",
       "       'Бельгия, Германия, Люксембург, Франция', 'Франция, Греция',\n",
       "       'Италия, Канада', 'США, Италия, Греция',\n",
       "       'Германия, США, Великобритания, Ирландия',\n",
       "       'Германия, Нидерланды, ЮАР',\n",
       "       'США, Япония, Германия, Великобритания, Нидерланды',\n",
       "       'США, Япония, Германия, Великобритания',\n",
       "       'Таиланд, Великобритания, Франция, Германия, Испания, Нидерланды',\n",
       "       'Германия, Италия, Швейцария',\n",
       "       'Дания, Швеция, Великобритания, Франция, Германия, Нидерланды, Норвегия, Финляндия',\n",
       "       'Франция, Великобритания, Нидерланды, Люксембург',\n",
       "       'Нидерланды, Великобритания, Франция, Италия, Япония',\n",
       "       'Великобритания, Нидерланды, Франция, США', 'Канада, Мексика',\n",
       "       'Канада, Южная Корея, США',\n",
       "       'Великобритания, Франция, Бельгия, США', 'КНР, Канада, США',\n",
       "       'Италия, Франция, Германия', 'Швеция, Германия, Франция, Дания',\n",
       "       'Франция, США, Бельгия', 'Украина, Германия, Латвия, Эстония',\n",
       "       'Австрия, Люксембург', 'Великобритания, КНР', 'Монголия',\n",
       "       'Франция, Дания', 'Швеция, Дания, Финляндия',\n",
       "       'Сингапур, Великобритания, Индонезия, Канада, США',\n",
       "       'США, Германия, Япония', 'Таиланд, США', 'Франция, Нидерланды',\n",
       "       'Великобритания, Румыния',\n",
       "       'Великобритания, Германия, Нидерланды, Дания',\n",
       "       'Франция, Германия, Литва, Нидерланды, Россия',\n",
       "       'США, ЮАР, Гонконг', 'Австралия, Колумбия',\n",
       "       'Великобритания, Польша', 'США, Великобритания, Швеция',\n",
       "       'Франция, Швеция, Дания, Норвегия', 'Болгария, США', 'СССР, ФРГ',\n",
       "       'Бельгия, Нидерланды, Франция', 'Финляндия, Германия', 'Болгария',\n",
       "       'Грузия, Россия, Украина, Хорватия, Германия',\n",
       "       'Франция, Люксембург', 'Франция, Германия, Австрия',\n",
       "       'Норвегия, США', 'Германия, Швеция',\n",
       "       'Великобритания, Ирландия, США ', 'Дания, Латвия, Россия, США',\n",
       "       'Финляндия, Польша', 'Германия, Бельгия',\n",
       "       'Германия, США, Франция, Испания',\n",
       "       'Бельгия, Германия, Канада, Франция, США, Великобритания',\n",
       "       'Нидерланды, Бельгия, Люксембург', 'Люксембург, Бельгия, Франция',\n",
       "       'Бельгия, Великобритания, США', 'Великобритания, Австралия',\n",
       "       'Исландия, Бельгия',\n",
       "       'Испания, Швейцария, Великобритания, Германия, Новая Зеландия, Нидерланды, Канада',\n",
       "       'Киргизия, Россия', 'Великобритания, США, Испания',\n",
       "       'Италия, Швейцария, Германия', 'Россия, Армения',\n",
       "       'Китай, Канада, США', 'США, Великобритания, Люксембург',\n",
       "       'Испания, Ирландия, Бельгия, Франция',\n",
       "       'Великобритания, Гонконг, Венгрия, США, Ирландия',\n",
       "       'США, Пуэрто Рико', 'Аргентина, Испания, Уругвай',\n",
       "       'Израиль, Германия, Франция, Швейцария',\n",
       "       'Великобритания, Мексика, США', 'Испания, Болгария, США',\n",
       "       'Россия, Словакия, Чехия',\n",
       "       'Швейцария, КНР, США, Россия, Республика Корея, Великобритания',\n",
       "       'Россия, Нидерланды, Финляндия',\n",
       "       'Испания, Бельгия, Франция, Португалия, Великобритания',\n",
       "       'Бразилия, Португалия, Франция', 'Швеция, Норвегия',\n",
       "       'Франция, Польша, Бельгия', 'CША', 'Китай, США',\n",
       "       'Германия, Австрия, Франция', 'Чехия, Словакия, Хорватия',\n",
       "       'Россия, Польша, Финляндия', 'Россия, Латвия, Чешская Республика',\n",
       "       'Франция, Великобритания, Камбоджа, США, КНР',\n",
       "       'Чехия, Испания, США', 'Германия, Люксембург, Дания',\n",
       "       'Великобритания, Испания, Германия', 'Дания, Исландия',\n",
       "       'Великобритания, Испания, Италия, Латвия, Франция, Эстония',\n",
       "       'Дания, Швеция, Великобритания, Франция, Германия, Норвегия, Финляндия, Нидерланды, Италия',\n",
       "       'Польша, Франция, Великобритания',\n",
       "       'Дания, Норвегия, Венгрия, Чехия',\n",
       "       'Дания, Франция, Германия, Швеция', 'Великобритания, Швеция, США',\n",
       "       'Канада, Франция, Италия, Швейцария, США',\n",
       "       'США, Великобритания, Германия,, Швеция, Канада',\n",
       "       'Республика Беларусь, Германия, США, Россия',\n",
       "       'Италия, Швейцария, Франция, Германия ',\n",
       "       'Россия, Франция, Великобритания, Латвия', 'Россия, Беларусь',\n",
       "       'Франция, Испания, Румыния, США, Бельгия', 'Россия, Австрия',\n",
       "       'Ирландия, Великобритания, США',\n",
       "       'Швейцария, Великобритания, Франция, США, Ирландия',\n",
       "       'Мексика, Франция, Германия, Дания, Швеция', 'Нидерланды, Бельгия',\n",
       "       'Швеция, Норвегия, Финляндия, Франция', 'Испания, Франция, Италия',\n",
       "       'Испания, Франция, Греция, Индия, США, Россия, Великобритания',\n",
       "       'Великобритания, Япония, США',\n",
       "       'Дания, Канада, Норвегия, Австралия, США',\n",
       "       'Россия, Германия, Казахстан, Польша, Китай',\n",
       "       'Португалия, Франция, Польша, США', 'США, Канада, Аргентина',\n",
       "       'Ливан, США', 'Япония, США', 'США, Гонконг ',\n",
       "       'Франция, Россия, Швейцария, Румыния, Венгрия', 'Россия, Сербия',\n",
       "       'США, Болгария, Мексика',\n",
       "       'США, Великобритания, Швейцария, Франция', 'Таиланд, КНР, США',\n",
       "       'Великобритания, Нидерланды, Польша, Швейцария, Франция',\n",
       "       'Ирландия, США', 'Германия, Франция, Великобритания, Польша, США',\n",
       "       'США, Австралия, Индия', 'Великобритания, Израиль',\n",
       "       'Великобритания, Норвегия, Кения, Хорватия',\n",
       "       'США, Бразилия, Великобритания, Канада', 'Австралия, Канада',\n",
       "       'Кения, Германия', 'Колумбия', 'Латвия, Франция',\n",
       "       'Франция, Израиль, Германия', 'Швеция, Франция, Великобритания',\n",
       "       'Бельгия, Люксембург', 'Германия, Бельгия, Великобритания',\n",
       "       'Испания, Франция, Великобритания, Дания, Бельгия, Германия',\n",
       "       'Румыния, ЮАР, Иран, Франция, Канада, Великобритания',\n",
       "       'США, Великобритания, Ирландия, Люксембург', 'Республика Армения',\n",
       "       'США, Франция, Япония', 'Республика Кипр, Россия',\n",
       "       'Дания, Франция, Италия, Бельгия, Нидерланды', 'Россия, Грузия',\n",
       "       'Италия, Германия', 'Норвегия, Швеция, Дания',\n",
       "       'КНР, Индия, Гонконг, США', 'Израиль, Украина',\n",
       "       'США, КНР, Индия, Ю.Корея', 'США, Швеция', 'Россия, Китай',\n",
       "       'Канада, США, Каймановы острова',\n",
       "       'Бразилия, Уругвай, Дания, Норвегия, Чили, Швеция',\n",
       "       'Пуэрто,Рико, Великобритания, США', 'Уругвай, Аргентина, Испания',\n",
       "       'США, Великобритания, Италия, Израиль, Сербия, Индия',\n",
       "       'США, Канада, Франция, Индия', 'Великобритания, Россия, КНР',\n",
       "       'Франция, Новая Зеландия', 'Канада, США, Норвегия',\n",
       "       'Италия, Испания', 'Испания, Германия, Нидерланды',\n",
       "       'Бразилия, США, КНР ', 'Великобритания, Германия, Дания, США',\n",
       "       '2019', 'Италия, Фрация, Бразилия, Германия',\n",
       "       'Норвегия, Швеция, Россия', 'Сша, Канада', 'Бельгия, Канада',\n",
       "       'Великобритания, Австралия, США', 'КНР, США ',\n",
       "       'Франция, Финляндия', 'Колумбия, США', 'Норвегия, Нидерланды',\n",
       "       'Италия, Бельгия, Франция', 'Россия, Бельгия, Финляндия',\n",
       "       'Франция, Норвегия',\n",
       "       'Великобритания, Южная Корея, Канада, США, Индия, Китай, Япония',\n",
       "       'Канада, Норвегия', 'Польша, Франция, Испания, Бразилия, Швеция',\n",
       "       'Австрия, Великобритания, Германия', 'Франция, Сенегал, Бельгия',\n",
       "       'Финляндия, Латвия', 'Пакистан', 'Германия, Франция, США',\n",
       "       'Германия, Великобритания, США', 'КНР, Франция',\n",
       "       'Дания, Норвегия, Швеция, Исландия',\n",
       "       'Республика Кипр, США, Россия', 'Новая Зеландия, КНР',\n",
       "       'Дания, Канада, Швеция, Франция, Германия, Великобритания, США'],\n",
       "      dtype=object)"
      ]
     },
     "execution_count": 25,
     "metadata": {},
     "output_type": "execute_result"
    }
   ],
   "source": [
    "movies['production_country'] = movies.apply(fix_production_country, axis=1)\n",
    "movies['production_country'].unique()"
   ]
  },
  {
   "cell_type": "markdown",
   "metadata": {},
   "source": [
    "Разделитель стандартизирован. Возможны также одинаковые страны производства, но в разном порядке, а также опечатки в названии страны, но так как в исследовании эти данные не фигурируют, это можно проигнорировать."
   ]
  },
  {
   "cell_type": "code",
   "execution_count": 26,
   "metadata": {},
   "outputs": [
    {
     "data": {
      "text/plain": [
       "array(['«18+» - запрещено для детей', '«6+» - для детей старше 6 лет',\n",
       "       '«12+» - для детей старше 12 лет',\n",
       "       '«16+» - для детей старше 16 лет',\n",
       "       '«0+» - для любой зрительской аудитории'], dtype=object)"
      ]
     },
     "execution_count": 26,
     "metadata": {},
     "output_type": "execute_result"
    }
   ],
   "source": [
    "movies['age_restriction'].unique()"
   ]
  },
  {
   "cell_type": "markdown",
   "metadata": {},
   "source": [
    "Эти данные в порядке"
   ]
  },
  {
   "cell_type": "code",
   "execution_count": 27,
   "metadata": {},
   "outputs": [
    {
     "data": {
      "text/plain": [
       "array([nan, 'Министерство культуры', 'Фонд кино',\n",
       "       'Министерство культуры, Фонд кино'], dtype=object)"
      ]
     },
     "execution_count": 27,
     "metadata": {},
     "output_type": "execute_result"
    }
   ],
   "source": [
    "movies['financing_source'].unique()"
   ]
  },
  {
   "cell_type": "markdown",
   "metadata": {},
   "source": [
    "Эти данные в порядке"
   ]
  },
  {
   "cell_type": "code",
   "execution_count": 28,
   "metadata": {
    "scrolled": true
   },
   "outputs": [
    {
     "data": {
      "text/plain": [
       "array(['боевик,драма,мелодрама', 'драма,военный',\n",
       "       'фантастика,боевик,триллер', 'драма', 'мелодрама,комедия',\n",
       "       'мюзикл,мелодрама,комедия', 'комедия,криминал',\n",
       "       'боевик,триллер,детектив', 'боевик,драма,приключения',\n",
       "       'драма,спорт', 'триллер,драма,мелодрама', 'комедия,мелодрама',\n",
       "       'драма,мелодрама,комедия', 'драма,мелодрама', 'драма,история',\n",
       "       'драма,мелодрама,семейный', 'комедия,мелодрама,криминал',\n",
       "       'комедия', 'боевик,драма,криминал', 'драма,комедия',\n",
       "       'ужасы,фантастика,комедия', 'мультфильм,короткометражка,мелодрама',\n",
       "       'драма,криминал', 'мультфильм,фантастика,фэнтези',\n",
       "       'триллер,драма,криминал', 'драма,мелодрама,биография',\n",
       "       'драма,комедия,военный', 'фантастика,драма,детектив',\n",
       "       'мюзикл,семейный', 'Неизвестно', 'военный,приключения,драма',\n",
       "       'документальный,драма', 'драма,биография,история',\n",
       "       'боевик,триллер,драма', 'фэнтези,боевик',\n",
       "       'боевик,комедия,криминал', 'мюзикл,комедия,детский',\n",
       "       'комедия,мелодрама,драма', 'мультфильм,фэнтези,комедия',\n",
       "       'комедия,история', 'мелодрама', 'драма,биография,музыка',\n",
       "       'фэнтези,драма,мелодрама', 'триллер,военный',\n",
       "       'драма,мелодрама,военный', 'мюзикл,драма,мелодрама',\n",
       "       'мюзикл,комедия', 'мультфильм,приключения,семейный',\n",
       "       'ужасы,триллер', 'боевик,драма,военный', 'драма,боевик',\n",
       "       'мультфильм,драма,комедия', 'триллер,криминал',\n",
       "       'военный,биография,драма', 'комедия,семейный', 'военный',\n",
       "       'драма,семейный,биография', 'фэнтези,приключения,семейный',\n",
       "       'драма,криминал,биография', 'ужасы,триллер,детектив',\n",
       "       'боевик,история,драма', 'ужасы,триллер,драма',\n",
       "       'драма,криминал,спорт', 'документальный,короткометражка',\n",
       "       'триллер,драма', 'криминал,детектив,приключения',\n",
       "       'драма,комедия,криминал', 'драма,комедия,вестерн',\n",
       "       'драма,мелодрама,детектив', 'мелодрама,биография',\n",
       "       'фэнтези,мелодрама,драма', 'драма,мелодрама,история',\n",
       "       'комедия,приключения,история', 'приключения', 'драма,семейный',\n",
       "       'криминал,детектив', 'мультфильм,короткометражка,ужасы',\n",
       "       'фантастика,триллер,драма', 'фэнтези,мелодрама,комедия',\n",
       "       'драма,биография', 'комедия,криминал,история',\n",
       "       'триллер,драма,детектив', 'фантастика,комедия,приключения',\n",
       "       'фэнтези,семейный', 'ужасы,фантастика,боевик',\n",
       "       'мелодрама,криминал', 'комедия,приключения,мелодрама',\n",
       "       'боевик,триллер,приключения', 'боевик,приключения',\n",
       "       'боевик,триллер,криминал', 'документальный,военный,история',\n",
       "       'драма,музыка', 'боевик,драма', 'приключения,боевик',\n",
       "       'драма,военный,биография', 'триллер,драма,приключения',\n",
       "       'аниме,мультфильм,фэнтези', 'триллер,детектив,драма',\n",
       "       'боевик,триллер,мелодрама', 'боевик,история',\n",
       "       'приключения,история', 'драма,комедия,приключения',\n",
       "       'фэнтези,комедия,приключения', 'драма,вестерн',\n",
       "       'документальный,музыка', 'мелодрама,драма',\n",
       "       'триллер,криминал,детектив', 'ужасы', 'боевик,комедия,приключения',\n",
       "       'мультфильм,фэнтези,боевик', 'боевик,фэнтези,драма',\n",
       "       'фэнтези,драма', 'фэнтези,боевик,комедия',\n",
       "       'приключения,детский,комедия', 'документальный',\n",
       "       'боевик,триллер,комедия', 'мелодрама,комедия,криминал',\n",
       "       'драма,детектив', 'мюзикл,ужасы,триллер', 'детектив,триллер,ужасы',\n",
       "       'ужасы,фэнтези', 'ужасы,фэнтези,триллер', 'мультфильм,драма',\n",
       "       'ужасы,боевик,фантастика', 'боевик', 'фантастика,боевик',\n",
       "       'мелодрама,комедия,приключения', 'триллер,детектив',\n",
       "       'мюзикл,мелодрама,фэнтези', 'криминал', 'триллер,комедия,криминал',\n",
       "       'боевик,приключения,триллер', 'триллер,драма,военный',\n",
       "       'комедия,семейный,музыка', 'комедия,фантастика,мелодрама',\n",
       "       'фантастика,триллер,криминал', 'комедия,драма', 'боевик,военный',\n",
       "       'ужасы,фантастика,триллер', 'фантастика,драма,мелодрама',\n",
       "       'фэнтези,драма,детектив', 'боевик,триллер', 'боевик,драма,история',\n",
       "       'мультфильм,мюзикл,фэнтези', 'для взрослых,драма,мелодрама',\n",
       "       'мультфильм,боевик,детектив', 'фантастика,мелодрама,боевик',\n",
       "       'ужасы,фантастика,детектив', 'фантастика,боевик,приключения',\n",
       "       'мелодрама,комедия,спорт', 'комедия,боевик,приключения',\n",
       "       'документальный,приключения', 'мультфильм,короткометражка,детский',\n",
       "       'комедия,приключения', 'ужасы,драма', 'ужасы,фэнтези,боевик',\n",
       "       'мультфильм,фэнтези,детский', 'мюзикл,боевик,драма',\n",
       "       'семейный,комедия,драма', 'концерт,музыка', 'фэнтези,боевик,драма',\n",
       "       'драма,комедия,музыка', 'фантастика,фэнтези,боевик',\n",
       "       'фэнтези,комедия,семейный', 'фэнтези,драма,комедия',\n",
       "       'мультфильм,мюзикл,драма', 'триллер', 'боевик,криминал,триллер',\n",
       "       'мультфильм,приключения,драма', 'мелодрама,музыка',\n",
       "       'документальный,музыка,концерт', 'мультфильм,семейный',\n",
       "       'мультфильм,комедия,приключения', 'мультфильм,комедия,семейный',\n",
       "       'фантастика,драма', 'фэнтези,боевик,приключения',\n",
       "       'мультфильм,приключения', 'драма,военный,история', 'история',\n",
       "       'драма,приключения,военный',\n",
       "       'документальный,короткометражка,семейный',\n",
       "       'мелодрама,история,триллер', 'ужасы,детектив',\n",
       "       'мюзикл,комедия,приключения', 'драма,спорт,биография',\n",
       "       'фантастика,боевик,комедия', 'фантастика,приключения,детектив',\n",
       "       'короткометражка,драма,военный', 'драма,мультфильм',\n",
       "       'приключения,семейный', 'детектив', 'триллер,приключения',\n",
       "       'аниме,мультфильм,боевик', 'драма,комедия,биография',\n",
       "       'драма,комедия,спорт', 'боевик,мелодрама,комедия',\n",
       "       'семейный,комедия', 'фэнтези,боевик,триллер',\n",
       "       'документальный,фэнтези,семейный', 'фантастика,фэнтези,драма',\n",
       "       'ужасы,комедия,фэнтези', 'документальный,биография,музыка',\n",
       "       'фантастика,боевик,фэнтези', 'ужасы,боевик,триллер',\n",
       "       'комедия,криминал,семейный', 'приключения,драма',\n",
       "       'криминал,драма,триллер', 'драма,детектив,криминал',\n",
       "       'фэнтези,приключения,комедия', 'комедия,спорт',\n",
       "       'мюзикл,фэнтези,мелодрама', 'мультфильм,фэнтези,приключения',\n",
       "       'фантастика,фэнтези,приключения', 'фэнтези',\n",
       "       'фэнтези,приключения,боевик', 'фантастика,боевик,драма',\n",
       "       'криминал,драма', 'криминал,триллер,драма',\n",
       "       'драма,мелодрама,приключения', 'детский,комедия',\n",
       "       'фантастика,драма,боевик', 'мультфильм,семейный,фэнтези',\n",
       "       'концерт,музыка,документальный', 'ужасы,комедия,приключения',\n",
       "       'драма,мелодрама,криминал', 'ужасы,фантастика,фэнтези',\n",
       "       'боевик,комедия', 'мультфильм,фантастика,комедия', 'триллер,ужасы',\n",
       "       'мультфильм,мюзикл,комедия', 'мелодрама,фэнтези,триллер',\n",
       "       'детский,приключения,комедия', 'комедия,детектив',\n",
       "       'аниме,мультфильм,мелодрама', 'документальный,драма,семейный',\n",
       "       'документальный,биография,история', 'военный,боевик,драма',\n",
       "       'ужасы,комедия', 'комедия,приключения,семейный',\n",
       "       'приключения,биография,история', 'детский,приключения,семейный',\n",
       "       'спорт,драма,биография', 'аниме,мультфильм,ужасы',\n",
       "       'фантастика,боевик,криминал', 'мюзикл,драма',\n",
       "       'драма,криминал,детектив', 'аниме,мультфильм,драма',\n",
       "       'драма,триллер,приключения', 'триллер,криминал,драма',\n",
       "       'фэнтези,комедия,драма', 'мультфильм,комедия',\n",
       "       'драма,комедия,история', 'комедия,биография,история',\n",
       "       'мультфильм,фантастика,приключения', 'аниме,мультфильм,фантастика',\n",
       "       'мультфильм,фэнтези,семейный', 'мультфильм,боевик,комедия',\n",
       "       'комедия,криминал,спорт', 'документальный,мюзикл',\n",
       "       'мелодрама,комедия,музыка', 'биография',\n",
       "       'триллер,криминал,комедия', 'фантастика,драма,комедия',\n",
       "       'комедия,драма,мелодрама', 'фантастика,приключения,боевик',\n",
       "       'мультфильм,фэнтези,драма', 'триллер,комедия',\n",
       "       'драма,приключения,биография', 'фантастика,комедия',\n",
       "       'мелодрама,драма,комедия', 'боевик,криминал',\n",
       "       'драма,криминал,боевик', 'мультфильм,мюзикл,детский',\n",
       "       'драма,фэнтези', 'документальный,семейный',\n",
       "       'фэнтези,драма,приключения', 'ужасы,комедия,фантастика',\n",
       "       'драма,мелодрама,музыка', 'фэнтези,драма,семейный',\n",
       "       'триллер,мелодрама,драма', 'вестерн,боевик,драма',\n",
       "       'мультфильм,короткометражка,комедия', 'триллер,драма,история',\n",
       "       'ужасы,фантастика', 'ужасы,мелодрама,комедия',\n",
       "       'фэнтези,приключения', 'фантастика,триллер',\n",
       "       'ужасы,боевик,фэнтези', 'мультфильм,комедия,детский',\n",
       "       'триллер,драма,биография', 'мультфильм,ужасы,фэнтези',\n",
       "       'мультфильм,ужасы,фантастика', 'ужасы,боевик,комедия',\n",
       "       'драма,биография,спорт', 'мультфильм', 'мелодрама,комедия,драма',\n",
       "       'приключения,фантастика,семейный', 'комедия,криминал,детектив',\n",
       "       'ужасы,триллер,комедия', 'криминал,комедия,триллер',\n",
       "       'семейный,приключения,комедия', 'мультфильм,драма,приключения',\n",
       "       'ужасы,драма,детектив', 'драма,приключения,фэнтези',\n",
       "       'фантастика,мультфильм,драма', 'драма,триллер,детектив',\n",
       "       'драма,история,музыка', 'детский', 'триллер,боевик,криминал',\n",
       "       'драма,фантастика', 'комедия,драма,семейный',\n",
       "       'боевик,драма,комедия', 'комедия,ужасы',\n",
       "       'драма,фантастика,триллер', 'фантастика,драма,триллер',\n",
       "       'история,спорт,драма', 'документальный,биография',\n",
       "       'биография,история', 'спорт,драма', 'боевик,фэнтези',\n",
       "       'мультфильм,фэнтези', 'документальный,комедия,история',\n",
       "       'криминал,комедия,боевик', 'фэнтези,приключения,драма',\n",
       "       'музыка,концерт', 'триллер,драма,боевик',\n",
       "       'комедия,криминал,боевик', 'комедия,фантастика,боевик',\n",
       "       'вестерн,приключения,боевик', 'аниме,мультфильм,комедия',\n",
       "       'детектив,криминал,триллер', 'мультфильм,комедия,криминал',\n",
       "       'комедия,приключения,детектив', 'мелодрама,фантастика,драма',\n",
       "       'драма,комедия,семейный', 'приключения,фантастика',\n",
       "       'триллер,детектив,ужасы', 'комедия,приключения,фэнтези',\n",
       "       'фэнтези,триллер,драма', 'мелодрама,приключения,боевик',\n",
       "       'детектив,триллер,криминал', 'фэнтези,семейный,мелодрама',\n",
       "       'военный,драма', 'документальный,приключения,семейный',\n",
       "       'криминал,комедия,драма', 'комедия,фантастика',\n",
       "       'история,биография,драма', 'мелодрама,драма,музыка',\n",
       "       'боевик,мелодрама', 'комедия,криминал,триллер',\n",
       "       'детектив,триллер,боевик', 'комедия,боевик,криминал',\n",
       "       'комедия,вестерн', 'детский,мелодрама,семейный',\n",
       "       'короткометражка,мультфильм', 'комедия,фэнтези',\n",
       "       'фантастика,драма,ужасы', 'триллер,драма,ужасы',\n",
       "       'драма,фэнтези,история', 'комедия,драма,короткометражка',\n",
       "       'фэнтези,триллер,приключения', 'семейный',\n",
       "       'комедия,криминал,драма', 'комедия,фэнтези,ужасы',\n",
       "       'короткометражка,комедия,криминал', 'фантастика',\n",
       "       'триллер,ужасы,драма', 'мелодрама,драма,фэнтези',\n",
       "       'фантастика,приключения,драма', 'боевик,детектив',\n",
       "       'военный,драма,боевик', 'комедия,мелодрама,фэнтези',\n",
       "       'вестерн,криминал,триллер', 'драма,история,триллер',\n",
       "       'мультфильм,фантастика,боевик', 'детектив,драма,криминал',\n",
       "       'приключения,история,драма', 'мультфильм,семейный,детский',\n",
       "       'биография,драма,история', 'триллер,криминал,боевик',\n",
       "       'история,мелодрама', 'приключения,детский',\n",
       "       'музыка,приключения,концерт', 'военный,драма,комедия',\n",
       "       'фэнтези,боевик,военный', 'фантастика,детектив,боевик',\n",
       "       'мультфильм,фэнтези,история', 'биография,мелодрама,драма',\n",
       "       'документальный,биография,спорт', 'фантастика,комедия,детектив',\n",
       "       'музыка,концерт,документальный', 'триллер,боевик,приключения',\n",
       "       'триллер,драма,комедия', 'детектив,криминал',\n",
       "       'мультфильм,приключения,фэнтези', 'мелодрама,приключения',\n",
       "       'комедия,музыка', 'мелодрама,комедия,ужасы',\n",
       "       'драма,криминал,приключения', 'приключения,детектив,мелодрама',\n",
       "       'драма,криминал,фантастика', 'фэнтези,драма,биография',\n",
       "       'детектив,фантастика,криминал', 'триллер,драма,фантастика',\n",
       "       'ужасы,комедия,боевик', 'мелодрама,история', 'триллер,боевик',\n",
       "       'фильм-нуар,триллер,детектив', 'комедия,криминал,приключения',\n",
       "       'ужасы,триллер,мелодрама', 'военный,драма,история',\n",
       "       'драма,спорт,история', 'документальный,драма,история',\n",
       "       'триллер,мелодрама,детектив', 'детский,семейный',\n",
       "       'мюзикл,семейный,драма', 'биография,военный,драма',\n",
       "       'мультфильм,детский', 'боевик,криминал,драма',\n",
       "       'детектив,фэнтези,триллер', 'драма,боевик,приключения',\n",
       "       'драма,мелодрама,фэнтези', 'детектив,история,драма',\n",
       "       'фэнтези,боевик,ужасы', 'ужасы,фэнтези,мелодрама',\n",
       "       'ужасы,приключения', 'боевик,фантастика',\n",
       "       'ужасы,мелодрама,детектив', 'фантастика,триллер,приключения',\n",
       "       'боевик,приключения,история', 'приключения,боевик,триллер',\n",
       "       'детектив,ужасы,криминал', 'семейный,фэнтези', 'мюзикл,мелодрама',\n",
       "       'драма,военный,приключения', 'фантастика,драма,приключения',\n",
       "       'приключения,семейный,драма', 'история,драма,боевик',\n",
       "       'мультфильм,приключения,комедия', 'криминал,драма,комедия',\n",
       "       'ужасы,комедия,драма', 'комедия,семейный,приключения',\n",
       "       'мюзикл,фэнтези,драма', 'драма,вестерн,боевик',\n",
       "       'фантастика,триллер,детектив', 'драма,история,детектив',\n",
       "       'короткометражка,биография', 'мультфильм,приключения,фантастика',\n",
       "       'комедия,триллер', 'мультфильм,приключения,детектив',\n",
       "       'драма,триллер', 'ужасы,триллер,криминал',\n",
       "       'документальный,криминал,военный', 'ужасы,фэнтези,драма',\n",
       "       'фэнтези,комедия', 'ужасы,фэнтези,комедия', 'комедия,музыка,драма',\n",
       "       'мультфильм,приключения,военный', 'мюзикл,фэнтези,комедия',\n",
       "       'боевик,фантастика,приключения', 'триллер,ужасы,криминал',\n",
       "       'ужасы,фантастика,драма', 'фантастика,приключения,семейный',\n",
       "       'короткометражка,музыка', 'мелодрама,детектив,комедия',\n",
       "       'документальный,триллер,биография', 'боевик,фантастика,триллер',\n",
       "       'спорт,драма,комедия', 'фэнтези,мелодрама,приключения',\n",
       "       'триллер,детектив,криминал', 'короткометражка,мелодрама',\n",
       "       'мультфильм,семейный,спорт', 'комедия,фэнтези,мелодрама',\n",
       "       'драма,спорт,комедия', 'история,драма,мелодрама',\n",
       "       'драма,боевик,криминал', 'драма,комедия,триллер',\n",
       "       'аниме,мультфильм', 'документальный,ужасы',\n",
       "       'мультфильм,короткометражка', 'драма,история,военный',\n",
       "       'мультфильм,короткометражка,фэнтези', 'комедия,военный,музыка',\n",
       "       'биография,история,драма', 'ужасы,драма,мелодрама',\n",
       "       'драма,комедия,детектив', 'комедия,семейный,фантастика',\n",
       "       'мультфильм,семейный,комедия', 'история,детектив',\n",
       "       'приключения,мелодрама,детектив', 'мюзикл,комедия,мелодрама',\n",
       "       'драма,фантастика,ужасы', 'мультфильм,ужасы,комедия',\n",
       "       'для взрослых,драма,комедия', 'ужасы,комедия,музыка',\n",
       "       'комедия,история,драма', 'семейный,детектив,детский',\n",
       "       'короткометражка,драма', 'документальный,новости,драма',\n",
       "       'триллер,мелодрама', 'ужасы,драма,вестерн',\n",
       "       'мюзикл,фэнтези,семейный', 'вестерн,драма,триллер',\n",
       "       'приключения,вестерн,боевик', 'семейный,комедия,музыка',\n",
       "       'боевик,драма,вестерн', 'ужасы,драма,триллер',\n",
       "       'фантастика,мелодрама', 'комедия,криминал,биография',\n",
       "       'семейный,мультфильм,комедия', 'комедия,драма,криминал',\n",
       "       'фантастика,боевик,военный', 'приключения,биография,драма',\n",
       "       'приключения,триллер,биография', 'криминал,боевик,триллер',\n",
       "       'боевик,вестерн,приключения', 'история,драма',\n",
       "       'фантастика,фэнтези,комедия', 'мультфильм,детский,комедия',\n",
       "       'мелодрама,комедия,триллер', 'документальный,боевик,приключения',\n",
       "       'драма,приключения', 'мелодрама,военный,драма', 'триллер,фэнтези',\n",
       "       'драма,триллер,биография', 'фэнтези,боевик,семейный',\n",
       "       'фантастика,триллер,комедия', 'документальный,фэнтези',\n",
       "       'комедия,мультфильм,фантастика', 'криминал,биография,комедия',\n",
       "       'биография,спорт,драма', 'приключения,военный',\n",
       "       'мультфильм,семейный,драма', 'документальный,фэнтези,драма',\n",
       "       'комедия,боевик,фантастика', 'семейный,приключения,военный',\n",
       "       'триллер,ужасы,детектив', 'короткометражка',\n",
       "       'мелодрама,триллер,история', 'документальный,история',\n",
       "       'мультфильм,приключения,детский', 'драма,комедия,мультфильм',\n",
       "       'военный,детектив', 'семейный,приключения,документальный',\n",
       "       'детский,фэнтези', 'документальный,комедия', 'комедия,биография',\n",
       "       'криминал,комедия', 'спорт,мелодрама,криминал',\n",
       "       'фантастика,комедия,боевик', 'боевик,приключения,детектив',\n",
       "       'детектив,триллер,драма', 'документальный,фантастика',\n",
       "       'мелодрама,комедия,семейный', 'мультфильм,мелодрама,комедия',\n",
       "       'драма,спорт,семейный', 'фантастика,мелодрама,фэнтези',\n",
       "       'мюзикл,комедия,музыка', 'фантастика,триллер,мелодрама',\n",
       "       'приключения,комедия,фэнтези', 'фэнтези,боевик,детектив',\n",
       "       'фэнтези,боевик,мелодрама', 'комедия,военный',\n",
       "       'драма,спорт,боевик', 'мультфильм,боевик,триллер',\n",
       "       'мелодрама,семейный', 'фантастика,боевик,детектив',\n",
       "       'драма,приключения,история', 'документальный,драма,музыка',\n",
       "       'фантастика,триллер,боевик', 'фэнтези,боевик,вестерн',\n",
       "       'драма,комедия,мелодрама', 'ужасы,фэнтези,приключения',\n",
       "       'триллер,фэнтези,драма', 'мультфильм,мюзикл,мелодрама',\n",
       "       'ужасы,триллер,фантастика', 'триллер,мелодрама,комедия',\n",
       "       'ужасы,комедия,семейный', 'комедия,приключения,музыка',\n",
       "       'документальный,комедия,криминал', 'мелодрама,детектив',\n",
       "       'детский,приключения,фантастика', 'короткометражка,боевик,драма',\n",
       "       'боевик,комедия,семейный', 'фантастика,боевик,мелодрама',\n",
       "       'фэнтези,триллер,мелодрама', 'драма,детектив,история',\n",
       "       'боевик,криминал,детектив', 'мультфильм,фэнтези,мелодрама',\n",
       "       'мелодрама,драма,боевик', 'драма,вестерн,приключения',\n",
       "       'драма,приключения,мелодрама', 'фэнтези,боевик,криминал',\n",
       "       'фантастика,комедия,семейный', 'детский,фэнтези,приключения',\n",
       "       'ужасы,боевик', 'фантастика,мелодрама,комедия',\n",
       "       'семейный,спорт,боевик', 'триллер,биография,драма',\n",
       "       'ужасы,драма,комедия', 'мультфильм,фэнтези,триллер', 'мюзикл',\n",
       "       'боевик,спорт,драма', 'комедия,приключения,вестерн',\n",
       "       'документальный,ужасы,боевик', 'фантастика,боевик,семейный',\n",
       "       'военный,история', 'ужасы,боевик,криминал', 'детектив,триллер',\n",
       "       'драма,семейный,комедия', 'драма,детектив,приключения',\n",
       "       'драма,криминал,история', 'приключения,триллер',\n",
       "       'боевик,драма,биография', 'драма,приключения,триллер',\n",
       "       'комедия,фэнтези,приключения', 'фантастика,боевик,ужасы',\n",
       "       'драма,комедия,фантастика', 'детектив,криминал,драма',\n",
       "       'боевик,триллер,фэнтези', 'приключения,детектив,семейный',\n",
       "       'ужасы,комедия,криминал', 'мультфильм,биография,драма',\n",
       "       'история,боевик,фэнтези', 'детектив,криминал,боевик',\n",
       "       'приключения,фэнтези', 'комедия,приключения,спорт',\n",
       "       'драма,биография,мюзикл', 'комедия,семейный,фэнтези',\n",
       "       'детектив,драма,триллер', 'боевик,приключения,семейный',\n",
       "       'биография,спорт,комедия', 'фантастика,приключения,военный',\n",
       "       'документальный,драма,биография', 'детектив,приключения,драма',\n",
       "       'аниме,мультфильм,приключения', 'семейный,приключения',\n",
       "       'ужасы,фэнтези,детектив', 'семейный,документальный',\n",
       "       'драма,приключения,семейный', 'приключения,история,военный',\n",
       "       'фэнтези,мелодрама', 'фэнтези,триллер,детектив',\n",
       "       'документальный,спорт,биография', 'комедия,триллер,драма',\n",
       "       'драма,ужасы', 'биография,музыка,драма', 'фэнтези,ужасы',\n",
       "       'детектив,мелодрама,фэнтези', 'боевик,военный,история',\n",
       "       'биография,драма,криминал', 'триллер,мелодрама,криминал',\n",
       "       'семейный,мелодрама', 'биография,драма', 'военный,история,драма',\n",
       "       'фантастика,детектив,фэнтези', 'детектив,приключения,триллер',\n",
       "       'фантастика,приключения', 'мультфильм,короткометражка,мюзикл',\n",
       "       'мультфильм,детский,семейный', 'документальный,драма,комедия',\n",
       "       'комедия,приключения,криминал', 'документальный,семейный,музыка',\n",
       "       'мелодрама,музыка,драма', 'детектив,фантастика,триллер',\n",
       "       'драма,мелодрама,триллер', 'биография,драма,военный',\n",
       "       'приключения,фантастика,драма', 'детектив,фильм-нуар,комедия',\n",
       "       'документальный,спорт', 'триллер,фантастика,драма',\n",
       "       'биография,документальный', 'ужасы,фантастика,мелодрама',\n",
       "       'детектив,комедия', 'история,биография,военный',\n",
       "       'криминал,мелодрама', 'драма,криминал,вестерн',\n",
       "       'мелодрама,семейный,приключения', 'триллер,ужасы,мелодрама',\n",
       "       'фэнтези,драма,фильм-нуар', 'детектив,мелодрама',\n",
       "       'комедия,драма,биография', 'драма,военный,боевик',\n",
       "       'драма,комедия,ужасы', 'фантастика,драма,криминал',\n",
       "       'документальный,музыка,биография', 'мультфильм,боевик,приключения',\n",
       "       'короткометражка,фантастика', 'мультфильм,мелодрама,драма',\n",
       "       'боевик,военный,драма', 'фэнтези,семейный,приключения',\n",
       "       'детский,мультфильм,приключения', 'семейный,фэнтези,комедия',\n",
       "       'фэнтези,ужасы,триллер', 'ужасы,триллер,приключения',\n",
       "       'драма,боевик,история', 'фэнтези,комедия,детектив',\n",
       "       'история,приключения', 'аниме,мультфильм,короткометражка',\n",
       "       'драма,военный,триллер', 'биография,криминал,триллер',\n",
       "       'фантастика,фэнтези,детектив', 'вестерн,биография,драма',\n",
       "       'биография,музыка,мюзикл', 'драма,история,биография',\n",
       "       'приключения,драма,фантастика', 'комедия,фэнтези,криминал',\n",
       "       'биография,спорт,история', 'драма,криминал,семейный',\n",
       "       'детектив,боевик,история', 'ужасы,комедия,детектив',\n",
       "       'триллер,приключения,драма', 'фэнтези,комедия,криминал',\n",
       "       'триллер,криминал,приключения', 'комедия,детектив,приключения',\n",
       "       'фэнтези,драма,ужасы', 'ужасы,драма,военный', 'реальное ТВ',\n",
       "       'аниме,мультфильм,детектив', 'приключения,фэнтези,семейный',\n",
       "       'драма,биография,комедия', 'триллер,комедия,ужасы',\n",
       "       'музыка,мелодрама,фэнтези', 'мультфильм,история',\n",
       "       'мультфильм,комедия,фантастика', 'биография,криминал,драма',\n",
       "       'комедия,мелодрама,фантастика', 'криминал,боевик,комедия',\n",
       "       'история,криминал', 'детектив,комедия,драма',\n",
       "       'триллер,фантастика,боевик', 'криминал,боевик',\n",
       "       'комедия,драма,военный', 'драма,триллер,криминал',\n",
       "       'мультфильм,мелодрама,приключения', 'фантастика,фэнтези,триллер',\n",
       "       'короткометражка,драма,триллер', 'военный,боевик,история',\n",
       "       'боевик,драма,триллер', 'документальный,военный,драма',\n",
       "       'драма,криминал,фильм-нуар', 'мультфильм,детский,приключения',\n",
       "       'мелодрама,история,драма'], dtype=object)"
      ]
     },
     "execution_count": 28,
     "metadata": {},
     "output_type": "execute_result"
    }
   ],
   "source": [
    "movies['genres'].unique()"
   ]
  },
  {
   "cell_type": "markdown",
   "metadata": {},
   "source": [
    "Жанры в порядке"
   ]
  },
  {
   "cell_type": "markdown",
   "metadata": {},
   "source": [
    "**Вывод**\n",
    "\n",
    "Были проверены категориальные значения, исправлены значения в столбцах `type` и `production_country`."
   ]
  },
  {
   "cell_type": "markdown",
   "metadata": {
    "id": "XFSN5lrEgFyR"
   },
   "source": [
    "#### Шаг 2.4. Проверьте количественные значения"
   ]
  },
  {
   "cell_type": "markdown",
   "metadata": {},
   "source": [
    "Проверим столбцы `refundable_support`, `nonrefundable_support`, `budget`, `ratings` и `box_office`."
   ]
  },
  {
   "cell_type": "code",
   "execution_count": 29,
   "metadata": {},
   "outputs": [
    {
     "data": {
      "text/plain": [
       "count    3.320000e+02\n",
       "mean     1.186446e+07\n",
       "std      2.491656e+07\n",
       "min      0.000000e+00\n",
       "25%      0.000000e+00\n",
       "50%      0.000000e+00\n",
       "75%      1.500000e+07\n",
       "max      1.800000e+08\n",
       "Name: refundable_support, dtype: float64"
      ]
     },
     "execution_count": 29,
     "metadata": {},
     "output_type": "execute_result"
    }
   ],
   "source": [
    "movies['refundable_support'].describe()"
   ]
  },
  {
   "cell_type": "markdown",
   "metadata": {},
   "source": [
    "Данные в порядке"
   ]
  },
  {
   "cell_type": "code",
   "execution_count": 30,
   "metadata": {},
   "outputs": [
    {
     "data": {
      "text/plain": [
       "count    3.320000e+02\n",
       "mean     4.898099e+07\n",
       "std      5.998012e+07\n",
       "min      0.000000e+00\n",
       "25%      2.500000e+07\n",
       "50%      3.000000e+07\n",
       "75%      4.037500e+07\n",
       "max      4.000000e+08\n",
       "Name: nonrefundable_support, dtype: float64"
      ]
     },
     "execution_count": 30,
     "metadata": {},
     "output_type": "execute_result"
    }
   ],
   "source": [
    "movies['nonrefundable_support'].describe()"
   ]
  },
  {
   "cell_type": "markdown",
   "metadata": {},
   "source": [
    "Данные в порядке"
   ]
  },
  {
   "cell_type": "code",
   "execution_count": 31,
   "metadata": {
    "scrolled": true
   },
   "outputs": [
    {
     "data": {
      "text/plain": [
       "count    3.320000e+02\n",
       "mean     1.272297e+08\n",
       "std      1.885883e+08\n",
       "min      0.000000e+00\n",
       "25%      4.200000e+07\n",
       "50%      6.864992e+07\n",
       "75%      1.419853e+08\n",
       "max      2.305074e+09\n",
       "Name: budget, dtype: float64"
      ]
     },
     "execution_count": 31,
     "metadata": {},
     "output_type": "execute_result"
    }
   ],
   "source": [
    "movies['budget'].describe()"
   ]
  },
  {
   "cell_type": "code",
   "execution_count": 32,
   "metadata": {},
   "outputs": [
    {
     "data": {
      "text/plain": [
       "17"
      ]
     },
     "execution_count": 32,
     "metadata": {},
     "output_type": "execute_result"
    }
   ],
   "source": [
    "len(movies[movies['budget'] == 0])"
   ]
  },
  {
   "cell_type": "markdown",
   "metadata": {},
   "source": [
    "Есть нулевые значения `budget`, что невозможно. Проверим эти значения относительно столбцов `nonrefundable_support` и `refundable_support`."
   ]
  },
  {
   "cell_type": "markdown",
   "metadata": {},
   "source": [
    "Значение в столбце `budget` должно быть больше, чем сумма невозвратной и возвратной поддержки государства. Посмотрим есть ли строки с аномальными значениями"
   ]
  },
  {
   "cell_type": "code",
   "execution_count": 33,
   "metadata": {
    "id": "YbzClBxagFyS"
   },
   "outputs": [
    {
     "data": {
      "text/plain": [
       "17"
      ]
     },
     "execution_count": 33,
     "metadata": {},
     "output_type": "execute_result"
    }
   ],
   "source": [
    "movies['is_anomaly'] = ((movies['refundable_support'] + movies['nonrefundable_support']) > movies['budget'])\n",
    "movies['is_anomaly'].sum()"
   ]
  },
  {
   "cell_type": "markdown",
   "metadata": {},
   "source": [
    "Число нулевых значений в столбце `budget` совпадает с числом строк, в которых сумма государственной поддержки больше бюджета. Скорее всего эти значения совпадают. Проверим эту гипотезу."
   ]
  },
  {
   "cell_type": "code",
   "execution_count": 34,
   "metadata": {
    "scrolled": true
   },
   "outputs": [
    {
     "data": {
      "text/html": [
       "<div>\n",
       "<style scoped>\n",
       "    .dataframe tbody tr th:only-of-type {\n",
       "        vertical-align: middle;\n",
       "    }\n",
       "\n",
       "    .dataframe tbody tr th {\n",
       "        vertical-align: top;\n",
       "    }\n",
       "\n",
       "    .dataframe thead th {\n",
       "        text-align: right;\n",
       "    }\n",
       "</style>\n",
       "<table border=\"1\" class=\"dataframe\">\n",
       "  <thead>\n",
       "    <tr style=\"text-align: right;\">\n",
       "      <th></th>\n",
       "      <th>title</th>\n",
       "      <th>puNumber</th>\n",
       "      <th>show_start_date</th>\n",
       "      <th>type</th>\n",
       "      <th>film_studio</th>\n",
       "      <th>production_country</th>\n",
       "      <th>director</th>\n",
       "      <th>producer</th>\n",
       "      <th>age_restriction</th>\n",
       "      <th>refundable_support</th>\n",
       "      <th>nonrefundable_support</th>\n",
       "      <th>budget</th>\n",
       "      <th>financing_source</th>\n",
       "      <th>ratings</th>\n",
       "      <th>genres</th>\n",
       "      <th>box_office</th>\n",
       "      <th>is_anomaly</th>\n",
       "    </tr>\n",
       "  </thead>\n",
       "  <tbody>\n",
       "    <tr>\n",
       "      <td>2052</td>\n",
       "      <td>14+</td>\n",
       "      <td>111023614</td>\n",
       "      <td>2014-12-19 12:00:00+00:00</td>\n",
       "      <td>Художественный</td>\n",
       "      <td>ООО Киностудия  \"Сентябрь\"</td>\n",
       "      <td>Россия</td>\n",
       "      <td>А.Зайцев</td>\n",
       "      <td>О.Гранина, А.Зайцев</td>\n",
       "      <td>«16+» - для детей старше 16 лет</td>\n",
       "      <td>0.0</td>\n",
       "      <td>23000000.0</td>\n",
       "      <td>0.0</td>\n",
       "      <td>Министерство культуры, Фонд кино</td>\n",
       "      <td>6.6</td>\n",
       "      <td>мелодрама</td>\n",
       "      <td>1.023402e+07</td>\n",
       "      <td>True</td>\n",
       "    </tr>\n",
       "    <tr>\n",
       "      <td>2057</td>\n",
       "      <td>Дуxless 2</td>\n",
       "      <td>111000415</td>\n",
       "      <td>2015-01-26 12:00:00+00:00</td>\n",
       "      <td>Художественный</td>\n",
       "      <td>ООО \"Киностудия \"Слово\", ООО \"Арт Пикчерс Студия\"</td>\n",
       "      <td>Россия</td>\n",
       "      <td>Р.Прыгунов</td>\n",
       "      <td>П.Ануров, Ф.Бондарчук, Д.Рудовский</td>\n",
       "      <td>«16+» - для детей старше 16 лет</td>\n",
       "      <td>0.0</td>\n",
       "      <td>75000000.0</td>\n",
       "      <td>0.0</td>\n",
       "      <td>Фонд кино</td>\n",
       "      <td>6.6</td>\n",
       "      <td>драма</td>\n",
       "      <td>4.461635e+08</td>\n",
       "      <td>True</td>\n",
       "    </tr>\n",
       "    <tr>\n",
       "      <td>2471</td>\n",
       "      <td>Воин (2015)</td>\n",
       "      <td>111017315</td>\n",
       "      <td>2015-09-28 12:00:00+00:00</td>\n",
       "      <td>Художественный</td>\n",
       "      <td>ООО \"Форпост Продакшн\", ООО \"Арт Пикчерс Студия\"</td>\n",
       "      <td>Россия</td>\n",
       "      <td>А.Андрианов</td>\n",
       "      <td>ООО \"Арт Пикчерс Студия\"</td>\n",
       "      <td>«12+» - для детей старше 12 лет</td>\n",
       "      <td>10000000.0</td>\n",
       "      <td>70000000.0</td>\n",
       "      <td>0.0</td>\n",
       "      <td>Фонд кино</td>\n",
       "      <td>7.8</td>\n",
       "      <td>боевик,драма,криминал</td>\n",
       "      <td>1.965724e+08</td>\n",
       "      <td>True</td>\n",
       "    </tr>\n",
       "    <tr>\n",
       "      <td>2531</td>\n",
       "      <td>Бармен.</td>\n",
       "      <td>111009615</td>\n",
       "      <td>2015-05-26 12:00:00+00:00</td>\n",
       "      <td>Художественный</td>\n",
       "      <td>АО \"ВайТ Медиа\", ООО \"Арт Пикчерс Студия\"</td>\n",
       "      <td>Россия</td>\n",
       "      <td>Д.Штурманова</td>\n",
       "      <td>Т.Вайнштейн</td>\n",
       "      <td>«16+» - для детей старше 16 лет</td>\n",
       "      <td>20000000.0</td>\n",
       "      <td>0.0</td>\n",
       "      <td>0.0</td>\n",
       "      <td>Фонд кино</td>\n",
       "      <td>6.2</td>\n",
       "      <td>комедия,фэнтези</td>\n",
       "      <td>6.741897e+07</td>\n",
       "      <td>True</td>\n",
       "    </tr>\n",
       "    <tr>\n",
       "      <td>2614</td>\n",
       "      <td>Савва. Сердце воина</td>\n",
       "      <td>114001715</td>\n",
       "      <td>2015-07-21 12:00:00+00:00</td>\n",
       "      <td>Анимационный</td>\n",
       "      <td>ООО \"Глюкоза Продакшн\", ООО \"Арт Пикчерс Студия\"</td>\n",
       "      <td>Россия</td>\n",
       "      <td>М.Фадеев</td>\n",
       "      <td>А.Чистяков</td>\n",
       "      <td>«6+» - для детей старше 6 лет</td>\n",
       "      <td>60000000.0</td>\n",
       "      <td>100000000.0</td>\n",
       "      <td>0.0</td>\n",
       "      <td>Фонд кино</td>\n",
       "      <td>4.6</td>\n",
       "      <td>мультфильм,приключения,фэнтези</td>\n",
       "      <td>1.844876e+08</td>\n",
       "      <td>True</td>\n",
       "    </tr>\n",
       "    <tr>\n",
       "      <td>2683</td>\n",
       "      <td>Тряпичный союз</td>\n",
       "      <td>111010215</td>\n",
       "      <td>2015-06-08 12:00:00+00:00</td>\n",
       "      <td>Художественный</td>\n",
       "      <td>ООО \"Кинокомпания \"КОКТЕБЕЛЬ\"</td>\n",
       "      <td>Россия</td>\n",
       "      <td>М.Местецкий</td>\n",
       "      <td>Р.Борисевич, А.Кушаев</td>\n",
       "      <td>«18+» - запрещено для детей</td>\n",
       "      <td>0.0</td>\n",
       "      <td>59000000.0</td>\n",
       "      <td>0.0</td>\n",
       "      <td>Фонд кино</td>\n",
       "      <td>6.3</td>\n",
       "      <td>комедия,драма</td>\n",
       "      <td>1.957739e+06</td>\n",
       "      <td>True</td>\n",
       "    </tr>\n",
       "    <tr>\n",
       "      <td>2787</td>\n",
       "      <td>Срочно выйду замуж</td>\n",
       "      <td>111017115</td>\n",
       "      <td>2015-09-30 12:00:00+00:00</td>\n",
       "      <td>Художественный</td>\n",
       "      <td>АО \"ВайТ Медиа\", ООО \"Арт Пикчерс Студия\"</td>\n",
       "      <td>Россия</td>\n",
       "      <td>С Чекалов</td>\n",
       "      <td>Ф.Бондарчук, Т.Вайнштейн, Д.Рудовский</td>\n",
       "      <td>«16+» - для детей старше 16 лет</td>\n",
       "      <td>0.0</td>\n",
       "      <td>35000000.0</td>\n",
       "      <td>0.0</td>\n",
       "      <td>Фонд кино</td>\n",
       "      <td>5.1</td>\n",
       "      <td>комедия,мелодрама</td>\n",
       "      <td>7.293778e+07</td>\n",
       "      <td>True</td>\n",
       "    </tr>\n",
       "    <tr>\n",
       "      <td>2873</td>\n",
       "      <td>Помню - не помню!</td>\n",
       "      <td>111004916</td>\n",
       "      <td>2016-03-01 12:00:00+00:00</td>\n",
       "      <td>Художественный</td>\n",
       "      <td>ООО \"КиноФирма\"</td>\n",
       "      <td>Россия</td>\n",
       "      <td>В.Ровенский</td>\n",
       "      <td>ООО \"КиноФирма\"</td>\n",
       "      <td>«12+» - для детей старше 12 лет</td>\n",
       "      <td>0.0</td>\n",
       "      <td>6000000.0</td>\n",
       "      <td>0.0</td>\n",
       "      <td>Министерство культуры</td>\n",
       "      <td>4.3</td>\n",
       "      <td>комедия</td>\n",
       "      <td>1.536293e+07</td>\n",
       "      <td>True</td>\n",
       "    </tr>\n",
       "    <tr>\n",
       "      <td>3046</td>\n",
       "      <td>Любовь с ограничениями</td>\n",
       "      <td>111008216</td>\n",
       "      <td>2016-04-29 12:00:00+00:00</td>\n",
       "      <td>Художественный</td>\n",
       "      <td>АО \"ВайТ Медиа\", ООО \"Арт Пикчерс Студия\"</td>\n",
       "      <td>Россия</td>\n",
       "      <td>Д.Тюрин</td>\n",
       "      <td>Ф.Бондарчук, Т.Вайнштейн, Д.Рудовский</td>\n",
       "      <td>«16+» - для детей старше 16 лет</td>\n",
       "      <td>19000000.0</td>\n",
       "      <td>51000000.0</td>\n",
       "      <td>0.0</td>\n",
       "      <td>Фонд кино</td>\n",
       "      <td>6.3</td>\n",
       "      <td>комедия,мелодрама</td>\n",
       "      <td>7.029905e+07</td>\n",
       "      <td>True</td>\n",
       "    </tr>\n",
       "    <tr>\n",
       "      <td>3564</td>\n",
       "      <td>Притяжение (2016)</td>\n",
       "      <td>111018116</td>\n",
       "      <td>2016-12-16 12:00:00+00:00</td>\n",
       "      <td>Художественный</td>\n",
       "      <td>ООО \"Водород 2011\",  ООО \"Арт Пикчерс Студия\"</td>\n",
       "      <td>Россия</td>\n",
       "      <td>Ф.Бондарчук</td>\n",
       "      <td>ООО \"Арт Пикчерс Студия\"</td>\n",
       "      <td>«12+» - для детей старше 12 лет</td>\n",
       "      <td>0.0</td>\n",
       "      <td>250000000.0</td>\n",
       "      <td>0.0</td>\n",
       "      <td>Фонд кино</td>\n",
       "      <td>5.6</td>\n",
       "      <td>фантастика</td>\n",
       "      <td>1.038321e+09</td>\n",
       "      <td>True</td>\n",
       "    </tr>\n",
       "    <tr>\n",
       "      <td>3674</td>\n",
       "      <td>Чудо-юдо</td>\n",
       "      <td>114001817</td>\n",
       "      <td>2017-06-27 12:00:00+00:00</td>\n",
       "      <td>Анимационный</td>\n",
       "      <td>ООО \"КиноФирма\"</td>\n",
       "      <td>Россия</td>\n",
       "      <td>А.Лукичев</td>\n",
       "      <td>ООО \"КиноФирма\"</td>\n",
       "      <td>«6+» - для детей старше 6 лет</td>\n",
       "      <td>20000000.0</td>\n",
       "      <td>20000000.0</td>\n",
       "      <td>0.0</td>\n",
       "      <td>Фонд кино</td>\n",
       "      <td>5.2</td>\n",
       "      <td>мультфильм,фэнтези,семейный</td>\n",
       "      <td>5.510801e+07</td>\n",
       "      <td>True</td>\n",
       "    </tr>\n",
       "    <tr>\n",
       "      <td>3738</td>\n",
       "      <td>Мифы</td>\n",
       "      <td>111004317</td>\n",
       "      <td>2017-06-07 12:00:00+00:00</td>\n",
       "      <td>Художественный</td>\n",
       "      <td>ООО \"ХАЙПФИЛМ\", ООО \"Арт Пикчерс Студия\"</td>\n",
       "      <td>Россия</td>\n",
       "      <td>А.Молочников</td>\n",
       "      <td>Ф.Бондарчук, Д.Рудовский, И.Стюарт, М.Османн, ...</td>\n",
       "      <td>«16+» - для детей старше 16 лет</td>\n",
       "      <td>25000000.0</td>\n",
       "      <td>20000000.0</td>\n",
       "      <td>0.0</td>\n",
       "      <td>Фонд кино</td>\n",
       "      <td>4.8</td>\n",
       "      <td>комедия</td>\n",
       "      <td>5.045195e+07</td>\n",
       "      <td>True</td>\n",
       "    </tr>\n",
       "    <tr>\n",
       "      <td>5672</td>\n",
       "      <td>Селфи</td>\n",
       "      <td>111012117</td>\n",
       "      <td>2018-02-01 12:00:00+00:00</td>\n",
       "      <td>Художественный</td>\n",
       "      <td>ООО \"Киностудия \"Слово\", ООО \"Арт Пикчерс Студия\"</td>\n",
       "      <td>Россия</td>\n",
       "      <td>Н.Хомерики</td>\n",
       "      <td>П.Ануров, Ф.Бондарчук, Д.Рудовский</td>\n",
       "      <td>«16+» - для детей старше 16 лет</td>\n",
       "      <td>20000000.0</td>\n",
       "      <td>40000000.0</td>\n",
       "      <td>0.0</td>\n",
       "      <td>Фонд кино</td>\n",
       "      <td>5.8</td>\n",
       "      <td>триллер,драма</td>\n",
       "      <td>2.251964e+08</td>\n",
       "      <td>True</td>\n",
       "    </tr>\n",
       "    <tr>\n",
       "      <td>5805</td>\n",
       "      <td>Два хвоста</td>\n",
       "      <td>114001018</td>\n",
       "      <td>2018-05-31 12:00:00+00:00</td>\n",
       "      <td>Анимационный</td>\n",
       "      <td>ООО \"ЛИЦЕНЗИОННЫЕ БРЕНДЫ\"</td>\n",
       "      <td>Россия</td>\n",
       "      <td>В.Ровенский, Н.Лопато, В.Азеев</td>\n",
       "      <td>ООО \"ЛИЦЕНЗИОННЫЕ БРЕНДЫ\"</td>\n",
       "      <td>«6+» - для детей старше 6 лет</td>\n",
       "      <td>10000000.0</td>\n",
       "      <td>60000000.0</td>\n",
       "      <td>0.0</td>\n",
       "      <td>Фонд кино</td>\n",
       "      <td>5.0</td>\n",
       "      <td>мультфильм,детский</td>\n",
       "      <td>1.065143e+08</td>\n",
       "      <td>True</td>\n",
       "    </tr>\n",
       "    <tr>\n",
       "      <td>6007</td>\n",
       "      <td>Принцесса и дракон</td>\n",
       "      <td>114003018</td>\n",
       "      <td>2018-08-23 12:00:00+00:00</td>\n",
       "      <td>Анимационный</td>\n",
       "      <td>ООО \"ЛИЦЕНЗИОННЫЕ БРЕНДЫ\"</td>\n",
       "      <td>Россия</td>\n",
       "      <td>М.Нефедова</td>\n",
       "      <td>ООО \"ЛИЦЕНЗИОННЫЕ БРЕНДЫ\"</td>\n",
       "      <td>«6+» - для детей старше 6 лет</td>\n",
       "      <td>40000000.0</td>\n",
       "      <td>40000000.0</td>\n",
       "      <td>0.0</td>\n",
       "      <td>Фонд кино</td>\n",
       "      <td>5.2</td>\n",
       "      <td>мультфильм,фэнтези,детский</td>\n",
       "      <td>8.336633e+07</td>\n",
       "      <td>True</td>\n",
       "    </tr>\n",
       "    <tr>\n",
       "      <td>6322</td>\n",
       "      <td>Баба Яга</td>\n",
       "      <td>114006518</td>\n",
       "      <td>2018-11-08 12:00:00+00:00</td>\n",
       "      <td>Анимационный</td>\n",
       "      <td>ООО \"Арт Пикчерс Студия\"</td>\n",
       "      <td>Россия</td>\n",
       "      <td>В.Саков</td>\n",
       "      <td>ООО \"Арт Пикчерс Студия\", ООО \"КРИЭЙТИВ АНИМЭЙ...</td>\n",
       "      <td>«6+» - для детей старше 6 лет</td>\n",
       "      <td>0.0</td>\n",
       "      <td>138969465.0</td>\n",
       "      <td>0.0</td>\n",
       "      <td>Фонд кино</td>\n",
       "      <td>NaN</td>\n",
       "      <td>Неизвестно</td>\n",
       "      <td>1.334699e+06</td>\n",
       "      <td>True</td>\n",
       "    </tr>\n",
       "    <tr>\n",
       "      <td>6822</td>\n",
       "      <td>Большое путешествие</td>\n",
       "      <td>114002419</td>\n",
       "      <td>2019-04-20 12:00:00+00:00</td>\n",
       "      <td>Анимационный</td>\n",
       "      <td>ООО \"ЛИЦЕНЗИОННЫЕ БРЕНДЫ\"</td>\n",
       "      <td>Россия</td>\n",
       "      <td>Н.Лопато, В.Ровенский</td>\n",
       "      <td>ООО \"ЛИЦЕНЗИОННЫЕ БРЕНДЫ\"</td>\n",
       "      <td>«6+» - для детей старше 6 лет</td>\n",
       "      <td>60000000.0</td>\n",
       "      <td>120000000.0</td>\n",
       "      <td>0.0</td>\n",
       "      <td>Фонд кино</td>\n",
       "      <td>6.2</td>\n",
       "      <td>мультфильм,комедия,приключения</td>\n",
       "      <td>1.476068e+08</td>\n",
       "      <td>True</td>\n",
       "    </tr>\n",
       "  </tbody>\n",
       "</table>\n",
       "</div>"
      ],
      "text/plain": [
       "                       title   puNumber           show_start_date  \\\n",
       "2052                     14+  111023614 2014-12-19 12:00:00+00:00   \n",
       "2057               Дуxless 2  111000415 2015-01-26 12:00:00+00:00   \n",
       "2471             Воин (2015)  111017315 2015-09-28 12:00:00+00:00   \n",
       "2531                 Бармен.  111009615 2015-05-26 12:00:00+00:00   \n",
       "2614     Савва. Сердце воина  114001715 2015-07-21 12:00:00+00:00   \n",
       "2683          Тряпичный союз  111010215 2015-06-08 12:00:00+00:00   \n",
       "2787      Срочно выйду замуж  111017115 2015-09-30 12:00:00+00:00   \n",
       "2873       Помню - не помню!  111004916 2016-03-01 12:00:00+00:00   \n",
       "3046  Любовь с ограничениями  111008216 2016-04-29 12:00:00+00:00   \n",
       "3564       Притяжение (2016)  111018116 2016-12-16 12:00:00+00:00   \n",
       "3674                Чудо-юдо  114001817 2017-06-27 12:00:00+00:00   \n",
       "3738                    Мифы  111004317 2017-06-07 12:00:00+00:00   \n",
       "5672                   Селфи  111012117 2018-02-01 12:00:00+00:00   \n",
       "5805              Два хвоста  114001018 2018-05-31 12:00:00+00:00   \n",
       "6007      Принцесса и дракон  114003018 2018-08-23 12:00:00+00:00   \n",
       "6322                Баба Яга  114006518 2018-11-08 12:00:00+00:00   \n",
       "6822     Большое путешествие  114002419 2019-04-20 12:00:00+00:00   \n",
       "\n",
       "                type                                        film_studio  \\\n",
       "2052  Художественный                         ООО Киностудия  \"Сентябрь\"   \n",
       "2057  Художественный  ООО \"Киностудия \"Слово\", ООО \"Арт Пикчерс Студия\"   \n",
       "2471  Художественный   ООО \"Форпост Продакшн\", ООО \"Арт Пикчерс Студия\"   \n",
       "2531  Художественный          АО \"ВайТ Медиа\", ООО \"Арт Пикчерс Студия\"   \n",
       "2614    Анимационный   ООО \"Глюкоза Продакшн\", ООО \"Арт Пикчерс Студия\"   \n",
       "2683  Художественный                      ООО \"Кинокомпания \"КОКТЕБЕЛЬ\"   \n",
       "2787  Художественный          АО \"ВайТ Медиа\", ООО \"Арт Пикчерс Студия\"   \n",
       "2873  Художественный                                    ООО \"КиноФирма\"   \n",
       "3046  Художественный          АО \"ВайТ Медиа\", ООО \"Арт Пикчерс Студия\"   \n",
       "3564  Художественный      ООО \"Водород 2011\",  ООО \"Арт Пикчерс Студия\"   \n",
       "3674    Анимационный                                    ООО \"КиноФирма\"   \n",
       "3738  Художественный           ООО \"ХАЙПФИЛМ\", ООО \"Арт Пикчерс Студия\"   \n",
       "5672  Художественный  ООО \"Киностудия \"Слово\", ООО \"Арт Пикчерс Студия\"   \n",
       "5805    Анимационный                          ООО \"ЛИЦЕНЗИОННЫЕ БРЕНДЫ\"   \n",
       "6007    Анимационный                          ООО \"ЛИЦЕНЗИОННЫЕ БРЕНДЫ\"   \n",
       "6322    Анимационный                           ООО \"Арт Пикчерс Студия\"   \n",
       "6822    Анимационный                          ООО \"ЛИЦЕНЗИОННЫЕ БРЕНДЫ\"   \n",
       "\n",
       "     production_country                        director  \\\n",
       "2052             Россия                        А.Зайцев   \n",
       "2057             Россия                      Р.Прыгунов   \n",
       "2471             Россия                     А.Андрианов   \n",
       "2531             Россия                    Д.Штурманова   \n",
       "2614             Россия                        М.Фадеев   \n",
       "2683             Россия                     М.Местецкий   \n",
       "2787             Россия                       С Чекалов   \n",
       "2873             Россия                     В.Ровенский   \n",
       "3046             Россия                         Д.Тюрин   \n",
       "3564             Россия                     Ф.Бондарчук   \n",
       "3674             Россия                       А.Лукичев   \n",
       "3738             Россия                    А.Молочников   \n",
       "5672             Россия                      Н.Хомерики   \n",
       "5805             Россия  В.Ровенский, Н.Лопато, В.Азеев   \n",
       "6007             Россия                      М.Нефедова   \n",
       "6322             Россия                         В.Саков   \n",
       "6822             Россия           Н.Лопато, В.Ровенский   \n",
       "\n",
       "                                               producer  \\\n",
       "2052                                О.Гранина, А.Зайцев   \n",
       "2057                 П.Ануров, Ф.Бондарчук, Д.Рудовский   \n",
       "2471                           ООО \"Арт Пикчерс Студия\"   \n",
       "2531                                        Т.Вайнштейн   \n",
       "2614                                         А.Чистяков   \n",
       "2683                              Р.Борисевич, А.Кушаев   \n",
       "2787              Ф.Бондарчук, Т.Вайнштейн, Д.Рудовский   \n",
       "2873                                    ООО \"КиноФирма\"   \n",
       "3046              Ф.Бондарчук, Т.Вайнштейн, Д.Рудовский   \n",
       "3564                           ООО \"Арт Пикчерс Студия\"   \n",
       "3674                                    ООО \"КиноФирма\"   \n",
       "3738  Ф.Бондарчук, Д.Рудовский, И.Стюарт, М.Османн, ...   \n",
       "5672                 П.Ануров, Ф.Бондарчук, Д.Рудовский   \n",
       "5805                          ООО \"ЛИЦЕНЗИОННЫЕ БРЕНДЫ\"   \n",
       "6007                          ООО \"ЛИЦЕНЗИОННЫЕ БРЕНДЫ\"   \n",
       "6322  ООО \"Арт Пикчерс Студия\", ООО \"КРИЭЙТИВ АНИМЭЙ...   \n",
       "6822                          ООО \"ЛИЦЕНЗИОННЫЕ БРЕНДЫ\"   \n",
       "\n",
       "                      age_restriction  refundable_support  \\\n",
       "2052  «16+» - для детей старше 16 лет                 0.0   \n",
       "2057  «16+» - для детей старше 16 лет                 0.0   \n",
       "2471  «12+» - для детей старше 12 лет          10000000.0   \n",
       "2531  «16+» - для детей старше 16 лет          20000000.0   \n",
       "2614    «6+» - для детей старше 6 лет          60000000.0   \n",
       "2683      «18+» - запрещено для детей                 0.0   \n",
       "2787  «16+» - для детей старше 16 лет                 0.0   \n",
       "2873  «12+» - для детей старше 12 лет                 0.0   \n",
       "3046  «16+» - для детей старше 16 лет          19000000.0   \n",
       "3564  «12+» - для детей старше 12 лет                 0.0   \n",
       "3674    «6+» - для детей старше 6 лет          20000000.0   \n",
       "3738  «16+» - для детей старше 16 лет          25000000.0   \n",
       "5672  «16+» - для детей старше 16 лет          20000000.0   \n",
       "5805    «6+» - для детей старше 6 лет          10000000.0   \n",
       "6007    «6+» - для детей старше 6 лет          40000000.0   \n",
       "6322    «6+» - для детей старше 6 лет                 0.0   \n",
       "6822    «6+» - для детей старше 6 лет          60000000.0   \n",
       "\n",
       "      nonrefundable_support  budget                  financing_source  \\\n",
       "2052             23000000.0     0.0  Министерство культуры, Фонд кино   \n",
       "2057             75000000.0     0.0                         Фонд кино   \n",
       "2471             70000000.0     0.0                         Фонд кино   \n",
       "2531                    0.0     0.0                         Фонд кино   \n",
       "2614            100000000.0     0.0                         Фонд кино   \n",
       "2683             59000000.0     0.0                         Фонд кино   \n",
       "2787             35000000.0     0.0                         Фонд кино   \n",
       "2873              6000000.0     0.0             Министерство культуры   \n",
       "3046             51000000.0     0.0                         Фонд кино   \n",
       "3564            250000000.0     0.0                         Фонд кино   \n",
       "3674             20000000.0     0.0                         Фонд кино   \n",
       "3738             20000000.0     0.0                         Фонд кино   \n",
       "5672             40000000.0     0.0                         Фонд кино   \n",
       "5805             60000000.0     0.0                         Фонд кино   \n",
       "6007             40000000.0     0.0                         Фонд кино   \n",
       "6322            138969465.0     0.0                         Фонд кино   \n",
       "6822            120000000.0     0.0                         Фонд кино   \n",
       "\n",
       "      ratings                          genres    box_office  is_anomaly  \n",
       "2052      6.6                       мелодрама  1.023402e+07        True  \n",
       "2057      6.6                           драма  4.461635e+08        True  \n",
       "2471      7.8           боевик,драма,криминал  1.965724e+08        True  \n",
       "2531      6.2                 комедия,фэнтези  6.741897e+07        True  \n",
       "2614      4.6  мультфильм,приключения,фэнтези  1.844876e+08        True  \n",
       "2683      6.3                   комедия,драма  1.957739e+06        True  \n",
       "2787      5.1               комедия,мелодрама  7.293778e+07        True  \n",
       "2873      4.3                         комедия  1.536293e+07        True  \n",
       "3046      6.3               комедия,мелодрама  7.029905e+07        True  \n",
       "3564      5.6                      фантастика  1.038321e+09        True  \n",
       "3674      5.2     мультфильм,фэнтези,семейный  5.510801e+07        True  \n",
       "3738      4.8                         комедия  5.045195e+07        True  \n",
       "5672      5.8                   триллер,драма  2.251964e+08        True  \n",
       "5805      5.0              мультфильм,детский  1.065143e+08        True  \n",
       "6007      5.2      мультфильм,фэнтези,детский  8.336633e+07        True  \n",
       "6322      NaN                      Неизвестно  1.334699e+06        True  \n",
       "6822      6.2  мультфильм,комедия,приключения  1.476068e+08        True  "
      ]
     },
     "execution_count": 34,
     "metadata": {},
     "output_type": "execute_result"
    }
   ],
   "source": [
    "movies[movies['is_anomaly']]"
   ]
  },
  {
   "cell_type": "markdown",
   "metadata": {},
   "source": [
    "Так и есть. Стоит обратится к составителям данных, чтобы узнать причину таких значений, но в нашем случае нет возможности так сделать, поэтому просто уберем эти значения."
   ]
  },
  {
   "cell_type": "code",
   "execution_count": 35,
   "metadata": {},
   "outputs": [],
   "source": [
    "movies = movies.query('not is_anomaly')"
   ]
  },
  {
   "cell_type": "markdown",
   "metadata": {},
   "source": [
    "Проверка"
   ]
  },
  {
   "cell_type": "code",
   "execution_count": 36,
   "metadata": {},
   "outputs": [
    {
     "data": {
      "text/plain": [
       "0"
      ]
     },
     "execution_count": 36,
     "metadata": {},
     "output_type": "execute_result"
    }
   ],
   "source": [
    "movies['is_anomaly'].sum()"
   ]
  },
  {
   "cell_type": "markdown",
   "metadata": {},
   "source": [
    "Удалим теперь вспомогательный столбец."
   ]
  },
  {
   "cell_type": "code",
   "execution_count": 37,
   "metadata": {},
   "outputs": [],
   "source": [
    "movies = movies.drop('is_anomaly', 1)"
   ]
  },
  {
   "cell_type": "code",
   "execution_count": 38,
   "metadata": {},
   "outputs": [
    {
     "data": {
      "text/plain": [
       "count    6474.000000\n",
       "mean        6.481109\n",
       "std         1.101504\n",
       "min         1.000000\n",
       "25%         5.900000\n",
       "50%         6.600000\n",
       "75%         7.200000\n",
       "max         9.200000\n",
       "Name: ratings, dtype: float64"
      ]
     },
     "execution_count": 38,
     "metadata": {},
     "output_type": "execute_result"
    }
   ],
   "source": [
    "movies['ratings'].describe()"
   ]
  },
  {
   "cell_type": "markdown",
   "metadata": {},
   "source": [
    "Данные в порядке"
   ]
  },
  {
   "cell_type": "code",
   "execution_count": 39,
   "metadata": {},
   "outputs": [
    {
     "data": {
      "text/plain": [
       "count    3.141000e+03\n",
       "mean     7.600967e+07\n",
       "std      2.402503e+08\n",
       "min      0.000000e+00\n",
       "25%      8.395000e+04\n",
       "50%      2.284862e+06\n",
       "75%      2.344112e+07\n",
       "max      3.073569e+09\n",
       "Name: box_office, dtype: float64"
      ]
     },
     "execution_count": 39,
     "metadata": {},
     "output_type": "execute_result"
    }
   ],
   "source": [
    "movies['box_office'].describe()"
   ]
  },
  {
   "cell_type": "code",
   "execution_count": 40,
   "metadata": {},
   "outputs": [
    {
     "data": {
      "image/png": "[encoded data removed]",
      "text/plain": [
       "<Figure size 432x288 with 1 Axes>"
      ]
     },
     "metadata": {
      "needs_background": "light"
     },
     "output_type": "display_data"
    }
   ],
   "source": [
    "movies['box_office'].hist(bins=100, range=(0, 200000));"
   ]
  },
  {
   "cell_type": "markdown",
   "metadata": {},
   "source": [
    "Очень много странных околонулевых значений. Если рассмотреть такие значения конкретно в эту категорию попадают как очень кассовые фильмы, так и документальные фильмы с действительно низкими сборами. Хорошо было бы связаться с составителями данных, но это невозможно. Оставим эти данные нетронутыми, поскольку сложно решить, что именно с этим делать."
   ]
  },
  {
   "cell_type": "markdown",
   "metadata": {},
   "source": [
    "**Вывод**\n",
    "\n",
    "Были проверены численные значения, исправлены значения в столбце `budget`. Есть проблемы со столбцом `box_office`, но поправить эти аномальные значения невозможно. "
   ]
  },
  {
   "cell_type": "markdown",
   "metadata": {
    "id": "4c6k1t9ygFyQ"
   },
   "source": [
    "#### Шаг 2.5. Изучите дубликаты в датафрейме\n",
    "- Проверьте, есть ли в данных дубликаты. Опишите причины, которые могли повлиять на появление дублей."
   ]
  },
  {
   "cell_type": "markdown",
   "metadata": {},
   "source": [
    "Проверим явные дубликаты по всем столбцам."
   ]
  },
  {
   "cell_type": "code",
   "execution_count": 85,
   "metadata": {},
   "outputs": [
    {
     "data": {
      "text/plain": [
       "0"
      ]
     },
     "execution_count": 85,
     "metadata": {},
     "output_type": "execute_result"
    }
   ],
   "source": [
    "movies.duplicated().sum()"
   ]
  },
  {
   "cell_type": "markdown",
   "metadata": {},
   "source": [
    "Рассмотрим дубликаты по столбцу с номером прокатного удостверения, так как именно эти значения должны быть уникальными."
   ]
  },
  {
   "cell_type": "code",
   "execution_count": 41,
   "metadata": {},
   "outputs": [
    {
     "data": {
      "text/plain": [
       "2"
      ]
     },
     "execution_count": 41,
     "metadata": {},
     "output_type": "execute_result"
    }
   ],
   "source": [
    "movies.duplicated('puNumber').sum()"
   ]
  },
  {
   "cell_type": "markdown",
   "metadata": {},
   "source": [
    "Всего 2 дубликата. Удалим их."
   ]
  },
  {
   "cell_type": "code",
   "execution_count": 42,
   "metadata": {},
   "outputs": [],
   "source": [
    "movies = movies.drop_duplicates('puNumber')"
   ]
  },
  {
   "cell_type": "code",
   "execution_count": 43,
   "metadata": {},
   "outputs": [
    {
     "data": {
      "text/plain": [
       "0"
      ]
     },
     "execution_count": 43,
     "metadata": {},
     "output_type": "execute_result"
    }
   ],
   "source": [
    "movies.duplicated('puNumber').sum()"
   ]
  },
  {
   "cell_type": "markdown",
   "metadata": {},
   "source": [
    "**Вывод**\n",
    "\n",
    "Всего было два дубликата по номеру прокатного удостверения. Учитывая при этом, что явных дубликатов по всем столбцам нет, в этих двух записях разные данные соответствует одному прокатному удостверению. Так как таких дубликатов всего два, можно просто удалить их. Скрытых дубликатов нет, так как все категориальные значения уже проверены."
   ]
  },
  {
   "cell_type": "markdown",
   "metadata": {
    "id": "Eu6oWp2CgFyS"
   },
   "source": [
    "#### Шаг 2.6. Добавьте новые столбцы\n",
    "\n",
    "\n",
    "\n"
   ]
  },
  {
   "cell_type": "code",
   "execution_count": 44,
   "metadata": {
    "id": "I-yd1DkWgFyT"
   },
   "outputs": [],
   "source": [
    "movies['show_start_year'] = movies['show_start_date'].dt.year"
   ]
  },
  {
   "cell_type": "code",
   "execution_count": 45,
   "metadata": {
    "id": "LSbRZKbMgFyU"
   },
   "outputs": [],
   "source": [
    "movies['main_director'] = movies['director'].apply(lambda x: x.split(', ')[0])\n",
    "movies['main_genres'] = movies['genres'].apply(lambda x: x.split(',')[0])"
   ]
  },
  {
   "cell_type": "code",
   "execution_count": 46,
   "metadata": {
    "id": "LV6qFuZLgFyV"
   },
   "outputs": [],
   "source": [
    "movies['support_to_budget_ratio'] = (movies['refundable_support'] + movies['nonrefundable_support']) / movies['budget']"
   ]
  },
  {
   "cell_type": "markdown",
   "metadata": {},
   "source": [
    "**Вывод**\n",
    "\n",
    "Требуемые столбцы добавлены."
   ]
  },
  {
   "cell_type": "markdown",
   "metadata": {
    "id": "6t4EukPLgFyV"
   },
   "source": [
    "### Шаг 3. Проведите исследовательский анализ данных\n"
   ]
  },
  {
   "cell_type": "markdown",
   "metadata": {
    "id": "vAH8WCzugFyV"
   },
   "source": [
    "- Посмотрите, сколько фильмов выходило в прокат каждый год. Обратите внимание, что данные о прокате в кинотеатрах известны не для всех фильмов. Посчитайте, какую долю составляют фильмы с указанной информацией о прокате в кинотеатрах."
   ]
  },
  {
   "cell_type": "code",
   "execution_count": 86,
   "metadata": {
    "id": "ABeV47y7gFyW"
   },
   "outputs": [
    {
     "data": {
      "text/html": [
       "<div>\n",
       "<style scoped>\n",
       "    .dataframe tbody tr th:only-of-type {\n",
       "        vertical-align: middle;\n",
       "    }\n",
       "\n",
       "    .dataframe tbody tr th {\n",
       "        vertical-align: top;\n",
       "    }\n",
       "\n",
       "    .dataframe thead th {\n",
       "        text-align: right;\n",
       "    }\n",
       "</style>\n",
       "<table border=\"1\" class=\"dataframe\">\n",
       "  <thead>\n",
       "    <tr style=\"text-align: right;\">\n",
       "      <th></th>\n",
       "      <th>films_count</th>\n",
       "    </tr>\n",
       "    <tr>\n",
       "      <th>show_start_year</th>\n",
       "      <th></th>\n",
       "    </tr>\n",
       "  </thead>\n",
       "  <tbody>\n",
       "    <tr>\n",
       "      <td>2010</td>\n",
       "      <td>105</td>\n",
       "    </tr>\n",
       "    <tr>\n",
       "      <td>2011</td>\n",
       "      <td>109</td>\n",
       "    </tr>\n",
       "    <tr>\n",
       "      <td>2012</td>\n",
       "      <td>128</td>\n",
       "    </tr>\n",
       "    <tr>\n",
       "      <td>2013</td>\n",
       "      <td>184</td>\n",
       "    </tr>\n",
       "    <tr>\n",
       "      <td>2014</td>\n",
       "      <td>278</td>\n",
       "    </tr>\n",
       "    <tr>\n",
       "      <td>2015</td>\n",
       "      <td>459</td>\n",
       "    </tr>\n",
       "    <tr>\n",
       "      <td>2016</td>\n",
       "      <td>523</td>\n",
       "    </tr>\n",
       "    <tr>\n",
       "      <td>2017</td>\n",
       "      <td>355</td>\n",
       "    </tr>\n",
       "    <tr>\n",
       "      <td>2018</td>\n",
       "      <td>471</td>\n",
       "    </tr>\n",
       "    <tr>\n",
       "      <td>2019</td>\n",
       "      <td>529</td>\n",
       "    </tr>\n",
       "  </tbody>\n",
       "</table>\n",
       "</div>"
      ],
      "text/plain": [
       "                 films_count\n",
       "show_start_year             \n",
       "2010                     105\n",
       "2011                     109\n",
       "2012                     128\n",
       "2013                     184\n",
       "2014                     278\n",
       "2015                     459\n",
       "2016                     523\n",
       "2017                     355\n",
       "2018                     471\n",
       "2019                     529"
      ]
     },
     "execution_count": 86,
     "metadata": {},
     "output_type": "execute_result"
    }
   ],
   "source": [
    "pivot_table_year = movies.pivot_table(index = 'show_start_year', values = 'box_office', aggfunc = 'count')\n",
    "pivot_table_year.columns = ['films_count']\n",
    "pivot_table_year"
   ]
  },
  {
   "cell_type": "code",
   "execution_count": 87,
   "metadata": {},
   "outputs": [
    {
     "data": {
      "image/png": "[encoded data removed]",
      "text/plain": [
       "<Figure size 576x360 with 1 Axes>"
      ]
     },
     "metadata": {
      "needs_background": "light"
     },
     "output_type": "display_data"
    }
   ],
   "source": [
    "pivot_table_year.plot(y = 'films_count', kind = 'bar', grid=True, figsize=(8,5), legend=False)\n",
    "plt.title('Столбчатая диаграмма зависимости числа фильмов от года премьеры, 2010-2019 гг.')\n",
    "plt.xlabel('Год')\n",
    "plt.ylabel('Число фильмов, шт.');"
   ]
  },
  {
   "cell_type": "markdown",
   "metadata": {},
   "source": [
    "Число фильмов, выходящих в прокат с 2010 по 2016 год росло, в 2017 году произошла просадка, а затем снова рост до 2019 года. Максимальное число фильмов вышло в 2019 году, а минимальное - в 2010 году."
   ]
  },
  {
   "cell_type": "code",
   "execution_count": 49,
   "metadata": {},
   "outputs": [
    {
     "data": {
      "text/plain": [
       "0.42070720600053574"
      ]
     },
     "execution_count": 49,
     "metadata": {},
     "output_type": "execute_result"
    }
   ],
   "source": [
    "movies['box_office'].count() / movies['title'].count()"
   ]
  },
  {
   "cell_type": "markdown",
   "metadata": {},
   "source": [
    "Фильмы с указанной информацией о прокате составляют 42% от общего числа прокатных удостверений. "
   ]
  },
  {
   "cell_type": "markdown",
   "metadata": {
    "id": "BEOdcIrIgFyW"
   },
   "source": [
    "- Изучите, как менялась динамика проката по годам. В каком году сумма сборов была минимальной? А максимальной?"
   ]
  },
  {
   "cell_type": "code",
   "execution_count": 50,
   "metadata": {
    "id": "tfEhofYvgFyX"
   },
   "outputs": [
    {
     "data": {
      "text/html": [
       "<div>\n",
       "<style scoped>\n",
       "    .dataframe tbody tr th:only-of-type {\n",
       "        vertical-align: middle;\n",
       "    }\n",
       "\n",
       "    .dataframe tbody tr th {\n",
       "        vertical-align: top;\n",
       "    }\n",
       "\n",
       "    .dataframe thead th {\n",
       "        text-align: right;\n",
       "    }\n",
       "</style>\n",
       "<table border=\"1\" class=\"dataframe\">\n",
       "  <thead>\n",
       "    <tr style=\"text-align: right;\">\n",
       "      <th></th>\n",
       "      <th>box_office_sum</th>\n",
       "    </tr>\n",
       "    <tr>\n",
       "      <th>show_start_year</th>\n",
       "      <th></th>\n",
       "    </tr>\n",
       "  </thead>\n",
       "  <tbody>\n",
       "    <tr>\n",
       "      <td>2010</td>\n",
       "      <td>2.428654e+06</td>\n",
       "    </tr>\n",
       "    <tr>\n",
       "      <td>2011</td>\n",
       "      <td>1.410276e+07</td>\n",
       "    </tr>\n",
       "    <tr>\n",
       "      <td>2012</td>\n",
       "      <td>6.955423e+06</td>\n",
       "    </tr>\n",
       "    <tr>\n",
       "      <td>2013</td>\n",
       "      <td>2.979971e+07</td>\n",
       "    </tr>\n",
       "    <tr>\n",
       "      <td>2014</td>\n",
       "      <td>7.434718e+09</td>\n",
       "    </tr>\n",
       "    <tr>\n",
       "      <td>2015</td>\n",
       "      <td>3.852783e+10</td>\n",
       "    </tr>\n",
       "    <tr>\n",
       "      <td>2016</td>\n",
       "      <td>4.674232e+10</td>\n",
       "    </tr>\n",
       "    <tr>\n",
       "      <td>2017</td>\n",
       "      <td>4.845815e+10</td>\n",
       "    </tr>\n",
       "    <tr>\n",
       "      <td>2018</td>\n",
       "      <td>4.925199e+10</td>\n",
       "    </tr>\n",
       "    <tr>\n",
       "      <td>2019</td>\n",
       "      <td>4.827810e+10</td>\n",
       "    </tr>\n",
       "  </tbody>\n",
       "</table>\n",
       "</div>"
      ],
      "text/plain": [
       "                 box_office_sum\n",
       "show_start_year                \n",
       "2010               2.428654e+06\n",
       "2011               1.410276e+07\n",
       "2012               6.955423e+06\n",
       "2013               2.979971e+07\n",
       "2014               7.434718e+09\n",
       "2015               3.852783e+10\n",
       "2016               4.674232e+10\n",
       "2017               4.845815e+10\n",
       "2018               4.925199e+10\n",
       "2019               4.827810e+10"
      ]
     },
     "execution_count": 50,
     "metadata": {},
     "output_type": "execute_result"
    }
   ],
   "source": [
    "pivot_table_box_year = movies.pivot_table(index = 'show_start_year', values = 'box_office', aggfunc = 'sum')\n",
    "pivot_table_box_year.columns = ['box_office_sum']\n",
    "pivot_table_box_year"
   ]
  },
  {
   "cell_type": "code",
   "execution_count": 51,
   "metadata": {},
   "outputs": [
    {
     "data": {
      "image/png": "[encoded data removed]",
      "text/plain": [
       "<Figure size 576x360 with 1 Axes>"
      ]
     },
     "metadata": {
      "needs_background": "light"
     },
     "output_type": "display_data"
    }
   ],
   "source": [
    "pivot_table_box_year.plot(y = 'box_office_sum', kind = 'bar', grid=True, figsize=(8,5), legend=False)\n",
    "plt.title('Столбчатая диаграмма зависимости суммарных сборов от года премьеры, 2010-2019 гг.')\n",
    "plt.xlabel('Год')\n",
    "plt.ylabel('Суммарные сборы, десятки млрд. руб.');"
   ]
  },
  {
   "cell_type": "markdown",
   "metadata": {},
   "source": [
    "Суммарные сборы резко выросли с 2014 года и с 2016 года находятся примерно на одном уровне (эти данные нужно проверить, так как есть вероятность того, что фильмы до 2015 года имеют страные величины сборов, что было показано выше на этапе предобработки данных). Максимальная сумма сборов была в 2018 году, а минимальная в 2010."
   ]
  },
  {
   "cell_type": "markdown",
   "metadata": {
    "id": "G-7qS-N-gFyY"
   },
   "source": [
    "- С помощью сводной таблицы посчитайте среднюю и медианную сумму сборов для каждого года."
   ]
  },
  {
   "cell_type": "code",
   "execution_count": 52,
   "metadata": {
    "id": "jmp-rgg9gFyY"
   },
   "outputs": [
    {
     "data": {
      "text/html": [
       "<div>\n",
       "<style scoped>\n",
       "    .dataframe tbody tr th:only-of-type {\n",
       "        vertical-align: middle;\n",
       "    }\n",
       "\n",
       "    .dataframe tbody tr th {\n",
       "        vertical-align: top;\n",
       "    }\n",
       "\n",
       "    .dataframe thead th {\n",
       "        text-align: right;\n",
       "    }\n",
       "</style>\n",
       "<table border=\"1\" class=\"dataframe\">\n",
       "  <thead>\n",
       "    <tr style=\"text-align: right;\">\n",
       "      <th></th>\n",
       "      <th>box_office_mean</th>\n",
       "      <th>box_office_median</th>\n",
       "    </tr>\n",
       "    <tr>\n",
       "      <th>show_start_year</th>\n",
       "      <th></th>\n",
       "      <th></th>\n",
       "    </tr>\n",
       "  </thead>\n",
       "  <tbody>\n",
       "    <tr>\n",
       "      <td>2010</td>\n",
       "      <td>2.313004e+04</td>\n",
       "      <td>1700.00</td>\n",
       "    </tr>\n",
       "    <tr>\n",
       "      <td>2011</td>\n",
       "      <td>1.293832e+05</td>\n",
       "      <td>3000.00</td>\n",
       "    </tr>\n",
       "    <tr>\n",
       "      <td>2012</td>\n",
       "      <td>5.433924e+04</td>\n",
       "      <td>5660.00</td>\n",
       "    </tr>\n",
       "    <tr>\n",
       "      <td>2013</td>\n",
       "      <td>1.619549e+05</td>\n",
       "      <td>3522.50</td>\n",
       "    </tr>\n",
       "    <tr>\n",
       "      <td>2014</td>\n",
       "      <td>2.674359e+07</td>\n",
       "      <td>18137.50</td>\n",
       "    </tr>\n",
       "    <tr>\n",
       "      <td>2015</td>\n",
       "      <td>8.393862e+07</td>\n",
       "      <td>4784781.50</td>\n",
       "    </tr>\n",
       "    <tr>\n",
       "      <td>2016</td>\n",
       "      <td>8.937345e+07</td>\n",
       "      <td>3776087.56</td>\n",
       "    </tr>\n",
       "    <tr>\n",
       "      <td>2017</td>\n",
       "      <td>1.365018e+08</td>\n",
       "      <td>9919415.00</td>\n",
       "    </tr>\n",
       "    <tr>\n",
       "      <td>2018</td>\n",
       "      <td>1.045690e+08</td>\n",
       "      <td>8751895.75</td>\n",
       "    </tr>\n",
       "    <tr>\n",
       "      <td>2019</td>\n",
       "      <td>9.126295e+07</td>\n",
       "      <td>4601033.60</td>\n",
       "    </tr>\n",
       "  </tbody>\n",
       "</table>\n",
       "</div>"
      ],
      "text/plain": [
       "                 box_office_mean  box_office_median\n",
       "show_start_year                                    \n",
       "2010                2.313004e+04            1700.00\n",
       "2011                1.293832e+05            3000.00\n",
       "2012                5.433924e+04            5660.00\n",
       "2013                1.619549e+05            3522.50\n",
       "2014                2.674359e+07           18137.50\n",
       "2015                8.393862e+07         4784781.50\n",
       "2016                8.937345e+07         3776087.56\n",
       "2017                1.365018e+08         9919415.00\n",
       "2018                1.045690e+08         8751895.75\n",
       "2019                9.126295e+07         4601033.60"
      ]
     },
     "execution_count": 52,
     "metadata": {},
     "output_type": "execute_result"
    }
   ],
   "source": [
    "pivot_table_box_year = movies.pivot_table(index = 'show_start_year', values = 'box_office', aggfunc = ['mean', 'median'])\n",
    "pivot_table_box_year.columns = ['box_office_mean', 'box_office_median']\n",
    "pivot_table_box_year"
   ]
  },
  {
   "cell_type": "code",
   "execution_count": 53,
   "metadata": {},
   "outputs": [
    {
     "data": {
      "image/png": "[encoded data removed]",
      "text/plain": [
       "<Figure size 576x360 with 1 Axes>"
      ]
     },
     "metadata": {
      "needs_background": "light"
     },
     "output_type": "display_data"
    }
   ],
   "source": [
    "pivot_table_box_year.plot(y = ['box_office_mean','box_office_median'], kind = 'bar', grid=True, figsize=(8,5), legend=True)\n",
    "plt.title('Столбчатая диаграмма зависимости средней и мединной суммы сборов от года премьеры, 2010-2019 гг.')\n",
    "plt.xlabel('Год')\n",
    "plt.ylabel('Величина сборов, сотни млн. руб.');"
   ]
  },
  {
   "cell_type": "markdown",
   "metadata": {},
   "source": [
    "Медианное и среднее значение значительно отличается друг от друга из-за большого количества выбросов в сборах (крупнобюджетных фильмов очень мало, а собирают они очень много, отсюда такой разрыв)."
   ]
  },
  {
   "cell_type": "markdown",
   "metadata": {
    "id": "Ok89WFwJgFyZ"
   },
   "source": [
    "- Определите, влияет ли возрастное ограничение аудитории («6+», «12+», «16+», «18+» и т. д.) на сборы фильма в прокате в период с 2015 по 2019 год? Фильмы с каким возрастным ограничением собрали больше всего денег в прокате? Меняется ли картина в зависимости от года? Если да, предположите, с чем это может быть связано."
   ]
  },
  {
   "cell_type": "code",
   "execution_count": 54,
   "metadata": {
    "id": "jsSbEqfjgFya"
   },
   "outputs": [
    {
     "data": {
      "text/html": [
       "<div>\n",
       "<style scoped>\n",
       "    .dataframe tbody tr th:only-of-type {\n",
       "        vertical-align: middle;\n",
       "    }\n",
       "\n",
       "    .dataframe tbody tr th {\n",
       "        vertical-align: top;\n",
       "    }\n",
       "\n",
       "    .dataframe thead th {\n",
       "        text-align: right;\n",
       "    }\n",
       "</style>\n",
       "<table border=\"1\" class=\"dataframe\">\n",
       "  <thead>\n",
       "    <tr style=\"text-align: right;\">\n",
       "      <th></th>\n",
       "      <th>box_office_mean</th>\n",
       "      <th>box_office_median</th>\n",
       "    </tr>\n",
       "    <tr>\n",
       "      <th>age_restriction</th>\n",
       "      <th></th>\n",
       "      <th></th>\n",
       "    </tr>\n",
       "  </thead>\n",
       "  <tbody>\n",
       "    <tr>\n",
       "      <td>«0+» - для любой зрительской аудитории</td>\n",
       "      <td>9.719348e+06</td>\n",
       "      <td>2943318.70</td>\n",
       "    </tr>\n",
       "    <tr>\n",
       "      <td>«12+» - для детей старше 12 лет</td>\n",
       "      <td>1.863821e+08</td>\n",
       "      <td>15144119.40</td>\n",
       "    </tr>\n",
       "    <tr>\n",
       "      <td>«16+» - для детей старше 16 лет</td>\n",
       "      <td>6.534303e+07</td>\n",
       "      <td>4321194.60</td>\n",
       "    </tr>\n",
       "    <tr>\n",
       "      <td>«18+» - запрещено для детей</td>\n",
       "      <td>4.145306e+07</td>\n",
       "      <td>4654761.40</td>\n",
       "    </tr>\n",
       "    <tr>\n",
       "      <td>«6+» - для детей старше 6 лет</td>\n",
       "      <td>1.637945e+08</td>\n",
       "      <td>19513253.93</td>\n",
       "    </tr>\n",
       "  </tbody>\n",
       "</table>\n",
       "</div>"
      ],
      "text/plain": [
       "                                        box_office_mean  box_office_median\n",
       "age_restriction                                                           \n",
       "«0+» - для любой зрительской аудитории     9.719348e+06         2943318.70\n",
       "«12+» - для детей старше 12 лет            1.863821e+08        15144119.40\n",
       "«16+» - для детей старше 16 лет            6.534303e+07         4321194.60\n",
       "«18+» - запрещено для детей                4.145306e+07         4654761.40\n",
       "«6+» - для детей старше 6 лет              1.637945e+08        19513253.93"
      ]
     },
     "execution_count": 54,
     "metadata": {},
     "output_type": "execute_result"
    }
   ],
   "source": [
    "movies_2015 = movies[movies['show_start_year'] == 2015]\n",
    "pivot_table_box_age_restriction = movies_2015.pivot_table(index = 'age_restriction', values = 'box_office', aggfunc = ['mean', 'median'])\n",
    "pivot_table_box_age_restriction.columns = ['box_office_mean', 'box_office_median']\n",
    "pivot_table_box_age_restriction"
   ]
  },
  {
   "cell_type": "code",
   "execution_count": 55,
   "metadata": {},
   "outputs": [
    {
     "data": {
      "image/png": "[encoded data removed]",
      "text/plain": [
       "<Figure size 576x360 with 1 Axes>"
      ]
     },
     "metadata": {
      "needs_background": "light"
     },
     "output_type": "display_data"
    }
   ],
   "source": [
    "pivot_table_box_age_restriction.plot(y = ['box_office_mean','box_office_median'], kind = 'bar', grid=True, figsize=(8,5), legend=True)\n",
    "plt.title('Столбчатая диаграмма зависимости средней и мединной суммы сборов от возрастного ограничения 2015 г.')\n",
    "plt.xlabel('Возрастное ограничение')\n",
    "plt.ylabel('Величина сборов, десятки млн. руб.');"
   ]
  },
  {
   "cell_type": "code",
   "execution_count": 56,
   "metadata": {},
   "outputs": [
    {
     "data": {
      "text/html": [
       "<div>\n",
       "<style scoped>\n",
       "    .dataframe tbody tr th:only-of-type {\n",
       "        vertical-align: middle;\n",
       "    }\n",
       "\n",
       "    .dataframe tbody tr th {\n",
       "        vertical-align: top;\n",
       "    }\n",
       "\n",
       "    .dataframe thead th {\n",
       "        text-align: right;\n",
       "    }\n",
       "</style>\n",
       "<table border=\"1\" class=\"dataframe\">\n",
       "  <thead>\n",
       "    <tr style=\"text-align: right;\">\n",
       "      <th></th>\n",
       "      <th>box_office_mean</th>\n",
       "      <th>box_office_median</th>\n",
       "    </tr>\n",
       "    <tr>\n",
       "      <th>age_restriction</th>\n",
       "      <th></th>\n",
       "      <th></th>\n",
       "    </tr>\n",
       "  </thead>\n",
       "  <tbody>\n",
       "    <tr>\n",
       "      <td>«0+» - для любой зрительской аудитории</td>\n",
       "      <td>3.664118e+06</td>\n",
       "      <td>2571294.100</td>\n",
       "    </tr>\n",
       "    <tr>\n",
       "      <td>«12+» - для детей старше 12 лет</td>\n",
       "      <td>1.393845e+08</td>\n",
       "      <td>4225478.260</td>\n",
       "    </tr>\n",
       "    <tr>\n",
       "      <td>«16+» - для детей старше 16 лет</td>\n",
       "      <td>9.168094e+07</td>\n",
       "      <td>5085192.980</td>\n",
       "    </tr>\n",
       "    <tr>\n",
       "      <td>«18+» - запрещено для детей</td>\n",
       "      <td>4.499291e+07</td>\n",
       "      <td>6107001.740</td>\n",
       "    </tr>\n",
       "    <tr>\n",
       "      <td>«6+» - для детей старше 6 лет</td>\n",
       "      <td>1.721878e+08</td>\n",
       "      <td>3026256.145</td>\n",
       "    </tr>\n",
       "  </tbody>\n",
       "</table>\n",
       "</div>"
      ],
      "text/plain": [
       "                                        box_office_mean  box_office_median\n",
       "age_restriction                                                           \n",
       "«0+» - для любой зрительской аудитории     3.664118e+06        2571294.100\n",
       "«12+» - для детей старше 12 лет            1.393845e+08        4225478.260\n",
       "«16+» - для детей старше 16 лет            9.168094e+07        5085192.980\n",
       "«18+» - запрещено для детей                4.499291e+07        6107001.740\n",
       "«6+» - для детей старше 6 лет              1.721878e+08        3026256.145"
      ]
     },
     "execution_count": 56,
     "metadata": {},
     "output_type": "execute_result"
    }
   ],
   "source": [
    "movies_2016 = movies[movies['show_start_year'] == 2016]\n",
    "pivot_table_box_age_restriction = movies_2016.pivot_table(index = 'age_restriction', values = 'box_office', aggfunc = ['mean', 'median'])\n",
    "pivot_table_box_age_restriction.columns = ['box_office_mean', 'box_office_median']\n",
    "pivot_table_box_age_restriction"
   ]
  },
  {
   "cell_type": "code",
   "execution_count": 57,
   "metadata": {},
   "outputs": [
    {
     "data": {
      "image/png": "[encoded data removed]",
      "text/plain": [
       "<Figure size 576x360 with 1 Axes>"
      ]
     },
     "metadata": {
      "needs_background": "light"
     },
     "output_type": "display_data"
    }
   ],
   "source": [
    "pivot_table_box_age_restriction.plot(y = ['box_office_mean','box_office_median'], kind = 'bar', grid=True, figsize=(8,5), legend=True)\n",
    "plt.title('Столбчатая диаграмма зависимости средней и мединной суммы сборов от возрастного ограничения 2016 г.')\n",
    "plt.xlabel('Возрастное ограничение')\n",
    "plt.ylabel('Величина сборов, десятки млн. руб.');"
   ]
  },
  {
   "cell_type": "code",
   "execution_count": 58,
   "metadata": {},
   "outputs": [
    {
     "data": {
      "text/html": [
       "<div>\n",
       "<style scoped>\n",
       "    .dataframe tbody tr th:only-of-type {\n",
       "        vertical-align: middle;\n",
       "    }\n",
       "\n",
       "    .dataframe tbody tr th {\n",
       "        vertical-align: top;\n",
       "    }\n",
       "\n",
       "    .dataframe thead th {\n",
       "        text-align: right;\n",
       "    }\n",
       "</style>\n",
       "<table border=\"1\" class=\"dataframe\">\n",
       "  <thead>\n",
       "    <tr style=\"text-align: right;\">\n",
       "      <th></th>\n",
       "      <th>box_office_mean</th>\n",
       "      <th>box_office_median</th>\n",
       "    </tr>\n",
       "    <tr>\n",
       "      <th>age_restriction</th>\n",
       "      <th></th>\n",
       "      <th></th>\n",
       "    </tr>\n",
       "  </thead>\n",
       "  <tbody>\n",
       "    <tr>\n",
       "      <td>«0+» - для любой зрительской аудитории</td>\n",
       "      <td>7.653298e+07</td>\n",
       "      <td>22178956.0</td>\n",
       "    </tr>\n",
       "    <tr>\n",
       "      <td>«12+» - для детей старше 12 лет</td>\n",
       "      <td>1.914982e+08</td>\n",
       "      <td>9010548.0</td>\n",
       "    </tr>\n",
       "    <tr>\n",
       "      <td>«16+» - для детей старше 16 лет</td>\n",
       "      <td>1.557883e+08</td>\n",
       "      <td>9641407.5</td>\n",
       "    </tr>\n",
       "    <tr>\n",
       "      <td>«18+» - запрещено для детей</td>\n",
       "      <td>6.565643e+07</td>\n",
       "      <td>8212677.0</td>\n",
       "    </tr>\n",
       "    <tr>\n",
       "      <td>«6+» - для детей старше 6 лет</td>\n",
       "      <td>2.734326e+08</td>\n",
       "      <td>50274982.0</td>\n",
       "    </tr>\n",
       "  </tbody>\n",
       "</table>\n",
       "</div>"
      ],
      "text/plain": [
       "                                        box_office_mean  box_office_median\n",
       "age_restriction                                                           \n",
       "«0+» - для любой зрительской аудитории     7.653298e+07         22178956.0\n",
       "«12+» - для детей старше 12 лет            1.914982e+08          9010548.0\n",
       "«16+» - для детей старше 16 лет            1.557883e+08          9641407.5\n",
       "«18+» - запрещено для детей                6.565643e+07          8212677.0\n",
       "«6+» - для детей старше 6 лет              2.734326e+08         50274982.0"
      ]
     },
     "execution_count": 58,
     "metadata": {},
     "output_type": "execute_result"
    }
   ],
   "source": [
    "movies_2017 = movies[movies['show_start_year'] == 2017]\n",
    "pivot_table_box_age_restriction = movies_2017.pivot_table(index = 'age_restriction', values = 'box_office', aggfunc = ['mean', 'median'])\n",
    "pivot_table_box_age_restriction.columns = ['box_office_mean', 'box_office_median']\n",
    "pivot_table_box_age_restriction"
   ]
  },
  {
   "cell_type": "code",
   "execution_count": 59,
   "metadata": {},
   "outputs": [
    {
     "data": {
      "image/png": "[encoded data removed]",
      "text/plain": [
       "<Figure size 576x360 with 1 Axes>"
      ]
     },
     "metadata": {
      "needs_background": "light"
     },
     "output_type": "display_data"
    }
   ],
   "source": [
    "pivot_table_box_age_restriction.plot(y = ['box_office_mean','box_office_median'], kind = 'bar', grid=True, figsize=(8,5), legend=True)\n",
    "plt.title('Столбчатая диаграмма зависимости средней и мединной суммы сборов от возрастного ограничения 2017 г.')\n",
    "plt.xlabel('Возрастное ограничение')\n",
    "plt.ylabel('Величина сборов, десятки млн. руб.');"
   ]
  },
  {
   "cell_type": "code",
   "execution_count": 60,
   "metadata": {},
   "outputs": [
    {
     "data": {
      "text/html": [
       "<div>\n",
       "<style scoped>\n",
       "    .dataframe tbody tr th:only-of-type {\n",
       "        vertical-align: middle;\n",
       "    }\n",
       "\n",
       "    .dataframe tbody tr th {\n",
       "        vertical-align: top;\n",
       "    }\n",
       "\n",
       "    .dataframe thead th {\n",
       "        text-align: right;\n",
       "    }\n",
       "</style>\n",
       "<table border=\"1\" class=\"dataframe\">\n",
       "  <thead>\n",
       "    <tr style=\"text-align: right;\">\n",
       "      <th></th>\n",
       "      <th>box_office_mean</th>\n",
       "      <th>box_office_median</th>\n",
       "    </tr>\n",
       "    <tr>\n",
       "      <th>age_restriction</th>\n",
       "      <th></th>\n",
       "      <th></th>\n",
       "    </tr>\n",
       "  </thead>\n",
       "  <tbody>\n",
       "    <tr>\n",
       "      <td>«0+» - для любой зрительской аудитории</td>\n",
       "      <td>6.489800e+06</td>\n",
       "      <td>3616937.28</td>\n",
       "    </tr>\n",
       "    <tr>\n",
       "      <td>«12+» - для детей старше 12 лет</td>\n",
       "      <td>2.129447e+08</td>\n",
       "      <td>8931965.66</td>\n",
       "    </tr>\n",
       "    <tr>\n",
       "      <td>«16+» - для детей старше 16 лет</td>\n",
       "      <td>1.050220e+08</td>\n",
       "      <td>8751895.75</td>\n",
       "    </tr>\n",
       "    <tr>\n",
       "      <td>«18+» - запрещено для детей</td>\n",
       "      <td>4.893903e+07</td>\n",
       "      <td>7179466.00</td>\n",
       "    </tr>\n",
       "    <tr>\n",
       "      <td>«6+» - для детей старше 6 лет</td>\n",
       "      <td>1.525194e+08</td>\n",
       "      <td>14458669.43</td>\n",
       "    </tr>\n",
       "  </tbody>\n",
       "</table>\n",
       "</div>"
      ],
      "text/plain": [
       "                                        box_office_mean  box_office_median\n",
       "age_restriction                                                           \n",
       "«0+» - для любой зрительской аудитории     6.489800e+06         3616937.28\n",
       "«12+» - для детей старше 12 лет            2.129447e+08         8931965.66\n",
       "«16+» - для детей старше 16 лет            1.050220e+08         8751895.75\n",
       "«18+» - запрещено для детей                4.893903e+07         7179466.00\n",
       "«6+» - для детей старше 6 лет              1.525194e+08        14458669.43"
      ]
     },
     "execution_count": 60,
     "metadata": {},
     "output_type": "execute_result"
    }
   ],
   "source": [
    "movies_2018 = movies[movies['show_start_year'] == 2018]\n",
    "pivot_table_box_age_restriction = movies_2018.pivot_table(index = 'age_restriction', values = 'box_office', aggfunc = ['mean', 'median'])\n",
    "pivot_table_box_age_restriction.columns = ['box_office_mean', 'box_office_median']\n",
    "pivot_table_box_age_restriction"
   ]
  },
  {
   "cell_type": "code",
   "execution_count": 61,
   "metadata": {},
   "outputs": [
    {
     "data": {
      "image/png": "[encoded data removed]",
      "text/plain": [
       "<Figure size 576x360 with 1 Axes>"
      ]
     },
     "metadata": {
      "needs_background": "light"
     },
     "output_type": "display_data"
    }
   ],
   "source": [
    "pivot_table_box_age_restriction.plot(y = ['box_office_mean','box_office_median'], kind = 'bar', grid=True, figsize=(8,5), legend=True)\n",
    "plt.title('Столбчатая диаграмма зависимости средней и мединной суммы сборов от возрастного ограничения 2018 г.')\n",
    "plt.xlabel('Возрастное ограничение')\n",
    "plt.ylabel('Величина сборов, десятки млн. руб.');"
   ]
  },
  {
   "cell_type": "code",
   "execution_count": 62,
   "metadata": {},
   "outputs": [
    {
     "data": {
      "text/html": [
       "<div>\n",
       "<style scoped>\n",
       "    .dataframe tbody tr th:only-of-type {\n",
       "        vertical-align: middle;\n",
       "    }\n",
       "\n",
       "    .dataframe tbody tr th {\n",
       "        vertical-align: top;\n",
       "    }\n",
       "\n",
       "    .dataframe thead th {\n",
       "        text-align: right;\n",
       "    }\n",
       "</style>\n",
       "<table border=\"1\" class=\"dataframe\">\n",
       "  <thead>\n",
       "    <tr style=\"text-align: right;\">\n",
       "      <th></th>\n",
       "      <th>box_office_mean</th>\n",
       "      <th>box_office_median</th>\n",
       "    </tr>\n",
       "    <tr>\n",
       "      <th>age_restriction</th>\n",
       "      <th></th>\n",
       "      <th></th>\n",
       "    </tr>\n",
       "  </thead>\n",
       "  <tbody>\n",
       "    <tr>\n",
       "      <td>«0+» - для любой зрительской аудитории</td>\n",
       "      <td>5.915356e+06</td>\n",
       "      <td>3885434.50</td>\n",
       "    </tr>\n",
       "    <tr>\n",
       "      <td>«12+» - для детей старше 12 лет</td>\n",
       "      <td>1.491788e+08</td>\n",
       "      <td>3405545.76</td>\n",
       "    </tr>\n",
       "    <tr>\n",
       "      <td>«16+» - для детей старше 16 лет</td>\n",
       "      <td>7.164842e+07</td>\n",
       "      <td>3210717.81</td>\n",
       "    </tr>\n",
       "    <tr>\n",
       "      <td>«18+» - запрещено для детей</td>\n",
       "      <td>5.531036e+07</td>\n",
       "      <td>5603216.55</td>\n",
       "    </tr>\n",
       "    <tr>\n",
       "      <td>«6+» - для детей старше 6 лет</td>\n",
       "      <td>1.588118e+08</td>\n",
       "      <td>12525531.67</td>\n",
       "    </tr>\n",
       "  </tbody>\n",
       "</table>\n",
       "</div>"
      ],
      "text/plain": [
       "                                        box_office_mean  box_office_median\n",
       "age_restriction                                                           \n",
       "«0+» - для любой зрительской аудитории     5.915356e+06         3885434.50\n",
       "«12+» - для детей старше 12 лет            1.491788e+08         3405545.76\n",
       "«16+» - для детей старше 16 лет            7.164842e+07         3210717.81\n",
       "«18+» - запрещено для детей                5.531036e+07         5603216.55\n",
       "«6+» - для детей старше 6 лет              1.588118e+08        12525531.67"
      ]
     },
     "execution_count": 62,
     "metadata": {},
     "output_type": "execute_result"
    }
   ],
   "source": [
    "movies_2019 = movies[movies['show_start_year'] == 2019]\n",
    "pivot_table_box_age_restriction = movies_2019.pivot_table(index = 'age_restriction', values = 'box_office', aggfunc = ['mean', 'median'])\n",
    "pivot_table_box_age_restriction.columns = ['box_office_mean', 'box_office_median']\n",
    "pivot_table_box_age_restriction"
   ]
  },
  {
   "cell_type": "code",
   "execution_count": 63,
   "metadata": {
    "scrolled": true
   },
   "outputs": [
    {
     "data": {
      "image/png": "[encoded data removed]",
      "text/plain": [
       "<Figure size 576x360 with 1 Axes>"
      ]
     },
     "metadata": {
      "needs_background": "light"
     },
     "output_type": "display_data"
    }
   ],
   "source": [
    "pivot_table_box_age_restriction.plot(y = ['box_office_mean','box_office_median'], kind = 'bar', grid=True, figsize=(8,5), legend=True)\n",
    "plt.title('Столбчатая диаграмма зависимости средней и мединной суммы сборов от возрастного ограничения 2019 г.')\n",
    "plt.xlabel('Возрастное ограничение')\n",
    "plt.ylabel('Величина сборов, десятки млн. руб.');"
   ]
  },
  {
   "cell_type": "code",
   "execution_count": 114,
   "metadata": {},
   "outputs": [
    {
     "data": {
      "text/html": [
       "<div>\n",
       "<style scoped>\n",
       "    .dataframe tbody tr th:only-of-type {\n",
       "        vertical-align: middle;\n",
       "    }\n",
       "\n",
       "    .dataframe tbody tr th {\n",
       "        vertical-align: top;\n",
       "    }\n",
       "\n",
       "    .dataframe thead th {\n",
       "        text-align: right;\n",
       "    }\n",
       "</style>\n",
       "<table border=\"1\" class=\"dataframe\">\n",
       "  <thead>\n",
       "    <tr style=\"text-align: right;\">\n",
       "      <th>age_restriction</th>\n",
       "      <th>«0+» - для любой зрительской аудитории</th>\n",
       "      <th>«12+» - для детей старше 12 лет</th>\n",
       "      <th>«16+» - для детей старше 16 лет</th>\n",
       "      <th>«18+» - запрещено для детей</th>\n",
       "      <th>«6+» - для детей старше 6 лет</th>\n",
       "    </tr>\n",
       "    <tr>\n",
       "      <th>show_start_year</th>\n",
       "      <th></th>\n",
       "      <th></th>\n",
       "      <th></th>\n",
       "      <th></th>\n",
       "      <th></th>\n",
       "    </tr>\n",
       "  </thead>\n",
       "  <tbody>\n",
       "    <tr>\n",
       "      <td>2014</td>\n",
       "      <td>9.883217e+06</td>\n",
       "      <td>3.077122e+07</td>\n",
       "      <td>6.593161e+06</td>\n",
       "      <td>4.910473e+07</td>\n",
       "      <td>5.768715e+07</td>\n",
       "    </tr>\n",
       "    <tr>\n",
       "      <td>2015</td>\n",
       "      <td>9.719348e+06</td>\n",
       "      <td>1.863821e+08</td>\n",
       "      <td>6.534303e+07</td>\n",
       "      <td>4.145306e+07</td>\n",
       "      <td>1.637945e+08</td>\n",
       "    </tr>\n",
       "    <tr>\n",
       "      <td>2016</td>\n",
       "      <td>3.664118e+06</td>\n",
       "      <td>1.393845e+08</td>\n",
       "      <td>9.168094e+07</td>\n",
       "      <td>4.499291e+07</td>\n",
       "      <td>1.721878e+08</td>\n",
       "    </tr>\n",
       "    <tr>\n",
       "      <td>2017</td>\n",
       "      <td>7.653298e+07</td>\n",
       "      <td>1.914982e+08</td>\n",
       "      <td>1.557883e+08</td>\n",
       "      <td>6.565643e+07</td>\n",
       "      <td>2.734326e+08</td>\n",
       "    </tr>\n",
       "    <tr>\n",
       "      <td>2018</td>\n",
       "      <td>6.489800e+06</td>\n",
       "      <td>2.129447e+08</td>\n",
       "      <td>1.050220e+08</td>\n",
       "      <td>4.893903e+07</td>\n",
       "      <td>1.525194e+08</td>\n",
       "    </tr>\n",
       "    <tr>\n",
       "      <td>2019</td>\n",
       "      <td>5.915356e+06</td>\n",
       "      <td>1.491788e+08</td>\n",
       "      <td>7.164842e+07</td>\n",
       "      <td>5.531036e+07</td>\n",
       "      <td>1.588118e+08</td>\n",
       "    </tr>\n",
       "  </tbody>\n",
       "</table>\n",
       "</div>"
      ],
      "text/plain": [
       "age_restriction  «0+» - для любой зрительской аудитории  \\\n",
       "show_start_year                                           \n",
       "2014                                       9.883217e+06   \n",
       "2015                                       9.719348e+06   \n",
       "2016                                       3.664118e+06   \n",
       "2017                                       7.653298e+07   \n",
       "2018                                       6.489800e+06   \n",
       "2019                                       5.915356e+06   \n",
       "\n",
       "age_restriction  «12+» - для детей старше 12 лет  \\\n",
       "show_start_year                                    \n",
       "2014                                3.077122e+07   \n",
       "2015                                1.863821e+08   \n",
       "2016                                1.393845e+08   \n",
       "2017                                1.914982e+08   \n",
       "2018                                2.129447e+08   \n",
       "2019                                1.491788e+08   \n",
       "\n",
       "age_restriction  «16+» - для детей старше 16 лет  «18+» - запрещено для детей  \\\n",
       "show_start_year                                                                 \n",
       "2014                                6.593161e+06                 4.910473e+07   \n",
       "2015                                6.534303e+07                 4.145306e+07   \n",
       "2016                                9.168094e+07                 4.499291e+07   \n",
       "2017                                1.557883e+08                 6.565643e+07   \n",
       "2018                                1.050220e+08                 4.893903e+07   \n",
       "2019                                7.164842e+07                 5.531036e+07   \n",
       "\n",
       "age_restriction  «6+» - для детей старше 6 лет  \n",
       "show_start_year                                 \n",
       "2014                              5.768715e+07  \n",
       "2015                              1.637945e+08  \n",
       "2016                              1.721878e+08  \n",
       "2017                              2.734326e+08  \n",
       "2018                              1.525194e+08  \n",
       "2019                              1.588118e+08  "
      ]
     },
     "execution_count": 114,
     "metadata": {},
     "output_type": "execute_result"
    }
   ],
   "source": [
    "pivot_table_box_age_restriction = movies.pivot_table(index = 'show_start_year', columns = 'age_restriction', values = 'box_office')\n",
    "pivot_table_box_age_restriction = pivot_table_box_age_restriction.loc[2014:, :]\n",
    "pivot_table_box_age_restriction"
   ]
  },
  {
   "cell_type": "code",
   "execution_count": 115,
   "metadata": {},
   "outputs": [
    {
     "data": {
      "image/png": "[encoded data removed]",
      "text/plain": [
       "<Figure size 720x432 with 1 Axes>"
      ]
     },
     "metadata": {
      "needs_background": "light"
     },
     "output_type": "display_data"
    }
   ],
   "source": [
    "pivot_table_box_age_restriction.plot(y = pivot_table_box_age_restriction.columns, kind = 'bar', grid=True, figsize=(10,6), legend=True, xlim=(2014, 2019))\n",
    "plt.title('Столбчатая диаграмма зависимости суммарных сборов от возрастного ограничения по годам, 2014-2019 гг.')\n",
    "plt.xlabel('Год')\n",
    "plt.ylabel('Величина сборов, сотни млн. руб.');"
   ]
  },
  {
   "cell_type": "markdown",
   "metadata": {},
   "source": [
    "**Вывод**\n",
    "\n",
    "Мы рассмотрели влияние возрастного ограничения аудитории («6+», «12+», «16+», «18+» и т. д.) на сборы фильма в прокате в период с 2015 по 2019 год. В среднем сборы фильмов с возрастным ограничением «12+» и «6+» выше остальных. Лидер год от года меняется, но связано это скорее всего с конкретными премьерами в году. В целом результат предсказуемый, поскольку наиболее крупная аудитория кинотеатров - это семейные люди с детьми 6-16 лет, которые не идут на фильмы с высоким возрастным ограничением («16+» и «18+») и не идут на фильмы с совсем уж низким ограничением «0+», которые зачастую для взрослых и детей постарше слишком уж простые."
   ]
  },
  {
   "cell_type": "markdown",
   "metadata": {
    "id": "l_Kg6Ku4gFya"
   },
   "source": [
    "### Шаг 4. Исследуйте фильмы, которые получили государственную поддержку\n",
    "\n",
    "На этом этапе нет конкретных инструкций и заданий — поищите интересные закономерности в данных. Посмотрите, сколько выделяют средств на поддержку кино. Проверьте, хорошо ли окупаются такие фильмы, какой у них рейтинг."
   ]
  },
  {
   "cell_type": "code",
   "execution_count": 64,
   "metadata": {},
   "outputs": [],
   "source": [
    "movies_with_state_support = movies[(movies['refundable_support'] + movies['nonrefundable_support']) > 0]"
   ]
  },
  {
   "cell_type": "markdown",
   "metadata": {},
   "source": [
    "Создадим столбец с суммарной величиной поддержки"
   ]
  },
  {
   "cell_type": "code",
   "execution_count": 65,
   "metadata": {},
   "outputs": [],
   "source": [
    "# Убрать ложное срабатывание SettingWithCopyWarning\n",
    "pd.options.mode.chained_assignment = None\n",
    "movies_with_state_support['support'] = movies_with_state_support['refundable_support'] + movies_with_state_support['nonrefundable_support']\n",
    "pd.options.mode.chained_assignment = 'warn'"
   ]
  },
  {
   "cell_type": "markdown",
   "metadata": {},
   "source": [
    "Общее число фильмов в датафрейме, получивших государственную поддержку"
   ]
  },
  {
   "cell_type": "code",
   "execution_count": 66,
   "metadata": {
    "id": "W9QKpjUdgFyb"
   },
   "outputs": [
    {
     "data": {
      "text/plain": [
       "315"
      ]
     },
     "execution_count": 66,
     "metadata": {},
     "output_type": "execute_result"
    }
   ],
   "source": [
    "len(movies_with_state_support)"
   ]
  },
  {
   "cell_type": "markdown",
   "metadata": {},
   "source": [
    "Рассмотрим распределение по годам"
   ]
  },
  {
   "cell_type": "code",
   "execution_count": 67,
   "metadata": {},
   "outputs": [
    {
     "data": {
      "text/html": [
       "<div>\n",
       "<style scoped>\n",
       "    .dataframe tbody tr th:only-of-type {\n",
       "        vertical-align: middle;\n",
       "    }\n",
       "\n",
       "    .dataframe tbody tr th {\n",
       "        vertical-align: top;\n",
       "    }\n",
       "\n",
       "    .dataframe thead th {\n",
       "        text-align: right;\n",
       "    }\n",
       "</style>\n",
       "<table border=\"1\" class=\"dataframe\">\n",
       "  <thead>\n",
       "    <tr style=\"text-align: right;\">\n",
       "      <th></th>\n",
       "      <th>films_count</th>\n",
       "    </tr>\n",
       "    <tr>\n",
       "      <th>show_start_year</th>\n",
       "      <th></th>\n",
       "    </tr>\n",
       "  </thead>\n",
       "  <tbody>\n",
       "    <tr>\n",
       "      <td>2013</td>\n",
       "      <td>2</td>\n",
       "    </tr>\n",
       "    <tr>\n",
       "      <td>2014</td>\n",
       "      <td>15</td>\n",
       "    </tr>\n",
       "    <tr>\n",
       "      <td>2015</td>\n",
       "      <td>80</td>\n",
       "    </tr>\n",
       "    <tr>\n",
       "      <td>2016</td>\n",
       "      <td>58</td>\n",
       "    </tr>\n",
       "    <tr>\n",
       "      <td>2017</td>\n",
       "      <td>39</td>\n",
       "    </tr>\n",
       "    <tr>\n",
       "      <td>2018</td>\n",
       "      <td>52</td>\n",
       "    </tr>\n",
       "    <tr>\n",
       "      <td>2019</td>\n",
       "      <td>69</td>\n",
       "    </tr>\n",
       "  </tbody>\n",
       "</table>\n",
       "</div>"
      ],
      "text/plain": [
       "                 films_count\n",
       "show_start_year             \n",
       "2013                       2\n",
       "2014                      15\n",
       "2015                      80\n",
       "2016                      58\n",
       "2017                      39\n",
       "2018                      52\n",
       "2019                      69"
      ]
     },
     "execution_count": 67,
     "metadata": {},
     "output_type": "execute_result"
    }
   ],
   "source": [
    "pivot_table_year = movies_with_state_support.pivot_table(index = 'show_start_year', values = 'title', aggfunc = 'count')\n",
    "pivot_table_year.columns = ['films_count']\n",
    "pivot_table_year"
   ]
  },
  {
   "cell_type": "code",
   "execution_count": 68,
   "metadata": {},
   "outputs": [
    {
     "data": {
      "image/png": "[encoded data removed]",
      "text/plain": [
       "<Figure size 576x360 with 1 Axes>"
      ]
     },
     "metadata": {
      "needs_background": "light"
     },
     "output_type": "display_data"
    }
   ],
   "source": [
    "pivot_table_year.plot(y = 'films_count', kind = 'bar', grid=True, figsize=(8,5), legend=False)\n",
    "plt.title('Столбчатая диаграмма зависимости числа фильмов, получивших госфинансирование от года премьеры, 2013-2019 гг.')\n",
    "plt.xlabel('Год')\n",
    "plt.ylabel('Число фильмов, шт.');"
   ]
  },
  {
   "cell_type": "markdown",
   "metadata": {},
   "source": [
    "Максимальное число фильмов, получивших государственную поддержку в 2015 году. Затем произошел спад к 2017 году и новый рост."
   ]
  },
  {
   "cell_type": "markdown",
   "metadata": {},
   "source": [
    "Рассмотрим общую сумму государственной поддержки"
   ]
  },
  {
   "cell_type": "code",
   "execution_count": 69,
   "metadata": {},
   "outputs": [
    {
     "data": {
      "text/html": [
       "<div>\n",
       "<style scoped>\n",
       "    .dataframe tbody tr th:only-of-type {\n",
       "        vertical-align: middle;\n",
       "    }\n",
       "\n",
       "    .dataframe tbody tr th {\n",
       "        vertical-align: top;\n",
       "    }\n",
       "\n",
       "    .dataframe thead th {\n",
       "        text-align: right;\n",
       "    }\n",
       "</style>\n",
       "<table border=\"1\" class=\"dataframe\">\n",
       "  <thead>\n",
       "    <tr style=\"text-align: right;\">\n",
       "      <th></th>\n",
       "      <th>support_sum</th>\n",
       "    </tr>\n",
       "    <tr>\n",
       "      <th>show_start_year</th>\n",
       "      <th></th>\n",
       "    </tr>\n",
       "  </thead>\n",
       "  <tbody>\n",
       "    <tr>\n",
       "      <td>2013</td>\n",
       "      <td>1.343479e+08</td>\n",
       "    </tr>\n",
       "    <tr>\n",
       "      <td>2014</td>\n",
       "      <td>5.490023e+08</td>\n",
       "    </tr>\n",
       "    <tr>\n",
       "      <td>2015</td>\n",
       "      <td>3.227241e+09</td>\n",
       "    </tr>\n",
       "    <tr>\n",
       "      <td>2016</td>\n",
       "      <td>3.977155e+09</td>\n",
       "    </tr>\n",
       "    <tr>\n",
       "      <td>2017</td>\n",
       "      <td>3.098972e+09</td>\n",
       "    </tr>\n",
       "    <tr>\n",
       "      <td>2018</td>\n",
       "      <td>3.098000e+09</td>\n",
       "    </tr>\n",
       "    <tr>\n",
       "      <td>2019</td>\n",
       "      <td>4.724000e+09</td>\n",
       "    </tr>\n",
       "  </tbody>\n",
       "</table>\n",
       "</div>"
      ],
      "text/plain": [
       "                  support_sum\n",
       "show_start_year              \n",
       "2013             1.343479e+08\n",
       "2014             5.490023e+08\n",
       "2015             3.227241e+09\n",
       "2016             3.977155e+09\n",
       "2017             3.098972e+09\n",
       "2018             3.098000e+09\n",
       "2019             4.724000e+09"
      ]
     },
     "execution_count": 69,
     "metadata": {},
     "output_type": "execute_result"
    }
   ],
   "source": [
    "pivot_table_year = movies_with_state_support.pivot_table(index = 'show_start_year', values = 'support', aggfunc = 'sum')\n",
    "pivot_table_year.columns = ['support_sum']\n",
    "pivot_table_year"
   ]
  },
  {
   "cell_type": "code",
   "execution_count": 70,
   "metadata": {
    "scrolled": true
   },
   "outputs": [
    {
     "data": {
      "image/png": "[encoded data removed]",
      "text/plain": [
       "<Figure size 576x360 with 1 Axes>"
      ]
     },
     "metadata": {
      "needs_background": "light"
     },
     "output_type": "display_data"
    }
   ],
   "source": [
    "pivot_table_year.plot(y = 'support_sum', kind = 'bar', grid=True, figsize=(8,5), legend=False)\n",
    "plt.title('Столбчатая диаграмма зависимости суммарной поддержки от года премьеры, 2013-2019 гг.')\n",
    "plt.xlabel('Год')\n",
    "plt.ylabel('Общая величина поддержки, млрд. руб.');"
   ]
  },
  {
   "cell_type": "markdown",
   "metadata": {},
   "source": [
    "Общая величина господдержки достигла максимума в 2019 году."
   ]
  },
  {
   "cell_type": "markdown",
   "metadata": {},
   "source": [
    "Рассмотрим динамику сборов по годам"
   ]
  },
  {
   "cell_type": "code",
   "execution_count": 71,
   "metadata": {},
   "outputs": [
    {
     "data": {
      "text/html": [
       "<div>\n",
       "<style scoped>\n",
       "    .dataframe tbody tr th:only-of-type {\n",
       "        vertical-align: middle;\n",
       "    }\n",
       "\n",
       "    .dataframe tbody tr th {\n",
       "        vertical-align: top;\n",
       "    }\n",
       "\n",
       "    .dataframe thead th {\n",
       "        text-align: right;\n",
       "    }\n",
       "</style>\n",
       "<table border=\"1\" class=\"dataframe\">\n",
       "  <thead>\n",
       "    <tr style=\"text-align: right;\">\n",
       "      <th></th>\n",
       "      <th>box_office_sum</th>\n",
       "    </tr>\n",
       "    <tr>\n",
       "      <th>show_start_year</th>\n",
       "      <th></th>\n",
       "    </tr>\n",
       "  </thead>\n",
       "  <tbody>\n",
       "    <tr>\n",
       "      <td>2013</td>\n",
       "      <td>2.032239e+07</td>\n",
       "    </tr>\n",
       "    <tr>\n",
       "      <td>2014</td>\n",
       "      <td>1.007188e+09</td>\n",
       "    </tr>\n",
       "    <tr>\n",
       "      <td>2015</td>\n",
       "      <td>4.815747e+09</td>\n",
       "    </tr>\n",
       "    <tr>\n",
       "      <td>2016</td>\n",
       "      <td>4.957724e+09</td>\n",
       "    </tr>\n",
       "    <tr>\n",
       "      <td>2017</td>\n",
       "      <td>1.075952e+10</td>\n",
       "    </tr>\n",
       "    <tr>\n",
       "      <td>2018</td>\n",
       "      <td>9.517657e+09</td>\n",
       "    </tr>\n",
       "    <tr>\n",
       "      <td>2019</td>\n",
       "      <td>8.262021e+09</td>\n",
       "    </tr>\n",
       "  </tbody>\n",
       "</table>\n",
       "</div>"
      ],
      "text/plain": [
       "                 box_office_sum\n",
       "show_start_year                \n",
       "2013               2.032239e+07\n",
       "2014               1.007188e+09\n",
       "2015               4.815747e+09\n",
       "2016               4.957724e+09\n",
       "2017               1.075952e+10\n",
       "2018               9.517657e+09\n",
       "2019               8.262021e+09"
      ]
     },
     "execution_count": 71,
     "metadata": {},
     "output_type": "execute_result"
    }
   ],
   "source": [
    "pivot_table_box_year = movies_with_state_support.pivot_table(index = 'show_start_year', values = 'box_office', aggfunc = 'sum')\n",
    "pivot_table_box_year.columns = ['box_office_sum']\n",
    "pivot_table_box_year"
   ]
  },
  {
   "cell_type": "code",
   "execution_count": 72,
   "metadata": {
    "scrolled": true
   },
   "outputs": [
    {
     "data": {
      "image/png": "[encoded data removed]",
      "text/plain": [
       "<Figure size 576x360 with 1 Axes>"
      ]
     },
     "metadata": {
      "needs_background": "light"
     },
     "output_type": "display_data"
    }
   ],
   "source": [
    "pivot_table_box_year.plot(y = 'box_office_sum', kind = 'bar', grid=True, figsize=(8,5), legend=False)\n",
    "plt.title('Столбчатая диаграмма зависимости суммарных сборов фильмов, получивших госфинансирование, от года премьеры, 2013-2019 гг.')\n",
    "plt.xlabel('Год')\n",
    "plt.ylabel('Суммарные сборы, десятки млрд. руб.');"
   ]
  },
  {
   "cell_type": "markdown",
   "metadata": {},
   "source": [
    "Максимальные сборы фильмов, получивших государственную поддержку, зафиксированы в 2017 году. Необходимо заметить, что в этом же году зафиксировано наименьшее количество фильмов, получивших господдержку и некоторый спад общей суммы поддержки. Скорее всего это связано с ужесточением правил выдачи господдержки, что увеличило общее качество фильмов, на которые были выделены деньги. Можно заметить, что не смотря на увеличение общей суммы господдержки и числа фильмов, на которые были выделены деньги, суммарные сборы уменьшились. То есть общая эффективность вложенных средств уменьшилась."
   ]
  },
  {
   "cell_type": "markdown",
   "metadata": {},
   "source": [
    "Сравним предыдущие графики с бюджетом и проверем окупаемость таких фильмов в целом."
   ]
  },
  {
   "cell_type": "code",
   "execution_count": 73,
   "metadata": {},
   "outputs": [
    {
     "data": {
      "text/plain": [
       "0.20952380952380953"
      ]
     },
     "execution_count": 73,
     "metadata": {},
     "output_type": "execute_result"
    }
   ],
   "source": [
    "movies_with_state_support_profit = movies_with_state_support[movies_with_state_support['budget'] < movies_with_state_support['box_office']]\n",
    "len(movies_with_state_support_profit) / len(movies_with_state_support)"
   ]
  },
  {
   "cell_type": "markdown",
   "metadata": {},
   "source": [
    "Доля окупившихся фильмов из общего числа, получивших господдержку около 21%. Даже учитывая наличие в общем числе некоммерческих проектов (социально значимое кино, артхаус, документальные фильмы и т.д.), значение довольно низкое. К сожалению сравнить этот показатель с фильмами, не получившими государственную поддержку, невозможно, поскольку данные почти все данные по бюджету даны для фильмов с господдержкой."
   ]
  },
  {
   "cell_type": "code",
   "execution_count": 74,
   "metadata": {
    "scrolled": true
   },
   "outputs": [
    {
     "data": {
      "text/html": [
       "<div>\n",
       "<style scoped>\n",
       "    .dataframe tbody tr th:only-of-type {\n",
       "        vertical-align: middle;\n",
       "    }\n",
       "\n",
       "    .dataframe tbody tr th {\n",
       "        vertical-align: top;\n",
       "    }\n",
       "\n",
       "    .dataframe thead th {\n",
       "        text-align: right;\n",
       "    }\n",
       "</style>\n",
       "<table border=\"1\" class=\"dataframe\">\n",
       "  <thead>\n",
       "    <tr style=\"text-align: right;\">\n",
       "      <th></th>\n",
       "      <th>budget_sum</th>\n",
       "    </tr>\n",
       "    <tr>\n",
       "      <th>show_start_year</th>\n",
       "      <th></th>\n",
       "    </tr>\n",
       "  </thead>\n",
       "  <tbody>\n",
       "    <tr>\n",
       "      <td>2013</td>\n",
       "      <td>2.554354e+08</td>\n",
       "    </tr>\n",
       "    <tr>\n",
       "      <td>2014</td>\n",
       "      <td>1.279485e+09</td>\n",
       "    </tr>\n",
       "    <tr>\n",
       "      <td>2015</td>\n",
       "      <td>7.309669e+09</td>\n",
       "    </tr>\n",
       "    <tr>\n",
       "      <td>2016</td>\n",
       "      <td>7.228943e+09</td>\n",
       "    </tr>\n",
       "    <tr>\n",
       "      <td>2017</td>\n",
       "      <td>6.972173e+09</td>\n",
       "    </tr>\n",
       "    <tr>\n",
       "      <td>2018</td>\n",
       "      <td>6.651695e+09</td>\n",
       "    </tr>\n",
       "    <tr>\n",
       "      <td>2019</td>\n",
       "      <td>1.254287e+10</td>\n",
       "    </tr>\n",
       "  </tbody>\n",
       "</table>\n",
       "</div>"
      ],
      "text/plain": [
       "                   budget_sum\n",
       "show_start_year              \n",
       "2013             2.554354e+08\n",
       "2014             1.279485e+09\n",
       "2015             7.309669e+09\n",
       "2016             7.228943e+09\n",
       "2017             6.972173e+09\n",
       "2018             6.651695e+09\n",
       "2019             1.254287e+10"
      ]
     },
     "execution_count": 74,
     "metadata": {},
     "output_type": "execute_result"
    }
   ],
   "source": [
    "pivot_table_budget_year = movies_with_state_support.pivot_table(index = 'show_start_year', values = 'budget', aggfunc = 'sum')\n",
    "pivot_table_budget_year.columns = ['budget_sum']\n",
    "pivot_table_budget_year"
   ]
  },
  {
   "cell_type": "code",
   "execution_count": 75,
   "metadata": {},
   "outputs": [
    {
     "data": {
      "image/png": "[encoded data removed]",
      "text/plain": [
       "<Figure size 576x360 with 1 Axes>"
      ]
     },
     "metadata": {
      "needs_background": "light"
     },
     "output_type": "display_data"
    }
   ],
   "source": [
    "pivot_table_budget_year.plot(y = 'budget_sum', kind = 'bar', grid=True, figsize=(8,5), legend=False)\n",
    "plt.title('Столбчатая диаграмма зависимости суммарных бюджетов фильмов, получивших госфинансирование, от года премьеры, 2013-2019 гг.')\n",
    "plt.xlabel('Год')\n",
    "plt.ylabel('Суммарный бюджет, десятки млрд. руб.');"
   ]
  },
  {
   "cell_type": "markdown",
   "metadata": {},
   "source": [
    "В целом можно увидеть, что качественно график повторяет график с суммарной поддержкой, причем поддержка составляет довольно большую долю от общего бюджета. Опять же стоит повторить, что сборы при этом упали, что говорит о тенденции к ухудшению качества фильмов, несмотря на увеличение финансирования."
   ]
  },
  {
   "cell_type": "markdown",
   "metadata": {},
   "source": [
    "Рассмотрим распределение фильмов, получивших государственную поддержку в зависимости от их рейтинга."
   ]
  },
  {
   "cell_type": "code",
   "execution_count": 76,
   "metadata": {
    "scrolled": true
   },
   "outputs": [
    {
     "data": {
      "text/html": [
       "<div>\n",
       "<style scoped>\n",
       "    .dataframe tbody tr th:only-of-type {\n",
       "        vertical-align: middle;\n",
       "    }\n",
       "\n",
       "    .dataframe tbody tr th {\n",
       "        vertical-align: top;\n",
       "    }\n",
       "\n",
       "    .dataframe thead th {\n",
       "        text-align: right;\n",
       "    }\n",
       "</style>\n",
       "<table border=\"1\" class=\"dataframe\">\n",
       "  <thead>\n",
       "    <tr style=\"text-align: right;\">\n",
       "      <th></th>\n",
       "      <th>films_count</th>\n",
       "    </tr>\n",
       "    <tr>\n",
       "      <th>ratings</th>\n",
       "      <th></th>\n",
       "    </tr>\n",
       "  </thead>\n",
       "  <tbody>\n",
       "    <tr>\n",
       "      <td>1.0</td>\n",
       "      <td>1</td>\n",
       "    </tr>\n",
       "    <tr>\n",
       "      <td>2.5</td>\n",
       "      <td>1</td>\n",
       "    </tr>\n",
       "    <tr>\n",
       "      <td>2.8</td>\n",
       "      <td>1</td>\n",
       "    </tr>\n",
       "    <tr>\n",
       "      <td>2.9</td>\n",
       "      <td>2</td>\n",
       "    </tr>\n",
       "    <tr>\n",
       "      <td>3.0</td>\n",
       "      <td>1</td>\n",
       "    </tr>\n",
       "    <tr>\n",
       "      <td>3.1</td>\n",
       "      <td>1</td>\n",
       "    </tr>\n",
       "    <tr>\n",
       "      <td>3.2</td>\n",
       "      <td>4</td>\n",
       "    </tr>\n",
       "    <tr>\n",
       "      <td>3.3</td>\n",
       "      <td>1</td>\n",
       "    </tr>\n",
       "    <tr>\n",
       "      <td>3.5</td>\n",
       "      <td>1</td>\n",
       "    </tr>\n",
       "    <tr>\n",
       "      <td>3.8</td>\n",
       "      <td>1</td>\n",
       "    </tr>\n",
       "    <tr>\n",
       "      <td>3.9</td>\n",
       "      <td>2</td>\n",
       "    </tr>\n",
       "    <tr>\n",
       "      <td>4.0</td>\n",
       "      <td>2</td>\n",
       "    </tr>\n",
       "    <tr>\n",
       "      <td>4.2</td>\n",
       "      <td>2</td>\n",
       "    </tr>\n",
       "    <tr>\n",
       "      <td>4.3</td>\n",
       "      <td>3</td>\n",
       "    </tr>\n",
       "    <tr>\n",
       "      <td>4.5</td>\n",
       "      <td>4</td>\n",
       "    </tr>\n",
       "    <tr>\n",
       "      <td>4.6</td>\n",
       "      <td>1</td>\n",
       "    </tr>\n",
       "    <tr>\n",
       "      <td>4.7</td>\n",
       "      <td>5</td>\n",
       "    </tr>\n",
       "    <tr>\n",
       "      <td>4.8</td>\n",
       "      <td>6</td>\n",
       "    </tr>\n",
       "    <tr>\n",
       "      <td>4.9</td>\n",
       "      <td>7</td>\n",
       "    </tr>\n",
       "    <tr>\n",
       "      <td>5.0</td>\n",
       "      <td>6</td>\n",
       "    </tr>\n",
       "    <tr>\n",
       "      <td>5.1</td>\n",
       "      <td>7</td>\n",
       "    </tr>\n",
       "    <tr>\n",
       "      <td>5.2</td>\n",
       "      <td>6</td>\n",
       "    </tr>\n",
       "    <tr>\n",
       "      <td>5.3</td>\n",
       "      <td>8</td>\n",
       "    </tr>\n",
       "    <tr>\n",
       "      <td>5.4</td>\n",
       "      <td>8</td>\n",
       "    </tr>\n",
       "    <tr>\n",
       "      <td>5.5</td>\n",
       "      <td>4</td>\n",
       "    </tr>\n",
       "    <tr>\n",
       "      <td>5.6</td>\n",
       "      <td>6</td>\n",
       "    </tr>\n",
       "    <tr>\n",
       "      <td>5.7</td>\n",
       "      <td>8</td>\n",
       "    </tr>\n",
       "    <tr>\n",
       "      <td>5.8</td>\n",
       "      <td>16</td>\n",
       "    </tr>\n",
       "    <tr>\n",
       "      <td>5.9</td>\n",
       "      <td>7</td>\n",
       "    </tr>\n",
       "    <tr>\n",
       "      <td>6.0</td>\n",
       "      <td>8</td>\n",
       "    </tr>\n",
       "    <tr>\n",
       "      <td>6.1</td>\n",
       "      <td>13</td>\n",
       "    </tr>\n",
       "    <tr>\n",
       "      <td>6.2</td>\n",
       "      <td>21</td>\n",
       "    </tr>\n",
       "    <tr>\n",
       "      <td>6.3</td>\n",
       "      <td>14</td>\n",
       "    </tr>\n",
       "    <tr>\n",
       "      <td>6.4</td>\n",
       "      <td>9</td>\n",
       "    </tr>\n",
       "    <tr>\n",
       "      <td>6.5</td>\n",
       "      <td>10</td>\n",
       "    </tr>\n",
       "    <tr>\n",
       "      <td>6.6</td>\n",
       "      <td>15</td>\n",
       "    </tr>\n",
       "    <tr>\n",
       "      <td>6.7</td>\n",
       "      <td>14</td>\n",
       "    </tr>\n",
       "    <tr>\n",
       "      <td>6.8</td>\n",
       "      <td>10</td>\n",
       "    </tr>\n",
       "    <tr>\n",
       "      <td>6.9</td>\n",
       "      <td>10</td>\n",
       "    </tr>\n",
       "    <tr>\n",
       "      <td>7.0</td>\n",
       "      <td>7</td>\n",
       "    </tr>\n",
       "    <tr>\n",
       "      <td>7.1</td>\n",
       "      <td>4</td>\n",
       "    </tr>\n",
       "    <tr>\n",
       "      <td>7.2</td>\n",
       "      <td>4</td>\n",
       "    </tr>\n",
       "    <tr>\n",
       "      <td>7.3</td>\n",
       "      <td>7</td>\n",
       "    </tr>\n",
       "    <tr>\n",
       "      <td>7.4</td>\n",
       "      <td>6</td>\n",
       "    </tr>\n",
       "    <tr>\n",
       "      <td>7.5</td>\n",
       "      <td>6</td>\n",
       "    </tr>\n",
       "    <tr>\n",
       "      <td>7.6</td>\n",
       "      <td>3</td>\n",
       "    </tr>\n",
       "    <tr>\n",
       "      <td>7.7</td>\n",
       "      <td>4</td>\n",
       "    </tr>\n",
       "    <tr>\n",
       "      <td>7.8</td>\n",
       "      <td>3</td>\n",
       "    </tr>\n",
       "    <tr>\n",
       "      <td>7.9</td>\n",
       "      <td>2</td>\n",
       "    </tr>\n",
       "    <tr>\n",
       "      <td>8.0</td>\n",
       "      <td>2</td>\n",
       "    </tr>\n",
       "    <tr>\n",
       "      <td>8.1</td>\n",
       "      <td>1</td>\n",
       "    </tr>\n",
       "    <tr>\n",
       "      <td>8.2</td>\n",
       "      <td>1</td>\n",
       "    </tr>\n",
       "    <tr>\n",
       "      <td>8.5</td>\n",
       "      <td>2</td>\n",
       "    </tr>\n",
       "  </tbody>\n",
       "</table>\n",
       "</div>"
      ],
      "text/plain": [
       "         films_count\n",
       "ratings             \n",
       "1.0                1\n",
       "2.5                1\n",
       "2.8                1\n",
       "2.9                2\n",
       "3.0                1\n",
       "3.1                1\n",
       "3.2                4\n",
       "3.3                1\n",
       "3.5                1\n",
       "3.8                1\n",
       "3.9                2\n",
       "4.0                2\n",
       "4.2                2\n",
       "4.3                3\n",
       "4.5                4\n",
       "4.6                1\n",
       "4.7                5\n",
       "4.8                6\n",
       "4.9                7\n",
       "5.0                6\n",
       "5.1                7\n",
       "5.2                6\n",
       "5.3                8\n",
       "5.4                8\n",
       "5.5                4\n",
       "5.6                6\n",
       "5.7                8\n",
       "5.8               16\n",
       "5.9                7\n",
       "6.0                8\n",
       "6.1               13\n",
       "6.2               21\n",
       "6.3               14\n",
       "6.4                9\n",
       "6.5               10\n",
       "6.6               15\n",
       "6.7               14\n",
       "6.8               10\n",
       "6.9               10\n",
       "7.0                7\n",
       "7.1                4\n",
       "7.2                4\n",
       "7.3                7\n",
       "7.4                6\n",
       "7.5                6\n",
       "7.6                3\n",
       "7.7                4\n",
       "7.8                3\n",
       "7.9                2\n",
       "8.0                2\n",
       "8.1                1\n",
       "8.2                1\n",
       "8.5                2"
      ]
     },
     "execution_count": 76,
     "metadata": {},
     "output_type": "execute_result"
    }
   ],
   "source": [
    "pivot_table_ratings = movies_with_state_support.pivot_table(index = 'ratings', values = 'title', aggfunc = 'count')\n",
    "pivot_table_ratings.columns = ['films_count']\n",
    "pivot_table_ratings"
   ]
  },
  {
   "cell_type": "code",
   "execution_count": 77,
   "metadata": {},
   "outputs": [
    {
     "data": {
      "image/png": "[encoded data removed]",
      "text/plain": [
       "<Figure size 576x360 with 1 Axes>"
      ]
     },
     "metadata": {
      "needs_background": "light"
     },
     "output_type": "display_data"
    }
   ],
   "source": [
    "pivot_table_ratings.plot(y = 'films_count', kind = 'bar', grid=True, figsize=(8,5), legend=False)\n",
    "plt.title('Столбчатая диаграмма зависимости числа фильмов, получивших госфинансирование, от рейтинга, 2013-2019 гг.')\n",
    "plt.xlabel('Рейтинг')\n",
    "plt.ylabel('Число фильмов, шт.');"
   ]
  },
  {
   "cell_type": "code",
   "execution_count": 78,
   "metadata": {},
   "outputs": [
    {
     "data": {
      "text/html": [
       "<div>\n",
       "<style scoped>\n",
       "    .dataframe tbody tr th:only-of-type {\n",
       "        vertical-align: middle;\n",
       "    }\n",
       "\n",
       "    .dataframe tbody tr th {\n",
       "        vertical-align: top;\n",
       "    }\n",
       "\n",
       "    .dataframe thead th {\n",
       "        text-align: right;\n",
       "    }\n",
       "</style>\n",
       "<table border=\"1\" class=\"dataframe\">\n",
       "  <thead>\n",
       "    <tr style=\"text-align: right;\">\n",
       "      <th></th>\n",
       "      <th>rating_median</th>\n",
       "      <th>rating_mean</th>\n",
       "    </tr>\n",
       "    <tr>\n",
       "      <th>show_start_year</th>\n",
       "      <th></th>\n",
       "      <th></th>\n",
       "    </tr>\n",
       "  </thead>\n",
       "  <tbody>\n",
       "    <tr>\n",
       "      <td>2013</td>\n",
       "      <td>6.70</td>\n",
       "      <td>6.700000</td>\n",
       "    </tr>\n",
       "    <tr>\n",
       "      <td>2014</td>\n",
       "      <td>6.35</td>\n",
       "      <td>5.964286</td>\n",
       "    </tr>\n",
       "    <tr>\n",
       "      <td>2015</td>\n",
       "      <td>6.20</td>\n",
       "      <td>6.061333</td>\n",
       "    </tr>\n",
       "    <tr>\n",
       "      <td>2016</td>\n",
       "      <td>5.90</td>\n",
       "      <td>5.692593</td>\n",
       "    </tr>\n",
       "    <tr>\n",
       "      <td>2017</td>\n",
       "      <td>6.20</td>\n",
       "      <td>6.054054</td>\n",
       "    </tr>\n",
       "    <tr>\n",
       "      <td>2018</td>\n",
       "      <td>6.30</td>\n",
       "      <td>6.042000</td>\n",
       "    </tr>\n",
       "    <tr>\n",
       "      <td>2019</td>\n",
       "      <td>6.15</td>\n",
       "      <td>6.175758</td>\n",
       "    </tr>\n",
       "  </tbody>\n",
       "</table>\n",
       "</div>"
      ],
      "text/plain": [
       "                 rating_median  rating_mean\n",
       "show_start_year                            \n",
       "2013                      6.70     6.700000\n",
       "2014                      6.35     5.964286\n",
       "2015                      6.20     6.061333\n",
       "2016                      5.90     5.692593\n",
       "2017                      6.20     6.054054\n",
       "2018                      6.30     6.042000\n",
       "2019                      6.15     6.175758"
      ]
     },
     "execution_count": 78,
     "metadata": {},
     "output_type": "execute_result"
    }
   ],
   "source": [
    "pivot_table_ratings = movies_with_state_support.pivot_table(index = 'show_start_year', values = 'ratings', aggfunc = ['median', 'mean'])\n",
    "pivot_table_ratings.columns = ['rating_median', 'rating_mean']\n",
    "pivot_table_ratings"
   ]
  },
  {
   "cell_type": "code",
   "execution_count": 79,
   "metadata": {},
   "outputs": [
    {
     "data": {
      "image/png": "[encoded data removed]",
      "text/plain": [
       "<Figure size 576x360 with 1 Axes>"
      ]
     },
     "metadata": {
      "needs_background": "light"
     },
     "output_type": "display_data"
    }
   ],
   "source": [
    "pivot_table_ratings.plot(y = ['rating_median', 'rating_mean'], kind = 'bar', grid=True, figsize=(8,5), legend=True)\n",
    "plt.title('Столбчатая диаграмма зависимости среднего и медианного рейтинга, получивших госфинансирование, от года премьеры, 2013-2019 гг.')\n",
    "plt.xlabel('Год')\n",
    "plt.ylabel('Рейтинг');"
   ]
  },
  {
   "cell_type": "code",
   "execution_count": 80,
   "metadata": {},
   "outputs": [
    {
     "data": {
      "text/plain": [
       "6.2"
      ]
     },
     "execution_count": 80,
     "metadata": {},
     "output_type": "execute_result"
    }
   ],
   "source": [
    "movies_with_state_support['ratings'].median()"
   ]
  },
  {
   "cell_type": "code",
   "execution_count": 81,
   "metadata": {},
   "outputs": [
    {
     "data": {
      "text/plain": [
       "6.015436241610738"
      ]
     },
     "execution_count": 81,
     "metadata": {},
     "output_type": "execute_result"
    }
   ],
   "source": [
    "movies_with_state_support['ratings'].mean()"
   ]
  },
  {
   "cell_type": "markdown",
   "metadata": {},
   "source": [
    "Среднее значение рейтинга по фильмам, получивших господдержку равно 6,02, медианное значение - 6,2. По графику можно видеть снижение среднего рейтинга к 2016 году, а затем рост с небольшим снижением в 2019 году."
   ]
  },
  {
   "cell_type": "markdown",
   "metadata": {},
   "source": [
    "Построим такой же график для всех фильмов."
   ]
  },
  {
   "cell_type": "code",
   "execution_count": 82,
   "metadata": {},
   "outputs": [
    {
     "data": {
      "image/png": "[encoded data removed]",
      "text/plain": [
       "<Figure size 576x360 with 1 Axes>"
      ]
     },
     "metadata": {
      "needs_background": "light"
     },
     "output_type": "display_data"
    }
   ],
   "source": [
    "pivot_table_ratings = movies.pivot_table(index = 'show_start_year', values = 'ratings', aggfunc = ['median', 'mean'])\n",
    "pivot_table_ratings.columns = ['rating_median', 'rating_mean']\n",
    "pivot_table_ratings.plot(y = ['rating_median', 'rating_mean'], kind = 'bar', grid=True, figsize=(8,5), legend=True)\n",
    "plt.title('Столбчатая диаграмма зависимости среднего и медианного рейтинга от года премьеры, 2010-2019 гг.')\n",
    "plt.xlabel('Год')\n",
    "plt.ylabel('Рейтинг');"
   ]
  },
  {
   "cell_type": "code",
   "execution_count": 83,
   "metadata": {},
   "outputs": [
    {
     "data": {
      "text/plain": [
       "6.6"
      ]
     },
     "execution_count": 83,
     "metadata": {},
     "output_type": "execute_result"
    }
   ],
   "source": [
    "movies['ratings'].median()"
   ]
  },
  {
   "cell_type": "code",
   "execution_count": 84,
   "metadata": {},
   "outputs": [
    {
     "data": {
      "text/plain": [
       "6.480886897404202"
      ]
     },
     "execution_count": 84,
     "metadata": {},
     "output_type": "execute_result"
    }
   ],
   "source": [
    "movies['ratings'].mean()"
   ]
  },
  {
   "cell_type": "markdown",
   "metadata": {},
   "source": [
    "Можно сделать вывод о том, что в среднем рейтинги фильмов, получающих госфинансирование ниже общих рейтингов (это связано с тем, что в среднем иностранные картины, попадающие на российский рынок имеют довольно высокое качество, иначе у них не было бы такого широкого проката)."
   ]
  },
  {
   "cell_type": "markdown",
   "metadata": {
    "id": "V2gYwMcPgFyd"
   },
   "source": [
    "### Шаг 5. Напишите общий вывод"
   ]
  },
  {
   "cell_type": "markdown",
   "metadata": {
    "id": "AYRg3dzXgFye"
   },
   "source": [
    "1. Был исследован рынок российского кинопроката; \n",
    "2. Оценены данные в целом, определены пропущенные значения. В случае наличия логичной замены эти пропуски были заполнены; Остальные остались нетронутыми, чтобы не повлиять на результат исследования;\n",
    "3. Изменены типы данных в соответствии с логикой данных в столбцах;\n",
    "4. Таблица была дополнена необходимыми для исследования столбцами;\n",
    "5. Были исследованы распределения параметров, построены гистограммы общего числа фильмов по годам, оценена динамика проката по годам, а также изучено влияние возрастного рейтинга на сборы;\n",
    "6. Был исследован рынок фильмов, получивших господдержку, рассмотрено распределение их количества по годам, суммарной величины господдержки по годам, суммарных сборов этих фильмов по годам, оценена их окупаемость (21%), построены столбчатые диаграммы распределения по рейтингу и диаграммы зависимости среднего и медианного рейтингов по годам для фильмов, получивших господдержку, и всего рынка.\n",
    "7. Можно сделать вывод о том, что качество фильмов с 2017 года несколько снизилось, что говорит о проблемах в системе адресной поддержки кинокартин. Уменьшилась величина общих сборов, хотя суммарная величина поддержки увеличилась Кроме того, средний рейтинг фильмов, получивших господдержку, ниже среднего по рынку, что говорит о том, что российский рынок все ещё отстает от западного (господдержку получают в подавляющем большинстве российские кинокартины, тогда как общий рынок содержит в себе и иностранные картины)."
   ]
  }
 ],
 "metadata": {
  "ExecuteTimeLog": [
   {
    "duration": 537,
    "start_time": "2021-07-07T10:12:08.634Z"
   },
   {
    "duration": 206,
    "start_time": "2021-07-07T10:12:30.191Z"
   },
   {
    "duration": 227,
    "start_time": "2021-07-07T10:12:33.078Z"
   },
   {
    "duration": 153,
    "start_time": "2021-07-07T10:13:42.146Z"
   },
   {
    "duration": 233,
    "start_time": "2021-07-07T10:30:09.252Z"
   },
   {
    "duration": 19,
    "start_time": "2021-07-07T10:30:15.577Z"
   },
   {
    "duration": 18,
    "start_time": "2021-07-07T10:30:57.348Z"
   },
   {
    "duration": 19,
    "start_time": "2021-07-07T10:31:17.452Z"
   },
   {
    "duration": 21,
    "start_time": "2021-07-07T10:31:32.227Z"
   },
   {
    "duration": 27,
    "start_time": "2021-07-07T10:32:06.588Z"
   },
   {
    "duration": 23,
    "start_time": "2021-07-07T10:32:43.645Z"
   },
   {
    "duration": 24,
    "start_time": "2021-07-07T10:33:06.948Z"
   },
   {
    "duration": 7,
    "start_time": "2021-07-07T10:33:28.558Z"
   },
   {
    "duration": 23,
    "start_time": "2021-07-07T10:33:43.761Z"
   },
   {
    "duration": 28,
    "start_time": "2021-07-07T10:34:13.466Z"
   },
   {
    "duration": 23,
    "start_time": "2021-07-07T10:35:56.187Z"
   },
   {
    "duration": 6,
    "start_time": "2021-07-07T10:36:48.182Z"
   },
   {
    "duration": 14,
    "start_time": "2021-07-07T10:37:49.641Z"
   },
   {
    "duration": 6,
    "start_time": "2021-07-07T10:38:06.694Z"
   },
   {
    "duration": 6,
    "start_time": "2021-07-07T10:38:13.493Z"
   },
   {
    "duration": 19,
    "start_time": "2021-07-07T10:38:44.056Z"
   },
   {
    "duration": 186,
    "start_time": "2021-07-07T10:48:35.618Z"
   },
   {
    "duration": 24,
    "start_time": "2021-07-07T10:48:51.498Z"
   },
   {
    "duration": 20,
    "start_time": "2021-07-07T10:48:59.415Z"
   },
   {
    "duration": 20,
    "start_time": "2021-07-07T10:53:02.195Z"
   },
   {
    "duration": 188,
    "start_time": "2021-07-07T10:54:40.486Z"
   },
   {
    "duration": 115,
    "start_time": "2021-07-07T10:54:52.552Z"
   },
   {
    "duration": 214,
    "start_time": "2021-07-07T10:54:56.354Z"
   },
   {
    "duration": 47,
    "start_time": "2021-07-07T10:54:58.282Z"
   },
   {
    "duration": 217,
    "start_time": "2021-07-07T10:59:16.075Z"
   },
   {
    "duration": 51,
    "start_time": "2021-07-07T10:59:16.243Z"
   },
   {
    "duration": 578,
    "start_time": "2021-07-07T10:59:18.774Z"
   },
   {
    "duration": 161,
    "start_time": "2021-07-07T10:59:21.238Z"
   },
   {
    "duration": 59,
    "start_time": "2021-07-07T10:59:21.453Z"
   },
   {
    "duration": 3,
    "start_time": "2021-07-07T11:02:10.786Z"
   },
   {
    "duration": 13,
    "start_time": "2021-07-07T11:07:07.722Z"
   },
   {
    "duration": 26,
    "start_time": "2021-07-07T11:07:17.958Z"
   },
   {
    "duration": 22,
    "start_time": "2021-07-07T11:08:17.939Z"
   },
   {
    "duration": 212,
    "start_time": "2021-07-07T11:08:19.665Z"
   },
   {
    "duration": 21,
    "start_time": "2021-07-07T11:08:29.945Z"
   },
   {
    "duration": 31,
    "start_time": "2021-07-07T11:08:38.899Z"
   },
   {
    "duration": 23,
    "start_time": "2021-07-07T11:08:54.527Z"
   },
   {
    "duration": 8,
    "start_time": "2021-07-07T11:18:55.974Z"
   },
   {
    "duration": 7,
    "start_time": "2021-07-07T11:19:03.639Z"
   },
   {
    "duration": 7,
    "start_time": "2021-07-07T11:19:06.444Z"
   },
   {
    "duration": 578,
    "start_time": "2021-07-07T12:09:59.576Z"
   },
   {
    "duration": 195,
    "start_time": "2021-07-07T12:10:00.156Z"
   },
   {
    "duration": 115,
    "start_time": "2021-07-07T12:10:00.353Z"
   },
   {
    "duration": 3,
    "start_time": "2021-07-07T12:10:00.470Z"
   },
   {
    "duration": 32,
    "start_time": "2021-07-07T12:10:00.474Z"
   },
   {
    "duration": 23,
    "start_time": "2021-07-07T12:10:00.508Z"
   },
   {
    "duration": 19,
    "start_time": "2021-07-07T12:10:00.533Z"
   },
   {
    "duration": 44,
    "start_time": "2021-07-07T12:10:00.553Z"
   },
   {
    "duration": 7,
    "start_time": "2021-07-07T12:10:00.600Z"
   },
   {
    "duration": 7,
    "start_time": "2021-07-07T12:19:45.761Z"
   },
   {
    "duration": 21,
    "start_time": "2021-07-07T12:21:35.482Z"
   },
   {
    "duration": 21,
    "start_time": "2021-07-07T12:29:23.569Z"
   },
   {
    "duration": 525,
    "start_time": "2021-07-07T12:29:44.542Z"
   },
   {
    "duration": 214,
    "start_time": "2021-07-07T12:29:45.069Z"
   },
   {
    "duration": 92,
    "start_time": "2021-07-07T12:29:45.285Z"
   },
   {
    "duration": 3,
    "start_time": "2021-07-07T12:29:45.379Z"
   },
   {
    "duration": 28,
    "start_time": "2021-07-07T12:29:45.384Z"
   },
   {
    "duration": 23,
    "start_time": "2021-07-07T12:29:45.413Z"
   },
   {
    "duration": 21,
    "start_time": "2021-07-07T12:29:45.437Z"
   },
   {
    "duration": 41,
    "start_time": "2021-07-07T12:29:45.460Z"
   },
   {
    "duration": 7,
    "start_time": "2021-07-07T12:29:45.502Z"
   },
   {
    "duration": 20,
    "start_time": "2021-07-07T12:29:45.511Z"
   },
   {
    "duration": 12,
    "start_time": "2021-07-07T12:34:02.800Z"
   },
   {
    "duration": 7,
    "start_time": "2021-07-07T12:35:10.479Z"
   },
   {
    "duration": 8,
    "start_time": "2021-07-07T12:35:22.440Z"
   },
   {
    "duration": 6,
    "start_time": "2021-07-07T12:35:35.649Z"
   },
   {
    "duration": 6,
    "start_time": "2021-07-07T12:35:43.107Z"
   },
   {
    "duration": 22,
    "start_time": "2021-07-07T12:38:03.029Z"
   },
   {
    "duration": 10,
    "start_time": "2021-07-07T12:38:06.592Z"
   },
   {
    "duration": 563,
    "start_time": "2021-07-07T12:38:46.493Z"
   },
   {
    "duration": 265,
    "start_time": "2021-07-07T12:38:47.058Z"
   },
   {
    "duration": 94,
    "start_time": "2021-07-07T12:38:47.325Z"
   },
   {
    "duration": 3,
    "start_time": "2021-07-07T12:38:47.422Z"
   },
   {
    "duration": 30,
    "start_time": "2021-07-07T12:38:47.427Z"
   },
   {
    "duration": 16,
    "start_time": "2021-07-07T12:38:53.305Z"
   },
   {
    "duration": 10,
    "start_time": "2021-07-07T12:38:53.499Z"
   },
   {
    "duration": 8,
    "start_time": "2021-07-07T12:39:48.161Z"
   },
   {
    "duration": 27,
    "start_time": "2021-07-07T12:41:17.629Z"
   },
   {
    "duration": 17,
    "start_time": "2021-07-07T12:41:17.867Z"
   },
   {
    "duration": 21,
    "start_time": "2021-07-07T12:41:19.310Z"
   },
   {
    "duration": 7,
    "start_time": "2021-07-07T12:41:19.544Z"
   },
   {
    "duration": 20,
    "start_time": "2021-07-07T12:41:20.504Z"
   },
   {
    "duration": 554,
    "start_time": "2021-07-07T12:56:23.696Z"
   },
   {
    "duration": 200,
    "start_time": "2021-07-07T12:56:25.234Z"
   },
   {
    "duration": 119,
    "start_time": "2021-07-07T12:56:25.480Z"
   },
   {
    "duration": 4,
    "start_time": "2021-07-07T12:56:25.762Z"
   },
   {
    "duration": 26,
    "start_time": "2021-07-07T12:56:27.172Z"
   },
   {
    "duration": 12,
    "start_time": "2021-07-07T12:56:29.051Z"
   },
   {
    "duration": 10,
    "start_time": "2021-07-07T12:56:29.291Z"
   },
   {
    "duration": 8,
    "start_time": "2021-07-07T12:56:29.623Z"
   },
   {
    "duration": 28,
    "start_time": "2021-07-07T12:56:32.137Z"
   },
   {
    "duration": 19,
    "start_time": "2021-07-07T12:56:39.785Z"
   },
   {
    "duration": 20,
    "start_time": "2021-07-07T12:56:44.297Z"
   },
   {
    "duration": 7,
    "start_time": "2021-07-07T12:56:45.392Z"
   },
   {
    "duration": 23,
    "start_time": "2021-07-07T12:56:46.615Z"
   },
   {
    "duration": 4,
    "start_time": "2021-07-07T12:57:06.625Z"
   },
   {
    "duration": 32,
    "start_time": "2021-07-07T12:57:36.690Z"
   },
   {
    "duration": 18,
    "start_time": "2021-07-07T12:58:00.149Z"
   },
   {
    "duration": 15,
    "start_time": "2021-07-07T12:59:16.793Z"
   },
   {
    "duration": 7,
    "start_time": "2021-07-07T13:19:22.624Z"
   },
   {
    "duration": 6,
    "start_time": "2021-07-07T14:17:33.527Z"
   },
   {
    "duration": 9,
    "start_time": "2021-07-07T14:17:48.409Z"
   },
   {
    "duration": 8,
    "start_time": "2021-07-07T14:20:13.060Z"
   },
   {
    "duration": 8,
    "start_time": "2021-07-07T14:20:37.957Z"
   },
   {
    "duration": 8,
    "start_time": "2021-07-07T14:20:47.470Z"
   },
   {
    "duration": 9,
    "start_time": "2021-07-07T14:20:54.503Z"
   },
   {
    "duration": 10,
    "start_time": "2021-07-07T14:28:57.763Z"
   },
   {
    "duration": 3,
    "start_time": "2021-07-07T14:30:23.377Z"
   },
   {
    "duration": 3,
    "start_time": "2021-07-07T14:30:36.489Z"
   },
   {
    "duration": 103,
    "start_time": "2021-07-07T14:30:52.351Z"
   },
   {
    "duration": 8,
    "start_time": "2021-07-07T14:30:54.763Z"
   },
   {
    "duration": 8,
    "start_time": "2021-07-07T14:31:29.301Z"
   },
   {
    "duration": 13,
    "start_time": "2021-07-07T14:31:44.516Z"
   },
   {
    "duration": 7,
    "start_time": "2021-07-07T14:33:10.972Z"
   },
   {
    "duration": 11,
    "start_time": "2021-07-07T14:33:27.780Z"
   },
   {
    "duration": 8,
    "start_time": "2021-07-07T14:34:44.588Z"
   },
   {
    "duration": 57,
    "start_time": "2021-07-07T14:35:59.042Z"
   },
   {
    "duration": 3,
    "start_time": "2021-07-07T14:36:28.168Z"
   },
   {
    "duration": 5,
    "start_time": "2021-07-07T14:36:46.254Z"
   },
   {
    "duration": 4,
    "start_time": "2021-07-07T14:36:52.714Z"
   },
   {
    "duration": 3,
    "start_time": "2021-07-07T14:36:56.612Z"
   },
   {
    "duration": 4,
    "start_time": "2021-07-07T14:36:57.049Z"
   },
   {
    "duration": 3,
    "start_time": "2021-07-07T14:39:21.214Z"
   },
   {
    "duration": 7,
    "start_time": "2021-07-07T14:39:52.406Z"
   },
   {
    "duration": 11,
    "start_time": "2021-07-07T14:39:58.576Z"
   },
   {
    "duration": 9,
    "start_time": "2021-07-07T14:40:26.301Z"
   },
   {
    "duration": 10,
    "start_time": "2021-07-07T14:40:31.704Z"
   },
   {
    "duration": 11,
    "start_time": "2021-07-07T14:40:36.249Z"
   },
   {
    "duration": 10,
    "start_time": "2021-07-07T14:40:39.783Z"
   },
   {
    "duration": 9,
    "start_time": "2021-07-07T14:40:48.558Z"
   },
   {
    "duration": 10,
    "start_time": "2021-07-07T14:40:57.143Z"
   },
   {
    "duration": 9,
    "start_time": "2021-07-07T14:41:06.074Z"
   },
   {
    "duration": 4324,
    "start_time": "2021-07-07T14:41:22.004Z"
   },
   {
    "duration": 11,
    "start_time": "2021-07-07T14:41:33.392Z"
   },
   {
    "duration": 9,
    "start_time": "2021-07-07T14:41:39.288Z"
   },
   {
    "duration": 569,
    "start_time": "2021-07-07T14:42:14.387Z"
   },
   {
    "duration": 197,
    "start_time": "2021-07-07T14:42:14.959Z"
   },
   {
    "duration": 84,
    "start_time": "2021-07-07T14:42:16.052Z"
   },
   {
    "duration": 4,
    "start_time": "2021-07-07T14:42:16.900Z"
   },
   {
    "duration": 27,
    "start_time": "2021-07-07T14:42:19.898Z"
   },
   {
    "duration": 12,
    "start_time": "2021-07-07T14:42:21.577Z"
   },
   {
    "duration": 9,
    "start_time": "2021-07-07T14:42:21.813Z"
   },
   {
    "duration": 9,
    "start_time": "2021-07-07T14:42:22.569Z"
   },
   {
    "duration": 29,
    "start_time": "2021-07-07T14:42:25.837Z"
   },
   {
    "duration": 20,
    "start_time": "2021-07-07T14:42:27.003Z"
   },
   {
    "duration": 21,
    "start_time": "2021-07-07T14:42:28.767Z"
   },
   {
    "duration": 7,
    "start_time": "2021-07-07T14:42:29.838Z"
   },
   {
    "duration": 4,
    "start_time": "2021-07-07T14:43:25.493Z"
   },
   {
    "duration": 7,
    "start_time": "2021-07-07T14:43:26.573Z"
   },
   {
    "duration": 10,
    "start_time": "2021-07-07T14:43:31.639Z"
   },
   {
    "duration": 9,
    "start_time": "2021-07-07T14:43:32.046Z"
   },
   {
    "duration": 10,
    "start_time": "2021-07-07T14:43:33.301Z"
   },
   {
    "duration": 12,
    "start_time": "2021-07-07T14:43:33.658Z"
   },
   {
    "duration": 8,
    "start_time": "2021-07-07T14:43:34.552Z"
   },
   {
    "duration": 9,
    "start_time": "2021-07-07T14:43:35.058Z"
   },
   {
    "duration": 12,
    "start_time": "2021-07-07T14:43:35.914Z"
   },
   {
    "duration": 17,
    "start_time": "2021-07-07T14:45:34.368Z"
   },
   {
    "duration": 512,
    "start_time": "2021-07-07T14:51:58.236Z"
   },
   {
    "duration": 223,
    "start_time": "2021-07-07T14:51:58.750Z"
   },
   {
    "duration": 93,
    "start_time": "2021-07-07T14:51:58.977Z"
   },
   {
    "duration": 4,
    "start_time": "2021-07-07T14:51:59.071Z"
   },
   {
    "duration": 37,
    "start_time": "2021-07-07T14:51:59.077Z"
   },
   {
    "duration": 18,
    "start_time": "2021-07-07T14:51:59.116Z"
   },
   {
    "duration": 10,
    "start_time": "2021-07-07T14:51:59.137Z"
   },
   {
    "duration": 8,
    "start_time": "2021-07-07T14:51:59.149Z"
   },
   {
    "duration": 54,
    "start_time": "2021-07-07T14:51:59.158Z"
   },
   {
    "duration": 18,
    "start_time": "2021-07-07T14:51:59.213Z"
   },
   {
    "duration": 22,
    "start_time": "2021-07-07T14:51:59.232Z"
   },
   {
    "duration": 36,
    "start_time": "2021-07-07T14:51:59.255Z"
   },
   {
    "duration": 7,
    "start_time": "2021-07-07T14:51:59.293Z"
   },
   {
    "duration": 10,
    "start_time": "2021-07-07T14:51:59.302Z"
   },
   {
    "duration": 9,
    "start_time": "2021-07-07T14:51:59.313Z"
   },
   {
    "duration": 11,
    "start_time": "2021-07-07T14:51:59.324Z"
   },
   {
    "duration": 8,
    "start_time": "2021-07-07T14:51:59.337Z"
   },
   {
    "duration": 46,
    "start_time": "2021-07-07T14:51:59.347Z"
   },
   {
    "duration": 22,
    "start_time": "2021-07-07T14:51:59.395Z"
   },
   {
    "duration": 24,
    "start_time": "2021-07-07T14:57:32.911Z"
   },
   {
    "duration": 7,
    "start_time": "2021-07-07T14:58:22.070Z"
   },
   {
    "duration": 4,
    "start_time": "2021-07-07T14:59:11.239Z"
   },
   {
    "duration": 25,
    "start_time": "2021-07-07T15:07:22.208Z"
   },
   {
    "duration": 16,
    "start_time": "2021-07-07T15:08:25.560Z"
   },
   {
    "duration": 15,
    "start_time": "2021-07-07T15:08:40.647Z"
   },
   {
    "duration": 14,
    "start_time": "2021-07-07T15:08:46.669Z"
   },
   {
    "duration": 533,
    "start_time": "2021-07-07T15:18:07.440Z"
   },
   {
    "duration": 173,
    "start_time": "2021-07-07T15:18:07.974Z"
   },
   {
    "duration": 84,
    "start_time": "2021-07-07T15:18:08.149Z"
   },
   {
    "duration": 3,
    "start_time": "2021-07-07T15:18:08.235Z"
   },
   {
    "duration": 30,
    "start_time": "2021-07-07T15:18:08.240Z"
   },
   {
    "duration": 22,
    "start_time": "2021-07-07T15:18:08.272Z"
   },
   {
    "duration": 11,
    "start_time": "2021-07-07T15:18:08.295Z"
   },
   {
    "duration": 11,
    "start_time": "2021-07-07T15:18:08.309Z"
   },
   {
    "duration": 40,
    "start_time": "2021-07-07T15:18:08.322Z"
   },
   {
    "duration": 42,
    "start_time": "2021-07-07T15:18:08.364Z"
   },
   {
    "duration": 22,
    "start_time": "2021-07-07T15:18:08.408Z"
   },
   {
    "duration": 5,
    "start_time": "2021-07-07T15:18:08.432Z"
   },
   {
    "duration": 13,
    "start_time": "2021-07-07T15:18:08.439Z"
   },
   {
    "duration": 9,
    "start_time": "2021-07-07T15:18:08.454Z"
   },
   {
    "duration": 32,
    "start_time": "2021-07-07T15:18:08.465Z"
   },
   {
    "duration": 10,
    "start_time": "2021-07-07T15:18:08.501Z"
   },
   {
    "duration": 7,
    "start_time": "2021-07-07T15:18:08.513Z"
   },
   {
    "duration": 11,
    "start_time": "2021-07-07T15:18:08.521Z"
   },
   {
    "duration": 17,
    "start_time": "2021-07-07T15:18:08.534Z"
   },
   {
    "duration": 44,
    "start_time": "2021-07-07T15:18:08.553Z"
   },
   {
    "duration": 22,
    "start_time": "2021-07-07T15:18:08.599Z"
   },
   {
    "duration": 61,
    "start_time": "2021-07-07T15:18:08.622Z"
   },
   {
    "duration": 7,
    "start_time": "2021-07-07T15:18:39.457Z"
   },
   {
    "duration": 5,
    "start_time": "2021-07-07T16:05:17.020Z"
   },
   {
    "duration": 5,
    "start_time": "2021-07-07T16:51:28.794Z"
   },
   {
    "duration": 546,
    "start_time": "2021-07-07T16:52:26.306Z"
   },
   {
    "duration": 203,
    "start_time": "2021-07-07T16:52:27.523Z"
   },
   {
    "duration": 85,
    "start_time": "2021-07-07T16:52:27.736Z"
   },
   {
    "duration": 4,
    "start_time": "2021-07-07T16:52:27.899Z"
   },
   {
    "duration": 25,
    "start_time": "2021-07-07T16:52:28.674Z"
   },
   {
    "duration": 8,
    "start_time": "2021-07-07T16:52:32.956Z"
   },
   {
    "duration": 18,
    "start_time": "2021-07-07T16:52:35.616Z"
   },
   {
    "duration": 6,
    "start_time": "2021-07-07T16:52:36.913Z"
   },
   {
    "duration": 11,
    "start_time": "2021-07-07T16:52:40.258Z"
   },
   {
    "duration": 10,
    "start_time": "2021-07-07T16:52:46.251Z"
   },
   {
    "duration": 8,
    "start_time": "2021-07-07T16:52:47.182Z"
   },
   {
    "duration": 27,
    "start_time": "2021-07-07T16:53:20.391Z"
   },
   {
    "duration": 20,
    "start_time": "2021-07-07T16:53:22.022Z"
   },
   {
    "duration": 23,
    "start_time": "2021-07-07T16:53:23.690Z"
   },
   {
    "duration": 8,
    "start_time": "2021-07-07T16:53:24.261Z"
   },
   {
    "duration": 4,
    "start_time": "2021-07-07T16:53:38.733Z"
   },
   {
    "duration": 7,
    "start_time": "2021-07-07T16:53:40.445Z"
   },
   {
    "duration": 11,
    "start_time": "2021-07-07T16:53:41.348Z"
   },
   {
    "duration": 13,
    "start_time": "2021-07-07T16:53:45.250Z"
   },
   {
    "duration": 12,
    "start_time": "2021-07-07T16:53:45.467Z"
   },
   {
    "duration": 4,
    "start_time": "2021-07-07T16:55:32.704Z"
   },
   {
    "duration": 12,
    "start_time": "2021-07-07T16:55:49.012Z"
   },
   {
    "duration": 18,
    "start_time": "2021-07-07T16:55:49.547Z"
   },
   {
    "duration": 611,
    "start_time": "2021-07-07T16:58:35.156Z"
   },
   {
    "duration": 200,
    "start_time": "2021-07-07T16:58:35.770Z"
   },
   {
    "duration": 86,
    "start_time": "2021-07-07T16:58:35.972Z"
   },
   {
    "duration": 3,
    "start_time": "2021-07-07T16:58:36.060Z"
   },
   {
    "duration": 27,
    "start_time": "2021-07-07T16:58:36.065Z"
   },
   {
    "duration": 8,
    "start_time": "2021-07-07T16:58:36.094Z"
   },
   {
    "duration": 17,
    "start_time": "2021-07-07T16:58:36.103Z"
   },
   {
    "duration": 5,
    "start_time": "2021-07-07T16:58:36.123Z"
   },
   {
    "duration": 11,
    "start_time": "2021-07-07T16:58:36.130Z"
   },
   {
    "duration": 7,
    "start_time": "2021-07-07T16:58:36.143Z"
   },
   {
    "duration": 37,
    "start_time": "2021-07-07T16:58:36.152Z"
   },
   {
    "duration": 27,
    "start_time": "2021-07-07T16:58:36.191Z"
   },
   {
    "duration": 19,
    "start_time": "2021-07-07T16:58:36.219Z"
   },
   {
    "duration": 49,
    "start_time": "2021-07-07T16:58:36.240Z"
   },
   {
    "duration": 6,
    "start_time": "2021-07-07T16:58:36.291Z"
   },
   {
    "duration": 3,
    "start_time": "2021-07-07T16:58:36.299Z"
   },
   {
    "duration": 13,
    "start_time": "2021-07-07T16:58:36.304Z"
   },
   {
    "duration": 10,
    "start_time": "2021-07-07T16:58:36.319Z"
   },
   {
    "duration": 10,
    "start_time": "2021-07-07T16:58:36.331Z"
   },
   {
    "duration": 44,
    "start_time": "2021-07-07T16:58:36.343Z"
   },
   {
    "duration": 4,
    "start_time": "2021-07-07T16:58:36.388Z"
   },
   {
    "duration": 13,
    "start_time": "2021-07-07T16:58:36.394Z"
   },
   {
    "duration": 16,
    "start_time": "2021-07-07T16:58:36.410Z"
   },
   {
    "duration": 8,
    "start_time": "2021-07-07T17:02:31.629Z"
   },
   {
    "duration": 8,
    "start_time": "2021-07-07T17:02:34.308Z"
   },
   {
    "duration": 6,
    "start_time": "2021-07-07T17:05:13.483Z"
   },
   {
    "duration": 17,
    "start_time": "2021-07-07T17:05:20.606Z"
   },
   {
    "duration": 7,
    "start_time": "2021-07-07T17:05:34.638Z"
   },
   {
    "duration": 3,
    "start_time": "2021-07-07T17:06:31.883Z"
   },
   {
    "duration": 570,
    "start_time": "2021-07-07T17:06:37.165Z"
   },
   {
    "duration": 174,
    "start_time": "2021-07-07T17:06:37.737Z"
   },
   {
    "duration": 47,
    "start_time": "2021-07-07T17:06:37.913Z"
   },
   {
    "duration": 3,
    "start_time": "2021-07-07T17:06:37.962Z"
   },
   {
    "duration": 27,
    "start_time": "2021-07-07T17:06:37.967Z"
   },
   {
    "duration": 7,
    "start_time": "2021-07-07T17:06:37.996Z"
   },
   {
    "duration": 16,
    "start_time": "2021-07-07T17:06:38.005Z"
   },
   {
    "duration": 6,
    "start_time": "2021-07-07T17:06:38.024Z"
   },
   {
    "duration": 12,
    "start_time": "2021-07-07T17:06:38.031Z"
   },
   {
    "duration": 41,
    "start_time": "2021-07-07T17:06:38.045Z"
   },
   {
    "duration": 8,
    "start_time": "2021-07-07T17:06:38.088Z"
   },
   {
    "duration": 26,
    "start_time": "2021-07-07T17:06:38.098Z"
   },
   {
    "duration": 17,
    "start_time": "2021-07-07T17:06:38.126Z"
   },
   {
    "duration": 43,
    "start_time": "2021-07-07T17:06:38.144Z"
   },
   {
    "duration": 6,
    "start_time": "2021-07-07T17:06:38.188Z"
   },
   {
    "duration": 5,
    "start_time": "2021-07-07T17:06:38.195Z"
   },
   {
    "duration": 9,
    "start_time": "2021-07-07T17:06:38.201Z"
   },
   {
    "duration": 12,
    "start_time": "2021-07-07T17:06:38.212Z"
   },
   {
    "duration": 11,
    "start_time": "2021-07-07T17:06:38.226Z"
   },
   {
    "duration": 47,
    "start_time": "2021-07-07T17:06:38.239Z"
   },
   {
    "duration": 4,
    "start_time": "2021-07-07T17:06:38.288Z"
   },
   {
    "duration": 13,
    "start_time": "2021-07-07T17:06:38.293Z"
   },
   {
    "duration": 5,
    "start_time": "2021-07-07T17:06:38.309Z"
   },
   {
    "duration": 18,
    "start_time": "2021-07-07T17:06:38.325Z"
   },
   {
    "duration": 20,
    "start_time": "2021-07-07T17:07:02.805Z"
   },
   {
    "duration": 19,
    "start_time": "2021-07-07T17:07:08.527Z"
   },
   {
    "duration": 19,
    "start_time": "2021-07-07T17:07:12.758Z"
   },
   {
    "duration": 22,
    "start_time": "2021-07-07T17:07:17.497Z"
   },
   {
    "duration": 19,
    "start_time": "2021-07-07T17:07:19.645Z"
   },
   {
    "duration": 10,
    "start_time": "2021-07-07T17:07:34.239Z"
   },
   {
    "duration": 17,
    "start_time": "2021-07-07T17:07:54.144Z"
   },
   {
    "duration": 14,
    "start_time": "2021-07-07T17:08:14.357Z"
   },
   {
    "duration": 616,
    "start_time": "2021-07-07T17:08:45.254Z"
   },
   {
    "duration": 178,
    "start_time": "2021-07-07T17:08:45.872Z"
   },
   {
    "duration": 60,
    "start_time": "2021-07-07T17:08:46.054Z"
   },
   {
    "duration": 3,
    "start_time": "2021-07-07T17:08:46.116Z"
   },
   {
    "duration": 26,
    "start_time": "2021-07-07T17:08:46.121Z"
   },
   {
    "duration": 7,
    "start_time": "2021-07-07T17:08:46.149Z"
   },
   {
    "duration": 17,
    "start_time": "2021-07-07T17:08:46.158Z"
   },
   {
    "duration": 14,
    "start_time": "2021-07-07T17:08:46.176Z"
   },
   {
    "duration": 17,
    "start_time": "2021-07-07T17:08:46.193Z"
   },
   {
    "duration": 9,
    "start_time": "2021-07-07T17:08:46.211Z"
   },
   {
    "duration": 21,
    "start_time": "2021-07-07T17:08:46.221Z"
   },
   {
    "duration": 49,
    "start_time": "2021-07-07T17:08:46.244Z"
   },
   {
    "duration": 24,
    "start_time": "2021-07-07T17:08:46.295Z"
   },
   {
    "duration": 22,
    "start_time": "2021-07-07T17:08:46.321Z"
   },
   {
    "duration": 6,
    "start_time": "2021-07-07T17:08:46.345Z"
   },
   {
    "duration": 5,
    "start_time": "2021-07-07T17:08:46.353Z"
   },
   {
    "duration": 13,
    "start_time": "2021-07-07T17:08:46.386Z"
   },
   {
    "duration": 12,
    "start_time": "2021-07-07T17:08:46.402Z"
   },
   {
    "duration": 10,
    "start_time": "2021-07-07T17:08:46.415Z"
   },
   {
    "duration": 7,
    "start_time": "2021-07-07T17:08:46.427Z"
   },
   {
    "duration": 8,
    "start_time": "2021-07-07T17:08:46.435Z"
   },
   {
    "duration": 68,
    "start_time": "2021-07-07T17:08:46.446Z"
   },
   {
    "duration": 13,
    "start_time": "2021-07-07T17:08:46.516Z"
   },
   {
    "duration": 78,
    "start_time": "2021-07-07T17:08:46.530Z"
   },
   {
    "duration": 40,
    "start_time": "2021-07-07T17:09:08.185Z"
   },
   {
    "duration": 16,
    "start_time": "2021-07-07T17:09:19.324Z"
   },
   {
    "duration": 21,
    "start_time": "2021-07-07T17:09:23.290Z"
   },
   {
    "duration": 13,
    "start_time": "2021-07-07T17:09:54.812Z"
   },
   {
    "duration": 13,
    "start_time": "2021-07-07T17:10:02.039Z"
   },
   {
    "duration": 10,
    "start_time": "2021-07-07T17:10:29.632Z"
   },
   {
    "duration": 13,
    "start_time": "2021-07-07T17:10:52.372Z"
   },
   {
    "duration": 13,
    "start_time": "2021-07-07T17:11:17.270Z"
   },
   {
    "duration": 13,
    "start_time": "2021-07-07T17:14:59.284Z"
   },
   {
    "duration": 547,
    "start_time": "2021-07-07T17:18:52.403Z"
   },
   {
    "duration": 163,
    "start_time": "2021-07-07T17:18:52.952Z"
   },
   {
    "duration": 44,
    "start_time": "2021-07-07T17:18:53.117Z"
   },
   {
    "duration": 3,
    "start_time": "2021-07-07T17:18:53.162Z"
   },
   {
    "duration": 26,
    "start_time": "2021-07-07T17:18:53.167Z"
   },
   {
    "duration": 6,
    "start_time": "2021-07-07T17:18:53.195Z"
   },
   {
    "duration": 15,
    "start_time": "2021-07-07T17:18:53.203Z"
   },
   {
    "duration": 5,
    "start_time": "2021-07-07T17:18:53.220Z"
   },
   {
    "duration": 11,
    "start_time": "2021-07-07T17:18:53.228Z"
   },
   {
    "duration": 9,
    "start_time": "2021-07-07T17:18:53.241Z"
   },
   {
    "duration": 41,
    "start_time": "2021-07-07T17:18:53.252Z"
   },
   {
    "duration": 33,
    "start_time": "2021-07-07T17:18:53.295Z"
   },
   {
    "duration": 19,
    "start_time": "2021-07-07T17:18:53.330Z"
   },
   {
    "duration": 49,
    "start_time": "2021-07-07T17:18:53.350Z"
   },
   {
    "duration": 5,
    "start_time": "2021-07-07T17:18:53.401Z"
   },
   {
    "duration": 5,
    "start_time": "2021-07-07T17:18:53.408Z"
   },
   {
    "duration": 11,
    "start_time": "2021-07-07T17:18:53.414Z"
   },
   {
    "duration": 9,
    "start_time": "2021-07-07T17:18:53.427Z"
   },
   {
    "duration": 10,
    "start_time": "2021-07-07T17:18:53.437Z"
   },
   {
    "duration": 39,
    "start_time": "2021-07-07T17:18:53.448Z"
   },
   {
    "duration": 26,
    "start_time": "2021-07-07T17:18:55.799Z"
   },
   {
    "duration": 598,
    "start_time": "2021-07-07T17:20:17.862Z"
   },
   {
    "duration": 161,
    "start_time": "2021-07-07T17:20:18.462Z"
   },
   {
    "duration": 45,
    "start_time": "2021-07-07T17:20:18.626Z"
   },
   {
    "duration": 4,
    "start_time": "2021-07-07T17:20:18.673Z"
   },
   {
    "duration": 38,
    "start_time": "2021-07-07T17:20:26.877Z"
   },
   {
    "duration": 7,
    "start_time": "2021-07-07T17:20:37.405Z"
   },
   {
    "duration": 19,
    "start_time": "2021-07-07T17:20:51.534Z"
   },
   {
    "duration": 5,
    "start_time": "2021-07-07T17:20:57.228Z"
   },
   {
    "duration": 7,
    "start_time": "2021-07-07T17:21:08.235Z"
   },
   {
    "duration": 19,
    "start_time": "2021-07-07T17:21:42.158Z"
   },
   {
    "duration": 14,
    "start_time": "2021-07-07T17:21:50.225Z"
   },
   {
    "duration": 22,
    "start_time": "2021-07-07T17:22:54.104Z"
   },
   {
    "duration": 5,
    "start_time": "2021-07-07T17:22:56.371Z"
   },
   {
    "duration": 14,
    "start_time": "2021-07-07T17:22:58.316Z"
   },
   {
    "duration": 5,
    "start_time": "2021-07-07T17:22:58.493Z"
   },
   {
    "duration": 35,
    "start_time": "2021-07-07T17:22:59.666Z"
   },
   {
    "duration": 6,
    "start_time": "2021-07-07T17:23:02.410Z"
   },
   {
    "duration": 611,
    "start_time": "2021-07-07T17:24:59.664Z"
   },
   {
    "duration": 178,
    "start_time": "2021-07-07T17:25:01.945Z"
   },
   {
    "duration": 47,
    "start_time": "2021-07-07T17:25:02.125Z"
   },
   {
    "duration": 2,
    "start_time": "2021-07-07T17:25:07.903Z"
   },
   {
    "duration": 254,
    "start_time": "2021-07-07T17:25:08.232Z"
   },
   {
    "duration": 182,
    "start_time": "2021-07-07T17:25:08.671Z"
   },
   {
    "duration": 6,
    "start_time": "2021-07-07T17:25:13.104Z"
   },
   {
    "duration": 36,
    "start_time": "2021-07-07T17:25:13.662Z"
   },
   {
    "duration": 7,
    "start_time": "2021-07-07T17:25:14.528Z"
   },
   {
    "duration": 24,
    "start_time": "2021-07-07T17:25:27.982Z"
   },
   {
    "duration": 3,
    "start_time": "2021-07-07T17:25:48.982Z"
   },
   {
    "duration": 165,
    "start_time": "2021-07-07T17:25:48.987Z"
   },
   {
    "duration": 50,
    "start_time": "2021-07-07T17:25:49.154Z"
   },
   {
    "duration": 4,
    "start_time": "2021-07-07T17:25:49.206Z"
   },
   {
    "duration": 26,
    "start_time": "2021-07-07T17:25:49.212Z"
   },
   {
    "duration": 7,
    "start_time": "2021-07-07T17:25:49.240Z"
   },
   {
    "duration": 16,
    "start_time": "2021-07-07T17:25:49.249Z"
   },
   {
    "duration": 22,
    "start_time": "2021-07-07T17:25:49.266Z"
   },
   {
    "duration": 16,
    "start_time": "2021-07-07T17:25:49.291Z"
   },
   {
    "duration": 9,
    "start_time": "2021-07-07T17:25:49.309Z"
   },
   {
    "duration": 7,
    "start_time": "2021-07-07T17:25:49.319Z"
   },
   {
    "duration": 28,
    "start_time": "2021-07-07T17:25:49.328Z"
   },
   {
    "duration": 44,
    "start_time": "2021-07-07T17:25:49.357Z"
   },
   {
    "duration": 22,
    "start_time": "2021-07-07T17:25:49.403Z"
   },
   {
    "duration": 7,
    "start_time": "2021-07-07T17:25:49.427Z"
   },
   {
    "duration": 3,
    "start_time": "2021-07-07T17:25:49.436Z"
   },
   {
    "duration": 44,
    "start_time": "2021-07-07T17:25:49.441Z"
   },
   {
    "duration": 12,
    "start_time": "2021-07-07T17:25:49.488Z"
   },
   {
    "duration": 13,
    "start_time": "2021-07-07T17:25:49.502Z"
   },
   {
    "duration": 10,
    "start_time": "2021-07-07T17:25:49.516Z"
   },
   {
    "duration": 62,
    "start_time": "2021-07-07T17:25:49.527Z"
   },
   {
    "duration": 26,
    "start_time": "2021-07-07T17:26:51.809Z"
   },
   {
    "duration": 26,
    "start_time": "2021-07-07T17:26:55.759Z"
   },
   {
    "duration": 26,
    "start_time": "2021-07-07T17:27:04.501Z"
   },
   {
    "duration": 25,
    "start_time": "2021-07-07T17:28:24.859Z"
   },
   {
    "duration": 21,
    "start_time": "2021-07-07T17:28:55.250Z"
   },
   {
    "duration": 21,
    "start_time": "2021-07-07T17:28:58.885Z"
   },
   {
    "duration": 7,
    "start_time": "2021-07-07T17:45:40.972Z"
   },
   {
    "duration": 13,
    "start_time": "2021-07-07T17:45:42.529Z"
   },
   {
    "duration": 27,
    "start_time": "2021-07-07T17:45:51.026Z"
   },
   {
    "duration": 518,
    "start_time": "2021-07-07T17:46:15.532Z"
   },
   {
    "duration": 235,
    "start_time": "2021-07-07T17:46:16.053Z"
   },
   {
    "duration": 80,
    "start_time": "2021-07-07T17:46:16.292Z"
   },
   {
    "duration": 5,
    "start_time": "2021-07-07T17:46:16.373Z"
   },
   {
    "duration": 26,
    "start_time": "2021-07-07T17:46:16.380Z"
   },
   {
    "duration": 7,
    "start_time": "2021-07-07T17:46:16.408Z"
   },
   {
    "duration": 16,
    "start_time": "2021-07-07T17:46:16.418Z"
   },
   {
    "duration": 5,
    "start_time": "2021-07-07T17:46:16.436Z"
   },
   {
    "duration": 13,
    "start_time": "2021-07-07T17:46:16.442Z"
   },
   {
    "duration": 35,
    "start_time": "2021-07-07T17:46:16.456Z"
   },
   {
    "duration": 8,
    "start_time": "2021-07-07T17:46:16.493Z"
   },
   {
    "duration": 28,
    "start_time": "2021-07-07T17:46:16.502Z"
   },
   {
    "duration": 17,
    "start_time": "2021-07-07T17:46:16.532Z"
   },
   {
    "duration": 44,
    "start_time": "2021-07-07T17:46:16.551Z"
   },
   {
    "duration": 6,
    "start_time": "2021-07-07T17:46:16.597Z"
   },
   {
    "duration": 4,
    "start_time": "2021-07-07T17:46:16.605Z"
   },
   {
    "duration": 9,
    "start_time": "2021-07-07T17:46:16.610Z"
   },
   {
    "duration": 9,
    "start_time": "2021-07-07T17:46:16.621Z"
   },
   {
    "duration": 10,
    "start_time": "2021-07-07T17:46:16.632Z"
   },
   {
    "duration": 43,
    "start_time": "2021-07-07T17:46:16.644Z"
   },
   {
    "duration": 26,
    "start_time": "2021-07-07T17:46:16.689Z"
   },
   {
    "duration": 19,
    "start_time": "2021-07-07T17:46:16.718Z"
   },
   {
    "duration": 8,
    "start_time": "2021-07-07T17:46:16.738Z"
   },
   {
    "duration": 43,
    "start_time": "2021-07-07T17:46:16.747Z"
   },
   {
    "duration": 19,
    "start_time": "2021-07-07T17:46:16.791Z"
   },
   {
    "duration": 9,
    "start_time": "2021-07-07T17:46:16.812Z"
   },
   {
    "duration": 60,
    "start_time": "2021-07-07T17:46:16.822Z"
   },
   {
    "duration": -8,
    "start_time": "2021-07-07T17:46:16.892Z"
   },
   {
    "duration": 12,
    "start_time": "2021-07-07T17:48:47.707Z"
   },
   {
    "duration": 553,
    "start_time": "2021-07-07T18:10:09.350Z"
   },
   {
    "duration": 230,
    "start_time": "2021-07-07T18:10:09.905Z"
   },
   {
    "duration": 97,
    "start_time": "2021-07-07T18:10:10.137Z"
   },
   {
    "duration": 5,
    "start_time": "2021-07-07T18:10:10.236Z"
   },
   {
    "duration": 29,
    "start_time": "2021-07-07T18:10:10.242Z"
   },
   {
    "duration": 7,
    "start_time": "2021-07-07T18:10:10.272Z"
   },
   {
    "duration": 15,
    "start_time": "2021-07-07T18:10:10.281Z"
   },
   {
    "duration": 4,
    "start_time": "2021-07-07T18:10:10.299Z"
   },
   {
    "duration": 14,
    "start_time": "2021-07-07T18:10:10.305Z"
   },
   {
    "duration": 8,
    "start_time": "2021-07-07T18:10:10.321Z"
   },
   {
    "duration": 8,
    "start_time": "2021-07-07T18:10:10.331Z"
   },
   {
    "duration": 56,
    "start_time": "2021-07-07T18:10:10.341Z"
   },
   {
    "duration": 19,
    "start_time": "2021-07-07T18:10:10.399Z"
   },
   {
    "duration": 23,
    "start_time": "2021-07-07T18:10:10.419Z"
   },
   {
    "duration": 6,
    "start_time": "2021-07-07T18:10:10.444Z"
   },
   {
    "duration": 9,
    "start_time": "2021-07-07T18:10:10.451Z"
   },
   {
    "duration": 30,
    "start_time": "2021-07-07T18:10:10.462Z"
   },
   {
    "duration": 9,
    "start_time": "2021-07-07T18:10:10.494Z"
   },
   {
    "duration": 14,
    "start_time": "2021-07-07T18:10:10.505Z"
   },
   {
    "duration": 7,
    "start_time": "2021-07-07T18:10:10.521Z"
   },
   {
    "duration": 26,
    "start_time": "2021-07-07T18:10:10.530Z"
   },
   {
    "duration": 44,
    "start_time": "2021-07-07T18:10:10.558Z"
   },
   {
    "duration": 7,
    "start_time": "2021-07-07T18:10:10.605Z"
   },
   {
    "duration": 11,
    "start_time": "2021-07-07T18:10:10.614Z"
   },
   {
    "duration": 19,
    "start_time": "2021-07-07T18:10:10.626Z"
   },
   {
    "duration": 44,
    "start_time": "2021-07-07T18:10:10.646Z"
   },
   {
    "duration": 516,
    "start_time": "2021-07-07T18:14:00.826Z"
   },
   {
    "duration": 230,
    "start_time": "2021-07-07T18:14:01.344Z"
   },
   {
    "duration": 105,
    "start_time": "2021-07-07T18:14:01.576Z"
   },
   {
    "duration": 5,
    "start_time": "2021-07-07T18:14:01.683Z"
   },
   {
    "duration": 46,
    "start_time": "2021-07-07T18:14:01.690Z"
   },
   {
    "duration": 7,
    "start_time": "2021-07-07T18:14:01.738Z"
   },
   {
    "duration": 20,
    "start_time": "2021-07-07T18:14:01.747Z"
   },
   {
    "duration": 16,
    "start_time": "2021-07-07T18:14:01.769Z"
   },
   {
    "duration": 14,
    "start_time": "2021-07-07T18:14:01.787Z"
   },
   {
    "duration": 15,
    "start_time": "2021-07-07T18:14:01.803Z"
   },
   {
    "duration": 12,
    "start_time": "2021-07-07T18:14:01.820Z"
   },
   {
    "duration": 35,
    "start_time": "2021-07-07T18:14:01.833Z"
   },
   {
    "duration": 31,
    "start_time": "2021-07-07T18:14:01.869Z"
   },
   {
    "duration": 37,
    "start_time": "2021-07-07T18:14:01.902Z"
   },
   {
    "duration": 8,
    "start_time": "2021-07-07T18:14:01.942Z"
   },
   {
    "duration": 16,
    "start_time": "2021-07-07T18:14:01.952Z"
   },
   {
    "duration": 13,
    "start_time": "2021-07-07T18:14:01.970Z"
   },
   {
    "duration": 32,
    "start_time": "2021-07-07T18:14:01.985Z"
   },
   {
    "duration": 11,
    "start_time": "2021-07-07T18:14:02.019Z"
   },
   {
    "duration": 22,
    "start_time": "2021-07-07T18:14:02.031Z"
   },
   {
    "duration": 27,
    "start_time": "2021-07-07T18:14:02.055Z"
   },
   {
    "duration": 18,
    "start_time": "2021-07-07T18:14:02.084Z"
   },
   {
    "duration": 18,
    "start_time": "2021-07-07T18:14:02.106Z"
   },
   {
    "duration": 11,
    "start_time": "2021-07-07T18:14:02.126Z"
   },
   {
    "duration": 21,
    "start_time": "2021-07-07T18:14:02.138Z"
   },
   {
    "duration": 32,
    "start_time": "2021-07-07T18:14:02.161Z"
   },
   {
    "duration": 28,
    "start_time": "2021-07-07T18:14:44.295Z"
   },
   {
    "duration": 6,
    "start_time": "2021-07-07T18:15:05.834Z"
   },
   {
    "duration": 511,
    "start_time": "2021-07-07T18:15:41.541Z"
   },
   {
    "duration": 183,
    "start_time": "2021-07-07T18:15:42.054Z"
   },
   {
    "duration": 50,
    "start_time": "2021-07-07T18:15:42.239Z"
   },
   {
    "duration": 5,
    "start_time": "2021-07-07T18:15:42.291Z"
   },
   {
    "duration": 48,
    "start_time": "2021-07-07T18:15:42.297Z"
   },
   {
    "duration": 8,
    "start_time": "2021-07-07T18:15:42.346Z"
   },
   {
    "duration": 17,
    "start_time": "2021-07-07T18:15:42.356Z"
   },
   {
    "duration": 15,
    "start_time": "2021-07-07T18:15:42.375Z"
   },
   {
    "duration": 12,
    "start_time": "2021-07-07T18:15:42.392Z"
   },
   {
    "duration": 7,
    "start_time": "2021-07-07T18:15:42.406Z"
   },
   {
    "duration": 7,
    "start_time": "2021-07-07T18:15:42.415Z"
   },
   {
    "duration": 29,
    "start_time": "2021-07-07T18:15:42.423Z"
   },
   {
    "duration": 43,
    "start_time": "2021-07-07T18:15:42.453Z"
   },
   {
    "duration": 18,
    "start_time": "2021-07-07T18:15:42.497Z"
   },
   {
    "duration": 6,
    "start_time": "2021-07-07T18:15:42.516Z"
   },
   {
    "duration": 3,
    "start_time": "2021-07-07T18:15:42.523Z"
   },
   {
    "duration": 18,
    "start_time": "2021-07-07T18:15:42.528Z"
   },
   {
    "duration": 10,
    "start_time": "2021-07-07T18:15:42.547Z"
   },
   {
    "duration": 36,
    "start_time": "2021-07-07T18:15:42.559Z"
   },
   {
    "duration": 8,
    "start_time": "2021-07-07T18:15:42.597Z"
   },
   {
    "duration": 28,
    "start_time": "2021-07-07T18:15:42.606Z"
   },
   {
    "duration": 52,
    "start_time": "2021-07-07T18:15:42.635Z"
   },
   {
    "duration": 7,
    "start_time": "2021-07-07T18:15:42.690Z"
   },
   {
    "duration": 10,
    "start_time": "2021-07-07T18:15:42.699Z"
   },
   {
    "duration": 19,
    "start_time": "2021-07-07T18:15:42.711Z"
   },
   {
    "duration": 9,
    "start_time": "2021-07-07T18:15:42.732Z"
   },
   {
    "duration": 5,
    "start_time": "2021-07-07T18:15:42.743Z"
   },
   {
    "duration": 1450,
    "start_time": "2021-07-07T18:15:51.984Z"
   },
   {
    "duration": 161,
    "start_time": "2021-07-07T18:15:53.435Z"
   },
   {
    "duration": 124,
    "start_time": "2021-07-07T18:15:53.598Z"
   },
   {
    "duration": 5,
    "start_time": "2021-07-07T18:15:53.724Z"
   },
   {
    "duration": 34,
    "start_time": "2021-07-07T18:15:53.730Z"
   },
   {
    "duration": 7,
    "start_time": "2021-07-07T18:15:53.765Z"
   },
   {
    "duration": 15,
    "start_time": "2021-07-07T18:15:53.773Z"
   },
   {
    "duration": 5,
    "start_time": "2021-07-07T18:15:53.791Z"
   },
   {
    "duration": 19,
    "start_time": "2021-07-07T18:15:53.798Z"
   },
   {
    "duration": 9,
    "start_time": "2021-07-07T18:15:53.818Z"
   },
   {
    "duration": 19,
    "start_time": "2021-07-07T18:15:53.828Z"
   },
   {
    "duration": 27,
    "start_time": "2021-07-07T18:15:53.848Z"
   },
   {
    "duration": 16,
    "start_time": "2021-07-07T18:15:53.884Z"
   },
   {
    "duration": 29,
    "start_time": "2021-07-07T18:15:53.901Z"
   },
   {
    "duration": 5,
    "start_time": "2021-07-07T18:15:53.932Z"
   },
   {
    "duration": 15,
    "start_time": "2021-07-07T18:15:53.939Z"
   },
   {
    "duration": 13,
    "start_time": "2021-07-07T18:15:53.956Z"
   },
   {
    "duration": 20,
    "start_time": "2021-07-07T18:15:53.971Z"
   },
   {
    "duration": 14,
    "start_time": "2021-07-07T18:15:53.992Z"
   },
   {
    "duration": 9,
    "start_time": "2021-07-07T18:15:54.009Z"
   },
   {
    "duration": 28,
    "start_time": "2021-07-07T18:15:54.020Z"
   },
   {
    "duration": 50,
    "start_time": "2021-07-07T18:15:54.051Z"
   },
   {
    "duration": 8,
    "start_time": "2021-07-07T18:15:54.105Z"
   },
   {
    "duration": 11,
    "start_time": "2021-07-07T18:15:54.115Z"
   },
   {
    "duration": 20,
    "start_time": "2021-07-07T18:15:54.128Z"
   },
   {
    "duration": 13,
    "start_time": "2021-07-07T18:15:54.184Z"
   },
   {
    "duration": 7,
    "start_time": "2021-07-07T18:15:54.199Z"
   },
   {
    "duration": 7,
    "start_time": "2021-07-07T18:17:08.042Z"
   },
   {
    "duration": 8,
    "start_time": "2021-07-07T18:17:21.008Z"
   },
   {
    "duration": 7,
    "start_time": "2021-07-07T18:17:29.003Z"
   },
   {
    "duration": 8,
    "start_time": "2021-07-07T18:17:32.492Z"
   },
   {
    "duration": 9,
    "start_time": "2021-07-07T18:17:41.758Z"
   },
   {
    "duration": 255,
    "start_time": "2021-07-07T18:20:20.897Z"
   },
   {
    "duration": 173,
    "start_time": "2021-07-07T18:20:26.636Z"
   },
   {
    "duration": 7,
    "start_time": "2021-07-07T18:21:47.164Z"
   },
   {
    "duration": 254,
    "start_time": "2021-07-07T18:23:08.703Z"
   },
   {
    "duration": 21,
    "start_time": "2021-07-07T18:23:22.506Z"
   },
   {
    "duration": 315,
    "start_time": "2021-07-07T18:25:54.801Z"
   },
   {
    "duration": 34,
    "start_time": "2021-07-07T18:26:51.817Z"
   },
   {
    "duration": 327,
    "start_time": "2021-07-07T18:26:56.147Z"
   },
   {
    "duration": 342,
    "start_time": "2021-07-07T18:27:15.887Z"
   },
   {
    "duration": 302,
    "start_time": "2021-07-07T18:28:18.569Z"
   },
   {
    "duration": 226,
    "start_time": "2021-07-07T18:29:20.879Z"
   },
   {
    "duration": 207,
    "start_time": "2021-07-07T18:29:58.114Z"
   },
   {
    "duration": 140,
    "start_time": "2021-07-07T18:32:04.372Z"
   },
   {
    "duration": 158,
    "start_time": "2021-07-07T18:32:32.508Z"
   },
   {
    "duration": 145,
    "start_time": "2021-07-07T18:32:41.365Z"
   },
   {
    "duration": 132,
    "start_time": "2021-07-07T18:32:45.199Z"
   },
   {
    "duration": 11,
    "start_time": "2021-07-07T18:35:24.679Z"
   },
   {
    "duration": 268,
    "start_time": "2021-07-07T18:36:16.145Z"
   },
   {
    "duration": 227,
    "start_time": "2021-07-07T18:37:04.918Z"
   },
   {
    "duration": 3,
    "start_time": "2021-07-07T18:37:33.012Z"
   },
   {
    "duration": 671,
    "start_time": "2021-07-07T18:37:38.295Z"
   },
   {
    "duration": 54,
    "start_time": "2021-07-07T18:37:53.406Z"
   },
   {
    "duration": 631,
    "start_time": "2021-07-07T18:37:56.463Z"
   },
   {
    "duration": 19,
    "start_time": "2021-07-07T18:39:40.535Z"
   },
   {
    "duration": 20,
    "start_time": "2021-07-07T18:40:12.236Z"
   },
   {
    "duration": 633,
    "start_time": "2021-07-07T18:42:00.398Z"
   },
   {
    "duration": 218,
    "start_time": "2021-07-07T18:42:01.033Z"
   },
   {
    "duration": 49,
    "start_time": "2021-07-07T18:42:01.253Z"
   },
   {
    "duration": 5,
    "start_time": "2021-07-07T18:42:01.303Z"
   },
   {
    "duration": 27,
    "start_time": "2021-07-07T18:42:01.310Z"
   },
   {
    "duration": 8,
    "start_time": "2021-07-07T18:42:01.339Z"
   },
   {
    "duration": 20,
    "start_time": "2021-07-07T18:42:01.348Z"
   },
   {
    "duration": 6,
    "start_time": "2021-07-07T18:42:01.386Z"
   },
   {
    "duration": 16,
    "start_time": "2021-07-07T18:42:01.394Z"
   },
   {
    "duration": 9,
    "start_time": "2021-07-07T18:42:01.411Z"
   },
   {
    "duration": 11,
    "start_time": "2021-07-07T18:42:01.421Z"
   },
   {
    "duration": 31,
    "start_time": "2021-07-07T18:42:01.434Z"
   },
   {
    "duration": 18,
    "start_time": "2021-07-07T18:42:01.485Z"
   },
   {
    "duration": 23,
    "start_time": "2021-07-07T18:42:01.505Z"
   },
   {
    "duration": 6,
    "start_time": "2021-07-07T18:42:01.530Z"
   },
   {
    "duration": 10,
    "start_time": "2021-07-07T18:42:01.538Z"
   },
   {
    "duration": 13,
    "start_time": "2021-07-07T18:42:01.550Z"
   },
   {
    "duration": 24,
    "start_time": "2021-07-07T18:42:01.564Z"
   },
   {
    "duration": 20,
    "start_time": "2021-07-07T18:42:01.590Z"
   },
   {
    "duration": 8,
    "start_time": "2021-07-07T18:42:01.611Z"
   },
   {
    "duration": 31,
    "start_time": "2021-07-07T18:42:01.620Z"
   },
   {
    "duration": 39,
    "start_time": "2021-07-07T18:42:01.653Z"
   },
   {
    "duration": 8,
    "start_time": "2021-07-07T18:42:01.696Z"
   },
   {
    "duration": 13,
    "start_time": "2021-07-07T18:42:01.705Z"
   },
   {
    "duration": 20,
    "start_time": "2021-07-07T18:42:01.720Z"
   },
   {
    "duration": 12,
    "start_time": "2021-07-07T18:42:01.741Z"
   },
   {
    "duration": 35,
    "start_time": "2021-07-07T18:42:01.755Z"
   },
   {
    "duration": 14,
    "start_time": "2021-07-07T18:42:01.792Z"
   },
   {
    "duration": 188,
    "start_time": "2021-07-07T18:42:01.808Z"
   },
   {
    "duration": 19,
    "start_time": "2021-07-07T18:42:01.998Z"
   },
   {
    "duration": 175,
    "start_time": "2021-07-07T18:42:02.019Z"
   },
   {
    "duration": 134,
    "start_time": "2021-07-07T18:42:02.196Z"
   },
   {
    "duration": 10,
    "start_time": "2021-07-07T18:42:02.331Z"
   },
   {
    "duration": 19,
    "start_time": "2021-07-07T18:42:02.343Z"
   },
   {
    "duration": 628,
    "start_time": "2021-07-07T18:46:30.701Z"
   },
   {
    "duration": 183,
    "start_time": "2021-07-07T18:46:31.331Z"
   },
   {
    "duration": 48,
    "start_time": "2021-07-07T18:46:31.516Z"
   },
   {
    "duration": 5,
    "start_time": "2021-07-07T18:46:31.566Z"
   },
   {
    "duration": 28,
    "start_time": "2021-07-07T18:46:31.572Z"
   },
   {
    "duration": 8,
    "start_time": "2021-07-07T18:46:31.602Z"
   },
   {
    "duration": 19,
    "start_time": "2021-07-07T18:46:31.611Z"
   },
   {
    "duration": 6,
    "start_time": "2021-07-07T18:46:31.633Z"
   },
   {
    "duration": 17,
    "start_time": "2021-07-07T18:46:31.642Z"
   },
   {
    "duration": 10,
    "start_time": "2021-07-07T18:46:31.684Z"
   },
   {
    "duration": 9,
    "start_time": "2021-07-07T18:46:31.695Z"
   },
   {
    "duration": 28,
    "start_time": "2021-07-07T18:46:31.705Z"
   },
   {
    "duration": 18,
    "start_time": "2021-07-07T18:46:31.735Z"
   },
   {
    "duration": 48,
    "start_time": "2021-07-07T18:46:31.755Z"
   },
   {
    "duration": 6,
    "start_time": "2021-07-07T18:46:31.804Z"
   },
   {
    "duration": 4,
    "start_time": "2021-07-07T18:46:31.812Z"
   },
   {
    "duration": 9,
    "start_time": "2021-07-07T18:46:31.817Z"
   },
   {
    "duration": 10,
    "start_time": "2021-07-07T18:46:31.827Z"
   },
   {
    "duration": 12,
    "start_time": "2021-07-07T18:46:31.838Z"
   },
   {
    "duration": 39,
    "start_time": "2021-07-07T18:46:31.851Z"
   },
   {
    "duration": 24,
    "start_time": "2021-07-07T18:46:31.892Z"
   },
   {
    "duration": 15,
    "start_time": "2021-07-07T18:46:31.918Z"
   },
   {
    "duration": 7,
    "start_time": "2021-07-07T18:46:31.936Z"
   },
   {
    "duration": 8,
    "start_time": "2021-07-07T18:46:31.944Z"
   },
   {
    "duration": 19,
    "start_time": "2021-07-07T18:46:31.984Z"
   },
   {
    "duration": 10,
    "start_time": "2021-07-07T18:46:32.004Z"
   },
   {
    "duration": 5,
    "start_time": "2021-07-07T18:46:32.016Z"
   },
   {
    "duration": 9,
    "start_time": "2021-07-07T18:46:32.023Z"
   },
   {
    "duration": 199,
    "start_time": "2021-07-07T18:46:32.033Z"
   },
   {
    "duration": 19,
    "start_time": "2021-07-07T18:46:32.234Z"
   },
   {
    "duration": 159,
    "start_time": "2021-07-07T18:46:32.255Z"
   },
   {
    "duration": 134,
    "start_time": "2021-07-07T18:46:32.416Z"
   },
   {
    "duration": 10,
    "start_time": "2021-07-07T18:46:32.552Z"
   },
   {
    "duration": 34,
    "start_time": "2021-07-07T18:46:32.563Z"
   },
   {
    "duration": 1039,
    "start_time": "2021-07-08T08:41:09.419Z"
   },
   {
    "duration": 333,
    "start_time": "2021-07-08T08:41:10.459Z"
   },
   {
    "duration": 173,
    "start_time": "2021-07-08T08:41:10.794Z"
   },
   {
    "duration": 5,
    "start_time": "2021-07-08T08:41:10.968Z"
   },
   {
    "duration": 25,
    "start_time": "2021-07-08T08:41:10.975Z"
   },
   {
    "duration": 9,
    "start_time": "2021-07-08T08:41:11.002Z"
   },
   {
    "duration": 18,
    "start_time": "2021-07-08T08:41:11.013Z"
   },
   {
    "duration": 6,
    "start_time": "2021-07-08T08:41:11.033Z"
   },
   {
    "duration": 44,
    "start_time": "2021-07-08T08:41:11.042Z"
   },
   {
    "duration": 10,
    "start_time": "2021-07-08T08:41:11.088Z"
   },
   {
    "duration": 9,
    "start_time": "2021-07-08T08:41:11.100Z"
   },
   {
    "duration": 27,
    "start_time": "2021-07-08T08:41:11.111Z"
   },
   {
    "duration": 46,
    "start_time": "2021-07-08T08:41:11.140Z"
   },
   {
    "duration": 17,
    "start_time": "2021-07-08T08:41:11.187Z"
   },
   {
    "duration": 6,
    "start_time": "2021-07-08T08:41:11.206Z"
   },
   {
    "duration": 5,
    "start_time": "2021-07-08T08:41:11.213Z"
   },
   {
    "duration": 10,
    "start_time": "2021-07-08T08:41:11.219Z"
   },
   {
    "duration": 9,
    "start_time": "2021-07-08T08:41:11.230Z"
   },
   {
    "duration": 45,
    "start_time": "2021-07-08T08:41:11.241Z"
   },
   {
    "duration": 7,
    "start_time": "2021-07-08T08:41:11.287Z"
   },
   {
    "duration": 24,
    "start_time": "2021-07-08T08:41:11.296Z"
   },
   {
    "duration": 16,
    "start_time": "2021-07-08T08:41:11.322Z"
   },
   {
    "duration": 7,
    "start_time": "2021-07-08T08:41:11.341Z"
   },
   {
    "duration": 41,
    "start_time": "2021-07-08T08:41:11.349Z"
   },
   {
    "duration": 17,
    "start_time": "2021-07-08T08:41:11.391Z"
   },
   {
    "duration": 9,
    "start_time": "2021-07-08T08:41:11.410Z"
   },
   {
    "duration": 5,
    "start_time": "2021-07-08T08:41:11.421Z"
   },
   {
    "duration": 6,
    "start_time": "2021-07-08T08:41:11.428Z"
   },
   {
    "duration": 198,
    "start_time": "2021-07-08T08:41:11.435Z"
   },
   {
    "duration": 18,
    "start_time": "2021-07-08T08:41:11.635Z"
   },
   {
    "duration": 155,
    "start_time": "2021-07-08T08:41:11.655Z"
   },
   {
    "duration": 138,
    "start_time": "2021-07-08T08:41:11.811Z"
   },
   {
    "duration": 10,
    "start_time": "2021-07-08T08:41:11.950Z"
   },
   {
    "duration": 29,
    "start_time": "2021-07-08T08:41:11.961Z"
   },
   {
    "duration": 171,
    "start_time": "2021-07-08T08:47:44.522Z"
   },
   {
    "duration": 124,
    "start_time": "2021-07-08T08:47:46.872Z"
   },
   {
    "duration": 191,
    "start_time": "2021-07-08T08:47:58.148Z"
   },
   {
    "duration": 191,
    "start_time": "2021-07-08T08:48:07.412Z"
   },
   {
    "duration": 261,
    "start_time": "2021-07-08T08:48:10.385Z"
   },
   {
    "duration": 255,
    "start_time": "2021-07-08T08:48:14.494Z"
   },
   {
    "duration": 219,
    "start_time": "2021-07-08T08:48:22.752Z"
   },
   {
    "duration": 173,
    "start_time": "2021-07-08T08:49:06.395Z"
   },
   {
    "duration": 180,
    "start_time": "2021-07-08T08:49:21.011Z"
   },
   {
    "duration": 6,
    "start_time": "2021-07-08T08:50:31.697Z"
   },
   {
    "duration": 10,
    "start_time": "2021-07-08T08:50:47.394Z"
   },
   {
    "duration": 11,
    "start_time": "2021-07-08T08:53:49.332Z"
   },
   {
    "duration": 171,
    "start_time": "2021-07-08T08:54:28.408Z"
   },
   {
    "duration": 636,
    "start_time": "2021-07-08T09:02:48.385Z"
   },
   {
    "duration": 227,
    "start_time": "2021-07-08T09:02:49.023Z"
   },
   {
    "duration": 104,
    "start_time": "2021-07-08T09:02:49.252Z"
   },
   {
    "duration": 5,
    "start_time": "2021-07-08T09:02:49.358Z"
   },
   {
    "duration": 27,
    "start_time": "2021-07-08T09:02:49.365Z"
   },
   {
    "duration": 8,
    "start_time": "2021-07-08T09:02:49.394Z"
   },
   {
    "duration": 18,
    "start_time": "2021-07-08T09:02:49.404Z"
   },
   {
    "duration": 6,
    "start_time": "2021-07-08T09:02:49.424Z"
   },
   {
    "duration": 11,
    "start_time": "2021-07-08T09:02:49.433Z"
   },
   {
    "duration": 13,
    "start_time": "2021-07-08T09:02:49.485Z"
   },
   {
    "duration": 9,
    "start_time": "2021-07-08T09:02:49.500Z"
   },
   {
    "duration": 38,
    "start_time": "2021-07-08T09:02:49.511Z"
   },
   {
    "duration": 42,
    "start_time": "2021-07-08T09:02:49.551Z"
   },
   {
    "duration": 21,
    "start_time": "2021-07-08T09:02:49.594Z"
   },
   {
    "duration": 6,
    "start_time": "2021-07-08T09:02:49.616Z"
   },
   {
    "duration": 3,
    "start_time": "2021-07-08T09:02:49.623Z"
   },
   {
    "duration": 9,
    "start_time": "2021-07-08T09:02:49.628Z"
   },
   {
    "duration": 52,
    "start_time": "2021-07-08T09:02:49.638Z"
   },
   {
    "duration": 11,
    "start_time": "2021-07-08T09:02:49.692Z"
   },
   {
    "duration": 8,
    "start_time": "2021-07-08T09:02:49.704Z"
   },
   {
    "duration": 27,
    "start_time": "2021-07-08T09:02:49.713Z"
   },
   {
    "duration": 59,
    "start_time": "2021-07-08T09:02:49.741Z"
   },
   {
    "duration": 8,
    "start_time": "2021-07-08T09:02:49.803Z"
   },
   {
    "duration": 14,
    "start_time": "2021-07-08T09:02:49.813Z"
   },
   {
    "duration": 20,
    "start_time": "2021-07-08T09:02:49.829Z"
   },
   {
    "duration": 44,
    "start_time": "2021-07-08T09:02:49.851Z"
   },
   {
    "duration": 14,
    "start_time": "2021-07-08T09:02:49.896Z"
   },
   {
    "duration": 221,
    "start_time": "2021-07-08T09:02:49.912Z"
   },
   {
    "duration": 6,
    "start_time": "2021-07-08T09:02:50.134Z"
   },
   {
    "duration": 206,
    "start_time": "2021-07-08T09:02:50.142Z"
   },
   {
    "duration": 19,
    "start_time": "2021-07-08T09:02:50.350Z"
   },
   {
    "duration": 21,
    "start_time": "2021-07-08T09:02:50.370Z"
   },
   {
    "duration": 20,
    "start_time": "2021-07-08T09:02:50.393Z"
   },
   {
    "duration": 5,
    "start_time": "2021-07-08T09:02:50.414Z"
   },
   {
    "duration": 5,
    "start_time": "2021-07-08T09:03:34.173Z"
   },
   {
    "duration": 6,
    "start_time": "2021-07-08T09:04:49.062Z"
   },
   {
    "duration": 9,
    "start_time": "2021-07-08T09:04:50.118Z"
   },
   {
    "duration": 14,
    "start_time": "2021-07-08T09:04:58.512Z"
   },
   {
    "duration": 9,
    "start_time": "2021-07-08T09:05:10.988Z"
   },
   {
    "duration": 11,
    "start_time": "2021-07-08T09:05:11.743Z"
   },
   {
    "duration": 7,
    "start_time": "2021-07-08T09:05:25.677Z"
   },
   {
    "duration": 13,
    "start_time": "2021-07-08T09:05:47.189Z"
   },
   {
    "duration": 13,
    "start_time": "2021-07-08T09:05:54.755Z"
   },
   {
    "duration": 4,
    "start_time": "2021-07-08T09:06:29.189Z"
   },
   {
    "duration": 244,
    "start_time": "2021-07-08T09:06:29.195Z"
   },
   {
    "duration": 91,
    "start_time": "2021-07-08T09:06:29.441Z"
   },
   {
    "duration": 4,
    "start_time": "2021-07-08T09:06:29.534Z"
   },
   {
    "duration": 28,
    "start_time": "2021-07-08T09:06:29.540Z"
   },
   {
    "duration": 6,
    "start_time": "2021-07-08T09:06:29.570Z"
   },
   {
    "duration": 18,
    "start_time": "2021-07-08T09:06:29.578Z"
   },
   {
    "duration": 5,
    "start_time": "2021-07-08T09:06:29.597Z"
   },
   {
    "duration": 13,
    "start_time": "2021-07-08T09:06:29.605Z"
   },
   {
    "duration": 8,
    "start_time": "2021-07-08T09:06:29.620Z"
   },
   {
    "duration": 7,
    "start_time": "2021-07-08T09:06:29.630Z"
   },
   {
    "duration": 63,
    "start_time": "2021-07-08T09:06:29.639Z"
   },
   {
    "duration": 17,
    "start_time": "2021-07-08T09:06:29.704Z"
   },
   {
    "duration": 20,
    "start_time": "2021-07-08T09:06:29.723Z"
   },
   {
    "duration": 6,
    "start_time": "2021-07-08T09:06:29.745Z"
   },
   {
    "duration": 3,
    "start_time": "2021-07-08T09:06:29.752Z"
   },
   {
    "duration": 7,
    "start_time": "2021-07-08T09:06:29.785Z"
   },
   {
    "duration": 11,
    "start_time": "2021-07-08T09:06:29.794Z"
   },
   {
    "duration": 15,
    "start_time": "2021-07-08T09:06:29.807Z"
   },
   {
    "duration": 8,
    "start_time": "2021-07-08T09:06:29.823Z"
   },
   {
    "duration": 70,
    "start_time": "2021-07-08T09:06:29.832Z"
   },
   {
    "duration": 17,
    "start_time": "2021-07-08T09:06:29.903Z"
   },
   {
    "duration": 9,
    "start_time": "2021-07-08T09:06:29.921Z"
   },
   {
    "duration": 9,
    "start_time": "2021-07-08T09:06:29.932Z"
   },
   {
    "duration": 57,
    "start_time": "2021-07-08T09:06:29.942Z"
   },
   {
    "duration": 11,
    "start_time": "2021-07-08T09:06:30.001Z"
   },
   {
    "duration": 19,
    "start_time": "2021-07-08T09:06:30.016Z"
   },
   {
    "duration": 217,
    "start_time": "2021-07-08T09:06:30.037Z"
   },
   {
    "duration": 6,
    "start_time": "2021-07-08T09:06:30.255Z"
   },
   {
    "duration": 205,
    "start_time": "2021-07-08T09:06:30.263Z"
   },
   {
    "duration": 27,
    "start_time": "2021-07-08T09:06:30.470Z"
   },
   {
    "duration": 11,
    "start_time": "2021-07-08T09:06:30.500Z"
   },
   {
    "duration": 31,
    "start_time": "2021-07-08T09:06:30.513Z"
   },
   {
    "duration": 18,
    "start_time": "2021-07-08T09:06:30.546Z"
   },
   {
    "duration": 11,
    "start_time": "2021-07-08T09:06:30.566Z"
   },
   {
    "duration": 19,
    "start_time": "2021-07-08T09:06:30.579Z"
   },
   {
    "duration": 20,
    "start_time": "2021-07-08T09:06:49.466Z"
   },
   {
    "duration": 9,
    "start_time": "2021-07-08T09:06:51.994Z"
   },
   {
    "duration": 20,
    "start_time": "2021-07-08T09:06:52.273Z"
   },
   {
    "duration": 246,
    "start_time": "2021-07-08T09:10:21.272Z"
   },
   {
    "duration": 84,
    "start_time": "2021-07-08T09:10:21.436Z"
   },
   {
    "duration": 7,
    "start_time": "2021-07-08T09:10:37.608Z"
   },
   {
    "duration": 189,
    "start_time": "2021-07-08T09:10:38.573Z"
   },
   {
    "duration": 185,
    "start_time": "2021-07-08T09:10:53.181Z"
   },
   {
    "duration": 11,
    "start_time": "2021-07-08T09:10:59.549Z"
   },
   {
    "duration": 42,
    "start_time": "2021-07-08T09:10:59.709Z"
   },
   {
    "duration": 12,
    "start_time": "2021-07-08T09:11:02.857Z"
   },
   {
    "duration": 28,
    "start_time": "2021-07-08T09:11:10.062Z"
   },
   {
    "duration": 249,
    "start_time": "2021-07-08T09:11:37.388Z"
   },
   {
    "duration": 232,
    "start_time": "2021-07-08T09:11:49.485Z"
   },
   {
    "duration": 453,
    "start_time": "2021-07-08T09:12:01.546Z"
   },
   {
    "duration": 440,
    "start_time": "2021-07-08T09:12:12.347Z"
   },
   {
    "duration": 213,
    "start_time": "2021-07-08T09:13:32.196Z"
   },
   {
    "duration": 172,
    "start_time": "2021-07-08T09:14:07.400Z"
   },
   {
    "duration": 185,
    "start_time": "2021-07-08T09:14:14.905Z"
   },
   {
    "duration": 209,
    "start_time": "2021-07-08T09:14:40.109Z"
   },
   {
    "duration": 201,
    "start_time": "2021-07-08T09:14:54.506Z"
   },
   {
    "duration": 622,
    "start_time": "2021-07-08T09:18:14.497Z"
   },
   {
    "duration": 220,
    "start_time": "2021-07-08T09:18:15.121Z"
   },
   {
    "duration": 79,
    "start_time": "2021-07-08T09:18:15.343Z"
   },
   {
    "duration": 4,
    "start_time": "2021-07-08T09:18:15.425Z"
   },
   {
    "duration": 24,
    "start_time": "2021-07-08T09:18:15.431Z"
   },
   {
    "duration": 8,
    "start_time": "2021-07-08T09:18:15.457Z"
   },
   {
    "duration": 16,
    "start_time": "2021-07-08T09:18:15.466Z"
   },
   {
    "duration": 5,
    "start_time": "2021-07-08T09:18:15.484Z"
   },
   {
    "duration": 10,
    "start_time": "2021-07-08T09:18:15.493Z"
   },
   {
    "duration": 8,
    "start_time": "2021-07-08T09:18:15.504Z"
   },
   {
    "duration": 7,
    "start_time": "2021-07-08T09:18:15.513Z"
   },
   {
    "duration": 26,
    "start_time": "2021-07-08T09:18:15.522Z"
   },
   {
    "duration": 49,
    "start_time": "2021-07-08T09:18:15.550Z"
   },
   {
    "duration": 21,
    "start_time": "2021-07-08T09:18:15.601Z"
   },
   {
    "duration": 8,
    "start_time": "2021-07-08T09:18:15.624Z"
   },
   {
    "duration": 3,
    "start_time": "2021-07-08T09:18:15.634Z"
   },
   {
    "duration": 8,
    "start_time": "2021-07-08T09:18:15.639Z"
   },
   {
    "duration": 45,
    "start_time": "2021-07-08T09:18:15.649Z"
   },
   {
    "duration": 13,
    "start_time": "2021-07-08T09:18:15.696Z"
   },
   {
    "duration": 10,
    "start_time": "2021-07-08T09:18:15.711Z"
   },
   {
    "duration": 64,
    "start_time": "2021-07-08T09:18:15.722Z"
   },
   {
    "duration": 19,
    "start_time": "2021-07-08T09:18:15.788Z"
   },
   {
    "duration": 9,
    "start_time": "2021-07-08T09:18:15.809Z"
   },
   {
    "duration": 9,
    "start_time": "2021-07-08T09:18:15.820Z"
   },
   {
    "duration": 18,
    "start_time": "2021-07-08T09:18:15.831Z"
   },
   {
    "duration": 43,
    "start_time": "2021-07-08T09:18:15.851Z"
   },
   {
    "duration": 12,
    "start_time": "2021-07-08T09:18:15.897Z"
   },
   {
    "duration": 219,
    "start_time": "2021-07-08T09:18:15.911Z"
   },
   {
    "duration": 8,
    "start_time": "2021-07-08T09:18:16.132Z"
   },
   {
    "duration": 199,
    "start_time": "2021-07-08T09:18:16.141Z"
   },
   {
    "duration": 18,
    "start_time": "2021-07-08T09:18:16.341Z"
   },
   {
    "duration": 24,
    "start_time": "2021-07-08T09:18:16.361Z"
   },
   {
    "duration": 24,
    "start_time": "2021-07-08T09:18:16.387Z"
   },
   {
    "duration": 211,
    "start_time": "2021-07-08T09:18:16.413Z"
   },
   {
    "duration": 18,
    "start_time": "2021-07-08T09:18:16.626Z"
   },
   {
    "duration": 596,
    "start_time": "2021-07-08T10:06:33.623Z"
   },
   {
    "duration": 181,
    "start_time": "2021-07-08T10:06:34.221Z"
   },
   {
    "duration": 176,
    "start_time": "2021-07-08T10:06:34.635Z"
   },
   {
    "duration": 239,
    "start_time": "2021-07-08T10:06:55.572Z"
   },
   {
    "duration": 6,
    "start_time": "2021-07-08T10:06:57.687Z"
   },
   {
    "duration": 4,
    "start_time": "2021-07-08T10:07:03.956Z"
   },
   {
    "duration": 4,
    "start_time": "2021-07-08T10:07:10.376Z"
   },
   {
    "duration": 4,
    "start_time": "2021-07-08T10:17:19.889Z"
   },
   {
    "duration": 3,
    "start_time": "2021-07-08T10:19:19.407Z"
   },
   {
    "duration": 197,
    "start_time": "2021-07-08T10:19:19.412Z"
   },
   {
    "duration": 127,
    "start_time": "2021-07-08T10:19:19.611Z"
   },
   {
    "duration": 4,
    "start_time": "2021-07-08T10:19:19.740Z"
   },
   {
    "duration": 27,
    "start_time": "2021-07-08T10:19:19.746Z"
   },
   {
    "duration": 7,
    "start_time": "2021-07-08T10:19:19.775Z"
   },
   {
    "duration": 30,
    "start_time": "2021-07-08T10:19:19.784Z"
   },
   {
    "duration": 7,
    "start_time": "2021-07-08T10:19:19.817Z"
   },
   {
    "duration": 26,
    "start_time": "2021-07-08T10:19:19.826Z"
   },
   {
    "duration": 18,
    "start_time": "2021-07-08T10:19:19.854Z"
   },
   {
    "duration": 14,
    "start_time": "2021-07-08T10:19:19.874Z"
   },
   {
    "duration": 48,
    "start_time": "2021-07-08T10:19:19.890Z"
   },
   {
    "duration": 17,
    "start_time": "2021-07-08T10:19:19.940Z"
   },
   {
    "duration": 38,
    "start_time": "2021-07-08T10:19:19.959Z"
   },
   {
    "duration": 8,
    "start_time": "2021-07-08T10:19:19.999Z"
   },
   {
    "duration": 15,
    "start_time": "2021-07-08T10:19:20.009Z"
   },
   {
    "duration": 22,
    "start_time": "2021-07-08T10:19:20.026Z"
   },
   {
    "duration": 10,
    "start_time": "2021-07-08T10:19:20.050Z"
   },
   {
    "duration": 10,
    "start_time": "2021-07-08T10:19:20.062Z"
   },
   {
    "duration": 20,
    "start_time": "2021-07-08T10:19:20.073Z"
   },
   {
    "duration": 29,
    "start_time": "2021-07-08T10:19:20.095Z"
   },
   {
    "duration": 17,
    "start_time": "2021-07-08T10:19:20.126Z"
   },
   {
    "duration": 40,
    "start_time": "2021-07-08T10:19:20.146Z"
   },
   {
    "duration": 15,
    "start_time": "2021-07-08T10:19:20.189Z"
   },
   {
    "duration": 19,
    "start_time": "2021-07-08T10:19:20.206Z"
   },
   {
    "duration": 10,
    "start_time": "2021-07-08T10:19:20.226Z"
   },
   {
    "duration": 11,
    "start_time": "2021-07-08T10:19:20.238Z"
   },
   {
    "duration": 297,
    "start_time": "2021-07-08T10:19:20.250Z"
   },
   {
    "duration": 6,
    "start_time": "2021-07-08T10:19:20.549Z"
   },
   {
    "duration": 191,
    "start_time": "2021-07-08T10:19:20.557Z"
   },
   {
    "duration": 19,
    "start_time": "2021-07-08T10:19:20.750Z"
   },
   {
    "duration": 20,
    "start_time": "2021-07-08T10:19:20.771Z"
   },
   {
    "duration": 15,
    "start_time": "2021-07-08T10:19:20.793Z"
   },
   {
    "duration": 222,
    "start_time": "2021-07-08T10:19:20.809Z"
   },
   {
    "duration": 20,
    "start_time": "2021-07-08T10:19:21.033Z"
   },
   {
    "duration": 27,
    "start_time": "2021-07-08T10:45:04.055Z"
   },
   {
    "duration": 8,
    "start_time": "2021-07-08T10:45:08.478Z"
   },
   {
    "duration": 8,
    "start_time": "2021-07-08T10:45:31.982Z"
   },
   {
    "duration": 10,
    "start_time": "2021-07-08T10:46:01.221Z"
   },
   {
    "duration": 17,
    "start_time": "2021-07-08T10:46:40.011Z"
   },
   {
    "duration": 193,
    "start_time": "2021-07-08T10:48:19.471Z"
   },
   {
    "duration": 225,
    "start_time": "2021-07-08T10:49:26.480Z"
   },
   {
    "duration": 204,
    "start_time": "2021-07-08T10:49:59.992Z"
   },
   {
    "duration": 435,
    "start_time": "2021-07-08T10:50:06.779Z"
   },
   {
    "duration": 199,
    "start_time": "2021-07-08T10:50:14.891Z"
   },
   {
    "duration": 204,
    "start_time": "2021-07-08T10:50:18.501Z"
   },
   {
    "duration": 244,
    "start_time": "2021-07-08T10:50:23.359Z"
   },
   {
    "duration": 192,
    "start_time": "2021-07-08T10:50:29.135Z"
   },
   {
    "duration": 218,
    "start_time": "2021-07-08T10:50:33.092Z"
   },
   {
    "duration": 207,
    "start_time": "2021-07-08T10:52:45.381Z"
   },
   {
    "duration": 5,
    "start_time": "2021-07-08T10:53:34.641Z"
   },
   {
    "duration": 196,
    "start_time": "2021-07-08T10:53:41.478Z"
   },
   {
    "duration": 43,
    "start_time": "2021-07-08T10:53:50.335Z"
   },
   {
    "duration": 32,
    "start_time": "2021-07-08T10:53:55.294Z"
   },
   {
    "duration": 55,
    "start_time": "2021-07-08T10:54:09.675Z"
   },
   {
    "duration": 16,
    "start_time": "2021-07-08T10:54:12.260Z"
   },
   {
    "duration": 15,
    "start_time": "2021-07-08T10:54:49.150Z"
   },
   {
    "duration": 20,
    "start_time": "2021-07-08T10:56:07.596Z"
   },
   {
    "duration": 16,
    "start_time": "2021-07-08T10:58:26.276Z"
   },
   {
    "duration": 22,
    "start_time": "2021-07-08T10:59:00.486Z"
   },
   {
    "duration": 18,
    "start_time": "2021-07-08T11:02:09.653Z"
   },
   {
    "duration": 10,
    "start_time": "2021-07-08T11:03:44.331Z"
   },
   {
    "duration": 10,
    "start_time": "2021-07-08T11:03:54.055Z"
   },
   {
    "duration": 12,
    "start_time": "2021-07-08T11:04:41.967Z"
   },
   {
    "duration": 24,
    "start_time": "2021-07-08T11:07:30.732Z"
   },
   {
    "duration": 6,
    "start_time": "2021-07-08T11:07:37.364Z"
   },
   {
    "duration": 16,
    "start_time": "2021-07-08T11:08:01.819Z"
   },
   {
    "duration": 17,
    "start_time": "2021-07-08T11:09:47.488Z"
   },
   {
    "duration": 246,
    "start_time": "2021-07-08T11:10:00.830Z"
   },
   {
    "duration": 18,
    "start_time": "2021-07-08T11:13:55.195Z"
   },
   {
    "duration": 204,
    "start_time": "2021-07-08T11:14:04.951Z"
   },
   {
    "duration": 19,
    "start_time": "2021-07-08T11:15:10.613Z"
   },
   {
    "duration": 680,
    "start_time": "2021-07-08T11:16:25.793Z"
   },
   {
    "duration": 451,
    "start_time": "2021-07-08T11:16:40.313Z"
   },
   {
    "duration": 469,
    "start_time": "2021-07-08T11:17:21.286Z"
   },
   {
    "duration": 20,
    "start_time": "2021-07-08T11:19:12.554Z"
   },
   {
    "duration": 35,
    "start_time": "2021-07-08T11:20:05.484Z"
   },
   {
    "duration": 53,
    "start_time": "2021-07-08T11:21:40.050Z"
   },
   {
    "duration": 13,
    "start_time": "2021-07-08T11:22:26.059Z"
   },
   {
    "duration": 19,
    "start_time": "2021-07-08T11:22:47.419Z"
   },
   {
    "duration": 25,
    "start_time": "2021-07-08T11:23:19.958Z"
   },
   {
    "duration": 29,
    "start_time": "2021-07-08T11:23:25.415Z"
   },
   {
    "duration": 10,
    "start_time": "2021-07-08T11:24:45.138Z"
   },
   {
    "duration": 19,
    "start_time": "2021-07-08T11:24:54.498Z"
   },
   {
    "duration": 12,
    "start_time": "2021-07-08T11:25:32.225Z"
   },
   {
    "duration": 19,
    "start_time": "2021-07-08T11:25:37.092Z"
   },
   {
    "duration": 17,
    "start_time": "2021-07-08T11:25:58.116Z"
   },
   {
    "duration": 15,
    "start_time": "2021-07-08T11:26:02.258Z"
   },
   {
    "duration": 8,
    "start_time": "2021-07-08T11:26:59.682Z"
   },
   {
    "duration": 184,
    "start_time": "2021-07-08T11:27:21.894Z"
   },
   {
    "duration": 8,
    "start_time": "2021-07-08T11:27:23.824Z"
   },
   {
    "duration": 202,
    "start_time": "2021-07-08T11:27:23.962Z"
   },
   {
    "duration": 360,
    "start_time": "2021-07-08T11:28:33.215Z"
   },
   {
    "duration": 231,
    "start_time": "2021-07-08T11:32:05.542Z"
   },
   {
    "duration": 607,
    "start_time": "2021-07-08T11:36:27.854Z"
   },
   {
    "duration": 241,
    "start_time": "2021-07-08T11:36:28.463Z"
   },
   {
    "duration": 67,
    "start_time": "2021-07-08T11:36:28.709Z"
   },
   {
    "duration": 5,
    "start_time": "2021-07-08T11:36:28.778Z"
   },
   {
    "duration": 32,
    "start_time": "2021-07-08T11:36:28.784Z"
   },
   {
    "duration": 11,
    "start_time": "2021-07-08T11:36:28.819Z"
   },
   {
    "duration": 20,
    "start_time": "2021-07-08T11:36:28.834Z"
   },
   {
    "duration": 36,
    "start_time": "2021-07-08T11:36:28.857Z"
   },
   {
    "duration": 16,
    "start_time": "2021-07-08T11:36:28.895Z"
   },
   {
    "duration": 14,
    "start_time": "2021-07-08T11:36:28.913Z"
   },
   {
    "duration": 9,
    "start_time": "2021-07-08T11:36:28.930Z"
   },
   {
    "duration": 55,
    "start_time": "2021-07-08T11:36:28.941Z"
   },
   {
    "duration": 27,
    "start_time": "2021-07-08T11:36:28.999Z"
   },
   {
    "duration": 30,
    "start_time": "2021-07-08T11:36:29.028Z"
   },
   {
    "duration": 31,
    "start_time": "2021-07-08T11:36:29.060Z"
   },
   {
    "duration": 3,
    "start_time": "2021-07-08T11:36:29.093Z"
   },
   {
    "duration": 12,
    "start_time": "2021-07-08T11:36:29.099Z"
   },
   {
    "duration": 11,
    "start_time": "2021-07-08T11:36:29.112Z"
   },
   {
    "duration": 12,
    "start_time": "2021-07-08T11:36:29.125Z"
   },
   {
    "duration": 9,
    "start_time": "2021-07-08T11:36:29.139Z"
   },
   {
    "duration": 31,
    "start_time": "2021-07-08T11:36:29.191Z"
   },
   {
    "duration": 17,
    "start_time": "2021-07-08T11:36:29.226Z"
   },
   {
    "duration": 7,
    "start_time": "2021-07-08T11:36:29.245Z"
   },
   {
    "duration": 10,
    "start_time": "2021-07-08T11:36:29.254Z"
   },
   {
    "duration": 30,
    "start_time": "2021-07-08T11:36:29.292Z"
   },
   {
    "duration": 11,
    "start_time": "2021-07-08T11:36:29.324Z"
   },
   {
    "duration": 11,
    "start_time": "2021-07-08T11:36:29.337Z"
   },
   {
    "duration": 230,
    "start_time": "2021-07-08T11:36:29.349Z"
   },
   {
    "duration": 13,
    "start_time": "2021-07-08T11:36:29.588Z"
   },
   {
    "duration": 205,
    "start_time": "2021-07-08T11:36:29.603Z"
   },
   {
    "duration": 20,
    "start_time": "2021-07-08T11:36:29.810Z"
   },
   {
    "duration": 9,
    "start_time": "2021-07-08T11:36:29.832Z"
   },
   {
    "duration": 16,
    "start_time": "2021-07-08T11:36:29.843Z"
   },
   {
    "duration": 283,
    "start_time": "2021-07-08T11:36:29.861Z"
   },
   {
    "duration": 50,
    "start_time": "2021-07-08T11:36:30.146Z"
   },
   {
    "duration": 14,
    "start_time": "2021-07-08T11:36:30.198Z"
   },
   {
    "duration": 11,
    "start_time": "2021-07-08T11:36:30.214Z"
   },
   {
    "duration": 245,
    "start_time": "2021-07-08T11:36:30.227Z"
   },
   {
    "duration": 439,
    "start_time": "2021-07-08T11:36:30.474Z"
   },
   {
    "duration": 210,
    "start_time": "2021-07-08T11:36:30.915Z"
   },
   {
    "duration": 15,
    "start_time": "2021-07-08T11:36:31.127Z"
   },
   {
    "duration": 17,
    "start_time": "2021-07-08T11:38:20.451Z"
   },
   {
    "duration": 642,
    "start_time": "2021-07-08T11:46:17.881Z"
   },
   {
    "duration": 210,
    "start_time": "2021-07-08T11:46:18.525Z"
   },
   {
    "duration": 104,
    "start_time": "2021-07-08T11:46:18.741Z"
   },
   {
    "duration": 8,
    "start_time": "2021-07-08T11:46:18.847Z"
   },
   {
    "duration": 25,
    "start_time": "2021-07-08T11:46:18.857Z"
   },
   {
    "duration": 14,
    "start_time": "2021-07-08T11:46:18.884Z"
   },
   {
    "duration": 22,
    "start_time": "2021-07-08T11:46:18.900Z"
   },
   {
    "duration": 5,
    "start_time": "2021-07-08T11:46:18.924Z"
   },
   {
    "duration": 13,
    "start_time": "2021-07-08T11:46:18.931Z"
   },
   {
    "duration": 45,
    "start_time": "2021-07-08T11:46:18.946Z"
   },
   {
    "duration": 12,
    "start_time": "2021-07-08T11:46:18.993Z"
   },
   {
    "duration": 38,
    "start_time": "2021-07-08T11:46:19.006Z"
   },
   {
    "duration": 50,
    "start_time": "2021-07-08T11:46:19.046Z"
   },
   {
    "duration": 29,
    "start_time": "2021-07-08T11:46:19.099Z"
   },
   {
    "duration": 7,
    "start_time": "2021-07-08T11:46:19.130Z"
   },
   {
    "duration": 3,
    "start_time": "2021-07-08T11:46:19.139Z"
   },
   {
    "duration": 11,
    "start_time": "2021-07-08T11:46:19.144Z"
   },
   {
    "duration": 40,
    "start_time": "2021-07-08T11:46:19.157Z"
   },
   {
    "duration": 15,
    "start_time": "2021-07-08T11:46:19.199Z"
   },
   {
    "duration": 10,
    "start_time": "2021-07-08T11:46:19.217Z"
   },
   {
    "duration": 68,
    "start_time": "2021-07-08T11:46:19.230Z"
   },
   {
    "duration": 17,
    "start_time": "2021-07-08T11:46:19.301Z"
   },
   {
    "duration": 7,
    "start_time": "2021-07-08T11:46:19.321Z"
   },
   {
    "duration": 11,
    "start_time": "2021-07-08T11:46:19.330Z"
   },
   {
    "duration": 59,
    "start_time": "2021-07-08T11:46:19.343Z"
   },
   {
    "duration": 17,
    "start_time": "2021-07-08T11:46:19.405Z"
   },
   {
    "duration": 16,
    "start_time": "2021-07-08T11:46:19.424Z"
   },
   {
    "duration": 252,
    "start_time": "2021-07-08T11:46:19.443Z"
   },
   {
    "duration": 9,
    "start_time": "2021-07-08T11:46:19.697Z"
   },
   {
    "duration": 224,
    "start_time": "2021-07-08T11:46:19.708Z"
   },
   {
    "duration": 21,
    "start_time": "2021-07-08T11:46:19.934Z"
   },
   {
    "duration": 9,
    "start_time": "2021-07-08T11:46:19.956Z"
   },
   {
    "duration": 32,
    "start_time": "2021-07-08T11:46:19.967Z"
   },
   {
    "duration": 288,
    "start_time": "2021-07-08T11:46:20.004Z"
   },
   {
    "duration": 23,
    "start_time": "2021-07-08T11:46:20.300Z"
   },
   {
    "duration": 11,
    "start_time": "2021-07-08T11:46:20.325Z"
   },
   {
    "duration": 11,
    "start_time": "2021-07-08T11:46:20.339Z"
   },
   {
    "duration": 259,
    "start_time": "2021-07-08T11:46:20.352Z"
   },
   {
    "duration": 438,
    "start_time": "2021-07-08T11:46:20.613Z"
   },
   {
    "duration": 207,
    "start_time": "2021-07-08T11:46:21.054Z"
   },
   {
    "duration": 27,
    "start_time": "2021-07-08T11:46:21.262Z"
   },
   {
    "duration": 19,
    "start_time": "2021-07-08T11:46:21.291Z"
   },
   {
    "duration": 820,
    "start_time": "2021-07-08T11:49:01.655Z"
   },
   {
    "duration": 372,
    "start_time": "2021-07-08T11:49:02.478Z"
   },
   {
    "duration": 98,
    "start_time": "2021-07-08T11:49:02.853Z"
   },
   {
    "duration": 6,
    "start_time": "2021-07-08T11:49:02.953Z"
   },
   {
    "duration": 39,
    "start_time": "2021-07-08T11:49:02.960Z"
   },
   {
    "duration": 9,
    "start_time": "2021-07-08T11:49:03.003Z"
   },
   {
    "duration": 23,
    "start_time": "2021-07-08T11:49:03.014Z"
   },
   {
    "duration": 6,
    "start_time": "2021-07-08T11:49:03.041Z"
   },
   {
    "duration": 20,
    "start_time": "2021-07-08T11:49:03.049Z"
   },
   {
    "duration": 18,
    "start_time": "2021-07-08T11:49:03.084Z"
   },
   {
    "duration": 14,
    "start_time": "2021-07-08T11:49:03.104Z"
   },
   {
    "duration": 39,
    "start_time": "2021-07-08T11:49:03.119Z"
   },
   {
    "duration": 38,
    "start_time": "2021-07-08T11:49:03.160Z"
   },
   {
    "duration": 26,
    "start_time": "2021-07-08T11:49:03.200Z"
   },
   {
    "duration": 7,
    "start_time": "2021-07-08T11:49:03.227Z"
   },
   {
    "duration": 4,
    "start_time": "2021-07-08T11:49:03.236Z"
   },
   {
    "duration": 15,
    "start_time": "2021-07-08T11:49:03.243Z"
   },
   {
    "duration": 21,
    "start_time": "2021-07-08T11:49:03.285Z"
   },
   {
    "duration": 17,
    "start_time": "2021-07-08T11:49:03.309Z"
   },
   {
    "duration": 10,
    "start_time": "2021-07-08T11:49:03.328Z"
   },
   {
    "duration": 65,
    "start_time": "2021-07-08T11:49:03.340Z"
   },
   {
    "duration": 18,
    "start_time": "2021-07-08T11:49:03.407Z"
   },
   {
    "duration": 8,
    "start_time": "2021-07-08T11:49:03.428Z"
   },
   {
    "duration": 15,
    "start_time": "2021-07-08T11:49:03.438Z"
   },
   {
    "duration": 40,
    "start_time": "2021-07-08T11:49:03.455Z"
   },
   {
    "duration": 12,
    "start_time": "2021-07-08T11:49:03.497Z"
   },
   {
    "duration": 29,
    "start_time": "2021-07-08T11:49:03.511Z"
   },
   {
    "duration": 285,
    "start_time": "2021-07-08T11:49:03.542Z"
   },
   {
    "duration": 8,
    "start_time": "2021-07-08T11:49:03.829Z"
   },
   {
    "duration": 227,
    "start_time": "2021-07-08T11:49:03.838Z"
   },
   {
    "duration": 40,
    "start_time": "2021-07-08T11:49:04.066Z"
   },
   {
    "duration": 10,
    "start_time": "2021-07-08T11:49:04.108Z"
   },
   {
    "duration": 26,
    "start_time": "2021-07-08T11:49:04.121Z"
   },
   {
    "duration": 290,
    "start_time": "2021-07-08T11:49:04.149Z"
   },
   {
    "duration": 26,
    "start_time": "2021-07-08T11:49:04.441Z"
   },
   {
    "duration": 31,
    "start_time": "2021-07-08T11:49:04.470Z"
   },
   {
    "duration": 14,
    "start_time": "2021-07-08T11:49:04.503Z"
   },
   {
    "duration": 259,
    "start_time": "2021-07-08T11:49:04.521Z"
   },
   {
    "duration": 480,
    "start_time": "2021-07-08T11:49:04.782Z"
   },
   {
    "duration": 225,
    "start_time": "2021-07-08T11:49:05.264Z"
   },
   {
    "duration": 22,
    "start_time": "2021-07-08T11:49:05.491Z"
   },
   {
    "duration": 24,
    "start_time": "2021-07-08T11:49:05.515Z"
   },
   {
    "duration": 634,
    "start_time": "2021-07-08T11:52:24.960Z"
   },
   {
    "duration": 199,
    "start_time": "2021-07-08T11:52:25.599Z"
   },
   {
    "duration": 106,
    "start_time": "2021-07-08T11:52:25.803Z"
   },
   {
    "duration": 7,
    "start_time": "2021-07-08T11:52:25.911Z"
   },
   {
    "duration": 29,
    "start_time": "2021-07-08T11:52:25.920Z"
   },
   {
    "duration": 7,
    "start_time": "2021-07-08T11:52:25.951Z"
   },
   {
    "duration": 26,
    "start_time": "2021-07-08T11:52:25.961Z"
   },
   {
    "duration": 11,
    "start_time": "2021-07-08T11:52:25.990Z"
   },
   {
    "duration": 29,
    "start_time": "2021-07-08T11:52:26.005Z"
   },
   {
    "duration": 9,
    "start_time": "2021-07-08T11:52:26.036Z"
   },
   {
    "duration": 8,
    "start_time": "2021-07-08T11:52:26.047Z"
   },
   {
    "duration": 63,
    "start_time": "2021-07-08T11:52:26.057Z"
   },
   {
    "duration": 17,
    "start_time": "2021-07-08T11:52:26.122Z"
   },
   {
    "duration": 43,
    "start_time": "2021-07-08T11:52:26.142Z"
   },
   {
    "duration": 17,
    "start_time": "2021-07-08T11:52:26.187Z"
   },
   {
    "duration": 5,
    "start_time": "2021-07-08T11:52:26.206Z"
   },
   {
    "duration": 12,
    "start_time": "2021-07-08T11:52:26.212Z"
   },
   {
    "duration": 11,
    "start_time": "2021-07-08T11:52:26.226Z"
   },
   {
    "duration": 12,
    "start_time": "2021-07-08T11:52:26.238Z"
   },
   {
    "duration": 38,
    "start_time": "2021-07-08T11:52:26.252Z"
   },
   {
    "duration": 40,
    "start_time": "2021-07-08T11:52:26.292Z"
   },
   {
    "duration": 17,
    "start_time": "2021-07-08T11:52:26.336Z"
   },
   {
    "duration": 39,
    "start_time": "2021-07-08T11:52:26.355Z"
   },
   {
    "duration": 11,
    "start_time": "2021-07-08T11:52:26.395Z"
   },
   {
    "duration": 23,
    "start_time": "2021-07-08T11:52:26.408Z"
   },
   {
    "duration": 12,
    "start_time": "2021-07-08T11:52:26.432Z"
   },
   {
    "duration": 41,
    "start_time": "2021-07-08T11:52:26.446Z"
   },
   {
    "duration": 215,
    "start_time": "2021-07-08T11:52:26.493Z"
   },
   {
    "duration": 8,
    "start_time": "2021-07-08T11:52:26.710Z"
   },
   {
    "duration": 228,
    "start_time": "2021-07-08T11:52:26.720Z"
   },
   {
    "duration": 18,
    "start_time": "2021-07-08T11:52:26.950Z"
   },
   {
    "duration": 35,
    "start_time": "2021-07-08T11:52:26.969Z"
   },
   {
    "duration": 23,
    "start_time": "2021-07-08T11:52:27.006Z"
   },
   {
    "duration": 258,
    "start_time": "2021-07-08T11:52:27.030Z"
   },
   {
    "duration": 24,
    "start_time": "2021-07-08T11:52:27.290Z"
   },
   {
    "duration": 12,
    "start_time": "2021-07-08T11:52:27.316Z"
   },
   {
    "duration": 10,
    "start_time": "2021-07-08T11:52:27.329Z"
   },
   {
    "duration": 298,
    "start_time": "2021-07-08T11:52:27.341Z"
   },
   {
    "duration": 436,
    "start_time": "2021-07-08T11:52:27.641Z"
   },
   {
    "duration": 216,
    "start_time": "2021-07-08T11:52:28.079Z"
   },
   {
    "duration": 20,
    "start_time": "2021-07-08T11:52:28.297Z"
   },
   {
    "duration": 17,
    "start_time": "2021-07-08T11:52:28.319Z"
   },
   {
    "duration": 724,
    "start_time": "2021-11-25T12:59:16.888Z"
   },
   {
    "duration": 609,
    "start_time": "2021-11-25T12:59:18.759Z"
   },
   {
    "duration": 113,
    "start_time": "2021-11-25T12:59:25.222Z"
   },
   {
    "duration": 47,
    "start_time": "2021-11-25T12:59:28.642Z"
   },
   {
    "duration": 77,
    "start_time": "2021-11-25T12:59:50.381Z"
   },
   {
    "duration": 40,
    "start_time": "2021-11-25T13:00:09.016Z"
   },
   {
    "duration": 81,
    "start_time": "2021-11-25T13:00:11.772Z"
   },
   {
    "duration": 15,
    "start_time": "2021-11-25T13:00:48.634Z"
   },
   {
    "duration": 9,
    "start_time": "2021-11-25T13:01:02.020Z"
   },
   {
    "duration": 244,
    "start_time": "2021-11-25T13:04:57.209Z"
   },
   {
    "duration": 2036,
    "start_time": "2021-11-25T13:08:46.244Z"
   },
   {
    "duration": 4680,
    "start_time": "2021-11-25T13:11:38.849Z"
   },
   {
    "duration": 7,
    "start_time": "2021-11-25T13:11:58.281Z"
   },
   {
    "duration": 9,
    "start_time": "2021-11-25T13:12:18.334Z"
   },
   {
    "duration": 6,
    "start_time": "2021-11-25T13:12:56.394Z"
   },
   {
    "duration": 16,
    "start_time": "2021-11-25T13:13:22.274Z"
   },
   {
    "duration": 8,
    "start_time": "2021-11-25T13:13:45.949Z"
   },
   {
    "duration": 6,
    "start_time": "2021-11-25T13:13:48.239Z"
   },
   {
    "duration": 283,
    "start_time": "2021-11-25T13:18:49.801Z"
   },
   {
    "duration": 264,
    "start_time": "2021-11-25T13:21:05.430Z"
   },
   {
    "duration": 90,
    "start_time": "2021-11-25T13:21:25.361Z"
   },
   {
    "duration": 9,
    "start_time": "2021-11-25T13:21:32.701Z"
   },
   {
    "duration": 5,
    "start_time": "2021-11-25T13:21:34.203Z"
   },
   {
    "duration": 237,
    "start_time": "2021-11-25T13:21:36.668Z"
   },
   {
    "duration": 250,
    "start_time": "2021-11-25T13:22:04.378Z"
   },
   {
    "duration": 310,
    "start_time": "2021-11-25T13:22:15.990Z"
   },
   {
    "duration": 9,
    "start_time": "2021-11-25T13:22:29.506Z"
   },
   {
    "duration": 12,
    "start_time": "2021-11-25T13:22:33.144Z"
   },
   {
    "duration": 5,
    "start_time": "2021-11-25T13:22:56.744Z"
   },
   {
    "duration": 7,
    "start_time": "2021-11-25T13:22:59.901Z"
   },
   {
    "duration": 14,
    "start_time": "2021-11-25T13:23:01.755Z"
   },
   {
    "duration": 43,
    "start_time": "2021-11-25T13:23:06.460Z"
   },
   {
    "duration": 10,
    "start_time": "2021-11-25T13:23:58.094Z"
   },
   {
    "duration": 13,
    "start_time": "2021-11-25T13:24:00.062Z"
   },
   {
    "duration": 42,
    "start_time": "2021-11-25T13:24:08.117Z"
   },
   {
    "duration": 9,
    "start_time": "2021-11-25T13:24:10.807Z"
   },
   {
    "duration": 51,
    "start_time": "2021-11-25T13:26:49.269Z"
   },
   {
    "duration": 16,
    "start_time": "2021-11-25T13:26:58.438Z"
   },
   {
    "duration": 35,
    "start_time": "2021-11-25T13:27:06.737Z"
   },
   {
    "duration": 31,
    "start_time": "2021-11-25T13:27:15.078Z"
   },
   {
    "duration": 20,
    "start_time": "2021-11-25T13:28:32.743Z"
   },
   {
    "duration": 717,
    "start_time": "2021-11-25T13:29:11.730Z"
   },
   {
    "duration": 88,
    "start_time": "2021-11-25T13:29:12.449Z"
   },
   {
    "duration": 11,
    "start_time": "2021-11-25T13:29:12.540Z"
   },
   {
    "duration": 28,
    "start_time": "2021-11-25T13:29:12.564Z"
   },
   {
    "duration": 20,
    "start_time": "2021-11-25T13:29:12.594Z"
   },
   {
    "duration": 22,
    "start_time": "2021-11-25T13:29:12.616Z"
   },
   {
    "duration": 34,
    "start_time": "2021-11-25T13:29:12.640Z"
   },
   {
    "duration": 25,
    "start_time": "2021-11-25T13:29:12.677Z"
   },
   {
    "duration": 60,
    "start_time": "2021-11-25T13:29:12.704Z"
   },
   {
    "duration": 24,
    "start_time": "2021-11-25T13:29:12.767Z"
   },
   {
    "duration": 52,
    "start_time": "2021-11-25T13:29:12.794Z"
   },
   {
    "duration": 19,
    "start_time": "2021-11-25T13:29:12.848Z"
   },
   {
    "duration": 80,
    "start_time": "2021-11-25T13:31:44.609Z"
   },
   {
    "duration": 31,
    "start_time": "2021-11-25T13:32:13.418Z"
   },
   {
    "duration": 30,
    "start_time": "2021-11-25T13:32:44.449Z"
   },
   {
    "duration": 41,
    "start_time": "2021-11-25T13:34:51.586Z"
   },
   {
    "duration": 7,
    "start_time": "2021-11-25T13:34:53.932Z"
   },
   {
    "duration": 9,
    "start_time": "2021-11-25T13:48:37.382Z"
   },
   {
    "duration": 719,
    "start_time": "2021-11-25T13:49:06.997Z"
   },
   {
    "duration": 94,
    "start_time": "2021-11-25T13:49:07.718Z"
   },
   {
    "duration": 5,
    "start_time": "2021-11-25T13:49:07.814Z"
   },
   {
    "duration": 65,
    "start_time": "2021-11-25T13:49:07.822Z"
   },
   {
    "duration": 41,
    "start_time": "2021-11-25T13:49:07.889Z"
   },
   {
    "duration": 7,
    "start_time": "2021-11-25T13:49:07.932Z"
   },
   {
    "duration": 17,
    "start_time": "2021-11-25T13:49:07.941Z"
   },
   {
    "duration": 15,
    "start_time": "2021-11-25T13:49:07.961Z"
   },
   {
    "duration": 23,
    "start_time": "2021-11-25T13:49:07.978Z"
   },
   {
    "duration": 5,
    "start_time": "2021-11-25T13:49:08.003Z"
   },
   {
    "duration": 18,
    "start_time": "2021-11-25T13:49:08.010Z"
   },
   {
    "duration": 54,
    "start_time": "2021-11-25T13:49:08.030Z"
   },
   {
    "duration": 14,
    "start_time": "2021-11-25T13:51:16.538Z"
   },
   {
    "duration": 17,
    "start_time": "2021-11-25T13:51:26.507Z"
   },
   {
    "duration": 15,
    "start_time": "2021-11-25T13:51:33.977Z"
   },
   {
    "duration": 33,
    "start_time": "2021-11-25T13:52:17.986Z"
   },
   {
    "duration": 658,
    "start_time": "2021-11-27T12:15:12.083Z"
   },
   {
    "duration": 73,
    "start_time": "2021-11-27T12:15:12.743Z"
   },
   {
    "duration": 10,
    "start_time": "2021-11-27T12:15:12.818Z"
   },
   {
    "duration": 43,
    "start_time": "2021-11-27T12:15:12.830Z"
   },
   {
    "duration": 6,
    "start_time": "2021-11-27T12:15:12.874Z"
   },
   {
    "duration": 9,
    "start_time": "2021-11-27T12:15:12.881Z"
   },
   {
    "duration": 5,
    "start_time": "2021-11-27T12:15:12.892Z"
   },
   {
    "duration": 8,
    "start_time": "2021-11-27T12:15:12.900Z"
   },
   {
    "duration": 4,
    "start_time": "2021-11-27T12:15:12.909Z"
   },
   {
    "duration": 13,
    "start_time": "2021-11-27T12:15:12.915Z"
   },
   {
    "duration": 16,
    "start_time": "2021-11-27T12:15:12.930Z"
   },
   {
    "duration": 71,
    "start_time": "2021-11-27T12:15:12.947Z"
   },
   {
    "duration": 11,
    "start_time": "2021-11-27T12:15:13.020Z"
   },
   {
    "duration": 45,
    "start_time": "2021-11-27T12:20:18.579Z"
   },
   {
    "duration": 415,
    "start_time": "2021-11-27T12:20:59.905Z"
   },
   {
    "duration": 24,
    "start_time": "2021-11-27T12:21:59.121Z"
   },
   {
    "duration": 16,
    "start_time": "2021-11-27T12:22:46.952Z"
   },
   {
    "duration": 5,
    "start_time": "2021-11-27T12:26:13.195Z"
   },
   {
    "duration": 4,
    "start_time": "2021-11-27T12:26:42.681Z"
   },
   {
    "duration": 4,
    "start_time": "2021-11-27T12:26:45.707Z"
   },
   {
    "duration": 5,
    "start_time": "2021-11-27T13:38:06.251Z"
   },
   {
    "duration": 612,
    "start_time": "2021-11-27T13:47:17.901Z"
   },
   {
    "duration": 73,
    "start_time": "2021-11-27T13:47:18.515Z"
   },
   {
    "duration": 11,
    "start_time": "2021-11-27T13:47:18.592Z"
   },
   {
    "duration": 69,
    "start_time": "2021-11-27T13:47:18.604Z"
   },
   {
    "duration": 19,
    "start_time": "2021-11-27T13:47:18.675Z"
   },
   {
    "duration": 12,
    "start_time": "2021-11-27T13:47:18.695Z"
   },
   {
    "duration": 28,
    "start_time": "2021-11-27T13:47:18.709Z"
   },
   {
    "duration": 10,
    "start_time": "2021-11-27T13:47:18.739Z"
   },
   {
    "duration": 26,
    "start_time": "2021-11-27T13:47:18.751Z"
   },
   {
    "duration": 20,
    "start_time": "2021-11-27T13:47:18.779Z"
   },
   {
    "duration": 20,
    "start_time": "2021-11-27T13:47:18.800Z"
   },
   {
    "duration": 48,
    "start_time": "2021-11-27T13:47:18.822Z"
   },
   {
    "duration": 10,
    "start_time": "2021-11-27T13:47:18.871Z"
   },
   {
    "duration": 14,
    "start_time": "2021-11-27T13:47:18.882Z"
   },
   {
    "duration": 4185,
    "start_time": "2021-11-27T13:47:18.898Z"
   },
   {
    "duration": 7,
    "start_time": "2021-11-27T13:53:36.634Z"
   },
   {
    "duration": 5,
    "start_time": "2021-11-27T13:53:45.107Z"
   },
   {
    "duration": 9,
    "start_time": "2021-11-27T14:01:21.593Z"
   },
   {
    "duration": 18,
    "start_time": "2021-11-27T14:01:52.857Z"
   },
   {
    "duration": 6,
    "start_time": "2021-11-27T14:01:59.661Z"
   },
   {
    "duration": 18,
    "start_time": "2021-11-27T14:02:01.961Z"
   },
   {
    "duration": 10,
    "start_time": "2021-11-27T14:08:16.200Z"
   },
   {
    "duration": 7,
    "start_time": "2021-11-27T14:10:14.280Z"
   },
   {
    "duration": 625,
    "start_time": "2021-11-27T14:10:38.162Z"
   },
   {
    "duration": 75,
    "start_time": "2021-11-27T14:10:38.791Z"
   },
   {
    "duration": 10,
    "start_time": "2021-11-27T14:10:38.868Z"
   },
   {
    "duration": 62,
    "start_time": "2021-11-27T14:10:38.880Z"
   },
   {
    "duration": 7,
    "start_time": "2021-11-27T14:10:38.943Z"
   },
   {
    "duration": 35,
    "start_time": "2021-11-27T14:10:38.952Z"
   },
   {
    "duration": 29,
    "start_time": "2021-11-27T14:10:38.989Z"
   },
   {
    "duration": 16,
    "start_time": "2021-11-27T14:10:39.020Z"
   },
   {
    "duration": 16,
    "start_time": "2021-11-27T14:10:39.038Z"
   },
   {
    "duration": 29,
    "start_time": "2021-11-27T14:10:39.055Z"
   },
   {
    "duration": 22,
    "start_time": "2021-11-27T14:10:39.085Z"
   },
   {
    "duration": 35,
    "start_time": "2021-11-27T14:10:39.108Z"
   },
   {
    "duration": 8,
    "start_time": "2021-11-27T14:10:39.145Z"
   },
   {
    "duration": 25,
    "start_time": "2021-11-27T14:10:39.155Z"
   },
   {
    "duration": 32,
    "start_time": "2021-11-27T14:10:39.181Z"
   },
   {
    "duration": 13,
    "start_time": "2021-11-27T14:10:39.214Z"
   },
   {
    "duration": 18,
    "start_time": "2021-11-27T14:10:39.229Z"
   },
   {
    "duration": 20,
    "start_time": "2021-11-27T14:10:39.250Z"
   },
   {
    "duration": 26,
    "start_time": "2021-11-27T14:10:39.271Z"
   },
   {
    "duration": 5,
    "start_time": "2021-11-27T14:12:05.746Z"
   },
   {
    "duration": 19,
    "start_time": "2021-11-27T14:12:17.584Z"
   },
   {
    "duration": 228,
    "start_time": "2021-11-27T14:17:54.523Z"
   },
   {
    "duration": 7,
    "start_time": "2021-11-27T14:18:01.573Z"
   },
   {
    "duration": 5,
    "start_time": "2021-11-27T15:27:38.222Z"
   },
   {
    "duration": 304,
    "start_time": "2021-11-27T15:30:38.190Z"
   },
   {
    "duration": 169,
    "start_time": "2021-11-27T15:30:45.905Z"
   },
   {
    "duration": 177,
    "start_time": "2021-11-27T15:30:54.035Z"
   },
   {
    "duration": 175,
    "start_time": "2021-11-27T15:32:35.178Z"
   },
   {
    "duration": 178,
    "start_time": "2021-11-27T15:33:24.783Z"
   },
   {
    "duration": 189,
    "start_time": "2021-11-27T15:33:36.663Z"
   },
   {
    "duration": 174,
    "start_time": "2021-11-27T15:35:57.117Z"
   },
   {
    "duration": 176,
    "start_time": "2021-11-27T15:36:28.761Z"
   },
   {
    "duration": 165,
    "start_time": "2021-11-27T15:40:00.676Z"
   },
   {
    "duration": 9,
    "start_time": "2021-11-27T15:42:25.280Z"
   },
   {
    "duration": 181,
    "start_time": "2021-11-27T15:43:40.939Z"
   },
   {
    "duration": 9,
    "start_time": "2021-11-27T15:43:55.613Z"
   },
   {
    "duration": 24,
    "start_time": "2021-11-27T15:44:03.813Z"
   },
   {
    "duration": 11,
    "start_time": "2021-11-27T15:44:25.767Z"
   },
   {
    "duration": 24,
    "start_time": "2021-11-27T15:44:28.153Z"
   },
   {
    "duration": 4,
    "start_time": "2021-11-27T16:27:36.016Z"
   },
   {
    "duration": 12,
    "start_time": "2021-11-27T16:27:55.537Z"
   },
   {
    "duration": 55,
    "start_time": "2021-11-27T16:28:49.809Z"
   },
   {
    "duration": 167,
    "start_time": "2021-11-27T16:28:59.205Z"
   },
   {
    "duration": 4160,
    "start_time": "2021-11-27T16:29:13.121Z"
   },
   {
    "duration": 176,
    "start_time": "2021-11-27T16:34:43.354Z"
   },
   {
    "duration": 5,
    "start_time": "2021-11-27T16:36:03.105Z"
   },
   {
    "duration": 4,
    "start_time": "2021-11-27T16:36:17.804Z"
   },
   {
    "duration": 5,
    "start_time": "2021-11-27T16:36:19.256Z"
   },
   {
    "duration": 635,
    "start_time": "2021-11-27T16:36:50.666Z"
   },
   {
    "duration": 74,
    "start_time": "2021-11-27T16:36:51.302Z"
   },
   {
    "duration": 15,
    "start_time": "2021-11-27T16:36:51.377Z"
   },
   {
    "duration": 49,
    "start_time": "2021-11-27T16:36:51.394Z"
   },
   {
    "duration": 5,
    "start_time": "2021-11-27T16:36:51.444Z"
   },
   {
    "duration": 10,
    "start_time": "2021-11-27T16:36:51.451Z"
   },
   {
    "duration": 6,
    "start_time": "2021-11-27T16:36:51.462Z"
   },
   {
    "duration": 8,
    "start_time": "2021-11-27T16:36:51.470Z"
   },
   {
    "duration": 2,
    "start_time": "2021-11-27T16:36:51.480Z"
   },
   {
    "duration": 15,
    "start_time": "2021-11-27T16:36:51.484Z"
   },
   {
    "duration": 16,
    "start_time": "2021-11-27T16:36:51.500Z"
   },
   {
    "duration": 34,
    "start_time": "2021-11-27T16:36:51.517Z"
   },
   {
    "duration": 9,
    "start_time": "2021-11-27T16:36:51.553Z"
   },
   {
    "duration": 33,
    "start_time": "2021-11-27T16:36:51.563Z"
   },
   {
    "duration": 15,
    "start_time": "2021-11-27T16:36:51.598Z"
   },
   {
    "duration": 7,
    "start_time": "2021-11-27T16:36:51.615Z"
   },
   {
    "duration": 6,
    "start_time": "2021-11-27T16:36:51.624Z"
   },
   {
    "duration": 5,
    "start_time": "2021-11-27T16:36:51.631Z"
   },
   {
    "duration": 7,
    "start_time": "2021-11-27T16:36:51.638Z"
   },
   {
    "duration": 44,
    "start_time": "2021-11-27T16:36:51.647Z"
   },
   {
    "duration": 3,
    "start_time": "2021-11-27T16:36:51.693Z"
   },
   {
    "duration": 6,
    "start_time": "2021-11-27T16:36:51.698Z"
   },
   {
    "duration": 6,
    "start_time": "2021-11-27T16:39:16.234Z"
   },
   {
    "duration": 11,
    "start_time": "2021-11-27T16:39:17.781Z"
   },
   {
    "duration": 625,
    "start_time": "2021-11-27T20:22:29.206Z"
   },
   {
    "duration": 74,
    "start_time": "2021-11-27T20:22:29.833Z"
   },
   {
    "duration": 11,
    "start_time": "2021-11-27T20:22:29.910Z"
   },
   {
    "duration": 92,
    "start_time": "2021-11-27T20:22:29.922Z"
   },
   {
    "duration": 5,
    "start_time": "2021-11-27T20:22:30.016Z"
   },
   {
    "duration": 19,
    "start_time": "2021-11-27T20:22:30.023Z"
   },
   {
    "duration": 7,
    "start_time": "2021-11-27T20:22:30.044Z"
   },
   {
    "duration": 14,
    "start_time": "2021-11-27T20:22:30.053Z"
   },
   {
    "duration": 8,
    "start_time": "2021-11-27T20:22:30.068Z"
   },
   {
    "duration": 12,
    "start_time": "2021-11-27T20:22:30.091Z"
   },
   {
    "duration": 17,
    "start_time": "2021-11-27T20:22:30.105Z"
   },
   {
    "duration": 34,
    "start_time": "2021-11-27T20:22:30.124Z"
   },
   {
    "duration": 11,
    "start_time": "2021-11-27T20:22:30.191Z"
   },
   {
    "duration": 12,
    "start_time": "2021-11-27T20:22:30.204Z"
   },
   {
    "duration": 19,
    "start_time": "2021-11-27T20:22:30.219Z"
   },
   {
    "duration": 11,
    "start_time": "2021-11-27T20:22:30.240Z"
   },
   {
    "duration": 41,
    "start_time": "2021-11-27T20:22:30.253Z"
   },
   {
    "duration": 8,
    "start_time": "2021-11-27T20:22:30.297Z"
   },
   {
    "duration": 15,
    "start_time": "2021-11-27T20:22:30.307Z"
   },
   {
    "duration": 6,
    "start_time": "2021-11-27T20:22:30.324Z"
   },
   {
    "duration": 7,
    "start_time": "2021-11-27T20:22:30.332Z"
   },
   {
    "duration": 5,
    "start_time": "2021-11-27T20:22:30.342Z"
   },
   {
    "duration": 43,
    "start_time": "2021-11-27T20:22:30.349Z"
   },
   {
    "duration": 10,
    "start_time": "2021-11-27T20:24:33.623Z"
   },
   {
    "duration": 7,
    "start_time": "2021-11-27T20:33:07.038Z"
   },
   {
    "duration": 7,
    "start_time": "2021-11-27T20:33:23.414Z"
   },
   {
    "duration": 8,
    "start_time": "2021-11-27T20:34:29.105Z"
   },
   {
    "duration": 7,
    "start_time": "2021-11-27T20:34:58.637Z"
   },
   {
    "duration": 5,
    "start_time": "2021-11-27T20:35:23.712Z"
   },
   {
    "duration": 6,
    "start_time": "2021-11-27T20:35:29.837Z"
   },
   {
    "duration": 9,
    "start_time": "2021-11-27T20:36:11.943Z"
   },
   {
    "duration": 801,
    "start_time": "2021-11-27T20:48:57.504Z"
   },
   {
    "duration": 5,
    "start_time": "2021-11-27T20:49:04.954Z"
   },
   {
    "duration": 5,
    "start_time": "2021-11-27T20:49:12.343Z"
   },
   {
    "duration": 8,
    "start_time": "2021-11-27T20:49:23.611Z"
   },
   {
    "duration": 4,
    "start_time": "2021-11-27T20:58:51.559Z"
   },
   {
    "duration": 815,
    "start_time": "2021-11-27T20:59:24.494Z"
   },
   {
    "duration": 11,
    "start_time": "2021-11-27T20:59:33.333Z"
   },
   {
    "duration": 520,
    "start_time": "2021-11-27T20:59:40.316Z"
   },
   {
    "duration": 4,
    "start_time": "2021-11-27T21:01:31.234Z"
   },
   {
    "duration": 519,
    "start_time": "2021-11-27T21:01:35.719Z"
   },
   {
    "duration": 5,
    "start_time": "2021-11-27T21:10:58.234Z"
   },
   {
    "duration": 5,
    "start_time": "2021-11-27T21:11:54.542Z"
   },
   {
    "duration": 174,
    "start_time": "2021-11-27T21:17:45.926Z"
   },
   {
    "duration": 174,
    "start_time": "2021-11-27T21:19:23.841Z"
   },
   {
    "duration": 10,
    "start_time": "2021-11-27T21:19:36.744Z"
   },
   {
    "duration": 7,
    "start_time": "2021-11-27T21:19:40.815Z"
   },
   {
    "duration": 161,
    "start_time": "2021-11-27T21:20:45.933Z"
   },
   {
    "duration": 7,
    "start_time": "2021-11-27T21:21:06.582Z"
   },
   {
    "duration": 7,
    "start_time": "2021-11-27T21:22:04.877Z"
   },
   {
    "duration": 587,
    "start_time": "2021-11-27T21:22:13.245Z"
   },
   {
    "duration": 204,
    "start_time": "2021-11-27T21:22:13.837Z"
   },
   {
    "duration": 11,
    "start_time": "2021-11-27T21:22:14.043Z"
   },
   {
    "duration": 83,
    "start_time": "2021-11-27T21:22:14.056Z"
   },
   {
    "duration": 5,
    "start_time": "2021-11-27T21:22:14.141Z"
   },
   {
    "duration": 12,
    "start_time": "2021-11-27T21:22:14.147Z"
   },
   {
    "duration": 5,
    "start_time": "2021-11-27T21:22:14.161Z"
   },
   {
    "duration": 9,
    "start_time": "2021-11-27T21:22:14.168Z"
   },
   {
    "duration": 3,
    "start_time": "2021-11-27T21:22:14.179Z"
   },
   {
    "duration": 13,
    "start_time": "2021-11-27T21:22:14.184Z"
   },
   {
    "duration": 17,
    "start_time": "2021-11-27T21:22:14.199Z"
   },
   {
    "duration": 33,
    "start_time": "2021-11-27T21:22:14.217Z"
   },
   {
    "duration": 9,
    "start_time": "2021-11-27T21:22:14.252Z"
   },
   {
    "duration": 10,
    "start_time": "2021-11-27T21:22:14.292Z"
   },
   {
    "duration": 17,
    "start_time": "2021-11-27T21:22:14.304Z"
   },
   {
    "duration": 9,
    "start_time": "2021-11-27T21:22:14.322Z"
   },
   {
    "duration": 5,
    "start_time": "2021-11-27T21:22:14.332Z"
   },
   {
    "duration": 10,
    "start_time": "2021-11-27T21:22:14.339Z"
   },
   {
    "duration": 46,
    "start_time": "2021-11-27T21:22:14.350Z"
   },
   {
    "duration": 9,
    "start_time": "2021-11-27T21:22:14.398Z"
   },
   {
    "duration": 9,
    "start_time": "2021-11-27T21:22:14.408Z"
   },
   {
    "duration": 6,
    "start_time": "2021-11-27T21:22:14.420Z"
   },
   {
    "duration": 9,
    "start_time": "2021-11-27T21:22:14.428Z"
   },
   {
    "duration": 4,
    "start_time": "2021-11-27T21:22:14.438Z"
   },
   {
    "duration": 623,
    "start_time": "2021-11-27T21:22:14.444Z"
   },
   {
    "duration": 5,
    "start_time": "2021-11-27T21:22:15.068Z"
   },
   {
    "duration": 20,
    "start_time": "2021-11-27T21:22:15.074Z"
   },
   {
    "duration": 8,
    "start_time": "2021-11-27T21:22:15.096Z"
   },
   {
    "duration": 5,
    "start_time": "2021-11-27T21:22:15.106Z"
   },
   {
    "duration": 8,
    "start_time": "2021-11-27T21:22:15.113Z"
   },
   {
    "duration": 4,
    "start_time": "2021-11-27T21:22:15.123Z"
   },
   {
    "duration": 7,
    "start_time": "2021-11-27T21:22:15.128Z"
   },
   {
    "duration": 9,
    "start_time": "2021-11-27T21:23:33.951Z"
   },
   {
    "duration": 7,
    "start_time": "2021-11-27T21:23:41.265Z"
   },
   {
    "duration": 7,
    "start_time": "2021-11-27T21:24:06.171Z"
   },
   {
    "duration": 631,
    "start_time": "2021-11-27T21:24:11.680Z"
   },
   {
    "duration": 75,
    "start_time": "2021-11-27T21:24:12.312Z"
   },
   {
    "duration": 11,
    "start_time": "2021-11-27T21:24:12.389Z"
   },
   {
    "duration": 60,
    "start_time": "2021-11-27T21:24:12.402Z"
   },
   {
    "duration": 5,
    "start_time": "2021-11-27T21:24:12.464Z"
   },
   {
    "duration": 10,
    "start_time": "2021-11-27T21:24:12.471Z"
   },
   {
    "duration": 5,
    "start_time": "2021-11-27T21:24:12.482Z"
   },
   {
    "duration": 7,
    "start_time": "2021-11-27T21:24:12.490Z"
   },
   {
    "duration": 3,
    "start_time": "2021-11-27T21:24:12.499Z"
   },
   {
    "duration": 15,
    "start_time": "2021-11-27T21:24:12.504Z"
   },
   {
    "duration": 17,
    "start_time": "2021-11-27T21:24:12.520Z"
   },
   {
    "duration": 62,
    "start_time": "2021-11-27T21:24:12.539Z"
   },
   {
    "duration": 9,
    "start_time": "2021-11-27T21:24:12.603Z"
   },
   {
    "duration": 7,
    "start_time": "2021-11-27T21:24:12.614Z"
   },
   {
    "duration": 16,
    "start_time": "2021-11-27T21:24:12.623Z"
   },
   {
    "duration": 11,
    "start_time": "2021-11-27T21:24:12.641Z"
   },
   {
    "duration": 6,
    "start_time": "2021-11-27T21:24:12.692Z"
   },
   {
    "duration": 9,
    "start_time": "2021-11-27T21:24:12.700Z"
   },
   {
    "duration": 14,
    "start_time": "2021-11-27T21:24:12.711Z"
   },
   {
    "duration": 10,
    "start_time": "2021-11-27T21:24:12.727Z"
   },
   {
    "duration": 6,
    "start_time": "2021-11-27T21:24:12.739Z"
   },
   {
    "duration": 46,
    "start_time": "2021-11-27T21:24:12.747Z"
   },
   {
    "duration": 9,
    "start_time": "2021-11-27T21:24:12.797Z"
   },
   {
    "duration": 5,
    "start_time": "2021-11-27T21:24:12.809Z"
   },
   {
    "duration": 575,
    "start_time": "2021-11-27T21:24:12.816Z"
   },
   {
    "duration": 4,
    "start_time": "2021-11-27T21:24:13.393Z"
   },
   {
    "duration": 8,
    "start_time": "2021-11-27T21:24:13.399Z"
   },
   {
    "duration": 8,
    "start_time": "2021-11-27T21:24:13.409Z"
   },
   {
    "duration": 6,
    "start_time": "2021-11-27T21:24:13.419Z"
   },
   {
    "duration": 7,
    "start_time": "2021-11-27T21:24:13.427Z"
   },
   {
    "duration": 56,
    "start_time": "2021-11-27T21:24:13.435Z"
   },
   {
    "duration": 5,
    "start_time": "2021-11-27T21:24:13.493Z"
   },
   {
    "duration": 6,
    "start_time": "2021-11-27T21:24:45.049Z"
   },
   {
    "duration": 19,
    "start_time": "2021-11-27T21:25:05.755Z"
   },
   {
    "duration": 19,
    "start_time": "2021-11-27T21:25:39.588Z"
   },
   {
    "duration": 18,
    "start_time": "2021-11-27T21:26:15.598Z"
   },
   {
    "duration": 924,
    "start_time": "2021-11-27T21:26:33.482Z"
   },
   {
    "duration": 77,
    "start_time": "2021-11-27T21:26:34.408Z"
   },
   {
    "duration": 13,
    "start_time": "2021-11-27T21:26:34.487Z"
   },
   {
    "duration": 54,
    "start_time": "2021-11-27T21:26:34.502Z"
   },
   {
    "duration": 6,
    "start_time": "2021-11-27T21:26:34.558Z"
   },
   {
    "duration": 11,
    "start_time": "2021-11-27T21:26:34.566Z"
   },
   {
    "duration": 13,
    "start_time": "2021-11-27T21:26:34.579Z"
   },
   {
    "duration": 9,
    "start_time": "2021-11-27T21:26:34.595Z"
   },
   {
    "duration": 3,
    "start_time": "2021-11-27T21:26:34.606Z"
   },
   {
    "duration": 15,
    "start_time": "2021-11-27T21:26:34.611Z"
   },
   {
    "duration": 18,
    "start_time": "2021-11-27T21:26:34.628Z"
   },
   {
    "duration": 75,
    "start_time": "2021-11-27T21:26:34.648Z"
   },
   {
    "duration": 10,
    "start_time": "2021-11-27T21:26:34.724Z"
   },
   {
    "duration": 8,
    "start_time": "2021-11-27T21:26:34.736Z"
   },
   {
    "duration": 56,
    "start_time": "2021-11-27T21:26:34.745Z"
   },
   {
    "duration": 8,
    "start_time": "2021-11-27T21:26:34.803Z"
   },
   {
    "duration": 7,
    "start_time": "2021-11-27T21:26:34.812Z"
   },
   {
    "duration": 7,
    "start_time": "2021-11-27T21:26:34.821Z"
   },
   {
    "duration": 13,
    "start_time": "2021-11-27T21:26:34.829Z"
   },
   {
    "duration": 51,
    "start_time": "2021-11-27T21:26:34.844Z"
   },
   {
    "duration": 5,
    "start_time": "2021-11-27T21:26:34.897Z"
   },
   {
    "duration": 7,
    "start_time": "2021-11-27T21:26:34.903Z"
   },
   {
    "duration": 8,
    "start_time": "2021-11-27T21:26:34.913Z"
   },
   {
    "duration": 4,
    "start_time": "2021-11-27T21:26:34.922Z"
   },
   {
    "duration": 624,
    "start_time": "2021-11-27T21:26:34.928Z"
   },
   {
    "duration": 4,
    "start_time": "2021-11-27T21:26:35.554Z"
   },
   {
    "duration": 7,
    "start_time": "2021-11-27T21:26:35.560Z"
   },
   {
    "duration": 35,
    "start_time": "2021-11-27T21:26:35.569Z"
   },
   {
    "duration": 7,
    "start_time": "2021-11-27T21:26:35.606Z"
   },
   {
    "duration": 6,
    "start_time": "2021-11-27T21:26:35.615Z"
   },
   {
    "duration": 5,
    "start_time": "2021-11-27T21:26:35.623Z"
   },
   {
    "duration": 10,
    "start_time": "2021-11-27T21:26:35.629Z"
   },
   {
    "duration": 652,
    "start_time": "2021-11-27T21:27:00.490Z"
   },
   {
    "duration": 74,
    "start_time": "2021-11-27T21:27:01.144Z"
   },
   {
    "duration": 11,
    "start_time": "2021-11-27T21:27:01.220Z"
   },
   {
    "duration": 56,
    "start_time": "2021-11-27T21:27:01.233Z"
   },
   {
    "duration": 6,
    "start_time": "2021-11-27T21:27:01.290Z"
   },
   {
    "duration": 16,
    "start_time": "2021-11-27T21:27:01.297Z"
   },
   {
    "duration": 10,
    "start_time": "2021-11-27T21:27:01.315Z"
   },
   {
    "duration": 9,
    "start_time": "2021-11-27T21:27:01.327Z"
   },
   {
    "duration": 5,
    "start_time": "2021-11-27T21:27:01.338Z"
   },
   {
    "duration": 16,
    "start_time": "2021-11-27T21:27:01.344Z"
   },
   {
    "duration": 39,
    "start_time": "2021-11-27T21:27:01.362Z"
   },
   {
    "duration": 37,
    "start_time": "2021-11-27T21:27:01.403Z"
   },
   {
    "duration": 9,
    "start_time": "2021-11-27T21:27:01.442Z"
   },
   {
    "duration": 44,
    "start_time": "2021-11-27T21:27:01.453Z"
   },
   {
    "duration": 16,
    "start_time": "2021-11-27T21:27:01.499Z"
   },
   {
    "duration": 10,
    "start_time": "2021-11-27T21:27:01.517Z"
   },
   {
    "duration": 6,
    "start_time": "2021-11-27T21:27:01.528Z"
   },
   {
    "duration": 8,
    "start_time": "2021-11-27T21:27:01.535Z"
   },
   {
    "duration": 53,
    "start_time": "2021-11-27T21:27:01.544Z"
   },
   {
    "duration": 9,
    "start_time": "2021-11-27T21:27:01.598Z"
   },
   {
    "duration": 12,
    "start_time": "2021-11-27T21:27:01.608Z"
   },
   {
    "duration": 11,
    "start_time": "2021-11-27T21:27:01.621Z"
   },
   {
    "duration": 10,
    "start_time": "2021-11-27T21:27:01.635Z"
   },
   {
    "duration": 45,
    "start_time": "2021-11-27T21:27:01.646Z"
   },
   {
    "duration": 582,
    "start_time": "2021-11-27T21:27:01.693Z"
   },
   {
    "duration": 15,
    "start_time": "2021-11-27T21:27:02.277Z"
   },
   {
    "duration": 6,
    "start_time": "2021-11-27T21:27:02.294Z"
   },
   {
    "duration": 20,
    "start_time": "2021-11-27T21:27:02.301Z"
   },
   {
    "duration": 27,
    "start_time": "2021-11-27T21:27:02.323Z"
   },
   {
    "duration": 7,
    "start_time": "2021-11-27T21:27:02.352Z"
   },
   {
    "duration": 11,
    "start_time": "2021-11-27T21:27:02.361Z"
   },
   {
    "duration": 21,
    "start_time": "2021-11-27T21:27:02.373Z"
   },
   {
    "duration": 7,
    "start_time": "2021-11-27T21:27:24.718Z"
   },
   {
    "duration": 11,
    "start_time": "2021-11-27T21:29:21.232Z"
   },
   {
    "duration": 7,
    "start_time": "2021-11-27T21:30:12.756Z"
   },
   {
    "duration": 622,
    "start_time": "2021-11-27T21:30:26.922Z"
   },
   {
    "duration": 76,
    "start_time": "2021-11-27T21:30:27.545Z"
   },
   {
    "duration": 12,
    "start_time": "2021-11-27T21:30:27.625Z"
   },
   {
    "duration": 53,
    "start_time": "2021-11-27T21:30:27.638Z"
   },
   {
    "duration": 5,
    "start_time": "2021-11-27T21:30:27.693Z"
   },
   {
    "duration": 9,
    "start_time": "2021-11-27T21:30:27.700Z"
   },
   {
    "duration": 7,
    "start_time": "2021-11-27T21:30:27.712Z"
   },
   {
    "duration": 11,
    "start_time": "2021-11-27T21:30:27.721Z"
   },
   {
    "duration": 5,
    "start_time": "2021-11-27T21:30:27.733Z"
   },
   {
    "duration": 59,
    "start_time": "2021-11-27T21:30:27.740Z"
   },
   {
    "duration": 18,
    "start_time": "2021-11-27T21:30:27.801Z"
   },
   {
    "duration": 37,
    "start_time": "2021-11-27T21:30:27.821Z"
   },
   {
    "duration": 36,
    "start_time": "2021-11-27T21:30:27.860Z"
   },
   {
    "duration": 10,
    "start_time": "2021-11-27T21:30:27.899Z"
   },
   {
    "duration": 26,
    "start_time": "2021-11-27T21:30:27.911Z"
   },
   {
    "duration": 9,
    "start_time": "2021-11-27T21:30:27.940Z"
   },
   {
    "duration": 42,
    "start_time": "2021-11-27T21:30:27.951Z"
   },
   {
    "duration": 8,
    "start_time": "2021-11-27T21:30:27.995Z"
   },
   {
    "duration": 15,
    "start_time": "2021-11-27T21:30:28.005Z"
   },
   {
    "duration": 11,
    "start_time": "2021-11-27T21:30:28.022Z"
   },
   {
    "duration": 16,
    "start_time": "2021-11-27T21:30:28.035Z"
   },
   {
    "duration": 38,
    "start_time": "2021-11-27T21:30:28.056Z"
   },
   {
    "duration": 12,
    "start_time": "2021-11-27T21:30:28.096Z"
   },
   {
    "duration": 5,
    "start_time": "2021-11-27T21:30:28.110Z"
   },
   {
    "duration": 620,
    "start_time": "2021-11-27T21:30:28.117Z"
   },
   {
    "duration": 4,
    "start_time": "2021-11-27T21:30:28.739Z"
   },
   {
    "duration": 6,
    "start_time": "2021-11-27T21:30:28.745Z"
   },
   {
    "duration": 8,
    "start_time": "2021-11-27T21:30:28.753Z"
   },
   {
    "duration": 34,
    "start_time": "2021-11-27T21:30:28.763Z"
   },
   {
    "duration": 7,
    "start_time": "2021-11-27T21:30:28.799Z"
   },
   {
    "duration": 7,
    "start_time": "2021-11-27T21:30:28.808Z"
   },
   {
    "duration": 4,
    "start_time": "2021-11-27T21:30:28.817Z"
   },
   {
    "duration": 6,
    "start_time": "2021-11-27T21:30:28.822Z"
   },
   {
    "duration": 6,
    "start_time": "2021-11-27T21:33:05.704Z"
   },
   {
    "duration": 693,
    "start_time": "2021-11-27T21:33:12.288Z"
   },
   {
    "duration": 75,
    "start_time": "2021-11-27T21:33:12.983Z"
   },
   {
    "duration": 12,
    "start_time": "2021-11-27T21:33:13.062Z"
   },
   {
    "duration": 66,
    "start_time": "2021-11-27T21:33:13.076Z"
   },
   {
    "duration": 7,
    "start_time": "2021-11-27T21:33:13.144Z"
   },
   {
    "duration": 14,
    "start_time": "2021-11-27T21:33:13.153Z"
   },
   {
    "duration": 11,
    "start_time": "2021-11-27T21:33:13.170Z"
   },
   {
    "duration": 10,
    "start_time": "2021-11-27T21:33:13.184Z"
   },
   {
    "duration": 20,
    "start_time": "2021-11-27T21:33:13.196Z"
   },
   {
    "duration": 27,
    "start_time": "2021-11-27T21:33:13.218Z"
   },
   {
    "duration": 25,
    "start_time": "2021-11-27T21:33:13.246Z"
   },
   {
    "duration": 43,
    "start_time": "2021-11-27T21:33:13.273Z"
   },
   {
    "duration": 13,
    "start_time": "2021-11-27T21:33:13.318Z"
   },
   {
    "duration": 16,
    "start_time": "2021-11-27T21:33:13.332Z"
   },
   {
    "duration": 19,
    "start_time": "2021-11-27T21:33:13.350Z"
   },
   {
    "duration": 34,
    "start_time": "2021-11-27T21:33:13.371Z"
   },
   {
    "duration": 10,
    "start_time": "2021-11-27T21:33:13.407Z"
   },
   {
    "duration": 18,
    "start_time": "2021-11-27T21:33:13.420Z"
   },
   {
    "duration": 19,
    "start_time": "2021-11-27T21:33:13.440Z"
   },
   {
    "duration": 10,
    "start_time": "2021-11-27T21:33:13.461Z"
   },
   {
    "duration": 19,
    "start_time": "2021-11-27T21:33:13.473Z"
   },
   {
    "duration": 8,
    "start_time": "2021-11-27T21:33:13.496Z"
   },
   {
    "duration": 13,
    "start_time": "2021-11-27T21:33:13.506Z"
   },
   {
    "duration": 5,
    "start_time": "2021-11-27T21:33:13.521Z"
   },
   {
    "duration": 606,
    "start_time": "2021-11-27T21:33:13.528Z"
   },
   {
    "duration": 5,
    "start_time": "2021-11-27T21:33:14.136Z"
   },
   {
    "duration": 5,
    "start_time": "2021-11-27T21:33:14.142Z"
   },
   {
    "duration": 9,
    "start_time": "2021-11-27T21:33:14.149Z"
   },
   {
    "duration": 39,
    "start_time": "2021-11-27T21:33:14.160Z"
   },
   {
    "duration": 5,
    "start_time": "2021-11-27T21:33:14.201Z"
   },
   {
    "duration": 7,
    "start_time": "2021-11-27T21:33:14.207Z"
   },
   {
    "duration": 7,
    "start_time": "2021-11-27T21:33:14.216Z"
   },
   {
    "duration": 4,
    "start_time": "2021-11-27T21:33:14.225Z"
   },
   {
    "duration": 5,
    "start_time": "2021-11-27T21:33:14.231Z"
   },
   {
    "duration": 14,
    "start_time": "2021-11-27T21:35:36.549Z"
   },
   {
    "duration": 635,
    "start_time": "2021-11-27T21:35:42.581Z"
   },
   {
    "duration": 76,
    "start_time": "2021-11-27T21:35:43.217Z"
   },
   {
    "duration": 16,
    "start_time": "2021-11-27T21:35:43.296Z"
   },
   {
    "duration": 44,
    "start_time": "2021-11-27T21:35:43.314Z"
   },
   {
    "duration": 5,
    "start_time": "2021-11-27T21:35:43.360Z"
   },
   {
    "duration": 21,
    "start_time": "2021-11-27T21:35:43.367Z"
   },
   {
    "duration": 10,
    "start_time": "2021-11-27T21:35:43.389Z"
   },
   {
    "duration": 13,
    "start_time": "2021-11-27T21:35:43.401Z"
   },
   {
    "duration": 20,
    "start_time": "2021-11-27T21:35:43.416Z"
   },
   {
    "duration": 22,
    "start_time": "2021-11-27T21:35:43.438Z"
   },
   {
    "duration": 20,
    "start_time": "2021-11-27T21:35:43.461Z"
   },
   {
    "duration": 51,
    "start_time": "2021-11-27T21:35:43.482Z"
   },
   {
    "duration": 15,
    "start_time": "2021-11-27T21:35:43.534Z"
   },
   {
    "duration": 23,
    "start_time": "2021-11-27T21:35:43.550Z"
   },
   {
    "duration": 29,
    "start_time": "2021-11-27T21:35:43.575Z"
   },
   {
    "duration": 23,
    "start_time": "2021-11-27T21:35:43.606Z"
   },
   {
    "duration": 11,
    "start_time": "2021-11-27T21:35:43.630Z"
   },
   {
    "duration": 30,
    "start_time": "2021-11-27T21:35:43.642Z"
   },
   {
    "duration": 16,
    "start_time": "2021-11-27T21:35:43.674Z"
   },
   {
    "duration": 12,
    "start_time": "2021-11-27T21:35:43.692Z"
   },
   {
    "duration": 8,
    "start_time": "2021-11-27T21:35:43.706Z"
   },
   {
    "duration": 7,
    "start_time": "2021-11-27T21:35:43.715Z"
   },
   {
    "duration": 10,
    "start_time": "2021-11-27T21:35:43.725Z"
   },
   {
    "duration": 4,
    "start_time": "2021-11-27T21:35:43.736Z"
   },
   {
    "duration": 606,
    "start_time": "2021-11-27T21:35:43.742Z"
   },
   {
    "duration": 4,
    "start_time": "2021-11-27T21:35:44.350Z"
   },
   {
    "duration": 4,
    "start_time": "2021-11-27T21:35:44.356Z"
   },
   {
    "duration": 32,
    "start_time": "2021-11-27T21:35:44.362Z"
   },
   {
    "duration": 8,
    "start_time": "2021-11-27T21:35:44.396Z"
   },
   {
    "duration": 6,
    "start_time": "2021-11-27T21:35:44.406Z"
   },
   {
    "duration": 10,
    "start_time": "2021-11-27T21:35:44.413Z"
   },
   {
    "duration": 69,
    "start_time": "2021-11-27T21:35:44.424Z"
   },
   {
    "duration": 8,
    "start_time": "2021-11-27T21:35:44.495Z"
   },
   {
    "duration": 4,
    "start_time": "2021-11-27T21:35:44.505Z"
   },
   {
    "duration": 6,
    "start_time": "2021-11-27T21:35:44.511Z"
   },
   {
    "duration": 233,
    "start_time": "2021-11-27T21:38:01.373Z"
   },
   {
    "duration": 170,
    "start_time": "2021-11-27T21:38:13.302Z"
   },
   {
    "duration": 7,
    "start_time": "2021-11-27T21:38:15.835Z"
   },
   {
    "duration": 15,
    "start_time": "2021-11-27T21:38:25.758Z"
   },
   {
    "duration": 11,
    "start_time": "2021-11-27T21:39:33.085Z"
   },
   {
    "duration": 9,
    "start_time": "2021-11-27T21:40:11.515Z"
   },
   {
    "duration": 8,
    "start_time": "2021-11-27T21:43:21.325Z"
   },
   {
    "duration": 8,
    "start_time": "2021-11-27T21:45:29.482Z"
   },
   {
    "duration": 383,
    "start_time": "2021-11-27T21:46:01.502Z"
   },
   {
    "duration": 380,
    "start_time": "2021-11-27T21:46:33.662Z"
   },
   {
    "duration": 237,
    "start_time": "2021-11-27T21:46:43.382Z"
   },
   {
    "duration": 373,
    "start_time": "2021-11-27T21:46:50.246Z"
   },
   {
    "duration": 380,
    "start_time": "2021-11-27T21:46:58.920Z"
   },
   {
    "duration": 370,
    "start_time": "2021-11-27T21:47:07.568Z"
   },
   {
    "duration": 433,
    "start_time": "2021-11-27T21:48:20.980Z"
   },
   {
    "duration": 380,
    "start_time": "2021-11-27T21:48:35.560Z"
   },
   {
    "duration": 388,
    "start_time": "2021-11-27T21:58:21.296Z"
   },
   {
    "duration": 26,
    "start_time": "2021-11-27T22:00:00.668Z"
   },
   {
    "duration": 7,
    "start_time": "2021-11-27T22:03:26.482Z"
   },
   {
    "duration": 7,
    "start_time": "2021-11-27T22:04:44.186Z"
   },
   {
    "duration": 3,
    "start_time": "2021-11-27T22:05:32.419Z"
   },
   {
    "duration": 16,
    "start_time": "2021-11-27T22:12:05.072Z"
   },
   {
    "duration": 6,
    "start_time": "2021-11-27T22:12:17.028Z"
   },
   {
    "duration": 11,
    "start_time": "2021-11-27T22:13:22.703Z"
   },
   {
    "duration": 6,
    "start_time": "2021-11-27T22:13:28.759Z"
   },
   {
    "duration": 5,
    "start_time": "2021-11-27T22:13:34.516Z"
   },
   {
    "duration": 6,
    "start_time": "2021-11-27T22:13:45.546Z"
   },
   {
    "duration": 6,
    "start_time": "2021-11-27T22:17:05.150Z"
   },
   {
    "duration": 5,
    "start_time": "2021-11-27T22:19:52.186Z"
   },
   {
    "duration": 180,
    "start_time": "2021-11-27T22:20:14.335Z"
   },
   {
    "duration": 6,
    "start_time": "2021-11-27T22:20:20.728Z"
   },
   {
    "duration": 42,
    "start_time": "2021-11-27T22:24:22.020Z"
   },
   {
    "duration": 22,
    "start_time": "2021-11-27T22:26:57.892Z"
   },
   {
    "duration": 14,
    "start_time": "2021-11-27T22:27:49.548Z"
   },
   {
    "duration": 11,
    "start_time": "2021-11-27T22:28:53.126Z"
   },
   {
    "duration": 15,
    "start_time": "2021-11-27T22:29:04.985Z"
   },
   {
    "duration": 15,
    "start_time": "2021-11-27T22:29:53.837Z"
   },
   {
    "duration": 232,
    "start_time": "2021-11-27T22:32:40.771Z"
   },
   {
    "duration": 15,
    "start_time": "2021-11-28T11:15:50.482Z"
   },
   {
    "duration": 5527,
    "start_time": "2021-11-28T11:16:58.737Z"
   },
   {
    "duration": 245,
    "start_time": "2021-11-28T11:17:17.539Z"
   },
   {
    "duration": 22,
    "start_time": "2021-11-28T11:25:24.586Z"
   },
   {
    "duration": 313,
    "start_time": "2021-11-28T11:31:20.509Z"
   },
   {
    "duration": 4221,
    "start_time": "2021-11-28T11:32:02.673Z"
   },
   {
    "duration": 333,
    "start_time": "2021-11-28T11:33:54.975Z"
   },
   {
    "duration": 4518,
    "start_time": "2021-11-28T11:36:36.217Z"
   },
   {
    "duration": 648,
    "start_time": "2021-11-28T11:36:53.629Z"
   },
   {
    "duration": 91,
    "start_time": "2021-11-28T11:36:54.279Z"
   },
   {
    "duration": 29,
    "start_time": "2021-11-28T11:36:54.372Z"
   },
   {
    "duration": 82,
    "start_time": "2021-11-28T11:36:54.404Z"
   },
   {
    "duration": 6,
    "start_time": "2021-11-28T11:36:54.487Z"
   },
   {
    "duration": 14,
    "start_time": "2021-11-28T11:36:54.496Z"
   },
   {
    "duration": 5,
    "start_time": "2021-11-28T11:36:54.514Z"
   },
   {
    "duration": 9,
    "start_time": "2021-11-28T11:36:54.521Z"
   },
   {
    "duration": 7,
    "start_time": "2021-11-28T11:36:54.533Z"
   },
   {
    "duration": 53,
    "start_time": "2021-11-28T11:36:54.542Z"
   },
   {
    "duration": 22,
    "start_time": "2021-11-28T11:36:54.598Z"
   },
   {
    "duration": 40,
    "start_time": "2021-11-28T11:36:54.622Z"
   },
   {
    "duration": 22,
    "start_time": "2021-11-28T11:36:54.692Z"
   },
   {
    "duration": 11,
    "start_time": "2021-11-28T11:36:54.719Z"
   },
   {
    "duration": 28,
    "start_time": "2021-11-28T11:36:54.733Z"
   },
   {
    "duration": 38,
    "start_time": "2021-11-28T11:36:54.763Z"
   },
   {
    "duration": 8,
    "start_time": "2021-11-28T11:36:54.803Z"
   },
   {
    "duration": 8,
    "start_time": "2021-11-28T11:36:54.812Z"
   },
   {
    "duration": 13,
    "start_time": "2021-11-28T11:36:54.821Z"
   },
   {
    "duration": 8,
    "start_time": "2021-11-28T11:36:54.836Z"
   },
   {
    "duration": 8,
    "start_time": "2021-11-28T11:36:54.893Z"
   },
   {
    "duration": 18,
    "start_time": "2021-11-28T11:36:54.903Z"
   },
   {
    "duration": 8,
    "start_time": "2021-11-28T11:36:54.925Z"
   },
   {
    "duration": 4,
    "start_time": "2021-11-28T11:36:54.936Z"
   },
   {
    "duration": 718,
    "start_time": "2021-11-28T11:36:54.942Z"
   },
   {
    "duration": 6,
    "start_time": "2021-11-28T11:36:55.662Z"
   },
   {
    "duration": 27,
    "start_time": "2021-11-28T11:36:55.670Z"
   },
   {
    "duration": 13,
    "start_time": "2021-11-28T11:36:55.700Z"
   },
   {
    "duration": 13,
    "start_time": "2021-11-28T11:36:55.715Z"
   },
   {
    "duration": 11,
    "start_time": "2021-11-28T11:36:55.730Z"
   },
   {
    "duration": 57,
    "start_time": "2021-11-28T11:36:55.743Z"
   },
   {
    "duration": 21,
    "start_time": "2021-11-28T11:36:55.802Z"
   },
   {
    "duration": 9,
    "start_time": "2021-11-28T11:36:55.825Z"
   },
   {
    "duration": 58,
    "start_time": "2021-11-28T11:36:55.836Z"
   },
   {
    "duration": 11,
    "start_time": "2021-11-28T11:36:55.897Z"
   },
   {
    "duration": 6,
    "start_time": "2021-11-28T11:36:55.911Z"
   },
   {
    "duration": 8,
    "start_time": "2021-11-28T11:36:55.921Z"
   },
   {
    "duration": 12,
    "start_time": "2021-11-28T11:36:55.931Z"
   },
   {
    "duration": 55,
    "start_time": "2021-11-28T11:36:55.945Z"
   },
   {
    "duration": 474,
    "start_time": "2021-11-28T11:36:56.002Z"
   },
   {
    "duration": 37,
    "start_time": "2021-11-28T11:36:56.478Z"
   },
   {
    "duration": 5,
    "start_time": "2021-11-28T11:36:56.517Z"
   },
   {
    "duration": 14,
    "start_time": "2021-11-28T11:36:56.524Z"
   },
   {
    "duration": 8,
    "start_time": "2021-11-28T11:36:56.540Z"
   },
   {
    "duration": 63,
    "start_time": "2021-11-28T11:36:56.550Z"
   },
   {
    "duration": 326,
    "start_time": "2021-11-28T11:36:56.615Z"
   },
   {
    "duration": 7,
    "start_time": "2021-11-28T11:36:56.943Z"
   },
   {
    "duration": 43,
    "start_time": "2021-11-28T11:36:56.952Z"
   },
   {
    "duration": 287,
    "start_time": "2021-11-28T11:36:56.998Z"
   },
   {
    "duration": 29,
    "start_time": "2021-11-28T11:36:57.288Z"
   },
   {
    "duration": 384,
    "start_time": "2021-11-28T11:36:57.319Z"
   },
   {
    "duration": 23,
    "start_time": "2021-11-28T11:45:24.220Z"
   },
   {
    "duration": 290,
    "start_time": "2021-11-28T11:46:55.684Z"
   },
   {
    "duration": 294,
    "start_time": "2021-11-28T11:47:23.400Z"
   },
   {
    "duration": 338,
    "start_time": "2021-11-28T11:47:45.598Z"
   },
   {
    "duration": 685,
    "start_time": "2021-11-28T11:51:25.273Z"
   },
   {
    "duration": 80,
    "start_time": "2021-11-28T11:51:25.960Z"
   },
   {
    "duration": 11,
    "start_time": "2021-11-28T11:51:26.042Z"
   },
   {
    "duration": 82,
    "start_time": "2021-11-28T11:51:26.056Z"
   },
   {
    "duration": 6,
    "start_time": "2021-11-28T11:51:26.141Z"
   },
   {
    "duration": 14,
    "start_time": "2021-11-28T11:51:26.149Z"
   },
   {
    "duration": 6,
    "start_time": "2021-11-28T11:51:26.165Z"
   },
   {
    "duration": 10,
    "start_time": "2021-11-28T11:51:26.174Z"
   },
   {
    "duration": 7,
    "start_time": "2021-11-28T11:51:26.186Z"
   },
   {
    "duration": 16,
    "start_time": "2021-11-28T11:51:26.195Z"
   },
   {
    "duration": 18,
    "start_time": "2021-11-28T11:51:26.213Z"
   },
   {
    "duration": 62,
    "start_time": "2021-11-28T11:51:26.233Z"
   },
   {
    "duration": 11,
    "start_time": "2021-11-28T11:51:26.297Z"
   },
   {
    "duration": 10,
    "start_time": "2021-11-28T11:51:26.310Z"
   },
   {
    "duration": 18,
    "start_time": "2021-11-28T11:51:26.321Z"
   },
   {
    "duration": 55,
    "start_time": "2021-11-28T11:51:26.341Z"
   },
   {
    "duration": 5,
    "start_time": "2021-11-28T11:51:26.398Z"
   },
   {
    "duration": 8,
    "start_time": "2021-11-28T11:51:26.405Z"
   },
   {
    "duration": 13,
    "start_time": "2021-11-28T11:51:26.415Z"
   },
   {
    "duration": 8,
    "start_time": "2021-11-28T11:51:26.430Z"
   },
   {
    "duration": 52,
    "start_time": "2021-11-28T11:51:26.440Z"
   },
   {
    "duration": 8,
    "start_time": "2021-11-28T11:51:26.494Z"
   },
   {
    "duration": 9,
    "start_time": "2021-11-28T11:51:26.506Z"
   },
   {
    "duration": 4,
    "start_time": "2021-11-28T11:51:26.518Z"
   },
   {
    "duration": 630,
    "start_time": "2021-11-28T11:51:26.523Z"
   },
   {
    "duration": 4,
    "start_time": "2021-11-28T11:51:27.155Z"
   },
   {
    "duration": 7,
    "start_time": "2021-11-28T11:51:27.161Z"
   },
   {
    "duration": 27,
    "start_time": "2021-11-28T11:51:27.170Z"
   },
   {
    "duration": 8,
    "start_time": "2021-11-28T11:51:27.199Z"
   },
   {
    "duration": 8,
    "start_time": "2021-11-28T11:51:27.209Z"
   },
   {
    "duration": 8,
    "start_time": "2021-11-28T11:51:27.218Z"
   },
   {
    "duration": 5,
    "start_time": "2021-11-28T11:51:27.228Z"
   },
   {
    "duration": 63,
    "start_time": "2021-11-28T11:51:27.234Z"
   },
   {
    "duration": 23,
    "start_time": "2021-11-28T11:51:27.299Z"
   },
   {
    "duration": 7,
    "start_time": "2021-11-28T11:51:27.324Z"
   },
   {
    "duration": 4,
    "start_time": "2021-11-28T11:51:27.334Z"
   },
   {
    "duration": 55,
    "start_time": "2021-11-28T11:51:27.339Z"
   },
   {
    "duration": 9,
    "start_time": "2021-11-28T11:51:27.396Z"
   },
   {
    "duration": 8,
    "start_time": "2021-11-28T11:51:27.407Z"
   },
   {
    "duration": 442,
    "start_time": "2021-11-28T11:51:27.417Z"
   },
   {
    "duration": 33,
    "start_time": "2021-11-28T11:51:27.861Z"
   },
   {
    "duration": 4,
    "start_time": "2021-11-28T11:51:27.897Z"
   },
   {
    "duration": 12,
    "start_time": "2021-11-28T11:51:27.902Z"
   },
   {
    "duration": 6,
    "start_time": "2021-11-28T11:51:27.916Z"
   },
   {
    "duration": 18,
    "start_time": "2021-11-28T11:51:27.924Z"
   },
   {
    "duration": 297,
    "start_time": "2021-11-28T11:51:27.943Z"
   },
   {
    "duration": 6,
    "start_time": "2021-11-28T11:51:28.243Z"
   },
   {
    "duration": 19,
    "start_time": "2021-11-28T11:51:28.251Z"
   },
   {
    "duration": 272,
    "start_time": "2021-11-28T11:51:28.272Z"
   },
   {
    "duration": 22,
    "start_time": "2021-11-28T11:51:28.546Z"
   },
   {
    "duration": 332,
    "start_time": "2021-11-28T11:51:28.570Z"
   },
   {
    "duration": 23,
    "start_time": "2021-11-28T11:51:28.904Z"
   },
   {
    "duration": 332,
    "start_time": "2021-11-28T11:51:28.929Z"
   },
   {
    "duration": 37,
    "start_time": "2021-11-28T11:51:29.263Z"
   },
   {
    "duration": 317,
    "start_time": "2021-11-28T11:51:29.301Z"
   },
   {
    "duration": 23,
    "start_time": "2021-11-28T11:51:29.619Z"
   },
   {
    "duration": 321,
    "start_time": "2021-11-28T11:51:29.644Z"
   },
   {
    "duration": 39,
    "start_time": "2021-11-28T11:51:29.968Z"
   },
   {
    "duration": 331,
    "start_time": "2021-11-28T11:51:30.009Z"
   },
   {
    "duration": 27,
    "start_time": "2021-11-28T11:51:30.342Z"
   },
   {
    "duration": 339,
    "start_time": "2021-11-28T11:51:30.370Z"
   },
   {
    "duration": 6,
    "start_time": "2021-11-28T12:26:54.180Z"
   },
   {
    "duration": 5,
    "start_time": "2021-11-28T12:28:19.161Z"
   },
   {
    "duration": 13,
    "start_time": "2021-11-28T12:30:06.351Z"
   },
   {
    "duration": 243,
    "start_time": "2021-11-28T12:30:08.964Z"
   },
   {
    "duration": 14,
    "start_time": "2021-11-28T12:33:51.447Z"
   },
   {
    "duration": 323,
    "start_time": "2021-11-28T12:34:00.922Z"
   },
   {
    "duration": 5,
    "start_time": "2021-11-28T12:39:35.753Z"
   },
   {
    "duration": 4,
    "start_time": "2021-11-28T12:40:42.244Z"
   },
   {
    "duration": 4266,
    "start_time": "2021-11-28T12:42:16.206Z"
   },
   {
    "duration": -78,
    "start_time": "2021-11-28T12:42:20.553Z"
   },
   {
    "duration": 15,
    "start_time": "2021-11-28T12:42:21.887Z"
   },
   {
    "duration": 243,
    "start_time": "2021-11-28T12:42:30.313Z"
   },
   {
    "duration": 239,
    "start_time": "2021-11-28T12:42:53.065Z"
   },
   {
    "duration": 4,
    "start_time": "2021-11-28T12:52:08.464Z"
   },
   {
    "duration": 6,
    "start_time": "2021-11-28T12:52:22.063Z"
   },
   {
    "duration": 8,
    "start_time": "2021-11-28T12:52:55.527Z"
   },
   {
    "duration": 7,
    "start_time": "2021-11-28T12:54:16.828Z"
   },
   {
    "duration": 6,
    "start_time": "2021-11-28T12:54:49.366Z"
   },
   {
    "duration": 7,
    "start_time": "2021-11-28T12:54:51.832Z"
   },
   {
    "duration": 8,
    "start_time": "2021-11-28T12:55:00.390Z"
   },
   {
    "duration": 6,
    "start_time": "2021-11-28T12:55:15.181Z"
   },
   {
    "duration": 13,
    "start_time": "2021-11-28T12:59:42.515Z"
   },
   {
    "duration": 248,
    "start_time": "2021-11-28T13:00:34.632Z"
   },
   {
    "duration": 15,
    "start_time": "2021-11-28T13:06:35.564Z"
   },
   {
    "duration": 15,
    "start_time": "2021-11-28T13:07:38.853Z"
   },
   {
    "duration": 884,
    "start_time": "2021-11-28T13:10:10.467Z"
   },
   {
    "duration": 12,
    "start_time": "2021-11-28T13:10:51.907Z"
   },
   {
    "duration": 18,
    "start_time": "2021-11-28T13:11:00.371Z"
   },
   {
    "duration": 15,
    "start_time": "2021-11-28T13:14:04.967Z"
   },
   {
    "duration": 919,
    "start_time": "2021-11-28T13:14:07.769Z"
   },
   {
    "duration": 6,
    "start_time": "2021-11-28T13:15:28.613Z"
   },
   {
    "duration": 7,
    "start_time": "2021-11-28T13:15:41.001Z"
   },
   {
    "duration": 21,
    "start_time": "2021-11-28T13:17:08.841Z"
   },
   {
    "duration": 373,
    "start_time": "2021-11-28T13:19:45.342Z"
   },
   {
    "duration": 5,
    "start_time": "2021-11-28T13:19:48.817Z"
   },
   {
    "duration": 6,
    "start_time": "2021-11-28T13:19:50.792Z"
   },
   {
    "duration": 311,
    "start_time": "2021-11-28T13:20:39.544Z"
   },
   {
    "duration": 363,
    "start_time": "2021-11-28T13:25:01.032Z"
   },
   {
    "duration": 5,
    "start_time": "2021-11-28T13:26:24.077Z"
   },
   {
    "duration": 4,
    "start_time": "2021-11-28T13:26:25.676Z"
   },
   {
    "duration": 702,
    "start_time": "2021-11-29T07:57:34.549Z"
   },
   {
    "duration": 88,
    "start_time": "2021-11-29T07:57:35.252Z"
   },
   {
    "duration": 10,
    "start_time": "2021-11-29T07:57:35.343Z"
   },
   {
    "duration": 107,
    "start_time": "2021-11-29T07:57:35.355Z"
   },
   {
    "duration": 5,
    "start_time": "2021-11-29T07:57:35.464Z"
   },
   {
    "duration": 15,
    "start_time": "2021-11-29T07:57:35.471Z"
   },
   {
    "duration": 8,
    "start_time": "2021-11-29T07:57:35.487Z"
   },
   {
    "duration": 17,
    "start_time": "2021-11-29T07:57:35.497Z"
   },
   {
    "duration": 4,
    "start_time": "2021-11-29T07:57:35.519Z"
   },
   {
    "duration": 16,
    "start_time": "2021-11-29T07:57:35.525Z"
   },
   {
    "duration": 18,
    "start_time": "2021-11-29T07:57:35.543Z"
   },
   {
    "duration": 57,
    "start_time": "2021-11-29T07:57:35.563Z"
   },
   {
    "duration": 11,
    "start_time": "2021-11-29T07:57:35.622Z"
   },
   {
    "duration": 8,
    "start_time": "2021-11-29T07:57:35.634Z"
   },
   {
    "duration": 18,
    "start_time": "2021-11-29T07:57:35.643Z"
   },
   {
    "duration": 7,
    "start_time": "2021-11-29T07:57:35.663Z"
   },
   {
    "duration": 8,
    "start_time": "2021-11-29T07:57:35.672Z"
   },
   {
    "duration": 34,
    "start_time": "2021-11-29T07:57:35.682Z"
   },
   {
    "duration": 13,
    "start_time": "2021-11-29T07:57:35.719Z"
   },
   {
    "duration": 10,
    "start_time": "2021-11-29T07:57:35.734Z"
   },
   {
    "duration": 11,
    "start_time": "2021-11-29T07:57:35.746Z"
   },
   {
    "duration": 14,
    "start_time": "2021-11-29T07:57:35.759Z"
   },
   {
    "duration": 30,
    "start_time": "2021-11-29T07:57:35.778Z"
   },
   {
    "duration": 6,
    "start_time": "2021-11-29T07:57:35.812Z"
   },
   {
    "duration": 640,
    "start_time": "2021-11-29T07:57:35.820Z"
   },
   {
    "duration": 4,
    "start_time": "2021-11-29T07:57:36.462Z"
   },
   {
    "duration": 4,
    "start_time": "2021-11-29T07:57:36.468Z"
   },
   {
    "duration": 9,
    "start_time": "2021-11-29T07:57:36.474Z"
   },
   {
    "duration": 32,
    "start_time": "2021-11-29T07:57:36.485Z"
   },
   {
    "duration": 17,
    "start_time": "2021-11-29T07:57:36.519Z"
   },
   {
    "duration": 8,
    "start_time": "2021-11-29T07:57:36.538Z"
   },
   {
    "duration": 6,
    "start_time": "2021-11-29T07:57:36.548Z"
   },
   {
    "duration": 12,
    "start_time": "2021-11-29T07:57:36.556Z"
   },
   {
    "duration": 61,
    "start_time": "2021-11-29T07:57:36.570Z"
   },
   {
    "duration": 7,
    "start_time": "2021-11-29T07:57:36.633Z"
   },
   {
    "duration": 4,
    "start_time": "2021-11-29T07:57:36.642Z"
   },
   {
    "duration": 8,
    "start_time": "2021-11-29T07:57:36.647Z"
   },
   {
    "duration": 10,
    "start_time": "2021-11-29T07:57:36.656Z"
   },
   {
    "duration": 14,
    "start_time": "2021-11-29T07:57:36.667Z"
   },
   {
    "duration": 464,
    "start_time": "2021-11-29T07:57:36.682Z"
   },
   {
    "duration": 66,
    "start_time": "2021-11-29T07:57:37.148Z"
   },
   {
    "duration": 29,
    "start_time": "2021-11-29T07:57:37.231Z"
   },
   {
    "duration": 28,
    "start_time": "2021-11-29T07:57:37.275Z"
   },
   {
    "duration": 9,
    "start_time": "2021-11-29T07:57:37.311Z"
   },
   {
    "duration": 50,
    "start_time": "2021-11-29T07:57:37.323Z"
   },
   {
    "duration": 300,
    "start_time": "2021-11-29T07:57:37.376Z"
   },
   {
    "duration": 5,
    "start_time": "2021-11-29T07:57:37.677Z"
   },
   {
    "duration": 29,
    "start_time": "2021-11-29T07:57:37.684Z"
   },
   {
    "duration": 245,
    "start_time": "2021-11-29T07:57:37.715Z"
   },
   {
    "duration": 20,
    "start_time": "2021-11-29T07:57:37.962Z"
   },
   {
    "duration": 314,
    "start_time": "2021-11-29T07:57:37.983Z"
   },
   {
    "duration": 27,
    "start_time": "2021-11-29T07:57:38.307Z"
   },
   {
    "duration": 325,
    "start_time": "2021-11-29T07:57:38.337Z"
   },
   {
    "duration": 21,
    "start_time": "2021-11-29T07:57:38.664Z"
   },
   {
    "duration": 316,
    "start_time": "2021-11-29T07:57:38.686Z"
   },
   {
    "duration": 27,
    "start_time": "2021-11-29T07:57:39.004Z"
   },
   {
    "duration": 317,
    "start_time": "2021-11-29T07:57:39.033Z"
   },
   {
    "duration": 21,
    "start_time": "2021-11-29T07:57:39.352Z"
   },
   {
    "duration": 335,
    "start_time": "2021-11-29T07:57:39.375Z"
   },
   {
    "duration": 25,
    "start_time": "2021-11-29T07:57:39.712Z"
   },
   {
    "duration": 331,
    "start_time": "2021-11-29T07:57:39.740Z"
   },
   {
    "duration": 6,
    "start_time": "2021-11-29T07:57:40.073Z"
   },
   {
    "duration": 9,
    "start_time": "2021-11-29T07:57:40.081Z"
   },
   {
    "duration": 20,
    "start_time": "2021-11-29T07:57:40.092Z"
   },
   {
    "duration": 15,
    "start_time": "2021-11-29T07:57:40.114Z"
   },
   {
    "duration": 246,
    "start_time": "2021-11-29T07:57:40.130Z"
   },
   {
    "duration": 12,
    "start_time": "2021-11-29T07:57:40.378Z"
   },
   {
    "duration": 284,
    "start_time": "2021-11-29T07:57:40.417Z"
   },
   {
    "duration": 19,
    "start_time": "2021-11-29T07:57:40.703Z"
   },
   {
    "duration": 252,
    "start_time": "2021-11-29T07:57:40.724Z"
   },
   {
    "duration": 5,
    "start_time": "2021-11-29T07:57:40.978Z"
   },
   {
    "duration": 30,
    "start_time": "2021-11-29T07:57:40.985Z"
   },
   {
    "duration": 281,
    "start_time": "2021-11-29T07:57:41.018Z"
   },
   {
    "duration": 25,
    "start_time": "2021-11-29T07:57:41.300Z"
   },
   {
    "duration": 826,
    "start_time": "2021-11-29T07:57:41.327Z"
   },
   {
    "duration": 21,
    "start_time": "2021-11-29T07:57:42.155Z"
   },
   {
    "duration": 306,
    "start_time": "2021-11-29T07:57:42.178Z"
   },
   {
    "duration": 5,
    "start_time": "2021-11-29T07:57:42.487Z"
   },
   {
    "duration": 25,
    "start_time": "2021-11-29T07:57:42.493Z"
   },
   {
    "duration": 351,
    "start_time": "2021-11-29T07:57:42.521Z"
   },
   {
    "duration": 5,
    "start_time": "2021-11-29T07:57:42.874Z"
   },
   {
    "duration": 5,
    "start_time": "2021-11-29T07:57:42.881Z"
   },
   {
    "duration": 6,
    "start_time": "2021-11-29T07:59:40.571Z"
   },
   {
    "duration": 89,
    "start_time": "2021-11-29T07:59:48.709Z"
   },
   {
    "duration": 12,
    "start_time": "2021-11-29T07:59:51.812Z"
   },
   {
    "duration": 457,
    "start_time": "2021-11-29T21:00:25.722Z"
   },
   {
    "duration": 1258,
    "start_time": "2021-11-29T21:00:35.966Z"
   },
   {
    "duration": 148,
    "start_time": "2021-11-29T21:00:37.227Z"
   },
   {
    "duration": 22,
    "start_time": "2021-11-29T21:00:37.379Z"
   },
   {
    "duration": 44,
    "start_time": "2021-11-29T21:00:37.405Z"
   },
   {
    "duration": 10,
    "start_time": "2021-11-29T21:00:37.451Z"
   },
   {
    "duration": 17,
    "start_time": "2021-11-29T21:00:37.464Z"
   },
   {
    "duration": 12,
    "start_time": "2021-11-29T21:00:37.484Z"
   },
   {
    "duration": 14,
    "start_time": "2021-11-29T21:00:37.502Z"
   },
   {
    "duration": 5,
    "start_time": "2021-11-29T21:00:37.520Z"
   },
   {
    "duration": 23,
    "start_time": "2021-11-29T21:00:37.528Z"
   },
   {
    "duration": 43,
    "start_time": "2021-11-29T21:00:37.554Z"
   },
   {
    "duration": 89,
    "start_time": "2021-11-29T21:00:37.600Z"
   },
   {
    "duration": 14,
    "start_time": "2021-11-29T21:00:37.691Z"
   },
   {
    "duration": 14,
    "start_time": "2021-11-29T21:00:37.707Z"
   },
   {
    "duration": 35,
    "start_time": "2021-11-29T21:00:37.723Z"
   },
   {
    "duration": 14,
    "start_time": "2021-11-29T21:00:37.761Z"
   },
   {
    "duration": 9,
    "start_time": "2021-11-29T21:00:37.783Z"
   },
   {
    "duration": 22,
    "start_time": "2021-11-29T21:00:37.795Z"
   },
   {
    "duration": 19,
    "start_time": "2021-11-29T21:00:37.820Z"
   },
   {
    "duration": 13,
    "start_time": "2021-11-29T21:00:37.841Z"
   },
   {
    "duration": 6,
    "start_time": "2021-11-29T21:00:37.856Z"
   },
   {
    "duration": 12,
    "start_time": "2021-11-29T21:00:37.865Z"
   },
   {
    "duration": 17,
    "start_time": "2021-11-29T21:00:37.882Z"
   },
   {
    "duration": 6,
    "start_time": "2021-11-29T21:00:37.902Z"
   },
   {
    "duration": 1578,
    "start_time": "2021-11-29T21:00:37.910Z"
   },
   {
    "duration": 7,
    "start_time": "2021-11-29T21:00:39.490Z"
   },
   {
    "duration": 8,
    "start_time": "2021-11-29T21:00:39.499Z"
   },
   {
    "duration": 15,
    "start_time": "2021-11-29T21:00:39.509Z"
   },
   {
    "duration": 12,
    "start_time": "2021-11-29T21:00:39.526Z"
   },
   {
    "duration": 11,
    "start_time": "2021-11-29T21:00:39.582Z"
   },
   {
    "duration": 10,
    "start_time": "2021-11-29T21:00:39.596Z"
   },
   {
    "duration": 7,
    "start_time": "2021-11-29T21:00:39.609Z"
   },
   {
    "duration": 65,
    "start_time": "2021-11-29T21:00:39.619Z"
   },
   {
    "duration": 36,
    "start_time": "2021-11-29T21:00:39.687Z"
   },
   {
    "duration": 68,
    "start_time": "2021-11-29T21:00:39.726Z"
   },
   {
    "duration": 7,
    "start_time": "2021-11-29T21:00:39.797Z"
   },
   {
    "duration": 9,
    "start_time": "2021-11-29T21:00:39.807Z"
   },
   {
    "duration": 64,
    "start_time": "2021-11-29T21:00:39.819Z"
   },
   {
    "duration": 16,
    "start_time": "2021-11-29T21:00:39.886Z"
   },
   {
    "duration": 746,
    "start_time": "2021-11-29T21:00:39.905Z"
   },
   {
    "duration": 46,
    "start_time": "2021-11-29T21:00:40.654Z"
   },
   {
    "duration": 5,
    "start_time": "2021-11-29T21:00:40.703Z"
   },
   {
    "duration": 18,
    "start_time": "2021-11-29T21:00:40.711Z"
   },
   {
    "duration": 8,
    "start_time": "2021-11-29T21:00:40.731Z"
   },
   {
    "duration": 64,
    "start_time": "2021-11-29T21:00:40.742Z"
   },
   {
    "duration": 387,
    "start_time": "2021-11-29T21:00:40.809Z"
   },
   {
    "duration": 8,
    "start_time": "2021-11-29T21:00:41.198Z"
   },
   {
    "duration": 20,
    "start_time": "2021-11-29T21:00:41.208Z"
   },
   {
    "duration": 400,
    "start_time": "2021-11-29T21:00:41.231Z"
   },
   {
    "duration": 53,
    "start_time": "2021-11-29T21:00:41.634Z"
   },
   {
    "duration": 710,
    "start_time": "2021-11-29T21:00:41.690Z"
   },
   {
    "duration": 31,
    "start_time": "2021-11-29T21:00:42.402Z"
   },
   {
    "duration": 492,
    "start_time": "2021-11-29T21:00:42.435Z"
   },
   {
    "duration": 32,
    "start_time": "2021-11-29T21:00:42.929Z"
   },
   {
    "duration": 495,
    "start_time": "2021-11-29T21:00:42.963Z"
   },
   {
    "duration": 40,
    "start_time": "2021-11-29T21:00:43.461Z"
   },
   {
    "duration": 513,
    "start_time": "2021-11-29T21:00:43.503Z"
   },
   {
    "duration": 32,
    "start_time": "2021-11-29T21:00:44.018Z"
   },
   {
    "duration": 501,
    "start_time": "2021-11-29T21:00:44.053Z"
   },
   {
    "duration": 44,
    "start_time": "2021-11-29T21:00:44.556Z"
   },
   {
    "duration": 492,
    "start_time": "2021-11-29T21:00:44.602Z"
   },
   {
    "duration": 7,
    "start_time": "2021-11-29T21:00:45.097Z"
   },
   {
    "duration": 10,
    "start_time": "2021-11-29T21:00:45.106Z"
   },
   {
    "duration": 7,
    "start_time": "2021-11-29T21:00:45.119Z"
   },
   {
    "duration": 53,
    "start_time": "2021-11-29T21:00:45.129Z"
   },
   {
    "duration": 389,
    "start_time": "2021-11-29T21:00:45.185Z"
   },
   {
    "duration": 19,
    "start_time": "2021-11-29T21:00:45.581Z"
   },
   {
    "duration": 421,
    "start_time": "2021-11-29T21:00:45.607Z"
   },
   {
    "duration": 19,
    "start_time": "2021-11-29T21:00:46.031Z"
   },
   {
    "duration": 388,
    "start_time": "2021-11-29T21:00:46.053Z"
   },
   {
    "duration": 10,
    "start_time": "2021-11-29T21:00:46.444Z"
   },
   {
    "duration": 38,
    "start_time": "2021-11-29T21:00:46.456Z"
   },
   {
    "duration": 392,
    "start_time": "2021-11-29T21:00:46.496Z"
   },
   {
    "duration": 23,
    "start_time": "2021-11-29T21:00:46.890Z"
   },
   {
    "duration": 1290,
    "start_time": "2021-11-29T21:00:46.916Z"
   },
   {
    "duration": 29,
    "start_time": "2021-11-29T21:00:48.208Z"
   },
   {
    "duration": 457,
    "start_time": "2021-11-29T21:00:48.240Z"
   },
   {
    "duration": 6,
    "start_time": "2021-11-29T21:00:48.700Z"
   },
   {
    "duration": 19,
    "start_time": "2021-11-29T21:00:48.709Z"
   },
   {
    "duration": 494,
    "start_time": "2021-11-29T21:00:48.730Z"
   },
   {
    "duration": 6,
    "start_time": "2021-11-29T21:00:49.227Z"
   },
   {
    "duration": 7,
    "start_time": "2021-11-29T21:00:49.236Z"
   },
   {
    "duration": 15,
    "start_time": "2021-11-29T21:01:26.510Z"
   },
   {
    "duration": 9,
    "start_time": "2021-11-29T21:03:26.403Z"
   },
   {
    "duration": 930,
    "start_time": "2021-11-29T21:03:36.065Z"
   },
   {
    "duration": 100,
    "start_time": "2021-11-29T21:03:36.997Z"
   },
   {
    "duration": 14,
    "start_time": "2021-11-29T21:03:37.100Z"
   },
   {
    "duration": 39,
    "start_time": "2021-11-29T21:03:37.117Z"
   },
   {
    "duration": 8,
    "start_time": "2021-11-29T21:03:37.158Z"
   },
   {
    "duration": 30,
    "start_time": "2021-11-29T21:03:37.168Z"
   },
   {
    "duration": 9,
    "start_time": "2021-11-29T21:03:37.201Z"
   },
   {
    "duration": 16,
    "start_time": "2021-11-29T21:03:37.214Z"
   },
   {
    "duration": 10,
    "start_time": "2021-11-29T21:03:37.234Z"
   },
   {
    "duration": 39,
    "start_time": "2021-11-29T21:03:37.246Z"
   },
   {
    "duration": 28,
    "start_time": "2021-11-29T21:03:37.287Z"
   },
   {
    "duration": 98,
    "start_time": "2021-11-29T21:03:37.318Z"
   },
   {
    "duration": 19,
    "start_time": "2021-11-29T21:03:37.419Z"
   },
   {
    "duration": 12,
    "start_time": "2021-11-29T21:03:37.440Z"
   },
   {
    "duration": 28,
    "start_time": "2021-11-29T21:03:37.483Z"
   },
   {
    "duration": 12,
    "start_time": "2021-11-29T21:03:37.514Z"
   },
   {
    "duration": 8,
    "start_time": "2021-11-29T21:03:37.529Z"
   },
   {
    "duration": 47,
    "start_time": "2021-11-29T21:03:37.540Z"
   },
   {
    "duration": 18,
    "start_time": "2021-11-29T21:03:37.590Z"
   },
   {
    "duration": 14,
    "start_time": "2021-11-29T21:03:37.611Z"
   },
   {
    "duration": 8,
    "start_time": "2021-11-29T21:03:37.628Z"
   },
   {
    "duration": 53,
    "start_time": "2021-11-29T21:03:37.640Z"
   },
   {
    "duration": 13,
    "start_time": "2021-11-29T21:03:37.700Z"
   },
   {
    "duration": 6,
    "start_time": "2021-11-29T21:03:37.717Z"
   },
   {
    "duration": 2031,
    "start_time": "2021-11-29T21:03:37.725Z"
   },
   {
    "duration": 6,
    "start_time": "2021-11-29T21:03:39.758Z"
   },
   {
    "duration": 23,
    "start_time": "2021-11-29T21:03:39.766Z"
   },
   {
    "duration": 13,
    "start_time": "2021-11-29T21:03:39.791Z"
   },
   {
    "duration": 11,
    "start_time": "2021-11-29T21:03:39.806Z"
   },
   {
    "duration": 10,
    "start_time": "2021-11-29T21:03:39.819Z"
   },
   {
    "duration": 54,
    "start_time": "2021-11-29T21:03:39.831Z"
   },
   {
    "duration": 7,
    "start_time": "2021-11-29T21:03:39.887Z"
   },
   {
    "duration": 28,
    "start_time": "2021-11-29T21:03:39.898Z"
   },
   {
    "duration": 53,
    "start_time": "2021-11-29T21:03:39.929Z"
   },
   {
    "duration": 10,
    "start_time": "2021-11-29T21:03:39.985Z"
   },
   {
    "duration": 6,
    "start_time": "2021-11-29T21:03:39.998Z"
   },
   {
    "duration": 10,
    "start_time": "2021-11-29T21:03:40.006Z"
   },
   {
    "duration": 13,
    "start_time": "2021-11-29T21:03:40.018Z"
   },
   {
    "duration": 57,
    "start_time": "2021-11-29T21:03:40.033Z"
   },
   {
    "duration": 763,
    "start_time": "2021-11-29T21:03:40.092Z"
   },
   {
    "duration": 8,
    "start_time": "2021-11-29T21:03:40.858Z"
   },
   {
    "duration": 17,
    "start_time": "2021-11-29T21:03:40.868Z"
   },
   {
    "duration": 15,
    "start_time": "2021-11-29T21:03:40.888Z"
   },
   {
    "duration": 13,
    "start_time": "2021-11-29T21:03:40.906Z"
   },
   {
    "duration": 25,
    "start_time": "2021-11-29T21:03:40.921Z"
   },
   {
    "duration": 392,
    "start_time": "2021-11-29T21:03:40.949Z"
   },
   {
    "duration": 7,
    "start_time": "2021-11-29T21:03:41.343Z"
   },
   {
    "duration": 41,
    "start_time": "2021-11-29T21:03:41.353Z"
   },
   {
    "duration": 393,
    "start_time": "2021-11-29T21:03:41.397Z"
   },
   {
    "duration": 35,
    "start_time": "2021-11-29T21:03:41.793Z"
   },
   {
    "duration": 517,
    "start_time": "2021-11-29T21:03:41.831Z"
   },
   {
    "duration": 43,
    "start_time": "2021-11-29T21:03:42.350Z"
   },
   {
    "duration": 502,
    "start_time": "2021-11-29T21:03:42.395Z"
   },
   {
    "duration": 30,
    "start_time": "2021-11-29T21:03:42.900Z"
   },
   {
    "duration": 490,
    "start_time": "2021-11-29T21:03:42.932Z"
   },
   {
    "duration": 39,
    "start_time": "2021-11-29T21:03:43.424Z"
   },
   {
    "duration": 487,
    "start_time": "2021-11-29T21:03:43.465Z"
   },
   {
    "duration": 46,
    "start_time": "2021-11-29T21:03:43.954Z"
   },
   {
    "duration": 699,
    "start_time": "2021-11-29T21:03:44.002Z"
   },
   {
    "duration": 48,
    "start_time": "2021-11-29T21:03:44.704Z"
   },
   {
    "duration": 654,
    "start_time": "2021-11-29T21:03:44.755Z"
   },
   {
    "duration": 7,
    "start_time": "2021-11-29T21:03:45.412Z"
   },
   {
    "duration": 8,
    "start_time": "2021-11-29T21:03:45.421Z"
   },
   {
    "duration": 7,
    "start_time": "2021-11-29T21:03:45.431Z"
   },
   {
    "duration": 55,
    "start_time": "2021-11-29T21:03:45.441Z"
   },
   {
    "duration": 384,
    "start_time": "2021-11-29T21:03:45.498Z"
   },
   {
    "duration": 18,
    "start_time": "2021-11-29T21:03:45.884Z"
   },
   {
    "duration": 430,
    "start_time": "2021-11-29T21:03:45.909Z"
   },
   {
    "duration": 19,
    "start_time": "2021-11-29T21:03:46.342Z"
   },
   {
    "duration": 389,
    "start_time": "2021-11-29T21:03:46.363Z"
   },
   {
    "duration": 7,
    "start_time": "2021-11-29T21:03:46.755Z"
   },
   {
    "duration": 20,
    "start_time": "2021-11-29T21:03:46.782Z"
   },
   {
    "duration": 401,
    "start_time": "2021-11-29T21:03:46.805Z"
   },
   {
    "duration": 22,
    "start_time": "2021-11-29T21:03:47.208Z"
   },
   {
    "duration": 1325,
    "start_time": "2021-11-29T21:03:47.233Z"
   },
   {
    "duration": 39,
    "start_time": "2021-11-29T21:03:48.560Z"
   },
   {
    "duration": 465,
    "start_time": "2021-11-29T21:03:48.601Z"
   },
   {
    "duration": 15,
    "start_time": "2021-11-29T21:03:49.068Z"
   },
   {
    "duration": 5,
    "start_time": "2021-11-29T21:03:49.086Z"
   },
   {
    "duration": 522,
    "start_time": "2021-11-29T21:03:49.094Z"
   },
   {
    "duration": 7,
    "start_time": "2021-11-29T21:03:49.619Z"
   },
   {
    "duration": 10,
    "start_time": "2021-11-29T21:03:49.628Z"
   },
   {
    "duration": 65,
    "start_time": "2021-11-29T21:04:45.735Z"
   },
   {
    "duration": 12,
    "start_time": "2021-11-29T21:04:56.419Z"
   },
   {
    "duration": 13,
    "start_time": "2021-11-29T21:05:03.204Z"
   },
   {
    "duration": 886,
    "start_time": "2021-11-29T21:05:16.928Z"
   },
   {
    "duration": 102,
    "start_time": "2021-11-29T21:05:17.817Z"
   },
   {
    "duration": 15,
    "start_time": "2021-11-29T21:05:17.922Z"
   },
   {
    "duration": 42,
    "start_time": "2021-11-29T21:05:17.940Z"
   },
   {
    "duration": 8,
    "start_time": "2021-11-29T21:05:17.985Z"
   },
   {
    "duration": 19,
    "start_time": "2021-11-29T21:05:17.995Z"
   },
   {
    "duration": 10,
    "start_time": "2021-11-29T21:05:18.016Z"
   },
   {
    "duration": 15,
    "start_time": "2021-11-29T21:05:18.028Z"
   },
   {
    "duration": 38,
    "start_time": "2021-11-29T21:05:18.046Z"
   },
   {
    "duration": 18,
    "start_time": "2021-11-29T21:05:18.087Z"
   },
   {
    "duration": 25,
    "start_time": "2021-11-29T21:05:18.108Z"
   },
   {
    "duration": 85,
    "start_time": "2021-11-29T21:05:18.135Z"
   },
   {
    "duration": 15,
    "start_time": "2021-11-29T21:05:18.222Z"
   },
   {
    "duration": 46,
    "start_time": "2021-11-29T21:05:18.240Z"
   },
   {
    "duration": 30,
    "start_time": "2021-11-29T21:05:18.288Z"
   },
   {
    "duration": 22,
    "start_time": "2021-11-29T21:05:18.321Z"
   },
   {
    "duration": 35,
    "start_time": "2021-11-29T21:05:18.346Z"
   },
   {
    "duration": 9,
    "start_time": "2021-11-29T21:05:18.384Z"
   },
   {
    "duration": 22,
    "start_time": "2021-11-29T21:05:18.396Z"
   },
   {
    "duration": 13,
    "start_time": "2021-11-29T21:05:18.421Z"
   },
   {
    "duration": 10,
    "start_time": "2021-11-29T21:05:18.437Z"
   },
   {
    "duration": 14,
    "start_time": "2021-11-29T21:05:18.482Z"
   },
   {
    "duration": 17,
    "start_time": "2021-11-29T21:05:18.499Z"
   },
   {
    "duration": 6,
    "start_time": "2021-11-29T21:05:18.518Z"
   },
   {
    "duration": 1176,
    "start_time": "2021-11-29T21:05:18.526Z"
   },
   {
    "duration": 5,
    "start_time": "2021-11-29T21:05:19.705Z"
   },
   {
    "duration": 12,
    "start_time": "2021-11-29T21:05:19.717Z"
   },
   {
    "duration": 19,
    "start_time": "2021-11-29T21:05:19.733Z"
   },
   {
    "duration": 35,
    "start_time": "2021-11-29T21:05:19.754Z"
   },
   {
    "duration": 9,
    "start_time": "2021-11-29T21:05:19.792Z"
   },
   {
    "duration": 10,
    "start_time": "2021-11-29T21:05:19.803Z"
   },
   {
    "duration": 7,
    "start_time": "2021-11-29T21:05:19.816Z"
   },
   {
    "duration": 16,
    "start_time": "2021-11-29T21:05:19.825Z"
   },
   {
    "duration": 35,
    "start_time": "2021-11-29T21:05:19.883Z"
   },
   {
    "duration": 11,
    "start_time": "2021-11-29T21:05:19.920Z"
   },
   {
    "duration": 5,
    "start_time": "2021-11-29T21:05:19.933Z"
   },
   {
    "duration": 43,
    "start_time": "2021-11-29T21:05:19.941Z"
   },
   {
    "duration": 10,
    "start_time": "2021-11-29T21:05:19.987Z"
   },
   {
    "duration": 12,
    "start_time": "2021-11-29T21:05:20.000Z"
   },
   {
    "duration": 652,
    "start_time": "2021-11-29T21:05:20.015Z"
   },
   {
    "duration": 20,
    "start_time": "2021-11-29T21:05:20.670Z"
   },
   {
    "duration": 11,
    "start_time": "2021-11-29T21:05:20.692Z"
   },
   {
    "duration": 8,
    "start_time": "2021-11-29T21:05:20.706Z"
   },
   {
    "duration": 8,
    "start_time": "2021-11-29T21:05:20.716Z"
   },
   {
    "duration": 63,
    "start_time": "2021-11-29T21:05:20.727Z"
   },
   {
    "duration": 6,
    "start_time": "2021-11-29T21:05:20.793Z"
   },
   {
    "duration": 38,
    "start_time": "2021-11-29T21:05:20.803Z"
   },
   {
    "duration": 442,
    "start_time": "2021-11-29T21:05:20.843Z"
   },
   {
    "duration": 8,
    "start_time": "2021-11-29T21:05:21.288Z"
   },
   {
    "duration": 18,
    "start_time": "2021-11-29T21:05:21.299Z"
   },
   {
    "duration": 437,
    "start_time": "2021-11-29T21:05:21.320Z"
   },
   {
    "duration": 37,
    "start_time": "2021-11-29T21:05:21.760Z"
   },
   {
    "duration": 504,
    "start_time": "2021-11-29T21:05:21.799Z"
   },
   {
    "duration": 32,
    "start_time": "2021-11-29T21:05:22.305Z"
   },
   {
    "duration": 486,
    "start_time": "2021-11-29T21:05:22.339Z"
   },
   {
    "duration": 35,
    "start_time": "2021-11-29T21:05:22.827Z"
   },
   {
    "duration": 480,
    "start_time": "2021-11-29T21:05:22.881Z"
   },
   {
    "duration": 45,
    "start_time": "2021-11-29T21:05:23.363Z"
   },
   {
    "duration": 475,
    "start_time": "2021-11-29T21:05:23.410Z"
   },
   {
    "duration": 32,
    "start_time": "2021-11-29T21:05:23.887Z"
   },
   {
    "duration": 501,
    "start_time": "2021-11-29T21:05:23.921Z"
   },
   {
    "duration": 30,
    "start_time": "2021-11-29T21:05:24.424Z"
   },
   {
    "duration": 490,
    "start_time": "2021-11-29T21:05:24.456Z"
   },
   {
    "duration": 8,
    "start_time": "2021-11-29T21:05:24.949Z"
   },
   {
    "duration": 23,
    "start_time": "2021-11-29T21:05:24.959Z"
   },
   {
    "duration": 8,
    "start_time": "2021-11-29T21:05:24.985Z"
   },
   {
    "duration": 20,
    "start_time": "2021-11-29T21:05:24.996Z"
   },
   {
    "duration": 405,
    "start_time": "2021-11-29T21:05:25.019Z"
   },
   {
    "duration": 21,
    "start_time": "2021-11-29T21:05:25.426Z"
   },
   {
    "duration": 417,
    "start_time": "2021-11-29T21:05:25.450Z"
   },
   {
    "duration": 24,
    "start_time": "2021-11-29T21:05:25.870Z"
   },
   {
    "duration": 386,
    "start_time": "2021-11-29T21:05:25.896Z"
   },
   {
    "duration": 8,
    "start_time": "2021-11-29T21:05:26.284Z"
   },
   {
    "duration": 22,
    "start_time": "2021-11-29T21:05:26.296Z"
   },
   {
    "duration": 403,
    "start_time": "2021-11-29T21:05:26.321Z"
   },
   {
    "duration": 32,
    "start_time": "2021-11-29T21:05:26.727Z"
   },
   {
    "duration": 1295,
    "start_time": "2021-11-29T21:05:26.761Z"
   },
   {
    "duration": 42,
    "start_time": "2021-11-29T21:05:28.059Z"
   },
   {
    "duration": 451,
    "start_time": "2021-11-29T21:05:28.104Z"
   },
   {
    "duration": 7,
    "start_time": "2021-11-29T21:05:28.557Z"
   },
   {
    "duration": 7,
    "start_time": "2021-11-29T21:05:28.584Z"
   },
   {
    "duration": 502,
    "start_time": "2021-11-29T21:05:28.594Z"
   },
   {
    "duration": 8,
    "start_time": "2021-11-29T21:05:29.100Z"
   },
   {
    "duration": 7,
    "start_time": "2021-11-29T21:05:29.111Z"
   },
   {
    "duration": 54,
    "start_time": "2021-11-29T21:05:50.441Z"
   },
   {
    "duration": 17,
    "start_time": "2021-11-29T21:12:58.671Z"
   },
   {
    "duration": 431,
    "start_time": "2021-11-29T21:13:01.565Z"
   },
   {
    "duration": 915,
    "start_time": "2021-11-29T21:21:48.136Z"
   },
   {
    "duration": 44,
    "start_time": "2021-11-29T21:22:20.169Z"
   },
   {
    "duration": 1246,
    "start_time": "2021-11-29T21:23:38.054Z"
   },
   {
    "duration": 1246,
    "start_time": "2021-11-29T21:24:31.737Z"
   },
   {
    "duration": 33,
    "start_time": "2021-11-29T21:25:30.903Z"
   },
   {
    "duration": 701,
    "start_time": "2021-11-29T21:27:05.549Z"
   },
   {
    "duration": 848,
    "start_time": "2021-11-29T21:27:52.356Z"
   },
   {
    "duration": 639,
    "start_time": "2021-11-29T21:28:01.797Z"
   },
   {
    "duration": 736,
    "start_time": "2021-11-29T21:28:54.708Z"
   },
   {
    "duration": 689,
    "start_time": "2021-11-29T21:30:31.136Z"
   },
   {
    "duration": 668,
    "start_time": "2021-11-29T21:30:57.346Z"
   },
   {
    "duration": 683,
    "start_time": "2021-11-29T21:31:04.713Z"
   },
   {
    "duration": 768,
    "start_time": "2021-11-29T21:32:00.861Z"
   },
   {
    "duration": 720,
    "start_time": "2021-11-29T21:32:17.028Z"
   },
   {
    "duration": 694,
    "start_time": "2021-11-29T21:32:28.883Z"
   },
   {
    "duration": 26,
    "start_time": "2021-11-29T21:32:55.685Z"
   },
   {
    "duration": 31,
    "start_time": "2021-11-29T21:33:03.721Z"
   },
   {
    "duration": 258,
    "start_time": "2021-11-29T21:33:29.580Z"
   },
   {
    "duration": 31,
    "start_time": "2021-11-29T21:33:41.577Z"
   },
   {
    "duration": 8861,
    "start_time": "2021-11-29T21:33:53.890Z"
   },
   {
    "duration": 33,
    "start_time": "2021-11-29T21:34:15.395Z"
   },
   {
    "duration": 339,
    "start_time": "2021-11-29T21:34:39.346Z"
   },
   {
    "duration": 31,
    "start_time": "2021-11-29T21:34:53.563Z"
   },
   {
    "duration": 21,
    "start_time": "2021-11-29T21:35:01.490Z"
   },
   {
    "duration": 817,
    "start_time": "2021-11-29T21:35:03.584Z"
   },
   {
    "duration": 22,
    "start_time": "2021-11-29T21:35:57.137Z"
   },
   {
    "duration": 32,
    "start_time": "2021-11-29T21:36:05.341Z"
   },
   {
    "duration": 552,
    "start_time": "2021-11-29T21:36:50.195Z"
   }
  ],
  "colab": {
   "name": "DA+. Сборный проект 1. Шаблон (1).ipynb",
   "provenance": []
  },
  "kernelspec": {
   "display_name": "Python 3 (ipykernel)",
   "language": "python",
   "name": "python3"
  },
  "language_info": {
   "codemirror_mode": {
    "name": "ipython",
    "version": 3
   },
   "file_extension": ".py",
   "mimetype": "text/x-python",
   "name": "python",
   "nbconvert_exporter": "python",
   "pygments_lexer": "ipython3",
   "version": "3.9.20"
  },
  "toc": {
   "base_numbering": 1,
   "nav_menu": {},
   "number_sections": true,
   "sideBar": true,
   "skip_h1_title": true,
   "title_cell": "Table of Contents",
   "title_sidebar": "Contents",
   "toc_cell": false,
   "toc_position": {
    "height": "calc(100% - 180px)",
    "left": "10px",
    "top": "150px",
    "width": "375.391px"
   },
   "toc_section_display": true,
   "toc_window_display": false
  }
 },
 "nbformat": 4,
 "nbformat_minor": 4
}
